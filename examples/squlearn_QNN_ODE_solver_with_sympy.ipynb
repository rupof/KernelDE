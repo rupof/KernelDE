{
 "cells": [
  {
   "cell_type": "code",
   "execution_count": 1,
   "metadata": {},
   "outputs": [],
   "source": [
    "import sys\n",
    "sys.path.append(\"..\")"
   ]
  },
  {
   "cell_type": "code",
   "execution_count": 2,
   "metadata": {},
   "outputs": [],
   "source": [
    "from squlearn.observables import SummedPaulis\n",
    "from squlearn.qnn import QNNRegressor\n",
    "from squlearn.qnn.lowlevel_qnn import LowLevelQNN\n",
    "from squlearn.optimizers import Adam\n",
    "from squlearn.qnn.loss import ODELoss\n",
    "from squlearn.qnn.training import *\n",
    "from squlearn.encoding_circuit import *\n",
    "import numpy as np\n",
    "import matplotlib.pyplot as plt\n",
    "from circuits.circuits import SimpleAnalyticalCircuit"
   ]
  },
  {
   "cell_type": "markdown",
   "metadata": {},
   "source": [
    "L = dfdxdx + k*f(x)"
   ]
  },
  {
   "cell_type": "code",
   "execution_count": 3,
   "metadata": {},
   "outputs": [],
   "source": [
    "import sympy as sp\n",
    "\n",
    "\n",
    "def sympy_loss(sp_ode, x_or_f_arguments):\n",
    "    def np_loss_out_sp(f_alpha_tensor):\n",
    "        if len(x_or_f_arguments) <= 3:\n",
    "            return sp.lambdify(x_or_f_arguments, sp_ode, \"numpy\")(*f_alpha_tensor[:3])\n",
    "        return sp.lambdify(x_or_f_arguments, sp_ode, \"numpy\")(*f_alpha_tensor)\n",
    "    return np_loss_out_sp\n",
    "\n",
    "\n",
    "def gradient_of_f_arguments_sp(sp_ode, f_arguments):\n",
    "    \"\"\"\n",
    "    Calculate the gradient of a sympy equation with respect to a given set of variables, \n",
    "    It replaces the function f_ with a dummy variable f to avoid calculating higher order derivatives of f.\n",
    "\n",
    "    Args:\n",
    "\n",
    "    sp_ode (sympy equation): The sp_ode to calculate the gradient of.\n",
    "    f_arguments (list of sympy symbols): The variables to calculate the gradient with respect to. Assumes [f, dfdx, ...]\n",
    "\n",
    "    Returns:\n",
    "    list of sympy equations: The gradient of the sp_ode with respect to the given variables.\n",
    "\n",
    "    \"\"\"\n",
    "    gradients = []\n",
    "    for f_order in f_arguments:\n",
    "        gradients.append(sp.diff(sp_ode, f_order))\n",
    "    return gradients\n",
    "\n",
    "\n",
    "def gradient_of_f_arguments_np_from_sp(sp_ode, x_or_f_arguments):\n",
    "    \"\"\"\n",
    "    Calculate the gradient of a sympy equation with respect to a given set of variables, \n",
    "    It replaces the function f_ with a dummy variable f to avoid calculating higher order derivatives of f.\n",
    "\n",
    "    Args:\n",
    "\n",
    "    equation (sympy equation): The equation to calculate the gradient of.\n",
    "    x_or_f_arguments (list of sympy symbols): Assumes [x, f, dfdx, ...]\n",
    "\n",
    "    Returns:\n",
    "    list of sympy equations: The gradient of the equation with respect to the given variables.\n",
    "\n",
    "    \"\"\"\n",
    "    gradients = gradient_of_f_arguments_sp(sp_ode, x_or_f_arguments[1:])\n",
    "    print(sp_ode)\n",
    "    print(gradients)\n",
    "    def np_grad_out_sp(f_alpha_tensor):\n",
    "        return [sp.lambdify(x_or_f_arguments, grad_i, \"numpy\")(*f_alpha_tensor) for grad_i in gradients]\n",
    "\n",
    "    return np_grad_out_sp"
   ]
  },
  {
   "cell_type": "code",
   "execution_count": 4,
   "metadata": {},
   "outputs": [
    {
     "name": "stdout",
     "output_type": "stream",
     "text": [
      "f + cos(x)\n",
      "[1, 0, 0]\n"
     ]
    }
   ],
   "source": [
    "x = sp.symbols('x')\n",
    "f, dfdx, dfdxdx = sp.symbols(\"f dfdx dfdxdx\")\n",
    "k = 1\n",
    "eq = sp.cos(x) + k*f \n",
    "l_f = sympy_loss(eq, [x, f, dfdx, dfdxdx]) #loss_log_ode\n",
    "grad_f = gradient_of_f_arguments_np_from_sp(eq, [x, f, dfdx, dfdxdx])"
   ]
  },
  {
   "cell_type": "code",
   "execution_count": 5,
   "metadata": {},
   "outputs": [],
   "source": [
    "#Our function assume that the input is a tensor of shape (n, 4) where n is the number of points, each entry corresponds to \n",
    "#x, f, dfdx and dfdxdx as shown below\n",
    "def loss_harmonic_oscillator(f_alpha_tensor):\n",
    "    \"\"\"\n",
    "    Args:\n",
    "        f_array (np.array): array of shape (n, 4) where n is the number of points, each entry corresponds to \n",
    "    x, f, dfdx and dfdxdx. This is: f_array = [x, f, dfdx, dfdxdx]\n",
    "    Returns:\n",
    "    loss (np.array): array of shape [F] where F is the loss function\n",
    "    \"\"\"\n",
    "    x, f, dfdx, dfdxdx = f_alpha_tensor\n",
    "    k=1\n",
    "\n",
    "    return dfdxdx + k*f\n",
    "\n",
    "def loss_harmonic_oscillator(f_alpha_tensor):\n",
    "    \"\"\"\n",
    "    Args:\n",
    "        f_array (np.array): array of shape (n, 4) where n is the number of points, each entry corresponds to \n",
    "    x, f, dfdx and dfdxdx. This is: f_array = [x, f, dfdx, dfdxdx]\n",
    "    Returns:\n",
    "    loss (np.array): array of shape [F] where F is the loss function\n",
    "    \"\"\"\n",
    "    x, f, dfdx, dfdxdx = f_alpha_tensor\n",
    "    k=1\n",
    "\n",
    "    return dfdx + k*f\n",
    "\n",
    "def grad_loss_harmonic_oscillator(f_alpha_tensor):\n",
    "    \"\"\"\n",
    "    Args:\n",
    "        f_array (np.array): array of shape (n, 4) where n is the number of points, each entry corresponds to \n",
    "    x, f, dfdx and dfdxdx. This is: f_array = [x, f, dfdx, dfdxdx]\n",
    "    Returns:\n",
    "        grad_loss (np.array): array of shape [dFdf, dFdfdx, dFdfdxdx] \n",
    "    where dFdf is the derivative of the loss function with respect to f, dFdfdx is the derivative of the loss function with respect to dfdx and dFdfdxdx is the derivative of the loss function with respect to dfdxdx\n",
    "    \"\"\"\n",
    "    x, f, dfdx, dfdxdx = f_alpha_tensor\n",
    "    k = 1\n",
    "    return [k, 0, 1]"
   ]
  },
  {
   "cell_type": "code",
   "execution_count": 6,
   "metadata": {},
   "outputs": [],
   "source": [
    "x_line = np.linspace(-0.9, 0.9, 15) #x domain to solve the ODE\n",
    "k = 1\n",
    "\n",
    "f_initial = [np.cos(np.sqrt(k)*x_line[0]), -np.sin(np.sqrt(k)*x_line[0])] #Initial condition for the ODE\n",
    "f_initial = [np.cos(np.sqrt(k)*x_line[0])] #Initial condition for the ODE\n",
    "\n",
    "#Exact result\n",
    "f_exact = np.cos(np.sqrt(k)*x_line)"
   ]
  },
  {
   "cell_type": "code",
   "execution_count": 7,
   "metadata": {},
   "outputs": [],
   "source": [
    "num_qubits = 1\n",
    "num_features = 1\n",
    "num_layers = 2\n",
    "circuit = SimpleAnalyticalCircuit(num_qubits, num_features, num_layers)\n",
    "#circuit = ChebyshevPQC(num_qubits, num_features, num_layers)\n",
    "executor = Executor(\"pennylane\")\n",
    "\n",
    "Observables = SummedPaulis(num_qubits, include_identity=False)                                                      \n",
    "param_obs = Observables.generate_initial_parameters(seed=1)\n",
    "param_ini = circuit.generate_initial_parameters(seed=1)\n",
    "\n",
    "adam = Adam(options={\"maxiter\": 20, \"tol\": 0.00009, \"log_file\": \"SHO_DE.log\", \"skip_mse_fun\":False, \"lr\":0.1})\n",
    "#loss_harmonic_oscillator, grad_loss_harmonic_oscillator\n",
    "loss_ODE = ODELoss(l_f, grad_f, initial_vec = f_initial, eta=1, true_solution = f_exact)\n",
    "\n",
    "\n",
    "ode_regressor = QNNRegressor(\n",
    "    circuit,\n",
    "    Observables,\n",
    "    executor,\n",
    "    loss_ODE,\n",
    "    adam,\n",
    "    param_ini,\n",
    "    param_obs,\n",
    "    opt_param_op = True, #Parametrized Observables not benchmarked yet\n",
    ")\n"
   ]
  },
  {
   "cell_type": "code",
   "execution_count": 8,
   "metadata": {},
   "outputs": [
    {
     "data": {
      "text/plain": [
       "2"
      ]
     },
     "execution_count": 8,
     "metadata": {},
     "output_type": "execute_result"
    }
   ],
   "source": [
    "ode_regressor.num_parameters"
   ]
  },
  {
   "cell_type": "code",
   "execution_count": 9,
   "metadata": {},
   "outputs": [
    {
     "data": {
      "text/html": [
       "<style>#sk-container-id-1 {color: black;background-color: white;}#sk-container-id-1 pre{padding: 0;}#sk-container-id-1 div.sk-toggleable {background-color: white;}#sk-container-id-1 label.sk-toggleable__label {cursor: pointer;display: block;width: 100%;margin-bottom: 0;padding: 0.3em;box-sizing: border-box;text-align: center;}#sk-container-id-1 label.sk-toggleable__label-arrow:before {content: \"▸\";float: left;margin-right: 0.25em;color: #696969;}#sk-container-id-1 label.sk-toggleable__label-arrow:hover:before {color: black;}#sk-container-id-1 div.sk-estimator:hover label.sk-toggleable__label-arrow:before {color: black;}#sk-container-id-1 div.sk-toggleable__content {max-height: 0;max-width: 0;overflow: hidden;text-align: left;background-color: #f0f8ff;}#sk-container-id-1 div.sk-toggleable__content pre {margin: 0.2em;color: black;border-radius: 0.25em;background-color: #f0f8ff;}#sk-container-id-1 input.sk-toggleable__control:checked~div.sk-toggleable__content {max-height: 200px;max-width: 100%;overflow: auto;}#sk-container-id-1 input.sk-toggleable__control:checked~label.sk-toggleable__label-arrow:before {content: \"▾\";}#sk-container-id-1 div.sk-estimator input.sk-toggleable__control:checked~label.sk-toggleable__label {background-color: #d4ebff;}#sk-container-id-1 div.sk-label input.sk-toggleable__control:checked~label.sk-toggleable__label {background-color: #d4ebff;}#sk-container-id-1 input.sk-hidden--visually {border: 0;clip: rect(1px 1px 1px 1px);clip: rect(1px, 1px, 1px, 1px);height: 1px;margin: -1px;overflow: hidden;padding: 0;position: absolute;width: 1px;}#sk-container-id-1 div.sk-estimator {font-family: monospace;background-color: #f0f8ff;border: 1px dotted black;border-radius: 0.25em;box-sizing: border-box;margin-bottom: 0.5em;}#sk-container-id-1 div.sk-estimator:hover {background-color: #d4ebff;}#sk-container-id-1 div.sk-parallel-item::after {content: \"\";width: 100%;border-bottom: 1px solid gray;flex-grow: 1;}#sk-container-id-1 div.sk-label:hover label.sk-toggleable__label {background-color: #d4ebff;}#sk-container-id-1 div.sk-serial::before {content: \"\";position: absolute;border-left: 1px solid gray;box-sizing: border-box;top: 0;bottom: 0;left: 50%;z-index: 0;}#sk-container-id-1 div.sk-serial {display: flex;flex-direction: column;align-items: center;background-color: white;padding-right: 0.2em;padding-left: 0.2em;position: relative;}#sk-container-id-1 div.sk-item {position: relative;z-index: 1;}#sk-container-id-1 div.sk-parallel {display: flex;align-items: stretch;justify-content: center;background-color: white;position: relative;}#sk-container-id-1 div.sk-item::before, #sk-container-id-1 div.sk-parallel-item::before {content: \"\";position: absolute;border-left: 1px solid gray;box-sizing: border-box;top: 0;bottom: 0;left: 50%;z-index: -1;}#sk-container-id-1 div.sk-parallel-item {display: flex;flex-direction: column;z-index: 1;position: relative;background-color: white;}#sk-container-id-1 div.sk-parallel-item:first-child::after {align-self: flex-end;width: 50%;}#sk-container-id-1 div.sk-parallel-item:last-child::after {align-self: flex-start;width: 50%;}#sk-container-id-1 div.sk-parallel-item:only-child::after {width: 0;}#sk-container-id-1 div.sk-dashed-wrapped {border: 1px dashed gray;margin: 0 0.4em 0.5em 0.4em;box-sizing: border-box;padding-bottom: 0.4em;background-color: white;}#sk-container-id-1 div.sk-label label {font-family: monospace;font-weight: bold;display: inline-block;line-height: 1.2em;}#sk-container-id-1 div.sk-label-container {text-align: center;}#sk-container-id-1 div.sk-container {/* jupyter's `normalize.less` sets `[hidden] { display: none; }` but bootstrap.min.css set `[hidden] { display: none !important; }` so we also need the `!important` here to be able to override the default hidden behavior on the sphinx rendered scikit-learn.org. See: https://github.com/scikit-learn/scikit-learn/issues/21755 */display: inline-block !important;position: relative;}#sk-container-id-1 div.sk-text-repr-fallback {display: none;}</style><div id=\"sk-container-id-1\" class=\"sk-top-container\"><div class=\"sk-text-repr-fallback\"><pre>QNNRegressor(encoding_circuit=&lt;squlearn.encoding_circuit.circuit_library.qiskit_encoding_circuit.QiskitEncodingCircuit object at 0x0000026816E6A7A0&gt;,\n",
       "             executor=&lt;squlearn.util.executor.Executor object at 0x0000026816E6A9E0&gt;,\n",
       "             loss=&lt;squlearn.qnn.loss.ODELoss object at 0x0000026816E6AEC0&gt;,\n",
       "             operator=SparsePauliOp([&#x27;Z&#x27;],\n",
       "              coeffs=[ParameterExpression(1.0*p[0])]),\n",
       "             optimizer=&lt;squlearn.optimizers.adam.Adam object at 0x0000026816E6BEB0&gt;,\n",
       "             param_ini=array([-0.52136612,  1.38433962]),\n",
       "             param_op_ini=array([1.]))</pre><b>In a Jupyter environment, please rerun this cell to show the HTML representation or trust the notebook. <br />On GitHub, the HTML representation is unable to render, please try loading this page with nbviewer.org.</b></div><div class=\"sk-container\" hidden><div class=\"sk-item\"><div class=\"sk-estimator sk-toggleable\"><input class=\"sk-toggleable__control sk-hidden--visually\" id=\"sk-estimator-id-1\" type=\"checkbox\" checked><label for=\"sk-estimator-id-1\" class=\"sk-toggleable__label sk-toggleable__label-arrow\">QNNRegressor</label><div class=\"sk-toggleable__content\"><pre>QNNRegressor(encoding_circuit=&lt;squlearn.encoding_circuit.circuit_library.qiskit_encoding_circuit.QiskitEncodingCircuit object at 0x0000026816E6A7A0&gt;,\n",
       "             executor=&lt;squlearn.util.executor.Executor object at 0x0000026816E6A9E0&gt;,\n",
       "             loss=&lt;squlearn.qnn.loss.ODELoss object at 0x0000026816E6AEC0&gt;,\n",
       "             operator=SparsePauliOp([&#x27;Z&#x27;],\n",
       "              coeffs=[ParameterExpression(1.0*p[0])]),\n",
       "             optimizer=&lt;squlearn.optimizers.adam.Adam object at 0x0000026816E6BEB0&gt;,\n",
       "             param_ini=array([-0.52136612,  1.38433962]),\n",
       "             param_op_ini=array([1.]))</pre></div></div></div></div></div>"
      ],
      "text/plain": [
       "QNNRegressor(encoding_circuit=<squlearn.encoding_circuit.circuit_library.qiskit_encoding_circuit.QiskitEncodingCircuit object at 0x0000026816E6A7A0>,\n",
       "             executor=<squlearn.util.executor.Executor object at 0x0000026816E6A9E0>,\n",
       "             loss=<squlearn.qnn.loss.ODELoss object at 0x0000026816E6AEC0>,\n",
       "             operator=SparsePauliOp(['Z'],\n",
       "              coeffs=[ParameterExpression(1.0*p[0])]),\n",
       "             optimizer=<squlearn.optimizers.adam.Adam object at 0x0000026816E6BEB0>,\n",
       "             param_ini=array([-0.52136612,  1.38433962]),\n",
       "             param_op_ini=array([1.]))"
      ]
     },
     "execution_count": 9,
     "metadata": {},
     "output_type": "execute_result"
    }
   ],
   "source": [
    "ode_regressor"
   ]
  },
  {
   "cell_type": "code",
   "execution_count": 10,
   "metadata": {},
   "outputs": [
    {
     "name": "stdout",
     "output_type": "stream",
     "text": [
      "fit:   0%|          | 0/20 [00:00<?, ?it/s]32.733448261084156\n",
      "fit:   5%|▌         | 1/20 [00:00<00:07,  2.62it/s]25.501176083212812\n",
      "fit:  10%|█         | 2/20 [00:00<00:05,  3.00it/s]17.722311128303367\n",
      "fit:  15%|█▌        | 3/20 [00:00<00:05,  3.22it/s]12.967166227872813\n",
      "fit:  20%|██        | 4/20 [00:01<00:04,  3.24it/s]9.991686053919702\n",
      "fit:  25%|██▌       | 5/20 [00:01<00:04,  3.33it/s]8.192415380684054\n",
      "fit:  30%|███       | 6/20 [00:01<00:04,  3.36it/s]7.132135224371447\n",
      "fit:  35%|███▌      | 7/20 [00:02<00:03,  3.38it/s]6.48087725590931\n",
      "fit:  40%|████      | 8/20 [00:02<00:03,  3.39it/s]6.009128710454153\n",
      "fit:  45%|████▌     | 9/20 [00:02<00:03,  3.03it/s]5.58242938632834\n",
      "fit:  50%|█████     | 10/20 [00:03<00:03,  3.09it/s]5.144765698148736\n",
      "fit:  55%|█████▌    | 11/20 [00:03<00:02,  3.17it/s]4.693099238785148\n",
      "fit:  60%|██████    | 12/20 [00:03<00:02,  3.25it/s]4.251338094050096\n",
      "fit:  65%|██████▌   | 13/20 [00:04<00:02,  3.27it/s]3.8499762008298357\n",
      "fit:  70%|███████   | 14/20 [00:04<00:01,  3.29it/s]3.5133816869241086\n",
      "fit:  75%|███████▌  | 15/20 [00:04<00:01,  3.33it/s]3.2539751064320743\n",
      "fit:  80%|████████  | 16/20 [00:04<00:01,  3.36it/s]3.071493499757307\n",
      "fit:  85%|████████▌ | 17/20 [00:05<00:00,  3.37it/s]2.955411674619188\n",
      "fit:  90%|█████████ | 18/20 [00:05<00:00,  3.41it/s]2.8888564144905216\n",
      "fit:  95%|█████████▌| 19/20 [00:05<00:00,  3.33it/s]2.8527434917289547\n",
      "fit: 100%|██████████| 20/20 [00:06<00:00,  3.35it/s]2.829263688672291\n",
      "fit: 100%|██████████| 20/20 [00:06<00:00,  3.26it/s]\n"
     ]
    }
   ],
   "source": [
    "ode_regressor.fit(x_line, np.zeros((x_line.shape[0])),  weights=None)\n",
    "f_QNN = ode_regressor.predict(x_line)"
   ]
  },
  {
   "cell_type": "code",
   "execution_count": 11,
   "metadata": {},
   "outputs": [
    {
     "data": {
      "text/plain": [
       "[<matplotlib.lines.Line2D at 0x268172158d0>]"
      ]
     },
     "execution_count": 11,
     "metadata": {},
     "output_type": "execute_result"
    },
    {
     "data": {
      "image/png": "[encoded data removed]",
      "text/plain": [
       "<Figure size 640x480 with 1 Axes>"
      ]
     },
     "metadata": {},
     "output_type": "display_data"
    }
   ],
   "source": [
    "plt.plot(f_QNN)"
   ]
  }
 ],
 "metadata": {
  "kernelspec": {
   "display_name": "Python 3",
   "language": "python",
   "name": "python3"
  },
  "language_info": {
   "codemirror_mode": {
    "name": "ipython",
    "version": 3
   },
   "file_extension": ".py",
   "mimetype": "text/x-python",
   "name": "python",
   "nbconvert_exporter": "python",
   "pygments_lexer": "ipython3",
   "version": "3.10.11"
  }
 },
 "nbformat": 4,
 "nbformat_minor": 2
}

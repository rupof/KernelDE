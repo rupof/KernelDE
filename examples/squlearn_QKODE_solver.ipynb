{
 "cells": [
  {
   "cell_type": "code",
   "execution_count": 1,
   "metadata": {},
   "outputs": [],
   "source": [
    "import sys\n",
    "sys.path.append(\"..\")"
   ]
  },
  {
   "cell_type": "code",
   "execution_count": 2,
   "metadata": {},
   "outputs": [],
   "source": [
    "import matplotlib.pylab as plt\n",
    "import numpy as np\n",
    "from squlearn.encoding_circuit import ChebyshevPQC, ChebyshevTower\n",
    "from squlearn.kernel import ProjectedQuantumKernel\n",
    "from squlearn.kernel.ml import QKODE\n",
    "\n",
    "from squlearn.kernel.optimization import KernelOptimizer, ODE_loss\n",
    "from squlearn.optimizers import Adam, LBFGSB\n",
    "from squlearn.util import Executor"
   ]
  },
  {
   "cell_type": "code",
   "execution_count": 3,
   "metadata": {},
   "outputs": [],
   "source": [
    "x_train = np.linspace(0.001, 0.9, 25)\n",
    "y_train = [np.log(0.001)] #y_initial\n",
    "feature_map = ChebyshevPQC(num_qubits=4, num_features=1, num_layers=1)\n",
    "#feature_map = ChebyshevTower(num_qubits=6, num_features=1, num_layers=1, num_chebyshev=4)\n",
    "q_kernel = ProjectedQuantumKernel(feature_map, Executor())"
   ]
  },
  {
   "cell_type": "code",
   "execution_count": 4,
   "metadata": {},
   "outputs": [],
   "source": [
    "import sympy as sp"
   ]
  },
  {
   "cell_type": "code",
   "execution_count": 5,
   "metadata": {},
   "outputs": [],
   "source": [
    "x = sp.symbols('x')\n",
    "f = sp.Function('f')(x)\n",
    "dfdx = sp.diff(f, x)"
   ]
  },
  {
   "cell_type": "code",
   "execution_count": 31,
   "metadata": {},
   "outputs": [],
   "source": [
    "def sympy_loss(sp_ode, x_or_f_arguments):\n",
    "    def np_loss_out_sp(f_alpha_tensor):\n",
    "        if len(x_or_f_arguments) <= 3:\n",
    "            return sp.lambdify(x_or_f_arguments, sp_ode, \"numpy\")(*f_alpha_tensor[:3])\n",
    "        return sp.lambdify(x_or_f_arguments, sp_ode, \"numpy\")(*f_alpha_tensor)\n",
    "    return np_loss_out_sp"
   ]
  },
  {
   "cell_type": "code",
   "execution_count": 20,
   "metadata": {},
   "outputs": [],
   "source": [
    "#from DE_Library.diferential_equation_functionals import loss_log_ode\n",
    "def loss_log_ode(f_alpha_tensor):\n",
    "    \"\"\"\n",
    "    0 = -lamb * np.exp(f * k) + df/dx\n",
    "    \"\"\"\n",
    "    x, f, dfdx, dfdxdx = f_alpha_tensor \n",
    "\n",
    "    lamb = 1\n",
    "    k = 1\n",
    "    return dfdx - np.exp(-f*k)*lamb "
   ]
  },
  {
   "cell_type": "code",
   "execution_count": 21,
   "metadata": {},
   "outputs": [],
   "source": [
    "def ode_loss(vec):\n",
    "    \"\"\"\n",
    "    t = vec[0]\n",
    "    y(t) = vec[1]\n",
    "\n",
    "    \"\"\"\n",
    "    k = 1\n",
    "    return [np.exp(vec[1]*k)]"
   ]
  },
  {
   "cell_type": "code",
   "execution_count": 22,
   "metadata": {},
   "outputs": [],
   "source": [
    "def homogeneous_loss(fun, vec, derivatives_tensor):\n",
    "    \"\"\"\n",
    "    Takes as an input a scipy ode like function and returns the value of the sum of the homogeneous loss given an ansatz and the derivatives tensor\n",
    "    Args:\n",
    "        fun: function\n",
    "        vec: list\n",
    "        derivatives_tensor: list\n",
    "    \"\"\"\n",
    "    difference_of_derivatives_by_order = [fun(vec)[i] - derivatives_tensor[i] for i in range(len(derivatives_tensor))]\n",
    "    loss = np.zeros_like(derivatives_tensor[0])\n",
    "    for i in range(len(derivatives_tensor)):\n",
    "        loss += difference_of_derivatives_by_order[i]\n",
    "\n",
    "    return loss \n",
    "    "
   ]
  },
  {
   "cell_type": "code",
   "execution_count": 32,
   "metadata": {},
   "outputs": [],
   "source": [
    "#from DE_Library.diferential_equation_functionals import loss_log_ode\n",
    "def loss_log_ode(f_alpha_tensor):\n",
    "    \"\"\"\n",
    "    0 = -lamb * np.exp(f * k) + df/dx\n",
    "    \"\"\"\n",
    "    x, f, dfdx, dfdxdx = f_alpha_tensor \n",
    "\n",
    "    lamb = 1\n",
    "    k = 1\n",
    "    return dfdx - np.exp(-f*k)*lamb "
   ]
  },
  {
   "cell_type": "code",
   "execution_count": 33,
   "metadata": {},
   "outputs": [],
   "source": [
    "x = sp.symbols('x')\n",
    "f = sp.Symbol('f(x)')\n",
    "k = sp.symbols('k')\n",
    "dfdx = sp.symbols('dfdx')\n",
    "eq = dfdx - sp.exp(-f*1)\n",
    "l_f = sympy_loss(eq, [x, f, dfdx]) #loss_log_ode"
   ]
  },
  {
   "cell_type": "code",
   "execution_count": 34,
   "metadata": {},
   "outputs": [
    {
     "data": {
      "text/plain": [
       "-0.8048374180359595"
      ]
     },
     "execution_count": 34,
     "metadata": {},
     "output_type": "execute_result"
    }
   ],
   "source": [
    "l_f([0, 0.1, 0.1])"
   ]
  },
  {
   "cell_type": "code",
   "execution_count": 38,
   "metadata": {},
   "outputs": [],
   "source": [
    "q_kode = QKODE(quantum_kernel=q_kernel, ODE_functional =loss_log_ode, optimizer=LBFGSB())"
   ]
  },
  {
   "cell_type": "code",
   "execution_count": 39,
   "metadata": {},
   "outputs": [],
   "source": [
    "q_kode.fit(x_train, y_train, regularization_parameter = 0.005, initial_parameters_classical=np.random.rand(26))\n",
    "prediction = q_kode.predict()"
   ]
  },
  {
   "cell_type": "code",
   "execution_count": 40,
   "metadata": {},
   "outputs": [
    {
     "data": {
      "text/plain": [
       "[<matplotlib.lines.Line2D at 0x15618bc5990>]"
      ]
     },
     "execution_count": 40,
     "metadata": {},
     "output_type": "execute_result"
    },
    {
     "data": {
      "image/png": "[encoded data removed]",
      "text/plain": [
       "<Figure size 640x480 with 1 Axes>"
      ]
     },
     "metadata": {},
     "output_type": "display_data"
    }
   ],
   "source": [
    "plt.plot(prediction)\n",
    "plt.plot(np.log(x_train))"
   ]
  }
 ],
 "metadata": {
  "kernelspec": {
   "display_name": "Python 3",
   "language": "python",
   "name": "python3"
  },
  "language_info": {
   "codemirror_mode": {
    "name": "ipython",
    "version": 3
   },
   "file_extension": ".py",
   "mimetype": "text/x-python",
   "name": "python",
   "nbconvert_exporter": "python",
   "pygments_lexer": "ipython3",
   "version": "3.10.11"
  }
 },
 "nbformat": 4,
 "nbformat_minor": 2
}

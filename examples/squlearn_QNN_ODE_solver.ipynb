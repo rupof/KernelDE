{
 "cells": [
  {
   "cell_type": "code",
   "execution_count": 1,
   "metadata": {},
   "outputs": [],
   "source": [
    "import sys\n",
    "sys.path.append(\"..\")"
   ]
  },
  {
   "cell_type": "code",
   "execution_count": 2,
   "metadata": {},
   "outputs": [],
   "source": [
    "from squlearn.observables import SummedPaulis\n",
    "from squlearn.qnn import QNNRegressor\n",
    "from squlearn.qnn.lowlevel_qnn import LowLevelQNN\n",
    "from squlearn.optimizers import Adam\n",
    "from squlearn.qnn.loss import ODELoss\n",
    "from squlearn.qnn.training import *\n",
    "from squlearn.encoding_circuit import *\n",
    "import numpy as np\n",
    "import matplotlib.pyplot as plt\n",
    "from circuits.circuits import SimpleAnalyticalCircuit"
   ]
  },
  {
   "cell_type": "code",
   "execution_count": 3,
   "metadata": {},
   "outputs": [],
   "source": [
    "#Our function assume that the input is a tensor of shape (n, 4) where n is the number of points, each entry corresponds to \n",
    "#x, f, dfdx and dfdxdx as shown below\n",
    "def loss_harmonic_oscillator(f_alpha_tensor):\n",
    "    \"\"\"\n",
    "    Args:\n",
    "        f_array (np.array): array of shape (n, 4) where n is the number of points, each entry corresponds to \n",
    "    x, f, dfdx and dfdxdx. This is: f_array = [x, f, dfdx, dfdxdx]\n",
    "    Returns:\n",
    "    loss (np.array): array of shape [F] where F is the loss function\n",
    "    \"\"\"\n",
    "    x, f, dfdx, dfdxdx = f_alpha_tensor\n",
    "    k=1\n",
    "\n",
    "    return dfdxdx + k*f\n",
    "\n",
    "def grad_loss_harmonic_oscillator(f_alpha_tensor):\n",
    "    \"\"\"\n",
    "    Args:\n",
    "        f_array (np.array): array of shape (n, 4) where n is the number of points, each entry corresponds to \n",
    "    x, f, dfdx and dfdxdx. This is: f_array = [x, f, dfdx, dfdxdx]\n",
    "    Returns:\n",
    "    grad_loss (np.array): array of shape [dFdf, dFdfdx, dFdfdxdx] \n",
    "    where dFdf is the derivative of the loss function with respect to f, dFdfdx is the derivative of the loss function with respect to dfdx and dFdfdxdx is the derivative of the loss function with respect to dfdxdx\n",
    "\n",
    "    \"\"\"\n",
    "    x, f, dfdx, dfdxdx = f_alpha_tensor\n",
    "    k = 1\n",
    "    return [k, 0, 1]"
   ]
  },
  {
   "cell_type": "code",
   "execution_count": 4,
   "metadata": {},
   "outputs": [],
   "source": [
    "x_line = np.linspace(-0.9, 0.9, 40) #x domain to solve the ODE\n",
    "k = 1\n",
    "\n",
    "f_initial = [np.cos(np.sqrt(k)*x_line[0]), -np.sin(np.sqrt(k)*x_line[0])] #Initial condition for the ODE\n",
    "#Exact result\n",
    "f_exact = np.cos(np.sqrt(k)*x_line)"
   ]
  },
  {
   "cell_type": "code",
   "execution_count": 5,
   "metadata": {},
   "outputs": [],
   "source": [
    "num_qubits = 2\n",
    "num_features = 1\n",
    "num_layers = 1\n",
    "#circuit = SimpleAnalyticalCircuit(num_qubits, num_features, num_layers)\n",
    "circuit = ChebyshevPQC(num_qubits, num_features, num_layers)\n",
    "executor = Executor(\"pennylane\")\n",
    "\n",
    "Observables = SummedPaulis(num_qubits, include_identity=False)                                                      \n",
    "param_obs = Observables.generate_initial_parameters(seed=1)\n",
    "param_ini = circuit.generate_initial_parameters(seed=1)\n",
    "\n",
    "adam = Adam(options={\"maxiter\": 10, \"tol\": 0.00009, \"log_file\": \"SHO_DE.log\", \"skip_mse_fun\":False})\n",
    "\n",
    "loss_ODE = ODELoss(loss_harmonic_oscillator, grad_loss_harmonic_oscillator, initial_vec = f_initial, eta=1, true_solution = f_exact, boundary_handling=\"floating\")\n",
    "#loss_ODE = ODELoss_wrapper(loss_harmonic_oscillator, grad_loss_harmonic_oscillator, initial_vec = f_initial, eta=1, true_solution = None)\n",
    "\n",
    "\n",
    "ode_regressor = QNNRegressor(\n",
    "    circuit,\n",
    "    Observables,\n",
    "    executor,\n",
    "    loss_ODE,\n",
    "    adam,\n",
    "    param_ini,\n",
    "    param_obs,\n",
    "    opt_param_op = False, #Parametrized Observables not benchmarked yet\n",
    ")\n"
   ]
  },
  {
   "cell_type": "code",
   "execution_count": 6,
   "metadata": {},
   "outputs": [
    {
     "name": "stdout",
     "output_type": "stream",
     "text": [
      "fit:   0%|          | 0/10 [00:00<?, ?it/s]126.25295759896227\n",
      "fit:  10%|█         | 1/10 [00:14<02:13, 14.80s/it]41.93312651599878\n",
      "fit:  20%|██        | 2/10 [00:30<02:03, 15.48s/it]8.83825462181353\n",
      "fit:  30%|███       | 3/10 [00:46<01:49, 15.68s/it]5.871164375750079\n",
      "fit:  40%|████      | 4/10 [01:00<01:29, 14.99s/it]6.031211783602073\n",
      "fit:  50%|█████     | 5/10 [01:14<01:13, 14.73s/it]5.914516981609309\n",
      "fit:  60%|██████    | 6/10 [01:29<00:59, 14.84s/it]5.860800955600258\n",
      "fit:  70%|███████   | 7/10 [01:44<00:44, 14.78s/it]6.390302689600568\n",
      "fit:  80%|████████  | 8/10 [01:57<00:28, 14.32s/it]7.41536976504919\n",
      "fit:  90%|█████████ | 9/10 [02:10<00:13, 13.88s/it]8.17153089483741\n",
      "fit: 100%|██████████| 10/10 [02:23<00:00, 13.65s/it]7.901264392759344\n",
      "fit: 100%|██████████| 10/10 [02:24<00:00, 14.47s/it]\n"
     ]
    }
   ],
   "source": [
    "ode_regressor.fit(x_line, np.zeros((x_line.shape[0])),  weights=None)\n",
    "f_QNN = ode_regressor.predict(x_line)"
   ]
  },
  {
   "cell_type": "code",
   "execution_count": 7,
   "metadata": {},
   "outputs": [
    {
     "data": {
      "text/plain": [
       "[<matplotlib.lines.Line2D at 0x1721cb724d0>]"
      ]
     },
     "execution_count": 7,
     "metadata": {},
     "output_type": "execute_result"
    },
    {
     "data": {
      "image/png": "[encoded data removed]",
      "text/plain": [
       "<Figure size 640x480 with 1 Axes>"
      ]
     },
     "metadata": {},
     "output_type": "display_data"
    }
   ],
   "source": [
    "plt.plot(f_QNN)"
   ]
  },
  {
   "cell_type": "code",
   "execution_count": null,
   "metadata": {},
   "outputs": [],
   "source": []
  }
 ],
 "metadata": {
  "kernelspec": {
   "display_name": "Python 3",
   "language": "python",
   "name": "python3"
  },
  "language_info": {
   "codemirror_mode": {
    "name": "ipython",
    "version": 3
   },
   "file_extension": ".py",
   "mimetype": "text/x-python",
   "name": "python",
   "nbconvert_exporter": "python",
   "pygments_lexer": "ipython3",
   "version": "3.10.11"
  }
 },
 "nbformat": 4,
 "nbformat_minor": 2
}

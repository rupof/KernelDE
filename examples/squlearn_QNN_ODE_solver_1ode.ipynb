{
 "cells": [
  {
   "cell_type": "code",
   "execution_count": 1,
   "metadata": {},
   "outputs": [],
   "source": [
    "import sys\n",
    "sys.path.append(\"..\")"
   ]
  },
  {
   "cell_type": "code",
   "execution_count": 12,
   "metadata": {},
   "outputs": [],
   "source": [
    "from squlearn.observables import SummedPaulis\n",
    "from squlearn.qnn import QNNRegressor\n",
    "from squlearn.qnn.lowlevel_qnn import LowLevelQNN\n",
    "from squlearn.optimizers import Adam\n",
    "from squlearn.qnn.loss import ODELoss\n",
    "from squlearn.qnn.training import *\n",
    "from squlearn.encoding_circuit import *\n",
    "import numpy as np\n",
    "import matplotlib.pyplot as plt\n",
    "from circuits.circuits import SimpleAnalyticalCircuit"
   ]
  },
  {
   "cell_type": "code",
   "execution_count": 13,
   "metadata": {},
   "outputs": [],
   "source": [
    "#Our function assume that the input is a tensor of shape (n, 4) where n is the number of points, each entry corresponds to \n",
    "#x, f, dfdx and dfdxdx as shown below\n",
    "def loss_harmonic_oscillator(f_alpha_tensor):\n",
    "    \"\"\"\n",
    "    Args:\n",
    "        f_array (np.array): array of shape (n, 4) where n is the number of points, each entry corresponds to \n",
    "    x, f, dfdx and dfdxdx. This is: f_array = [x, f, dfdx, dfdxdx]\n",
    "    Returns:\n",
    "    loss (np.array): array of shape [F] where F is the loss function\n",
    "    \"\"\"\n",
    "    x, f, dfdx, dfdxdx = f_alpha_tensor\n",
    "    k=1\n",
    "\n",
    "    return dfdxdx + k*f\n",
    "\n",
    "def grad_loss_harmonic_oscillator(f_alpha_tensor):\n",
    "    \"\"\"\n",
    "    Args:\n",
    "        f_array (np.array): array of shape (n, 4) where n is the number of points, each entry corresponds to \n",
    "    x, f, dfdx and dfdxdx. This is: f_array = [x, f, dfdx, dfdxdx]\n",
    "    Returns:\n",
    "        grad_loss (np.array): array of shape [dFdf, dFdfdx, dFdfdxdx] \n",
    "    where dFdf is the derivative of the loss function with respect to f, dFdfdx is the derivative of the loss function with respect to dfdx and dFdfdxdx is the derivative of the loss function with respect to dfdxdx\n",
    "    \"\"\"\n",
    "    x, f, dfdx, dfdxdx = f_alpha_tensor\n",
    "    k = 1\n",
    "    return [k, 0, 1]"
   ]
  },
  {
   "cell_type": "code",
   "execution_count": 14,
   "metadata": {},
   "outputs": [],
   "source": [
    "x_line = np.linspace(-0.9, 0.9, 15) #x domain to solve the ODE\n",
    "k = 1\n",
    "\n",
    "f_initial = [np.cos(np.sqrt(k)*x_line[0]), -np.sin(np.sqrt(k)*x_line[0])] #Initial condition for the ODE\n",
    "#Exact result\n",
    "f_exact = np.cos(np.sqrt(k)*x_line)"
   ]
  },
  {
   "cell_type": "code",
   "execution_count": 25,
   "metadata": {},
   "outputs": [],
   "source": [
    "num_qubits = 1\n",
    "num_features = 1\n",
    "num_layers = 2\n",
    "circuit = SimpleAnalyticalCircuit(num_qubits, num_features, num_layers)\n",
    "#circuit = ChebyshevPQC(num_qubits, num_features, num_layers)\n",
    "executor = Executor(\"pennylane\")\n",
    "\n",
    "Observables = SummedPaulis(num_qubits, include_identity=False)                                                      \n",
    "param_obs = Observables.generate_initial_parameters(seed=1)\n",
    "param_ini = circuit.generate_initial_parameters(seed=1)\n",
    "\n",
    "adam = Adam(options={\"maxiter\": 20, \"tol\": 0.00009, \"log_file\": \"SHO_DE.log\", \"skip_mse_fun\":False, \"lr\":0.1})\n",
    "loss_ODE = ODELoss(loss_harmonic_oscillator, grad_loss_harmonic_oscillator, initial_vec = f_initial, eta=1, true_solution = f_exact)\n",
    "\n",
    "\n",
    "ode_regressor = QNNRegressor(\n",
    "    circuit,\n",
    "    Observables,\n",
    "    executor,\n",
    "    loss_ODE,\n",
    "    adam,\n",
    "    param_ini,\n",
    "    param_obs,\n",
    "    opt_param_op = False, #Parametrized Observables not benchmarked yet\n",
    ")\n"
   ]
  },
  {
   "cell_type": "code",
   "execution_count": 26,
   "metadata": {},
   "outputs": [
    {
     "name": "stdout",
     "output_type": "stream",
     "text": [
      "fit:   0%|          | 0/20 [00:00<?, ?it/s]current LOSS [0.69963771]\n",
      "fit:   5%|▌         | 1/20 [00:01<00:21,  1.15s/it]current LOSS [0.42366874]\n",
      "fit:  10%|█         | 2/20 [00:01<00:14,  1.23it/s]current LOSS [0.1550941]\n",
      "fit:  15%|█▌        | 3/20 [00:02<00:13,  1.25it/s]current LOSS [0.03060476]\n",
      "fit:  20%|██        | 4/20 [00:03<00:12,  1.29it/s]current LOSS [0.00022283]\n",
      "fit:  25%|██▌       | 5/20 [00:03<00:11,  1.31it/s]current LOSS [0.02860609]\n",
      "fit:  30%|███       | 6/20 [00:04<00:09,  1.42it/s]current LOSS [0.07856435]\n",
      "fit:  35%|███▌      | 7/20 [00:05<00:09,  1.39it/s]current LOSS [0.12009498]\n",
      "fit:  40%|████      | 8/20 [00:05<00:08,  1.45it/s]current LOSS [0.13842586]\n",
      "fit:  45%|████▌     | 9/20 [00:06<00:07,  1.45it/s]current LOSS [0.13243495]\n",
      "fit:  50%|█████     | 10/20 [00:07<00:06,  1.50it/s]current LOSS [0.10859428]\n",
      "fit:  55%|█████▌    | 11/20 [00:08<00:06,  1.40it/s]current LOSS [0.07599312]\n",
      "fit:  60%|██████    | 12/20 [00:08<00:05,  1.49it/s]current LOSS [0.04343067]\n",
      "fit:  65%|██████▌   | 13/20 [00:09<00:04,  1.55it/s]current LOSS [0.01780428]\n",
      "fit:  70%|███████   | 14/20 [00:09<00:03,  1.60it/s]current LOSS [0.00316927]\n",
      "fit:  75%|███████▌  | 15/20 [00:10<00:03,  1.60it/s]current LOSS [0.00031105]\n",
      "fit:  80%|████████  | 16/20 [00:11<00:02,  1.65it/s]current LOSS [0.0069538]\n",
      "fit:  85%|████████▌ | 17/20 [00:11<00:01,  1.58it/s]current LOSS [0.01871611]\n",
      "fit:  90%|█████████ | 18/20 [00:12<00:01,  1.61it/s]current LOSS [0.03062138]\n",
      "fit:  95%|█████████▌| 19/20 [00:12<00:00,  1.57it/s]current LOSS [0.03862771]\n",
      "fit: 100%|██████████| 20/20 [00:13<00:00,  1.62it/s]current LOSS [0.04061065]\n",
      "fit: 100%|██████████| 20/20 [00:13<00:00,  1.46it/s]\n"
     ]
    }
   ],
   "source": [
    "ode_regressor.fit(x_line, np.zeros((x_line.shape[0])),  weights=None)\n",
    "f_QNN = ode_regressor.predict(x_line)"
   ]
  },
  {
   "cell_type": "code",
   "execution_count": 27,
   "metadata": {},
   "outputs": [
    {
     "data": {
      "text/plain": [
       "[<matplotlib.lines.Line2D at 0x2591790e080>]"
      ]
     },
     "execution_count": 27,
     "metadata": {},
     "output_type": "execute_result"
    },
    {
     "data": {
      "image/png": "[encoded data removed]",
      "text/plain": [
       "<Figure size 640x480 with 1 Axes>"
      ]
     },
     "metadata": {},
     "output_type": "display_data"
    }
   ],
   "source": [
    "plt.plot(f_QNN)"
   ]
  }
 ],
 "metadata": {
  "kernelspec": {
   "display_name": "Python 3",
   "language": "python",
   "name": "python3"
  },
  "language_info": {
   "codemirror_mode": {
    "name": "ipython",
    "version": 3
   },
   "file_extension": ".py",
   "mimetype": "text/x-python",
   "name": "python",
   "nbconvert_exporter": "python",
   "pygments_lexer": "ipython3",
   "version": "3.10.11"
  }
 },
 "nbformat": 4,
 "nbformat_minor": 2
}

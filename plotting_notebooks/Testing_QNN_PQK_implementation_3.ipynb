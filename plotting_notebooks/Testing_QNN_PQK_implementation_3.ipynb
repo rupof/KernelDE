{
 "cells": [
  {
   "cell_type": "code",
   "execution_count": 1,
   "metadata": {},
   "outputs": [],
   "source": [
    "import sys\n",
    "sys.path.append(\"..\")"
   ]
  },
  {
   "cell_type": "code",
   "execution_count": 2,
   "metadata": {},
   "outputs": [],
   "source": [
    "from solvers.MMR.PQK_solver import *\n",
    "from circuits.circuits import *\n",
    "from utils.rbf_kernel_tools import *\n",
    "from squlearn.encoding_circuit import *\n"
   ]
  },
  {
   "cell_type": "code",
   "execution_count": 3,
   "metadata": {},
   "outputs": [],
   "source": [
    "from squlearn.observables import SinglePauli\n",
    "import numpy as np\n",
    "\n",
    "\n",
    "def PQK_observable(num_qubits, measurement = \"XYZ\"):\n",
    "    \"\"\"\"\n",
    "    Returns the observable for the PQK solver\n",
    "\n",
    "    Args:\n",
    "\n",
    "    num_qubits (int): number of qubits in the system\n",
    "    measurement (str): measurement operator to be applied to the qubits (default: \"XYZ\")\n",
    "\n",
    "    Returns:\n",
    "    _measurement (list): list of SinglePauli objects representing the measurement operator (shape: num_qubits*len(measurement))\n",
    "\n",
    "    \"\"\"\n",
    "    if isinstance(measurement, str):\n",
    "                _measurement = []\n",
    "                for m_str in measurement:\n",
    "                    if m_str not in (\"X\", \"Y\", \"Z\"):\n",
    "                        raise ValueError(\"Unknown measurement operator: {}\".format(m_str))\n",
    "                    for i in range(num_qubits):\n",
    "                        _measurement.append(SinglePauli(num_qubits, i, op_str=m_str))\n",
    "    return _measurement"
   ]
  },
  {
   "cell_type": "code",
   "execution_count": 4,
   "metadata": {},
   "outputs": [
    {
     "name": "stdout",
     "output_type": "stream",
     "text": [
      "6 6\n"
     ]
    }
   ],
   "source": [
    "num_qubits = 2\n",
    "num_features = 1\n",
    "num_samples = 10\n",
    "num_layers = 3\n",
    "\n",
    "sigma = 1\n",
    "measurement = \"XYZ\"\n",
    "_measurement = PQK_observable(num_qubits, measurement)\n",
    "print(len(_measurement), num_qubits*len(measurement))"
   ]
  },
  {
   "cell_type": "code",
   "execution_count": 5,
   "metadata": {},
   "outputs": [
    {
     "name": "stdout",
     "output_type": "stream",
     "text": [
      "num_samples 10 num_features 1 num_parameters 6\n"
     ]
    }
   ],
   "source": [
    "#a = LowLevelQNN(Separable_rx(num_qubits=4, num_layers=1, num_features=2), _measurement, Executor(\"pennylane\"))\n",
    "#import RBF from sklearn\n",
    "from sklearn.gaussian_process.kernels import RBF\n",
    "\n",
    "a = LowLevelQNN(HubregtsenEncodingCircuit(num_qubits=num_qubits, num_layers=num_layers, num_features=num_features), _measurement, Executor(\"pennylane\"))\n",
    "parameter_array = np.random.rand(a.num_parameters)\n",
    "print(\"num_samples\", num_samples, \"num_features\", num_features, \"num_parameters\", a.num_parameters )\n",
    "input = np.random.rand(num_samples, num_features)\n",
    "X = a.evaluate(input, parameter_array, [], \"f\")[\"f\"] # Shape (num_samples, num_qubits*len(measurement))"
   ]
  },
  {
   "cell_type": "code",
   "execution_count": 6,
   "metadata": {},
   "outputs": [],
   "source": [
    "O = a.evaluate(input, parameter_array, [], \"f\")[\"f\"]\n",
    "dOdx = a.evaluate(input, parameter_array, [], \"dfdx\")[\"dfdx\"]\n",
    "dOdxdx = a.evaluate(input, parameter_array, [], \"dfdxdx\")[\"dfdxdx\"]"
   ]
  },
  {
   "cell_type": "code",
   "execution_count": 7,
   "metadata": {},
   "outputs": [
    {
     "data": {
      "text/plain": [
       "(10, 6, 1)"
      ]
     },
     "execution_count": 7,
     "metadata": {},
     "output_type": "execute_result"
    }
   ],
   "source": [
    "dOdx.shape"
   ]
  },
  {
   "cell_type": "code",
   "execution_count": 8,
   "metadata": {},
   "outputs": [
    {
     "data": {
      "text/plain": [
       "(10, 6, 1, 1)"
      ]
     },
     "execution_count": 8,
     "metadata": {},
     "output_type": "execute_result"
    }
   ],
   "source": [
    "dOdxdx.shape"
   ]
  },
  {
   "cell_type": "code",
   "execution_count": 9,
   "metadata": {},
   "outputs": [
    {
     "data": {
      "text/plain": [
       "(10, 6)"
      ]
     },
     "execution_count": 9,
     "metadata": {},
     "output_type": "execute_result"
    }
   ],
   "source": [
    "X.shape"
   ]
  },
  {
   "cell_type": "code",
   "execution_count": 10,
   "metadata": {},
   "outputs": [],
   "source": [
    "from utils.rbf_kernel_tools import analytical_derivative_rbf_kernel, analytical_derivative_dot_kernel_2, matrix_rbf_dxdy_slow\n",
    "\n",
    "from utils.rbf_kernel_tools import matrix_rbf, matrix_rbf_dx_slow, matrix_rbf_dxdx_slow"
   ]
  },
  {
   "cell_type": "markdown",
   "metadata": {},
   "source": [
    "$K(x,y)$"
   ]
  },
  {
   "cell_type": "code",
   "execution_count": 11,
   "metadata": {},
   "outputs": [],
   "source": [
    "K = RBF(1)(O, O)"
   ]
  },
  {
   "cell_type": "markdown",
   "metadata": {},
   "source": [
    "Derivative of a kernel "
   ]
  },
  {
   "cell_type": "markdown",
   "metadata": {},
   "source": [
    "$\\frac{d}{dx} k(x,y) = $"
   ]
  },
  {
   "cell_type": "code",
   "execution_count": 12,
   "metadata": {},
   "outputs": [
    {
     "data": {
      "text/plain": [
       "(10, 6, 1, 1)"
      ]
     },
     "execution_count": 12,
     "metadata": {},
     "output_type": "execute_result"
    }
   ],
   "source": [
    "dOdxdx.shape\n"
   ]
  },
  {
   "cell_type": "code",
   "execution_count": 13,
   "metadata": {},
   "outputs": [],
   "source": [
    "K_rbf_dx =  matrix_rbf_dx_slow(X, X, sigma=sigma) #(n,n, d)\n",
    "Kdx = np.einsum(\"ijk->ij\",(K_rbf_dx*O))"
   ]
  },
  {
   "cell_type": "markdown",
   "metadata": {},
   "source": [
    "$ \\frac{d^{2} K}{dx^2}$"
   ]
  },
  {
   "cell_type": "code",
   "execution_count": 14,
   "metadata": {},
   "outputs": [],
   "source": [
    "K_rbf_dxdy = matrix_rbf_dxdy_slow(X, X, sigma=sigma)"
   ]
  },
  {
   "cell_type": "code",
   "execution_count": 15,
   "metadata": {},
   "outputs": [],
   "source": [
    "K_rbf_dxdx =  matrix_rbf_dxdx_slow(X, X, sigma=sigma)\n",
    "K_rbf_dxdy = matrix_rbf_dxdy_slow(X, X, sigma=sigma)\n",
    "\n",
    "Kdxdx = np.zeros((num_samples, num_qubits*len(measurement), num_features, num_features))\n",
    "Kdxdx_first_term = np.einsum(\"ijk->ij\",(K_rbf_dxdx*dOdx[:,:,0]))\n",
    "Kdxdx_second_term = np.einsum(\"ijk->ij\",(K_rbf_dx*dOdxdx[:,:,0,0]))\n",
    "Kdxdx = Kdxdx_first_term + Kdxdx_second_term\n"
   ]
  },
  {
   "cell_type": "code",
   "execution_count": 16,
   "metadata": {},
   "outputs": [
    {
     "data": {
      "text/plain": [
       "array([[ 2.25564227, -1.69887568,  0.92826903, -3.05591782, -1.96951338,\n",
       "        -0.56549373, -0.56052573, -2.19758945, -3.10033274, -1.21426431],\n",
       "       [-0.29303529,  0.68802725,  1.02073929, -3.83734488, -3.40062429,\n",
       "         1.16159956,  1.16246774, -4.09187004, -3.63118708,  0.96402053],\n",
       "       [ 1.68963984, -0.3566801 ,  1.76136921, -3.64583115, -2.50246369,\n",
       "         0.78871534,  0.7929352 , -2.93785387, -3.60556357,  0.18038893],\n",
       "       [-1.90605468, -1.04785096, -1.54441435, -2.40077736, -5.06852381,\n",
       "        -1.24317515, -1.24411024, -5.36265713, -2.17305741, -1.125929  ],\n",
       "       [-1.06931898, -2.02086062, -1.35456396, -3.71037714, -4.93409816,\n",
       "        -1.67856056, -1.67731166, -4.63694376, -3.63571464, -1.85795485],\n",
       "       [ 0.64766611,  0.38906283,  1.57319739, -3.8619705 , -2.97188188,\n",
       "         1.22707752,  1.22958424, -3.56026371, -3.7332641 ,  0.81739002],\n",
       "       [ 0.65149983,  0.38720951,  1.57481702, -3.8616717 , -2.97021715,\n",
       "         1.22656814,  1.22908142, -3.55812286, -3.73328034,  0.81606722],\n",
       "       [-1.20793077, -2.07097505, -1.47246019, -3.3846611 , -5.01948393,\n",
       "        -1.76667597, -1.76555166, -4.65689572, -3.32893077, -1.92719065],\n",
       "       [-1.9336601 , -0.89700244, -1.48336244, -2.44717271, -5.01414627,\n",
       "        -1.12226309, -1.12336413, -5.37851418, -2.20101855, -0.98563612],\n",
       "       [ 0.12608376,  0.59330208,  1.30437098, -3.87322572, -3.20277436,\n",
       "         1.23736994,  1.23897323, -3.8517211 , -3.70165122,  0.94245545]])"
      ]
     },
     "execution_count": 16,
     "metadata": {},
     "output_type": "execute_result"
    }
   ],
   "source": [
    "Kdxdx"
   ]
  },
  {
   "cell_type": "code",
   "execution_count": 17,
   "metadata": {},
   "outputs": [
    {
     "data": {
      "text/plain": [
       "(10, 10)"
      ]
     },
     "execution_count": 17,
     "metadata": {},
     "output_type": "execute_result"
    }
   ],
   "source": [
    "Kdxdx_first_term.shape"
   ]
  },
  {
   "cell_type": "markdown",
   "metadata": {},
   "source": [
    "Testing implmentation"
   ]
  },
  {
   "cell_type": "code",
   "execution_count": 18,
   "metadata": {},
   "outputs": [],
   "source": [
    "from circuits.circuits import Separable_rx"
   ]
  },
  {
   "cell_type": "code",
   "execution_count": 19,
   "metadata": {},
   "outputs": [],
   "source": [
    "sigma = 1\n",
    "gamma = 1/(2*sigma**2)\n",
    "\n",
    "experiment = { \"sigma\": sigma}\n",
    "experiment[\"circuit_information\"] = {\"encoding_circuit\": Separable_rx, \"num_qubits\": 1, \"num_layers\":1}\n",
    "pqk =PQK_solver(experiment[\"circuit_information\"],\n",
    "                                Executor(\"pennylane\"), \n",
    "                                envelope={\"function\": matrix_rbf, \n",
    "                                            \"derivative_function\": matrix_rbf_dx_slow, \n",
    "                                            \"second_derivative_function\": matrix_rbf_dxdx_slow,\n",
    "                                            \"mixed_derivative_function\": matrix_rbf_dxdy_slow,\n",
    "                                            \"sigma\": experiment[\"sigma\"]})"
   ]
  },
  {
   "cell_type": "code",
   "execution_count": 113,
   "metadata": {},
   "outputs": [
    {
     "name": "stdout",
     "output_type": "stream",
     "text": [
      "[0.1, -0.41]\n",
      "index_combinations_of_O [(0, 1), (0, 2), (1, 2)]\n",
      "analytical 2 [[[-1.         -1.         -1.        ]\n",
      "  [-0.88050868 -0.66175055 -0.87516768]]\n",
      "\n",
      " [[-0.88050868 -0.66175055 -0.87516768]\n",
      "  [-1.         -1.         -1.        ]]]\n",
      "dOdx square [[0.         0.99003329 0.00996671]\n",
      " [0.         0.8411106  0.1588894 ]]\n",
      "first_term dOdx squared [[-1.         -0.69566027]\n",
      " [-0.66387762 -1.        ]]\n",
      "second_term dOdxdx [[ 0.         -0.11204957]\n",
      " [-0.11204957  0.        ]]\n",
      "mixed_term [[ 0.          0.00679085]\n",
      " [-0.0249918   0.        ]]\n"
     ]
    }
   ],
   "source": [
    "PQK_qnn = pqk.PQK_QNN()\n",
    "obs_coef = []\n",
    "X = [0.1, -0.41]\n",
    "#X = [-0.41, 0.1]\n",
    "\n",
    "K_f, K_dfdx, K_dfdxdx = pqk.get_PQK_kernel_derivatives(X, PQK_qnn, obs_coef, [1, 2])\n",
    "#The problem is in analytical 2 and mixed term"
   ]
  },
  {
   "cell_type": "code",
   "execution_count": 21,
   "metadata": {},
   "outputs": [
    {
     "data": {
      "text/plain": [
       "array([[1.        , 0.88050868],\n",
       "       [0.88050868, 1.        ]])"
      ]
     },
     "execution_count": 21,
     "metadata": {},
     "output_type": "execute_result"
    }
   ],
   "source": [
    "K_f"
   ]
  },
  {
   "cell_type": "code",
   "execution_count": 22,
   "metadata": {},
   "outputs": [],
   "source": [
    "O = PQK_qnn.evaluate(X, [], [], \"f\")[\"f\"]\n",
    "dOdx = PQK_qnn.evaluate(X, [], [], \"dfdx\")[\"dfdx\"]\n",
    "dOdxdx = PQK_qnn.evaluate(X, [], [], \"dfdxdx\")[\"dfdxdx\"]"
   ]
  },
  {
   "cell_type": "code",
   "execution_count": 23,
   "metadata": {},
   "outputs": [
    {
     "data": {
      "text/plain": [
       "0.8805086806207679"
      ]
     },
     "execution_count": 23,
     "metadata": {},
     "output_type": "execute_result"
    }
   ],
   "source": [
    "matrix_rbf(O, O, sigma)[0, 1]"
   ]
  },
  {
   "cell_type": "code",
   "execution_count": 24,
   "metadata": {},
   "outputs": [
    {
     "data": {
      "text/plain": [
       "(2, 3)"
      ]
     },
     "execution_count": 24,
     "metadata": {},
     "output_type": "execute_result"
    }
   ],
   "source": [
    "O.shape"
   ]
  },
  {
   "cell_type": "code",
   "execution_count": 25,
   "metadata": {},
   "outputs": [
    {
     "data": {
      "text/plain": [
       "array([ 0.        , -0.09983342,  0.99500417])"
      ]
     },
     "execution_count": 25,
     "metadata": {},
     "output_type": "execute_result"
    }
   ],
   "source": [
    "O[0]"
   ]
  },
  {
   "cell_type": "code",
   "execution_count": 26,
   "metadata": {},
   "outputs": [
    {
     "data": {
      "text/plain": [
       "(2, 3, 1)"
      ]
     },
     "execution_count": 26,
     "metadata": {},
     "output_type": "execute_result"
    }
   ],
   "source": [
    "dOdx.shape"
   ]
  },
  {
   "cell_type": "code",
   "execution_count": 27,
   "metadata": {},
   "outputs": [],
   "source": [
    "K_dx_manual = np.zeros((len(X), len(X)))\n",
    "for n in range(len(X)):\n",
    "   for j in range(len(X)):\n",
    "      r = 0\n",
    "      for l in range(O.shape[1]):\n",
    "         K_dx_manual[n,j] += matrix_rbf_dx_slow(O, O, sigma)[n,j, l] * dOdx[n, l, 0]"
   ]
  },
  {
   "cell_type": "code",
   "execution_count": 28,
   "metadata": {},
   "outputs": [],
   "source": [
    "# Assuming dOdx has shape (N, L, 1) and the result of matrix_rbf_dx_slow has shape (N, N, L)\n",
    "# Reshape dOdx to (N, L) to align the dimensions correctly for einsum\n",
    "dOdx_reshaped = dOdx[:, :, 0]\n",
    "\n",
    "# Calculate the result using einsum\n",
    "K_dx_manual = np.einsum('njl, nl->nj', matrix_rbf_dx_slow(O, O, sigma), dOdx_reshaped)\n"
   ]
  },
  {
   "cell_type": "code",
   "execution_count": 29,
   "metadata": {},
   "outputs": [],
   "source": [
    "import sympy as sp\n",
    "\n",
    "x,y,gamma_sp = sp.symbols(\"x y gamma\")\n",
    "\n",
    "K = sp.exp(-gamma_sp*(2-2*sp.cos(x-y)))\n",
    "Kx = sp.diff(K, x)\n",
    "Kxx = sp.diff(Kx, x)"
   ]
  },
  {
   "cell_type": "code",
   "execution_count": 30,
   "metadata": {},
   "outputs": [
    {
     "data": {
      "text/plain": [
       "array([[[[0.03920795]]]])"
      ]
     },
     "execution_count": 30,
     "metadata": {},
     "output_type": "execute_result"
    }
   ],
   "source": [
    "matrix_rbf_dxdy_slow(np.array([[0.5]]), np.array([[0.7]]), sigma=sigma)"
   ]
  },
  {
   "cell_type": "code",
   "execution_count": 31,
   "metadata": {},
   "outputs": [],
   "source": [
    "x1, y1 = sp.symbols('x_1 y_1')\n",
    "x2, y2 = sp.symbols('x_2 y_2')"
   ]
  },
  {
   "cell_type": "code",
   "execution_count": 32,
   "metadata": {},
   "outputs": [],
   "source": [
    "rbf_sp = sp.exp(-gamma_sp*((x1-y1)**2+(x2-y2)**2))"
   ]
  },
  {
   "cell_type": "code",
   "execution_count": 33,
   "metadata": {},
   "outputs": [
    {
     "data": {
      "text/plain": [
       "array([[[ 0.19506198, -0.09753099]]])"
      ]
     },
     "execution_count": 33,
     "metadata": {},
     "output_type": "execute_result"
    }
   ],
   "source": [
    "matrix_rbf_dx_slow(np.array([[0.5, 0.4]]), np.array([[0.7, 0.3]]), sigma=sigma)"
   ]
  },
  {
   "cell_type": "code",
   "execution_count": 34,
   "metadata": {},
   "outputs": [
    {
     "name": "stdout",
     "output_type": "stream",
     "text": [
      "0.195061982405666\n",
      "-0.0975309912028333\n"
     ]
    }
   ],
   "source": [
    "print(rbf_sp.diff(x1).subs({x1: 0.5, y1: 0.7, x2: 0.4, y2: 0.3, gamma_sp: gamma}))\n",
    "print(rbf_sp.diff(x2).subs({x1: 0.5, y1: 0.7, x2: 0.4, y2: 0.3, gamma_sp: gamma}))"
   ]
  },
  {
   "cell_type": "code",
   "execution_count": 35,
   "metadata": {},
   "outputs": [
    {
     "name": "stdout",
     "output_type": "stream",
     "text": [
      "-0.0195061982405667\n"
     ]
    }
   ],
   "source": [
    "print(rbf_sp.diff(x2).diff(x1).subs({x1: 0.5, y1: 0.7, x2: 0.4, y2: 0.3, gamma_sp: gamma}))"
   ]
  },
  {
   "cell_type": "code",
   "execution_count": 36,
   "metadata": {},
   "outputs": [
    {
     "data": {
      "text/plain": [
       "array([[[[ 0.0390124, -0.0195062],\n",
       "         [-0.0195062,  0.0097531]]]])"
      ]
     },
     "execution_count": 36,
     "metadata": {},
     "output_type": "execute_result"
    }
   ],
   "source": [
    "matrix_rbf_dxdy_slow(np.array([[0.5, 0.4]]), np.array([[0.7, 0.3]]), sigma=sigma)"
   ]
  },
  {
   "cell_type": "code",
   "execution_count": 37,
   "metadata": {},
   "outputs": [
    {
     "data": {
      "text/latex": [
       "$\\displaystyle 0$"
      ],
      "text/plain": [
       "0"
      ]
     },
     "execution_count": 37,
     "metadata": {},
     "output_type": "execute_result"
    }
   ],
   "source": [
    "rbf_sp.diff(x).diff(y)"
   ]
  },
  {
   "cell_type": "code",
   "execution_count": 38,
   "metadata": {},
   "outputs": [
    {
     "data": {
      "text/latex": [
       "$\\displaystyle 0$"
      ],
      "text/plain": [
       "0"
      ]
     },
     "execution_count": 38,
     "metadata": {},
     "output_type": "execute_result"
    }
   ],
   "source": [
    "rbf_sp.diff(x).subs({x: 0.5, y: 0.7, gamma_sp: gamma})"
   ]
  },
  {
   "cell_type": "code",
   "execution_count": 39,
   "metadata": {},
   "outputs": [],
   "source": [
    "x1, y1 = sp.symbols('x_1 y_1')\n",
    "x2, y2 = sp.symbols('x_2 y_2')\n",
    "O1 = sp.symbols('O_1', cls=sp.Function)\n",
    "O2 = sp.symbols('O_2', cls=sp.Function)\n",
    "O3 = sp.symbols('O_3', cls=sp.Function)\n"
   ]
  },
  {
   "cell_type": "code",
   "execution_count": 40,
   "metadata": {},
   "outputs": [],
   "source": [
    "k = sp.symbols('k', cls=sp.Function)"
   ]
  },
  {
   "cell_type": "code",
   "execution_count": 41,
   "metadata": {},
   "outputs": [],
   "source": [
    "O2_ = sp.sin\n",
    "O3_ = sp.cos\n",
    "rbf_sp = sp.exp(-gamma_sp*((x1-y1)**2+(x2-y2)**2))\n",
    "\n",
    "def rbf_sp_fun(x1, x2, y1, y2):\n",
    "    return sp.exp(-gamma_sp*((x1-y1)**2+(x2-y2)**2))"
   ]
  },
  {
   "cell_type": "code",
   "execution_count": 42,
   "metadata": {},
   "outputs": [],
   "source": [
    "#k = rbf_sp_fun\n",
    "pqk_fun =  k(O2(x), O3(x),O2(y), O3(y))\n",
    "pqk_fun_dx = sp.diff(pqk_fun, x)"
   ]
  },
  {
   "cell_type": "code",
   "execution_count": 43,
   "metadata": {},
   "outputs": [
    {
     "data": {
      "text/latex": [
       "$\\displaystyle - \\sin{\\left(x \\right)} \\left. \\frac{\\partial}{\\partial \\xi_{0}} k{\\left(\\sin{\\left(x \\right)},\\xi_{0},\\sin{\\left(y \\right)},\\cos{\\left(y \\right)} \\right)} \\right|_{\\substack{ \\xi_{0}=\\cos{\\left(x \\right)} }} + \\cos{\\left(x \\right)} \\left. \\frac{\\partial}{\\partial \\xi_{0}} k{\\left(\\xi_{0},\\cos{\\left(x \\right)},\\sin{\\left(y \\right)},\\cos{\\left(y \\right)} \\right)} \\right|_{\\substack{ \\xi_{0}=\\sin{\\left(x \\right)} }}$"
      ],
      "text/plain": [
       "-sin(x)*Subs(Derivative(k(sin(x), _xi_0, sin(y), cos(y)), _xi_0), _xi_0, cos(x)) + cos(x)*Subs(Derivative(k(_xi_0, cos(x), sin(y), cos(y)), _xi_0), _xi_0, sin(x))"
      ]
     },
     "execution_count": 43,
     "metadata": {},
     "output_type": "execute_result"
    }
   ],
   "source": [
    "pqk_fun_dx.subs({O2:O2_, O3:O3_}).doit().simplify()"
   ]
  },
  {
   "cell_type": "code",
   "execution_count": 44,
   "metadata": {},
   "outputs": [
    {
     "data": {
      "text/latex": [
       "$\\displaystyle - 2 \\gamma e^{- \\gamma \\left(2 - 2 \\cos{\\left(x - y \\right)}\\right)} \\sin{\\left(x - y \\right)}$"
      ],
      "text/plain": [
       "-2*gamma*exp(-gamma*(2 - 2*cos(x - y)))*sin(x - y)"
      ]
     },
     "execution_count": 44,
     "metadata": {},
     "output_type": "execute_result"
    }
   ],
   "source": [
    "Kx"
   ]
  },
  {
   "cell_type": "code",
   "execution_count": 45,
   "metadata": {},
   "outputs": [
    {
     "data": {
      "text/latex": [
       "$\\displaystyle \\frac{d}{d x} O_{2}{\\left(x \\right)} \\frac{\\partial}{\\partial O_{2}{\\left(x \\right)}} k{\\left(O_{2}{\\left(x \\right)},O_{3}{\\left(x \\right)},O_{2}{\\left(y \\right)},O_{3}{\\left(y \\right)} \\right)} + \\frac{d}{d x} O_{3}{\\left(x \\right)} \\frac{\\partial}{\\partial O_{3}{\\left(x \\right)}} k{\\left(O_{2}{\\left(x \\right)},O_{3}{\\left(x \\right)},O_{2}{\\left(y \\right)},O_{3}{\\left(y \\right)} \\right)}$"
      ],
      "text/plain": [
       "Derivative(O_2(x), x)*Derivative(k(O_2(x), O_3(x), O_2(y), O_3(y)), O_2(x)) + Derivative(O_3(x), x)*Derivative(k(O_2(x), O_3(x), O_2(y), O_3(y)), O_3(x))"
      ]
     },
     "execution_count": 45,
     "metadata": {},
     "output_type": "execute_result"
    }
   ],
   "source": [
    "((k(O2(x), O3(x),  O2(y), O3(y))).diff(x)).subs(k, rbf_sp)"
   ]
  },
  {
   "cell_type": "code",
   "execution_count": 46,
   "metadata": {},
   "outputs": [],
   "source": [
    "first_part = (k(O2(x), O3(x), O2(y), O3(y)).diff(x, 2)).simplify().args[:2]\n",
    "second_part = (k(O2(x), O3(x), O2(y), O3(y)).diff(x, 2)).simplify().args[2:4]\n",
    "mixed_part = (k(O2(x), O3(x), O2(y), O3(y)).diff(x, 2)).simplify().args[4]\n",
    "everything = (k(O2(x), O3(x), O2(y), O3(y)).diff(x, 2)).simplify()"
   ]
  },
  {
   "cell_type": "code",
   "execution_count": 47,
   "metadata": {},
   "outputs": [
    {
     "data": {
      "text/latex": [
       "$\\displaystyle \\left(\\frac{d}{d x} O_{2}{\\left(x \\right)}\\right)^{2} \\frac{\\partial^{2}}{\\partial O_{2}{\\left(x \\right)}^{2}} k{\\left(O_{2}{\\left(x \\right)},O_{3}{\\left(x \\right)},O_{2}{\\left(y \\right)},O_{3}{\\left(y \\right)} \\right)}$"
      ],
      "text/plain": [
       "Derivative(O_2(x), x)**2*Derivative(k(O_2(x), O_3(x), O_2(y), O_3(y)), (O_2(x), 2))"
      ]
     },
     "execution_count": 47,
     "metadata": {},
     "output_type": "execute_result"
    }
   ],
   "source": [
    "(k(O2(x), O3(x), O2(y), O3(y)).diff(x, 2)).simplify().args[0]"
   ]
  },
  {
   "cell_type": "code",
   "execution_count": 48,
   "metadata": {},
   "outputs": [],
   "source": [
    "def get_num_expr(expr, x, y, gamma):\n",
    "    new_expr = expr.subs(k(O2(x), O3(x), O2(y), O3(y)), rbf_sp).subs({x1:O2(x), x2:O3(x), y1:O2(y), y2:O3(y)}).doit().subs({O2:O2_, O3:O3_}).doit().subs({gamma_sp: gamma}).simplify()\n",
    "    return new_expr\n",
    "\n",
    "sp_K_PQK_dxdx = everything.subs(k(O2(x), O3(x), O2(y), O3(y)), rbf_sp).subs({x1:O2(x), x2:O3(x), y1:O2(y), y2:O3(y)}).doit().subs({O2:O2_, O3:O3_}).doit().subs({gamma_sp: gamma}).simplify()\n",
    "first_part_num = [get_num_expr(first_part[0], x, y, gamma), get_num_expr(first_part[1], x, y, gamma)]\n",
    "second_part_num = [get_num_expr(second_part[0], x, y, gamma), get_num_expr(second_part[1], x, y, gamma)]\n",
    "mixed_part_num = get_num_expr(mixed_part, x, y, gamma)"
   ]
  },
  {
   "cell_type": "code",
   "execution_count": 49,
   "metadata": {},
   "outputs": [
    {
     "data": {
      "text/latex": [
       "$\\displaystyle 0.367879441171442 \\left(\\left(\\sin{\\left(x \\right)} - \\sin{\\left(y \\right)}\\right)^{2} - 1\\right) e^{1.0 \\cos{\\left(x - y \\right)}} \\cos^{2}{\\left(x \\right)}$"
      ],
      "text/plain": [
       "0.367879441171442*((sin(x) - sin(y))**2 - 1)*exp(1.0*cos(x - y))*cos(x)**2"
      ]
     },
     "execution_count": 49,
     "metadata": {},
     "output_type": "execute_result"
    }
   ],
   "source": [
    "first_part_num[0]"
   ]
  },
  {
   "cell_type": "code",
   "execution_count": 50,
   "metadata": {},
   "outputs": [
    {
     "data": {
      "text/latex": [
       "$\\displaystyle 2 \\gamma \\left(2 \\gamma \\left(\\sin{\\left(x \\right)} - \\sin{\\left(y \\right)}\\right)^{2} - 1\\right) e^{- \\gamma \\left(\\left(\\sin{\\left(x \\right)} - \\sin{\\left(y \\right)}\\right)^{2} + \\left(\\cos{\\left(x \\right)} - \\cos{\\left(y \\right)}\\right)^{2}\\right)} \\cos^{2}{\\left(x \\right)}$"
      ],
      "text/plain": [
       "2*gamma*(2*gamma*(sin(x) - sin(y))**2 - 1)*exp(-gamma*((sin(x) - sin(y))**2 + (cos(x) - cos(y))**2))*cos(x)**2"
      ]
     },
     "execution_count": 50,
     "metadata": {},
     "output_type": "execute_result"
    }
   ],
   "source": [
    "first_part[0].subs(k(O2(x), O3(x), O2(y), O3(y)), rbf_sp).subs({x1:O2(x), x2:O3(x), y1:O2(y), y2:O3(y)}).doit().subs({O2:O2_, O3:O3_}).doit()"
   ]
  },
  {
   "cell_type": "code",
   "execution_count": 51,
   "metadata": {},
   "outputs": [
    {
     "data": {
      "text/latex": [
       "$\\displaystyle 2 \\gamma \\left(2 \\gamma \\left(\\cos{\\left(x \\right)} - \\cos{\\left(y \\right)}\\right)^{2} - 1\\right) e^{- \\gamma \\left(\\left(\\sin{\\left(x \\right)} - \\sin{\\left(y \\right)}\\right)^{2} + \\left(\\cos{\\left(x \\right)} - \\cos{\\left(y \\right)}\\right)^{2}\\right)} \\sin^{2}{\\left(x \\right)}$"
      ],
      "text/plain": [
       "2*gamma*(2*gamma*(cos(x) - cos(y))**2 - 1)*exp(-gamma*((sin(x) - sin(y))**2 + (cos(x) - cos(y))**2))*sin(x)**2"
      ]
     },
     "execution_count": 51,
     "metadata": {},
     "output_type": "execute_result"
    }
   ],
   "source": [
    "first_part[1].subs(k(O2(x), O3(x), O2(y), O3(y)), rbf_sp).subs({x1:O2(x), x2:O3(x), y1:O2(y), y2:O3(y)}).doit().subs({O2:O2_, O3:O3_}).doit()"
   ]
  },
  {
   "cell_type": "code",
   "execution_count": 52,
   "metadata": {},
   "outputs": [
    {
     "data": {
      "text/latex": [
       "$\\displaystyle \\gamma \\left(2 \\sin{\\left(x \\right)} - 2 \\sin{\\left(y \\right)}\\right) e^{- \\gamma \\left(\\left(\\sin{\\left(x \\right)} - \\sin{\\left(y \\right)}\\right)^{2} + \\left(\\cos{\\left(x \\right)} - \\cos{\\left(y \\right)}\\right)^{2}\\right)} \\sin{\\left(x \\right)}$"
      ],
      "text/plain": [
       "gamma*(2*sin(x) - 2*sin(y))*exp(-gamma*((sin(x) - sin(y))**2 + (cos(x) - cos(y))**2))*sin(x)"
      ]
     },
     "execution_count": 52,
     "metadata": {},
     "output_type": "execute_result"
    }
   ],
   "source": [
    "second_part[0].subs(k(O2(x), O3(x), O2(y), O3(y)), rbf_sp).subs({x1:O2(x), x2:O3(x), y1:O2(y), y2:O3(y)}).doit().subs({O2:O2_, O3:O3_}).doit()"
   ]
  },
  {
   "cell_type": "code",
   "execution_count": 53,
   "metadata": {},
   "outputs": [
    {
     "data": {
      "text/latex": [
       "$\\displaystyle \\gamma \\left(2 \\cos{\\left(x \\right)} - 2 \\cos{\\left(y \\right)}\\right) e^{- \\gamma \\left(\\left(\\sin{\\left(x \\right)} - \\sin{\\left(y \\right)}\\right)^{2} + \\left(\\cos{\\left(x \\right)} - \\cos{\\left(y \\right)}\\right)^{2}\\right)} \\cos{\\left(x \\right)}$"
      ],
      "text/plain": [
       "gamma*(2*cos(x) - 2*cos(y))*exp(-gamma*((sin(x) - sin(y))**2 + (cos(x) - cos(y))**2))*cos(x)"
      ]
     },
     "execution_count": 53,
     "metadata": {},
     "output_type": "execute_result"
    }
   ],
   "source": [
    "second_part[1].subs(k(O2(x), O3(x), O2(y), O3(y)), rbf_sp).subs({x1:O2(x), x2:O3(x), y1:O2(y), y2:O3(y)}).doit().subs({O2:O2_, O3:O3_}).doit()"
   ]
  },
  {
   "cell_type": "code",
   "execution_count": 54,
   "metadata": {},
   "outputs": [
    {
     "data": {
      "text/latex": [
       "$\\displaystyle - 8 \\gamma^{2} \\left(\\sin{\\left(x \\right)} - \\sin{\\left(y \\right)}\\right) \\left(\\cos{\\left(x \\right)} - \\cos{\\left(y \\right)}\\right) e^{- \\gamma \\left(\\left(\\sin{\\left(x \\right)} - \\sin{\\left(y \\right)}\\right)^{2} + \\left(\\cos{\\left(x \\right)} - \\cos{\\left(y \\right)}\\right)^{2}\\right)} \\sin{\\left(x \\right)} \\cos{\\left(x \\right)}$"
      ],
      "text/plain": [
       "-8*gamma**2*(sin(x) - sin(y))*(cos(x) - cos(y))*exp(-gamma*((sin(x) - sin(y))**2 + (cos(x) - cos(y))**2))*sin(x)*cos(x)"
      ]
     },
     "execution_count": 54,
     "metadata": {},
     "output_type": "execute_result"
    }
   ],
   "source": [
    "mixed_part.subs(k(O2(x), O3(x), O2(y), O3(y)), rbf_sp).subs({x1:O2(x), x2:O3(x), y1:O2(y), y2:O3(y)}).doit().subs({O2:O2_, O3:O3_}).doit()"
   ]
  },
  {
   "cell_type": "code",
   "execution_count": 55,
   "metadata": {},
   "outputs": [],
   "source": [
    "def K_separable_rx_PQK_(X,Y, gamma):\n",
    "    gram_matrix = np.zeros((len(X), len(Y)))    \n",
    "    for i in range(len(X)):\n",
    "        for j in range(len(Y)):\n",
    "            gram_matrix[i,j] = np.exp(-gamma*(2-2*np.cos(X[i]-Y[j])))\n",
    "    return gram_matrix\n",
    "\n",
    "def K_separable_rx_PQK_dx(X,Y, gamma):\n",
    "    #-2*gamma*exp(-gamma*(2 - 2*cos(x - y)))*sin(x - y)\n",
    "\n",
    "    gram_matrix = np.zeros((len(X), len(Y)))    \n",
    "    for i in range(len(X)):\n",
    "        for j in range(len(Y)):\n",
    "            gram_matrix[i,j] = -2*gamma*np.exp(-gamma*(2-2*np.cos(X[i]-Y[j])))*np.sin(X[i]-Y[j])\n",
    "    return gram_matrix \n",
    "\n",
    "def K_separable_rx_PQK_dxdx(X,Y, gamma):\n",
    "    #4*gamma**2*exp(-gamma*(2 - 2*cos(x - y)))*sin(x - y)**2 - 2*gamma*exp(-gamma*(2 - 2*cos(x - y)))*cos(x - y)\n",
    "    gram_matrix = np.zeros((len(X), len(Y)))    \n",
    "    for i in range(len(X)):\n",
    "        for j in range(len(Y)):\n",
    "            gram_matrix[i,j] = 4*gamma**2*np.exp(-gamma*(2-2*np.cos(X[i]-Y[j])))*np.sin(X[i]-Y[j])**2 - 2*gamma*np.exp(-gamma*(2-2*np.cos(X[i]-Y[j])))*np.cos(X[i]-Y[j])\n",
    "    return gram_matrix "
   ]
  },
  {
   "cell_type": "code",
   "execution_count": null,
   "metadata": {},
   "outputs": [],
   "source": []
  },
  {
   "cell_type": "code",
   "execution_count": 56,
   "metadata": {},
   "outputs": [],
   "source": [
    "from squlearn.kernel.matrix import ProjectedQuantumKernel"
   ]
  },
  {
   "cell_type": "code",
   "execution_count": 57,
   "metadata": {},
   "outputs": [],
   "source": [
    "pqk_squlearn = ProjectedQuantumKernel(Separable_rx(num_qubits=1, num_layers=1), executor=Executor(\"pennylane\"), gamma=gamma)"
   ]
  },
  {
   "cell_type": "code",
   "execution_count": 58,
   "metadata": {},
   "outputs": [
    {
     "data": {
      "text/plain": [
       "array([[1.        , 0.88050868],\n",
       "       [0.88050868, 1.        ]])"
      ]
     },
     "execution_count": 58,
     "metadata": {},
     "output_type": "execute_result"
    }
   ],
   "source": [
    "pqk_squlearn.evaluate(X, X)"
   ]
  },
  {
   "cell_type": "code",
   "execution_count": 59,
   "metadata": {},
   "outputs": [
    {
     "data": {
      "text/plain": [
       "array([[1.        , 0.88050868],\n",
       "       [0.88050868, 1.        ]])"
      ]
     },
     "execution_count": 59,
     "metadata": {},
     "output_type": "execute_result"
    }
   ],
   "source": [
    "K_separable_rx_PQK_(X,X, gamma)"
   ]
  },
  {
   "cell_type": "code",
   "execution_count": 60,
   "metadata": {},
   "outputs": [
    {
     "data": {
      "text/plain": [
       "array([[1.        , 0.88050868],\n",
       "       [0.88050868, 1.        ]])"
      ]
     },
     "execution_count": 60,
     "metadata": {},
     "output_type": "execute_result"
    }
   ],
   "source": [
    "K_f"
   ]
  },
  {
   "cell_type": "code",
   "execution_count": 61,
   "metadata": {},
   "outputs": [
    {
     "data": {
      "text/plain": [
       "array([[-0.       , -0.4298443],\n",
       "       [ 0.4298443, -0.       ]])"
      ]
     },
     "execution_count": 61,
     "metadata": {},
     "output_type": "execute_result"
    }
   ],
   "source": [
    "K_separable_rx_PQK_dx(X,X,gamma)"
   ]
  },
  {
   "cell_type": "code",
   "execution_count": 62,
   "metadata": {},
   "outputs": [
    {
     "data": {
      "text/plain": [
       "array([[ 0.       , -0.4298443],\n",
       "       [ 0.4298443,  0.       ]])"
      ]
     },
     "execution_count": 62,
     "metadata": {},
     "output_type": "execute_result"
    }
   ],
   "source": [
    "K_dfdx"
   ]
  },
  {
   "cell_type": "code",
   "execution_count": 63,
   "metadata": {},
   "outputs": [
    {
     "data": {
      "text/plain": [
       "array([[-1.        , -0.55861891],\n",
       "       [-0.55861891, -1.        ]])"
      ]
     },
     "execution_count": 63,
     "metadata": {},
     "output_type": "execute_result"
    }
   ],
   "source": [
    "K_separable_rx_PQK_dxdx(X,X,gamma)"
   ]
  },
  {
   "cell_type": "code",
   "execution_count": 64,
   "metadata": {},
   "outputs": [
    {
     "data": {
      "text/plain": [
       "array([[-1.        , -0.80091898],\n",
       "       [-0.80091898, -1.        ]])"
      ]
     },
     "execution_count": 64,
     "metadata": {},
     "output_type": "execute_result"
    }
   ],
   "source": [
    "K_dfdxdx"
   ]
  },
  {
   "cell_type": "code",
   "execution_count": 65,
   "metadata": {},
   "outputs": [
    {
     "data": {
      "text/latex": [
       "$\\displaystyle -0.55861890624501$"
      ],
      "text/plain": [
       "-0.558618906245010"
      ]
     },
     "execution_count": 65,
     "metadata": {},
     "output_type": "execute_result"
    }
   ],
   "source": [
    "first_part_num[0].subs({x: X[0], y: X[1]}) + first_part_num[1].subs({x: X[0], y: X[1]}) + second_part_num[0].subs({x: X[0], y: X[1]}) + second_part_num[1].subs({x: X[0], y: X[1]}) + mixed_part_num.subs({x: X[0], y: X[1]})"
   ]
  },
  {
   "cell_type": "code",
   "execution_count": 66,
   "metadata": {},
   "outputs": [
    {
     "name": "stdout",
     "output_type": "stream",
     "text": [
      "first part -0.663877618895062\n",
      "second part 0.112049565674586\n",
      "mixed part -0.00679085302453363\n",
      "total -0.558618906245010\n"
     ]
    }
   ],
   "source": [
    "print(\"first part\", first_part_num[0].subs({x: X[0], y: X[1]}) + first_part_num[1].subs({x: X[0], y: X[1]}))\n",
    "print(\"second part\", second_part_num[0].subs({x: X[0], y: X[1]}) + second_part_num[1].subs({x: X[0], y: X[1]}))\n",
    "print(\"mixed part\", mixed_part_num.subs({x: X[0], y: X[1]}))\n",
    "print(\"total\", first_part_num[0].subs({x: X[0], y: X[1]}) + first_part_num[1].subs({x: X[0], y: X[1]}) + second_part_num[0].subs({x: X[0], y: X[1]}) + second_part_num[1].subs({x: X[0], y: X[1]}) + mixed_part_num.subs({x: X[0], y: X[1]}))"
   ]
  },
  {
   "cell_type": "code",
   "execution_count": 67,
   "metadata": {},
   "outputs": [
    {
     "data": {
      "text/latex": [
       "$\\displaystyle -0.55861890624501$"
      ],
      "text/plain": [
       "-0.558618906245010"
      ]
     },
     "execution_count": 67,
     "metadata": {},
     "output_type": "execute_result"
    }
   ],
   "source": [
    "sp_K_PQK_dxdx.subs({x: X[0], y: X[1]})"
   ]
  },
  {
   "cell_type": "code",
   "execution_count": 79,
   "metadata": {},
   "outputs": [
    {
     "data": {
      "text/latex": [
       "$\\displaystyle \\left(\\frac{d}{d x} O_{2}{\\left(x \\right)}\\right)^{2} \\frac{\\partial^{2}}{\\partial O_{2}{\\left(x \\right)}^{2}} k{\\left(O_{2}{\\left(x \\right)},O_{3}{\\left(x \\right)},O_{2}{\\left(y \\right)},O_{3}{\\left(y \\right)} \\right)} + 2 \\frac{d}{d x} O_{2}{\\left(x \\right)} \\frac{d}{d x} O_{3}{\\left(x \\right)} \\frac{\\partial^{2}}{\\partial O_{3}{\\left(x \\right)}\\partial O_{2}{\\left(x \\right)}} k{\\left(O_{2}{\\left(x \\right)},O_{3}{\\left(x \\right)},O_{2}{\\left(y \\right)},O_{3}{\\left(y \\right)} \\right)} + \\frac{d^{2}}{d x^{2}} O_{2}{\\left(x \\right)} \\frac{\\partial}{\\partial O_{2}{\\left(x \\right)}} k{\\left(O_{2}{\\left(x \\right)},O_{3}{\\left(x \\right)},O_{2}{\\left(y \\right)},O_{3}{\\left(y \\right)} \\right)} + \\left(\\frac{d}{d x} O_{3}{\\left(x \\right)}\\right)^{2} \\frac{\\partial^{2}}{\\partial O_{3}{\\left(x \\right)}^{2}} k{\\left(O_{2}{\\left(x \\right)},O_{3}{\\left(x \\right)},O_{2}{\\left(y \\right)},O_{3}{\\left(y \\right)} \\right)} + \\frac{d^{2}}{d x^{2}} O_{3}{\\left(x \\right)} \\frac{\\partial}{\\partial O_{3}{\\left(x \\right)}} k{\\left(O_{2}{\\left(x \\right)},O_{3}{\\left(x \\right)},O_{2}{\\left(y \\right)},O_{3}{\\left(y \\right)} \\right)}$"
      ],
      "text/plain": [
       "Derivative(O_2(x), x)**2*Derivative(k(O_2(x), O_3(x), O_2(y), O_3(y)), (O_2(x), 2)) + 2*Derivative(O_2(x), x)*Derivative(O_3(x), x)*Derivative(k(O_2(x), O_3(x), O_2(y), O_3(y)), O_2(x), O_3(x)) + Derivative(O_2(x), (x, 2))*Derivative(k(O_2(x), O_3(x), O_2(y), O_3(y)), O_2(x)) + Derivative(O_3(x), x)**2*Derivative(k(O_2(x), O_3(x), O_2(y), O_3(y)), (O_3(x), 2)) + Derivative(O_3(x), (x, 2))*Derivative(k(O_2(x), O_3(x), O_2(y), O_3(y)), O_3(x))"
      ]
     },
     "execution_count": 79,
     "metadata": {},
     "output_type": "execute_result"
    }
   ],
   "source": [
    "everything"
   ]
  },
  {
   "cell_type": "code",
   "execution_count": 84,
   "metadata": {},
   "outputs": [
    {
     "data": {
      "text/plain": [
       "(0.990033288920621, 0.158889396356193)"
      ]
     },
     "execution_count": 84,
     "metadata": {},
     "output_type": "execute_result"
    }
   ],
   "source": [
    "get_num_expr(first_part[0].args[0], x, y, gamma).subs({x: X[0], y: X[1]}), get_num_expr(first_part[1].args[0], x, y, gamma).subs({x: X[1], y: X[1]}), "
   ]
  },
  {
   "cell_type": "code",
   "execution_count": 78,
   "metadata": {},
   "outputs": [
    {
     "data": {
      "text/latex": [
       "$\\displaystyle \\left(\\frac{d}{d x} O_{2}{\\left(x \\right)}\\right)^{2}$"
      ],
      "text/plain": [
       "Derivative(O_2(x), x)**2"
      ]
     },
     "execution_count": 78,
     "metadata": {},
     "output_type": "execute_result"
    }
   ],
   "source": [
    "first_part[0].args[0]"
   ]
  },
  {
   "cell_type": "code",
   "execution_count": 97,
   "metadata": {},
   "outputs": [],
   "source": [
    "dummy_matrix = np.zeros((2,2,2))\n",
    "for l in range(2):\n",
    "    for j in range(2):\n",
    "        for i in range(2):\n",
    "            dummy_matrix[i,j,l] = get_num_expr(first_part[l].args[1], x, y, gamma).subs({x: X[i], y: X[j]})\n"
   ]
  },
  {
   "cell_type": "code",
   "execution_count": 98,
   "metadata": {},
   "outputs": [
    {
     "data": {
      "text/plain": [
       "array([[[-1.        , -1.        ],\n",
       "        [-0.66175055, -0.87516768]],\n",
       "\n",
       "       [[-0.66175055, -0.87516768],\n",
       "        [-1.        , -1.        ]]])"
      ]
     },
     "execution_count": 98,
     "metadata": {},
     "output_type": "execute_result"
    }
   ],
   "source": [
    "dummy_matrix"
   ]
  },
  {
   "cell_type": "code",
   "execution_count": 72,
   "metadata": {},
   "outputs": [
    {
     "data": {
      "text/latex": [
       "$\\displaystyle \\frac{\\partial^{2}}{\\partial O_{2}{\\left(x \\right)}^{2}} k{\\left(O_{2}{\\left(x \\right)},O_{3}{\\left(x \\right)},O_{2}{\\left(y \\right)},O_{3}{\\left(y \\right)} \\right)}$"
      ],
      "text/plain": [
       "Derivative(k(O_2(x), O_3(x), O_2(y), O_3(y)), (O_2(x), 2))"
      ]
     },
     "execution_count": 72,
     "metadata": {},
     "output_type": "execute_result"
    }
   ],
   "source": [
    "first_part[0].args[1]"
   ]
  },
  {
   "cell_type": "code",
   "execution_count": 73,
   "metadata": {},
   "outputs": [
    {
     "ename": "SyntaxError",
     "evalue": "invalid syntax (1424646232.py, line 2)",
     "output_type": "error",
     "traceback": [
      "\u001b[1;36m  Cell \u001b[1;32mIn[73], line 2\u001b[1;36m\u001b[0m\n\u001b[1;33m    analytical 2 [[[-1.         -1.         -1.        ]\u001b[0m\n\u001b[1;37m               ^\u001b[0m\n\u001b[1;31mSyntaxError\u001b[0m\u001b[1;31m:\u001b[0m invalid syntax\n"
     ]
    }
   ],
   "source": [
    "index_combinations_of_O [(0, 1), (0, 2), (1, 2)]\n",
    "analytical 2 [[[-1.         -1.         -1.        ]\n",
    "  [-0.88050868 -0.66175055 -0.87516768]]\n",
    "\n",
    " [[-0.88050868 -0.66175055 -0.87516768]\n",
    "  [-1.         -1.         -1.        ]]]\n",
    "dOdx square [[0.         0.99003329 0.00996671]\n",
    " [0.         0.8411106  0.1588894 ]]\n",
    "first_term dOdx squared [[-1.         -0.69566027]\n",
    " [-0.66387762 -1.        ]]\n",
    "second_term dOdxdx [[ 0.         -0.11204957]\n",
    " [-0.11204957  0.        ]]\n",
    "mixed_term [[ 0.          0.00679085]\n",
    " [-0.0249918   0.        ]]"
   ]
  }
 ],
 "metadata": {
  "kernelspec": {
   "display_name": "Python 3",
   "language": "python",
   "name": "python3"
  },
  "language_info": {
   "codemirror_mode": {
    "name": "ipython",
    "version": 3
   },
   "file_extension": ".py",
   "mimetype": "text/x-python",
   "name": "python",
   "nbconvert_exporter": "python",
   "pygments_lexer": "ipython3",
   "version": "3.10.11"
  }
 },
 "nbformat": 4,
 "nbformat_minor": 2
}

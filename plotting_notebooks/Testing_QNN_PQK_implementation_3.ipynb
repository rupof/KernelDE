{
 "cells": [
  {
   "cell_type": "code",
   "execution_count": 1,
   "metadata": {},
   "outputs": [],
   "source": [
    "import sys\n",
    "sys.path.append(\"..\")"
   ]
  },
  {
   "cell_type": "code",
   "execution_count": 2,
   "metadata": {},
   "outputs": [],
   "source": [
    "from solvers.MMR.PQK_solver import *\n",
    "from circuits.circuits import *\n",
    "from utils.rbf_kernel_tools import *\n",
    "from squlearn.encoding_circuit import *\n"
   ]
  },
  {
   "cell_type": "code",
   "execution_count": 3,
   "metadata": {},
   "outputs": [],
   "source": [
    "from squlearn.observables import SinglePauli\n",
    "import numpy as np\n",
    "\n",
    "\n",
    "def PQK_observable(num_qubits, measurement = \"XYZ\"):\n",
    "    \"\"\"\"\n",
    "    Returns the observable for the PQK solver\n",
    "\n",
    "    Args:\n",
    "\n",
    "    num_qubits (int): number of qubits in the system\n",
    "    measurement (str): measurement operator to be applied to the qubits (default: \"XYZ\")\n",
    "\n",
    "    Returns:\n",
    "    _measurement (list): list of SinglePauli objects representing the measurement operator (shape: num_qubits*len(measurement))\n",
    "\n",
    "    \"\"\"\n",
    "    if isinstance(measurement, str):\n",
    "                _measurement = []\n",
    "                for m_str in measurement:\n",
    "                    if m_str not in (\"X\", \"Y\", \"Z\"):\n",
    "                        raise ValueError(\"Unknown measurement operator: {}\".format(m_str))\n",
    "                    for i in range(num_qubits):\n",
    "                        _measurement.append(SinglePauli(num_qubits, i, op_str=m_str))\n",
    "    return _measurement"
   ]
  },
  {
   "cell_type": "code",
   "execution_count": 4,
   "metadata": {},
   "outputs": [
    {
     "name": "stdout",
     "output_type": "stream",
     "text": [
      "6 6\n"
     ]
    }
   ],
   "source": [
    "num_qubits = 2\n",
    "num_features = 1\n",
    "num_samples = 10\n",
    "num_layers = 3\n",
    "\n",
    "sigma = 1\n",
    "measurement = \"XYZ\"\n",
    "_measurement = PQK_observable(num_qubits, measurement)\n",
    "print(len(_measurement), num_qubits*len(measurement))"
   ]
  },
  {
   "cell_type": "code",
   "execution_count": 5,
   "metadata": {},
   "outputs": [],
   "source": [
    "from utils.rbf_kernel_tools import analytical_derivative_rbf_kernel, analytical_derivative_dot_kernel_2, matrix_rbf_dxdy_slow\n",
    "from utils.rbf_kernel_tools import matrix_rbf, matrix_rbf_dx_slow, matrix_rbf_dxdx_slow"
   ]
  },
  {
   "cell_type": "markdown",
   "metadata": {},
   "source": [
    "We will show that the kernel derivatives calculated by squlearn are the same as the ones analytically calculated for the separable rx fmap"
   ]
  },
  {
   "cell_type": "code",
   "execution_count": 6,
   "metadata": {},
   "outputs": [],
   "source": [
    "from circuits.circuits import Separable_rx"
   ]
  },
  {
   "cell_type": "code",
   "execution_count": 7,
   "metadata": {},
   "outputs": [],
   "source": [
    "sigma = 1\n",
    "gamma = 1/(2*sigma**2)\n",
    "\n",
    "experiment = { \"sigma\": sigma}\n",
    "experiment[\"circuit_information\"] = {\"encoding_circuit\": Separable_rx, \"num_qubits\": 1, \"num_layers\":1}\n",
    "pqk =PQK_solver(experiment[\"circuit_information\"],\n",
    "                                Executor(\"pennylane\"), \n",
    "                                envelope={\"function\": matrix_rbf, \n",
    "                                            \"derivative_function\": matrix_rbf_dx_slow, \n",
    "                                            \"second_derivative_function\": matrix_rbf_dxdx_slow,\n",
    "                                            \"mixed_derivative_function\": matrix_rbf_dxdy_slow,\n",
    "                                            \"sigma\": experiment[\"sigma\"]})"
   ]
  },
  {
   "cell_type": "code",
   "execution_count": 8,
   "metadata": {},
   "outputs": [
    {
     "name": "stdout",
     "output_type": "stream",
     "text": [
      "[0.1, -0.41]\n"
     ]
    }
   ],
   "source": [
    "PQK_qnn = pqk.PQK_QNN()\n",
    "obs_coef = []\n",
    "X = [0.1, -0.41]\n",
    "#X = [-0.41, 0.1]\n",
    "K_f, K_dfdx, K_dfdxdx = pqk.get_PQK_kernel_derivatives(X, PQK_qnn, obs_coef, [1, 2])"
   ]
  },
  {
   "cell_type": "code",
   "execution_count": 9,
   "metadata": {},
   "outputs": [],
   "source": [
    "O = PQK_qnn.evaluate(X, [], [], \"f\")[\"f\"]\n",
    "dOdx = PQK_qnn.evaluate(X, [], [], \"dfdx\")[\"dfdx\"]\n",
    "dOdxdx = PQK_qnn.evaluate(X, [], [], \"dfdxdx\")[\"dfdxdx\"]"
   ]
  },
  {
   "cell_type": "code",
   "execution_count": 10,
   "metadata": {},
   "outputs": [
    {
     "data": {
      "text/plain": [
       "array([[ 0.        , -0.09983342,  0.99500417],\n",
       "       [ 0.        ,  0.39860933,  0.91712082]])"
      ]
     },
     "execution_count": 10,
     "metadata": {},
     "output_type": "execute_result"
    }
   ],
   "source": [
    "O"
   ]
  },
  {
   "cell_type": "code",
   "execution_count": 11,
   "metadata": {},
   "outputs": [
    {
     "data": {
      "text/plain": [
       "array([[[ 0.        ],\n",
       "        [-0.99500417],\n",
       "        [-0.09983342]],\n",
       "\n",
       "       [[ 0.        ],\n",
       "        [-0.91712082],\n",
       "        [ 0.39860933]]])"
      ]
     },
     "execution_count": 11,
     "metadata": {},
     "output_type": "execute_result"
    }
   ],
   "source": [
    "dOdx"
   ]
  },
  {
   "cell_type": "code",
   "execution_count": 12,
   "metadata": {},
   "outputs": [
    {
     "data": {
      "text/plain": [
       "0.8805086806207679"
      ]
     },
     "execution_count": 12,
     "metadata": {},
     "output_type": "execute_result"
    }
   ],
   "source": [
    "matrix_rbf(O, O, sigma)[0, 1]"
   ]
  },
  {
   "cell_type": "code",
   "execution_count": 13,
   "metadata": {},
   "outputs": [
    {
     "data": {
      "text/plain": [
       "(2, 3)"
      ]
     },
     "execution_count": 13,
     "metadata": {},
     "output_type": "execute_result"
    }
   ],
   "source": [
    "O.shape"
   ]
  },
  {
   "cell_type": "code",
   "execution_count": 14,
   "metadata": {},
   "outputs": [
    {
     "data": {
      "text/plain": [
       "array([ 0.        , -0.09983342,  0.99500417])"
      ]
     },
     "execution_count": 14,
     "metadata": {},
     "output_type": "execute_result"
    }
   ],
   "source": [
    "O[0]"
   ]
  },
  {
   "cell_type": "code",
   "execution_count": 15,
   "metadata": {},
   "outputs": [
    {
     "data": {
      "text/plain": [
       "(2, 3, 1)"
      ]
     },
     "execution_count": 15,
     "metadata": {},
     "output_type": "execute_result"
    }
   ],
   "source": [
    "dOdx.shape"
   ]
  },
  {
   "cell_type": "code",
   "execution_count": 16,
   "metadata": {},
   "outputs": [],
   "source": [
    "# Assuming dOdx has shape (N, L, 1) and the result of matrix_rbf_dx_slow has shape (N, N, L)\n",
    "# Reshape dOdx to (N, L) to align the dimensions correctly for einsum\n",
    "dOdx_reshaped = dOdx[:, :, 0]\n",
    "\n",
    "# Calculate the result using einsum\n",
    "K_dx_manual = np.einsum('njl, nl->nj', matrix_rbf_dx_slow(O, O, sigma), dOdx_reshaped)\n"
   ]
  },
  {
   "cell_type": "code",
   "execution_count": 17,
   "metadata": {},
   "outputs": [],
   "source": [
    "import sympy as sp\n",
    "\n",
    "x,y,gamma_sp = sp.symbols(\"x y gamma\")\n",
    "\n",
    "K = sp.exp(-gamma_sp*(2-2*sp.cos(x-y)))\n",
    "Kx = sp.diff(K, x)\n",
    "Kxx = sp.diff(Kx, x)"
   ]
  },
  {
   "cell_type": "code",
   "execution_count": 18,
   "metadata": {},
   "outputs": [
    {
     "data": {
      "text/plain": [
       "array([[[[0.03920795]]]])"
      ]
     },
     "execution_count": 18,
     "metadata": {},
     "output_type": "execute_result"
    }
   ],
   "source": [
    "matrix_rbf_dxdy_slow(np.array([[0.5]]), np.array([[0.7]]), sigma=sigma)"
   ]
  },
  {
   "cell_type": "code",
   "execution_count": 19,
   "metadata": {},
   "outputs": [
    {
     "data": {
      "text/plain": [
       "array([[[[ 0.0390124, -0.0195062],\n",
       "         [-0.0195062,  0.0097531]]]])"
      ]
     },
     "execution_count": 19,
     "metadata": {},
     "output_type": "execute_result"
    }
   ],
   "source": [
    "matrix_rbf_dxdy_slow(np.array([[0.5, 0.4]]), np.array([[0.7, 0.3]]), sigma=sigma)"
   ]
  },
  {
   "cell_type": "code",
   "execution_count": 20,
   "metadata": {},
   "outputs": [],
   "source": [
    "x1, y1 = sp.symbols('x_1 y_1')\n",
    "x2, y2 = sp.symbols('x_2 y_2')"
   ]
  },
  {
   "cell_type": "code",
   "execution_count": 21,
   "metadata": {},
   "outputs": [],
   "source": [
    "rbf_sp = sp.exp(-gamma_sp*((x1-y1)**2+(x2-y2)**2))\n",
    "rbf_sp_1 = sp.exp(-gamma_sp*((x1-y1)**2))"
   ]
  },
  {
   "cell_type": "code",
   "execution_count": 22,
   "metadata": {},
   "outputs": [
    {
     "data": {
      "text/plain": [
       "array([[[ 0.19506198, -0.09753099]]])"
      ]
     },
     "execution_count": 22,
     "metadata": {},
     "output_type": "execute_result"
    }
   ],
   "source": [
    "matrix_rbf_dx_slow(np.array([[0.5, 0.4]]), np.array([[0.7, 0.3]]), sigma=sigma)"
   ]
  },
  {
   "cell_type": "code",
   "execution_count": 23,
   "metadata": {},
   "outputs": [
    {
     "name": "stdout",
     "output_type": "stream",
     "text": [
      "-0.0195061982405667\n"
     ]
    }
   ],
   "source": [
    "print(rbf_sp.diff(x2).diff(x1).subs({x1: 0.5, y1: 0.7, x2: 0.4, y2: 0.3, gamma_sp: gamma}))"
   ]
  },
  {
   "cell_type": "code",
   "execution_count": 24,
   "metadata": {},
   "outputs": [
    {
     "name": "stdout",
     "output_type": "stream",
     "text": [
      "-0.940990726374485\n"
     ]
    }
   ],
   "source": [
    "print(rbf_sp_1.diff(x1).diff(x1).subs({x1: 0.5, y1: 0.7,  gamma_sp: gamma}))"
   ]
  },
  {
   "cell_type": "code",
   "execution_count": 25,
   "metadata": {},
   "outputs": [
    {
     "data": {
      "text/plain": [
       "array([[[[ 0.0390124, -0.0195062],\n",
       "         [-0.0195062,  0.0097531]]]])"
      ]
     },
     "execution_count": 25,
     "metadata": {},
     "output_type": "execute_result"
    }
   ],
   "source": [
    "matrix_rbf_dxdy_slow(np.array([[0.5, 0.4]]), np.array([[0.7, 0.3]]), sigma=sigma)"
   ]
  },
  {
   "cell_type": "code",
   "execution_count": 26,
   "metadata": {},
   "outputs": [
    {
     "data": {
      "text/latex": [
       "$\\displaystyle 0$"
      ],
      "text/plain": [
       "0"
      ]
     },
     "execution_count": 26,
     "metadata": {},
     "output_type": "execute_result"
    }
   ],
   "source": [
    "rbf_sp.diff(x).diff(y)"
   ]
  },
  {
   "cell_type": "code",
   "execution_count": 27,
   "metadata": {},
   "outputs": [
    {
     "data": {
      "text/latex": [
       "$\\displaystyle 0$"
      ],
      "text/plain": [
       "0"
      ]
     },
     "execution_count": 27,
     "metadata": {},
     "output_type": "execute_result"
    }
   ],
   "source": [
    "rbf_sp.diff(x).subs({x: 0.5, y: 0.7, gamma_sp: gamma})"
   ]
  },
  {
   "cell_type": "code",
   "execution_count": 28,
   "metadata": {},
   "outputs": [],
   "source": [
    "x1, y1 = sp.symbols('x_1 y_1')\n",
    "x2, y2 = sp.symbols('x_2 y_2')\n",
    "x3, y3 = sp.symbols('x_3 y_3')\n",
    "O1 = sp.symbols('O_1', cls=sp.Function)\n",
    "O2 = sp.symbols('O_2', cls=sp.Function)\n",
    "O3 = sp.symbols('O_3', cls=sp.Function)\n"
   ]
  },
  {
   "cell_type": "code",
   "execution_count": 29,
   "metadata": {},
   "outputs": [],
   "source": [
    "k = sp.symbols('k', cls=sp.Function)"
   ]
  },
  {
   "cell_type": "code",
   "execution_count": 30,
   "metadata": {},
   "outputs": [],
   "source": [
    "m_sin = lambda x: -sp.sin(x)\n",
    "O1_ = 0\n",
    "O2_ = m_sin\n",
    "O3_ = sp.cos\n",
    "rbf_sp = sp.exp(-gamma_sp*((x1-y1)**2+(x2-y2)**2))\n",
    "rbf_sp3 = sp.exp(-gamma_sp*((x1-y1)**2+(x2-y2)**2+(x3-y3)**2))\n",
    "\n",
    "def null_func(*args):\n",
    "    return 0\n",
    "\n",
    "def rbf_sp_fun(x1, x2, y1, y2):\n",
    "    return sp.exp(-gamma_sp*((x1-y1)**2+(x2-y2)**2))\n",
    "\n",
    "def rbf_fun_3_variables(x1, x2, x3, y1, y2, y3):\n",
    "    return sp.exp(-gamma_sp*((x1-y1)**2+(x2-y2)**2+(x3-y3)**2))"
   ]
  },
  {
   "cell_type": "code",
   "execution_count": 31,
   "metadata": {},
   "outputs": [],
   "source": [
    "#k = rbf_sp_fun\n",
    "#k = rbf_fun_3_variables\n",
    "k = sp.symbols('k', cls=sp.Function)\n",
    "pqk_fun =  k(O1(x), O2(x), O3(x), O1(y), O2(y), O3(y))\n",
    "pqk_fun_dx = sp.diff(pqk_fun, x)\n",
    "pqk_fun_dxdx = sp.diff(pqk_fun_dx, x)"
   ]
  },
  {
   "cell_type": "code",
   "execution_count": 32,
   "metadata": {},
   "outputs": [],
   "source": [
    "#print(get_num_expr_3(everything_dx, x,y, gamma_sp).simplify())"
   ]
  },
  {
   "cell_type": "code",
   "execution_count": 33,
   "metadata": {},
   "outputs": [],
   "source": [
    "#print(get_num_expr_3(everything_dxdx, x,y, gamma_sp).simplify())"
   ]
  },
  {
   "cell_type": "code",
   "execution_count": 34,
   "metadata": {},
   "outputs": [
    {
     "data": {
      "text/plain": [
       "(Derivative(O_1(x), x)**2*Derivative(k(O_1(x), O_2(x), O_3(x), O_1(y), O_2(y), O_3(y)), (O_1(x), 2)),\n",
       " Derivative(O_2(x), x)**2*Derivative(k(O_1(x), O_2(x), O_3(x), O_1(y), O_2(y), O_3(y)), (O_2(x), 2)),\n",
       " Derivative(O_3(x), x)**2*Derivative(k(O_1(x), O_2(x), O_3(x), O_1(y), O_2(y), O_3(y)), (O_3(x), 2)),\n",
       " Derivative(O_1(x), (x, 2))*Derivative(k(O_1(x), O_2(x), O_3(x), O_1(y), O_2(y), O_3(y)), O_1(x)),\n",
       " Derivative(O_2(x), (x, 2))*Derivative(k(O_1(x), O_2(x), O_3(x), O_1(y), O_2(y), O_3(y)), O_2(x)),\n",
       " Derivative(O_3(x), (x, 2))*Derivative(k(O_1(x), O_2(x), O_3(x), O_1(y), O_2(y), O_3(y)), O_3(x)),\n",
       " 2*Derivative(O_1(x), x)*Derivative(O_2(x), x)*Derivative(k(O_1(x), O_2(x), O_3(x), O_1(y), O_2(y), O_3(y)), O_1(x), O_2(x)),\n",
       " 2*Derivative(O_1(x), x)*Derivative(O_3(x), x)*Derivative(k(O_1(x), O_2(x), O_3(x), O_1(y), O_2(y), O_3(y)), O_1(x), O_3(x)),\n",
       " 2*Derivative(O_2(x), x)*Derivative(O_3(x), x)*Derivative(k(O_1(x), O_2(x), O_3(x), O_1(y), O_2(y), O_3(y)), O_2(x), O_3(x)))"
      ]
     },
     "execution_count": 34,
     "metadata": {},
     "output_type": "execute_result"
    }
   ],
   "source": [
    "((k(O1(x), O2(x), O3(x),  O1(y), O2(y), O3(y))).diff(x, 2)).simplify().args"
   ]
  },
  {
   "cell_type": "code",
   "execution_count": 35,
   "metadata": {},
   "outputs": [],
   "source": [
    "first_part = ((k(O1(x), O2(x), O3(x),  O1(y), O2(y), O3(y))).diff(x, 2)).simplify().args[:3]\n",
    "second_part = ((k(O1(x), O2(x), O3(x),  O1(y), O2(y), O3(y))).diff(x, 2)).simplify().args[3:6]\n",
    "mixed_part = ((k(O1(x), O2(x), O3(x),  O1(y), O2(y), O3(y))).diff(x, 2)).simplify().args[6:9]\n",
    "everything_dx = (k(O1(x), O2(x), O3(x),  O1(y), O2(y), O3(y)).diff(x)).simplify()\n",
    "everything_dxdx = (k(O1(x), O2(x), O3(x),  O1(y), O2(y), O3(y)).diff(x, 2)).simplify()"
   ]
  },
  {
   "cell_type": "code",
   "execution_count": 36,
   "metadata": {},
   "outputs": [
    {
     "data": {
      "text/latex": [
       "$\\displaystyle e^{- \\gamma \\left(\\left(x_{1} - y_{1}\\right)^{2} + \\left(x_{2} - y_{2}\\right)^{2}\\right)}$"
      ],
      "text/plain": [
       "exp(-gamma*((x_1 - y_1)**2 + (x_2 - y_2)**2))"
      ]
     },
     "execution_count": 36,
     "metadata": {},
     "output_type": "execute_result"
    }
   ],
   "source": [
    "rbf_sp"
   ]
  },
  {
   "cell_type": "code",
   "execution_count": 37,
   "metadata": {},
   "outputs": [],
   "source": [
    "def get_num_expr(expr, x, y, gamma):\n",
    "    new_expr = expr.subs(k(O2(x), O3(x), O2(y), O3(y)), rbf_sp).subs({x1:O2(x), x2:O3(x), y1:O2(y), y2:O3(y)}).doit().subs({O2:O2_, O3:O3_}).doit().subs({gamma_sp: gamma}).simplify()\n",
    "    return new_expr\n",
    "def get_num_expr_3(expr, x, y, gamma):\n",
    "    new_expr = expr.subs(k(O1(x), O2(x), O3(x), O1(y), O2(y), O3(y)), rbf_sp3).subs({x1:O1(x), x2: O2(x), x3:O3(x), y1:O1(y), y2:O2(y), y3:O3(y)}).doit().subs({gamma_sp: gamma}).subs({O1(x):0, O1(y):0, O2(x):m_sin(x), O2(y):m_sin(y), O3(x):sp.cos(x), O3(y):sp.cos(y)}).doit()\n",
    "    return new_expr\n",
    "#sp_K_PQK_dxdx = everything.subs(k(O1(x), O2(x), O3(x), O1(y), O2(y), O3(y)), rbf_sp3).subs({x1:O1(x), x2:O2(x), x3:O3(x),  y1:O1(y), y2:O2(y), y3:O3(y) }).doit().subs({O1(x):0, O2:O2_, O3:O3_}).doit().subs({gamma_sp: gamma}).simplify()\n",
    "sp_K_PQK_dxdx = get_num_expr_3(everything_dxdx, x, y, gamma)\n",
    "first_part_num = [get_num_expr_3(first_part[0], x, y, gamma), get_num_expr_3(first_part[1], x, y, gamma), get_num_expr_3(first_part[2], x, y, gamma)]\n",
    "second_part_num = [get_num_expr_3(second_part[0], x, y, gamma), get_num_expr_3(second_part[1], x, y, gamma), get_num_expr_3(second_part[2], x, y, gamma)]\n",
    "mixed_part_num = [get_num_expr_3(mixed_part[0], x, y, gamma), get_num_expr_3(mixed_part[1], x, y, gamma), get_num_expr_3(mixed_part[2], x, y, gamma)]"
   ]
  },
  {
   "cell_type": "code",
   "execution_count": 38,
   "metadata": {},
   "outputs": [
    {
     "data": {
      "text/plain": [
       "[0,\n",
       " 1.0*(1.0*(-sin(x) + sin(y))**2 - 1)*exp(-0.5*(-sin(x) + sin(y))**2 - 0.5*(cos(x) - cos(y))**2)*cos(x)**2,\n",
       " 1.0*(1.0*(cos(x) - cos(y))**2 - 1)*exp(-0.5*(-sin(x) + sin(y))**2 - 0.5*(cos(x) - cos(y))**2)*sin(x)**2]"
      ]
     },
     "execution_count": 38,
     "metadata": {},
     "output_type": "execute_result"
    }
   ],
   "source": [
    "first_part_num"
   ]
  },
  {
   "cell_type": "code",
   "execution_count": 39,
   "metadata": {},
   "outputs": [
    {
     "data": {
      "text/plain": [
       "[0,\n",
       " -0.5*(-2*sin(x) + 2*sin(y))*exp(-0.5*(-sin(x) + sin(y))**2 - 0.5*(cos(x) - cos(y))**2)*sin(x),\n",
       " 0.5*(2*cos(x) - 2*cos(y))*exp(-0.5*(-sin(x) + sin(y))**2 - 0.5*(cos(x) - cos(y))**2)*cos(x)]"
      ]
     },
     "execution_count": 39,
     "metadata": {},
     "output_type": "execute_result"
    }
   ],
   "source": [
    "second_part_num"
   ]
  },
  {
   "cell_type": "code",
   "execution_count": 40,
   "metadata": {},
   "outputs": [
    {
     "data": {
      "text/plain": [
       "[0,\n",
       " 0,\n",
       " 2.0*(-sin(x) + sin(y))*(cos(x) - cos(y))*exp(-0.5*(-sin(x) + sin(y))**2 - 0.5*(cos(x) - cos(y))**2)*sin(x)*cos(x)]"
      ]
     },
     "execution_count": 40,
     "metadata": {},
     "output_type": "execute_result"
    }
   ],
   "source": [
    "mixed_part_num"
   ]
  },
  {
   "cell_type": "code",
   "execution_count": 41,
   "metadata": {},
   "outputs": [],
   "source": [
    "def K_separable_rx_PQK_(X,Y, gamma):\n",
    "    gram_matrix = np.zeros((len(X), len(Y)))    \n",
    "    for i in range(len(X)):\n",
    "        for j in range(len(Y)):\n",
    "            gram_matrix[i,j] = np.exp(-gamma*(2-2*np.cos(X[i]-Y[j])))\n",
    "    return gram_matrix\n",
    "\n",
    "def K_separable_rx_PQK_dx(X,Y, gamma):\n",
    "    #-2*gamma*exp(-gamma*(2 - 2*cos(x - y)))*sin(x - y)\n",
    "\n",
    "    gram_matrix = np.zeros((len(X), len(Y)))    \n",
    "    for i in range(len(X)):\n",
    "        for j in range(len(Y)):\n",
    "            gram_matrix[i,j] = -2*gamma*np.exp(-gamma*(2-2*np.cos(X[i]-Y[j])))*np.sin(X[i]-Y[j])\n",
    "    return gram_matrix \n",
    "\n",
    "def K_separable_rx_PQK_dxdx(X,Y, gamma):\n",
    "    #4*gamma**2*exp(-gamma*(2 - 2*cos(x - y)))*sin(x - y)**2 - 2*gamma*exp(-gamma*(2 - 2*cos(x - y)))*cos(x - y)\n",
    "    #2*gamma*(2*gamma*sin(x)**2 - 4*gamma*sin(x)*sin(y)*cos(x - y) + 2*gamma*sin(y)**2 - cos(x - y))*exp(-gamma*(2 - 2*cos(x - y)))\n",
    "    gram_matrix = np.zeros((len(X), len(Y)))    \n",
    "    for i in range(len(X)):\n",
    "        for j in range(len(Y)):\n",
    "            gram_matrix[i,j] = 2*gamma*(2*gamma*np.sin(X[i])**2 - 4*gamma*np.sin(X[i])*np.sin(Y[j])*np.cos(X[i]-Y[j]) + 2*gamma*np.sin(Y[j])**2 - np.cos(X[i]-Y[j]))*np.exp(-gamma*(2-2*np.cos(X[i]-Y[j])))\n",
    "    return gram_matrix \n",
    "\n"
   ]
  },
  {
   "cell_type": "code",
   "execution_count": 42,
   "metadata": {},
   "outputs": [],
   "source": [
    "from squlearn.kernel.matrix import ProjectedQuantumKernel"
   ]
  },
  {
   "cell_type": "code",
   "execution_count": 43,
   "metadata": {},
   "outputs": [],
   "source": [
    "pqk_squlearn = ProjectedQuantumKernel(Separable_rx(num_qubits=1, num_layers=1), executor=Executor(\"pennylane\"), gamma=gamma)"
   ]
  },
  {
   "cell_type": "code",
   "execution_count": 44,
   "metadata": {},
   "outputs": [
    {
     "data": {
      "text/plain": [
       "array([[1.        , 0.88050868],\n",
       "       [0.88050868, 1.        ]])"
      ]
     },
     "execution_count": 44,
     "metadata": {},
     "output_type": "execute_result"
    }
   ],
   "source": [
    "pqk_squlearn.evaluate(X, X)"
   ]
  },
  {
   "cell_type": "code",
   "execution_count": 45,
   "metadata": {},
   "outputs": [
    {
     "data": {
      "text/plain": [
       "array([[1.        , 0.88050868],\n",
       "       [0.88050868, 1.        ]])"
      ]
     },
     "execution_count": 45,
     "metadata": {},
     "output_type": "execute_result"
    }
   ],
   "source": [
    "K_separable_rx_PQK_(X,X, gamma)"
   ]
  },
  {
   "cell_type": "code",
   "execution_count": 46,
   "metadata": {},
   "outputs": [
    {
     "data": {
      "text/plain": [
       "array([[1.        , 0.88050868],\n",
       "       [0.88050868, 1.        ]])"
      ]
     },
     "execution_count": 46,
     "metadata": {},
     "output_type": "execute_result"
    }
   ],
   "source": [
    "K_f"
   ]
  },
  {
   "cell_type": "code",
   "execution_count": 47,
   "metadata": {},
   "outputs": [
    {
     "data": {
      "text/plain": [
       "array([[-0.       , -0.4298443],\n",
       "       [ 0.4298443, -0.       ]])"
      ]
     },
     "execution_count": 47,
     "metadata": {},
     "output_type": "execute_result"
    }
   ],
   "source": [
    "K_separable_rx_PQK_dx(X,X,gamma)"
   ]
  },
  {
   "cell_type": "code",
   "execution_count": 48,
   "metadata": {},
   "outputs": [
    {
     "data": {
      "text/plain": [
       "array([[ 0.       , -0.4298443],\n",
       "       [ 0.4298443,  0.       ]])"
      ]
     },
     "execution_count": 48,
     "metadata": {},
     "output_type": "execute_result"
    }
   ],
   "source": [
    "K_dfdx"
   ]
  },
  {
   "cell_type": "code",
   "execution_count": 49,
   "metadata": {},
   "outputs": [
    {
     "data": {
      "text/plain": [
       "array([[-1.        , -0.55861891],\n",
       "       [-0.55861891, -1.        ]])"
      ]
     },
     "execution_count": 49,
     "metadata": {},
     "output_type": "execute_result"
    }
   ],
   "source": [
    "K_separable_rx_PQK_dxdx(X,X,gamma)"
   ]
  },
  {
   "cell_type": "code",
   "execution_count": 50,
   "metadata": {},
   "outputs": [
    {
     "data": {
      "text/plain": [
       "array([[-1.        , -0.55861891],\n",
       "       [-0.55861891, -1.        ]])"
      ]
     },
     "execution_count": 50,
     "metadata": {},
     "output_type": "execute_result"
    }
   ],
   "source": [
    "K_dfdxdx"
   ]
  },
  {
   "cell_type": "code",
   "execution_count": 51,
   "metadata": {},
   "outputs": [
    {
     "name": "stdout",
     "output_type": "stream",
     "text": [
      "first part -0.695660270348201\n",
      "first part -0.663877618895062\n"
     ]
    }
   ],
   "source": [
    "print(\"first part\", first_part_num[0].subs({x: X[1], y: X[0]}) + first_part_num[1].subs({x: X[1], y: X[0]})+ first_part_num[2].subs({x: X[1], y: X[0]}))\n",
    "print(\"first part\", first_part_num[0].subs({x: X[0], y: X[1]}) + first_part_num[1].subs({x: X[0], y: X[1]})+ first_part_num[2].subs({x: X[0], y: X[1]}))\n"
   ]
  },
  {
   "cell_type": "code",
   "execution_count": 52,
   "metadata": {},
   "outputs": [
    {
     "name": "stdout",
     "output_type": "stream",
     "text": [
      "second part 0.112049565674586\n",
      "second part 0.112049565674586\n"
     ]
    }
   ],
   "source": [
    "print(\"second part\", second_part_num[0].subs({x: X[1], y: X[0]}) + second_part_num[1].subs({x: X[1], y: X[0]})+ second_part_num[2].subs({x: X[1], y: X[0]}))\n",
    "print(\"second part\", second_part_num[0].subs({x: X[0], y: X[1]}) + second_part_num[1].subs({x: X[0], y: X[1]})+ second_part_num[2].subs({x: X[0], y: X[1]}))\n"
   ]
  },
  {
   "cell_type": "code",
   "execution_count": null,
   "metadata": {},
   "outputs": [],
   "source": []
  },
  {
   "cell_type": "code",
   "execution_count": 53,
   "metadata": {},
   "outputs": [
    {
     "name": "stdout",
     "output_type": "stream",
     "text": [
      "mixed part -0.00679085302453363\n",
      "mixed part 0 0 0.0249917984286051\n"
     ]
    }
   ],
   "source": [
    "print(\"mixed part\", mixed_part_num[0].subs({x: X[0], y: X[1]})+ mixed_part_num[1].subs({x: X[0], y: X[1]})+ mixed_part_num[2].subs({x: X[0], y: X[1]}))\n",
    "print(\"mixed part\", mixed_part_num[0].subs({x: X[1], y: X[0]}), mixed_part_num[1].subs({x: X[1], y: X[0]}), mixed_part_num[2].subs({x: X[1], y: X[0]}))"
   ]
  },
  {
   "cell_type": "code",
   "execution_count": 54,
   "metadata": {},
   "outputs": [
    {
     "name": "stdout",
     "output_type": "stream",
     "text": [
      "0.174942922842599\n",
      "-0.0628933571680127\n"
     ]
    },
    {
     "data": {
      "text/plain": [
       "(None, None)"
      ]
     },
     "execution_count": 54,
     "metadata": {},
     "output_type": "execute_result"
    }
   ],
   "source": [
    "print(second_part_num[1].subs({x: X[1], y: X[0]}).evalf()), print(second_part_num[2].subs({x: X[1], y: X[0]}).evalf())"
   ]
  },
  {
   "cell_type": "code",
   "execution_count": 55,
   "metadata": {},
   "outputs": [
    {
     "name": "stdout",
     "output_type": "stream",
     "text": [
      "first part -0.663877618895062\n",
      "second part 0.112049565674586\n",
      "mixed part -0.00679085302453363\n",
      "total -0.558618906245010\n"
     ]
    }
   ],
   "source": [
    "print(\"first part\", first_part_num[0].subs({x: X[0], y: X[1]}) + first_part_num[1].subs({x: X[0], y: X[1]})+ first_part_num[2].subs({x: X[0], y: X[1]}))\n",
    "print(\"second part\", second_part_num[0].subs({x: X[0], y: X[1]}) + second_part_num[1].subs({x: X[0], y: X[1]})+ second_part_num[2].subs({x: X[0], y: X[1]}))\n",
    "print(\"mixed part\", mixed_part_num[0].subs({x: X[0], y: X[1]})+ mixed_part_num[1].subs({x: X[0], y: X[1]})+ mixed_part_num[2].subs({x: X[0], y: X[1]}))\n",
    "print(\"total\", first_part_num[0].subs({x: X[0], y: X[1]}) + first_part_num[1].subs({x: X[0], y: X[1]})+ first_part_num[2].subs({x: X[0], y: X[1]}) + second_part_num[0].subs({x: X[1], y: X[0]}) + second_part_num[1].subs({x: X[1], y: X[0]})+ second_part_num[2].subs({x: X[1], y: X[0]}) + mixed_part_num[0].subs({x: X[0], y: X[1]})+ mixed_part_num[1].subs({x: X[0], y: X[1]})+ mixed_part_num[2].subs({x: X[0], y: X[1]}))"
   ]
  },
  {
   "cell_type": "code",
   "execution_count": 56,
   "metadata": {},
   "outputs": [
    {
     "name": "stdout",
     "output_type": "stream",
     "text": [
      "total -0.558618906245010\n",
      "total -0.558618906245010\n"
     ]
    }
   ],
   "source": [
    "print(\"total\", first_part_num[0].subs({x: X[0], y: X[1]}) + first_part_num[1].subs({x: X[0], y: X[1]})+ first_part_num[2].subs({x: X[0], y: X[1]}) + second_part_num[0].subs({x: X[0], y: X[1]}) + second_part_num[1].subs({x: X[0], y: X[1]})+ second_part_num[2].subs({x: X[0], y: X[1]}) + mixed_part_num[0].subs({x: X[0], y: X[1]})+ mixed_part_num[1].subs({x: X[0], y: X[1]})+ mixed_part_num[2].subs({x: X[0], y: X[1]}))\n",
    "print(\"total\", first_part_num[0].subs({x: X[1], y: X[0]}) + first_part_num[1].subs({x: X[1], y: X[0]})+ first_part_num[2].subs({x: X[1], y: X[0]}) + second_part_num[0].subs({x: X[1], y: X[0]}) + second_part_num[1].subs({x: X[1], y: X[0]})+ second_part_num[2].subs({x: X[1], y: X[0]}) + mixed_part_num[0].subs({x: X[1], y: X[0]})+ mixed_part_num[1].subs({x: X[1], y: X[0]})+ mixed_part_num[2].subs({x: X[1], y: X[0]}))"
   ]
  },
  {
   "cell_type": "code",
   "execution_count": 57,
   "metadata": {},
   "outputs": [],
   "source": [
    "#first part [[-1.         -0.69566027]\n",
    "# [-0.66387762 -1.        ]]\n",
    "#second part [[ 0.         -0.11204957]\n",
    "# [-0.11204957  0.        ]]\n",
    "#mixed part [[0. 0.]\n",
    "# [0. 0.]]"
   ]
  },
  {
   "cell_type": "code",
   "execution_count": 58,
   "metadata": {},
   "outputs": [
    {
     "data": {
      "text/latex": [
       "$\\displaystyle -0.55861890624501$"
      ],
      "text/plain": [
       "-0.558618906245010"
      ]
     },
     "execution_count": 58,
     "metadata": {},
     "output_type": "execute_result"
    }
   ],
   "source": [
    "sp_K_PQK_dxdx.subs({x: X[0], y: X[1]}) "
   ]
  },
  {
   "cell_type": "code",
   "execution_count": 59,
   "metadata": {},
   "outputs": [
    {
     "data": {
      "text/latex": [
       "$\\displaystyle \\frac{\\partial^{2}}{\\partial O_{1}{\\left(x \\right)}^{2}} k{\\left(O_{1}{\\left(x \\right)},O_{2}{\\left(x \\right)},O_{3}{\\left(x \\right)},O_{1}{\\left(y \\right)},O_{2}{\\left(y \\right)},O_{3}{\\left(y \\right)} \\right)}$"
      ],
      "text/plain": [
       "Derivative(k(O_1(x), O_2(x), O_3(x), O_1(y), O_2(y), O_3(y)), (O_1(x), 2))"
      ]
     },
     "execution_count": 59,
     "metadata": {},
     "output_type": "execute_result"
    }
   ],
   "source": [
    "first_part[0].args[1]"
   ]
  },
  {
   "cell_type": "code",
   "execution_count": 60,
   "metadata": {},
   "outputs": [
    {
     "data": {
      "text/latex": [
       "$\\displaystyle \\frac{\\partial^{2}}{\\partial O_{3}{\\left(x \\right)}^{2}} k{\\left(O_{1}{\\left(x \\right)},O_{2}{\\left(x \\right)},O_{3}{\\left(x \\right)},O_{1}{\\left(y \\right)},O_{2}{\\left(y \\right)},O_{3}{\\left(y \\right)} \\right)}$"
      ],
      "text/plain": [
       "Derivative(k(O_1(x), O_2(x), O_3(x), O_1(y), O_2(y), O_3(y)), (O_3(x), 2))"
      ]
     },
     "execution_count": 60,
     "metadata": {},
     "output_type": "execute_result"
    }
   ],
   "source": [
    "first_part[2].args[1]"
   ]
  },
  {
   "cell_type": "code",
   "execution_count": 61,
   "metadata": {},
   "outputs": [
    {
     "data": {
      "text/plain": [
       "(Derivative(O_1(x), x)**2*Derivative(k(O_1(x), O_2(x), O_3(x), O_1(y), O_2(y), O_3(y)), (O_1(x), 2)),\n",
       " Derivative(O_2(x), x)**2*Derivative(k(O_1(x), O_2(x), O_3(x), O_1(y), O_2(y), O_3(y)), (O_2(x), 2)),\n",
       " Derivative(O_3(x), x)**2*Derivative(k(O_1(x), O_2(x), O_3(x), O_1(y), O_2(y), O_3(y)), (O_3(x), 2)))"
      ]
     },
     "execution_count": 61,
     "metadata": {},
     "output_type": "execute_result"
    }
   ],
   "source": [
    "first_part"
   ]
  },
  {
   "cell_type": "code",
   "execution_count": 62,
   "metadata": {},
   "outputs": [
    {
     "data": {
      "text/plain": [
       "array([[[-1.        , -1.        , -1.        ],\n",
       "        [-0.88050868, -0.66175055, -0.87516768]],\n",
       "\n",
       "       [[-0.88050868, -0.66175055, -0.87516768],\n",
       "        [-1.        , -1.        , -1.        ]]])"
      ]
     },
     "execution_count": 62,
     "metadata": {},
     "output_type": "execute_result"
    }
   ],
   "source": [
    "dummy_matrix = np.zeros((2,2, 3))\n",
    "for l in range(3):\n",
    "    for i in range(2):\n",
    "        for j in range(2):\n",
    "            dummy_matrix[i,j,l] = get_num_expr_3(first_part[l].args[1], x, y, gamma).subs({x: X[i], y: X[j]})\n",
    "dummy_matrix #Works OK"
   ]
  },
  {
   "cell_type": "code",
   "execution_count": 63,
   "metadata": {},
   "outputs": [
    {
     "data": {
      "text/latex": [
       "$\\displaystyle \\left(\\frac{d}{d x} O_{3}{\\left(x \\right)}\\right)^{2} \\frac{\\partial^{2}}{\\partial O_{3}{\\left(x \\right)}^{2}} k{\\left(O_{1}{\\left(x \\right)},O_{2}{\\left(x \\right)},O_{3}{\\left(x \\right)},O_{1}{\\left(y \\right)},O_{2}{\\left(y \\right)},O_{3}{\\left(y \\right)} \\right)}$"
      ],
      "text/plain": [
       "Derivative(O_3(x), x)**2*Derivative(k(O_1(x), O_2(x), O_3(x), O_1(y), O_2(y), O_3(y)), (O_3(x), 2))"
      ]
     },
     "execution_count": 63,
     "metadata": {},
     "output_type": "execute_result"
    }
   ],
   "source": [
    "first_part[2]"
   ]
  },
  {
   "cell_type": "code",
   "execution_count": 64,
   "metadata": {},
   "outputs": [],
   "source": [
    "dummy_matrix = np.zeros((2,3))\n",
    "for l in range(3):\n",
    "    for i in range(2):\n",
    "        dummy_matrix #Works OK"
   ]
  },
  {
   "cell_type": "code",
   "execution_count": 65,
   "metadata": {},
   "outputs": [
    {
     "data": {
      "text/latex": [
       "$\\displaystyle \\frac{\\partial^{2}}{\\partial O_{3}{\\left(x \\right)}^{2}} k{\\left(O_{1}{\\left(x \\right)},O_{2}{\\left(x \\right)},O_{3}{\\left(x \\right)},O_{1}{\\left(y \\right)},O_{2}{\\left(y \\right)},O_{3}{\\left(y \\right)} \\right)}$"
      ],
      "text/plain": [
       "Derivative(k(O_1(x), O_2(x), O_3(x), O_1(y), O_2(y), O_3(y)), (O_3(x), 2))"
      ]
     },
     "execution_count": 65,
     "metadata": {},
     "output_type": "execute_result"
    }
   ],
   "source": [
    "first_part[l].args[1]"
   ]
  },
  {
   "cell_type": "code",
   "execution_count": 66,
   "metadata": {},
   "outputs": [
    {
     "data": {
      "text/latex": [
       "$\\displaystyle \\left(\\frac{d}{d x} O_{1}{\\left(x \\right)}\\right)^{2}$"
      ],
      "text/plain": [
       "Derivative(O_1(x), x)**2"
      ]
     },
     "execution_count": 66,
     "metadata": {},
     "output_type": "execute_result"
    }
   ],
   "source": [
    "first_part[0].args[0] #Works OK"
   ]
  },
  {
   "cell_type": "code",
   "execution_count": 67,
   "metadata": {},
   "outputs": [
    {
     "data": {
      "text/latex": [
       "$\\displaystyle \\frac{\\partial}{\\partial O_{3}{\\left(x \\right)}} k{\\left(O_{1}{\\left(x \\right)},O_{2}{\\left(x \\right)},O_{3}{\\left(x \\right)},O_{1}{\\left(y \\right)},O_{2}{\\left(y \\right)},O_{3}{\\left(y \\right)} \\right)}$"
      ],
      "text/plain": [
       "Derivative(k(O_1(x), O_2(x), O_3(x), O_1(y), O_2(y), O_3(y)), O_3(x))"
      ]
     },
     "execution_count": 67,
     "metadata": {},
     "output_type": "execute_result"
    }
   ],
   "source": [
    "second_part[l].args[1]"
   ]
  },
  {
   "cell_type": "code",
   "execution_count": 68,
   "metadata": {},
   "outputs": [
    {
     "data": {
      "text/latex": [
       "$\\displaystyle \\frac{\\partial^{2}}{\\partial O_{1}{\\left(x \\right)}^{2}} k{\\left(O_{1}{\\left(x \\right)},O_{2}{\\left(x \\right)},O_{3}{\\left(x \\right)},O_{1}{\\left(y \\right)},O_{2}{\\left(y \\right)},O_{3}{\\left(y \\right)} \\right)}$"
      ],
      "text/plain": [
       "Derivative(k(O_1(x), O_2(x), O_3(x), O_1(y), O_2(y), O_3(y)), (O_1(x), 2))"
      ]
     },
     "execution_count": 68,
     "metadata": {},
     "output_type": "execute_result"
    }
   ],
   "source": [
    "first_part[0].args[1]"
   ]
  },
  {
   "cell_type": "code",
   "execution_count": 69,
   "metadata": {},
   "outputs": [
    {
     "data": {
      "text/latex": [
       "$\\displaystyle 2 \\frac{d}{d x} O_{2}{\\left(x \\right)} \\frac{d}{d x} O_{3}{\\left(x \\right)} \\frac{\\partial^{2}}{\\partial O_{3}{\\left(x \\right)}\\partial O_{2}{\\left(x \\right)}} k{\\left(O_{1}{\\left(x \\right)},O_{2}{\\left(x \\right)},O_{3}{\\left(x \\right)},O_{1}{\\left(y \\right)},O_{2}{\\left(y \\right)},O_{3}{\\left(y \\right)} \\right)}$"
      ],
      "text/plain": [
       "2*Derivative(O_2(x), x)*Derivative(O_3(x), x)*Derivative(k(O_1(x), O_2(x), O_3(x), O_1(y), O_2(y), O_3(y)), O_2(x), O_3(x))"
      ]
     },
     "execution_count": 69,
     "metadata": {},
     "output_type": "execute_result"
    }
   ],
   "source": [
    "mixed_part[2]"
   ]
  },
  {
   "cell_type": "code",
   "execution_count": 70,
   "metadata": {},
   "outputs": [
    {
     "name": "stdout",
     "output_type": "stream",
     "text": [
      "dKdO analytical derivative [[[ 0.          0.          0.        ]\n",
      "  [ 0.          0.43888316 -0.06857696]]\n",
      "\n",
      " [[ 0.         -0.43888316  0.06857696]\n",
      "  [ 0.          0.          0.        ]]]\n"
     ]
    }
   ],
   "source": [
    "analytical_derivative_dummy = np.zeros((2,2, 3))\n",
    "analytical_derivative_dummy_2 = np.zeros((2,2, 3))\n",
    "for l in range(3):\n",
    "    for i in range(2):\n",
    "        for j in range(2):\n",
    "            analytical_derivative_dummy[i,j,l] = get_num_expr_3(second_part[l].args[1], x, y, gamma).subs({x: X[i], y: X[j]})\n",
    "            analytical_derivative_dummy_2[i,j,l] = get_num_expr_3(first_part[l].args[1], x, y, gamma).subs({x: X[i], y: X[j]})\n",
    "\n",
    "print(\"dKdO analytical derivative\", analytical_derivative_dummy)\n",
    "#print(\"dKdOdO analytical derivative 2\", analytical_derivative_dummy_2)"
   ]
  },
  {
   "cell_type": "code",
   "execution_count": 71,
   "metadata": {},
   "outputs": [
    {
     "data": {
      "text/latex": [
       "$\\displaystyle \\frac{\\partial^{2}}{\\partial O_{3}{\\left(x \\right)}\\partial O_{1}{\\left(x \\right)}} k{\\left(O_{1}{\\left(x \\right)},O_{2}{\\left(x \\right)},O_{3}{\\left(x \\right)},O_{1}{\\left(y \\right)},O_{2}{\\left(y \\right)},O_{3}{\\left(y \\right)} \\right)}$"
      ],
      "text/plain": [
       "Derivative(k(O_1(x), O_2(x), O_3(x), O_1(y), O_2(y), O_3(y)), O_1(x), O_3(x))"
      ]
     },
     "execution_count": 71,
     "metadata": {},
     "output_type": "execute_result"
    }
   ],
   "source": [
    "mixed_part[1].args[3]"
   ]
  },
  {
   "cell_type": "code",
   "execution_count": null,
   "metadata": {},
   "outputs": [],
   "source": []
  },
  {
   "cell_type": "code",
   "execution_count": 72,
   "metadata": {},
   "outputs": [
    {
     "name": "stdout",
     "output_type": "stream",
     "text": [
      "dKdO analytical derivative dxdy [[[[-1.          0.          0.        ]\n",
      "   [ 0.         -1.          0.        ]\n",
      "   [ 0.          0.         -1.        ]]\n",
      "\n",
      "  [[-0.88050868  0.          0.        ]\n",
      "   [ 0.         -0.66175055 -0.03418169]\n",
      "   [ 0.         -0.03418169 -0.87516768]]]\n",
      "\n",
      "\n",
      " [[[-0.88050868  0.          0.        ]\n",
      "   [ 0.         -0.66175055 -0.03418169]\n",
      "   [ 0.         -0.03418169 -0.87516768]]\n",
      "\n",
      "  [[-1.          0.          0.        ]\n",
      "   [ 0.         -1.          0.        ]\n",
      "   [ 0.          0.         -1.        ]]]]\n"
     ]
    }
   ],
   "source": [
    "analytical_derivative_dummy_dxdy = np.zeros((2,2, 3, 3))\n",
    "vec = [O1(x), O2(x), O3(x)]\n",
    "f = k(O1(x), O2(x), O3(x), O1(y), O2(y), O3(y))\n",
    "\n",
    "for p in range(3):\n",
    "    for l in range(3):\n",
    "        for i in range(2):\n",
    "            for j in range(2):\n",
    "                analytical_derivative_dummy_dxdy[i,j,l, p] = get_num_expr_3(f.diff(vec[p]).diff(vec[l]), x, y, gamma).subs({x: X[i], y: X[j]})\n",
    "                #analytical_derivative_dummy_dxdy[i,j,l] = get_num_expr_3(mixed_part[l].args[3], x, y, gamma).subs({x: X[i], y: X[j]})\n",
    "\n",
    "print(\"dKdO analytical derivative dxdy\", analytical_derivative_dummy_dxdy)\n",
    "#print(\"dKdOdO analytical derivative 2\", analytical_derivative_dummy_2)"
   ]
  },
  {
   "cell_type": "code",
   "execution_count": 73,
   "metadata": {},
   "outputs": [
    {
     "data": {
      "text/plain": [
       "array([[ 0.        , -0.03418169],\n",
       "       [-0.03418169,  0.        ]])"
      ]
     },
     "execution_count": 73,
     "metadata": {},
     "output_type": "execute_result"
    }
   ],
   "source": [
    "analytical_derivative_dummy_dxdy[:,:, 1, 2]"
   ]
  },
  {
   "cell_type": "code",
   "execution_count": 74,
   "metadata": {},
   "outputs": [
    {
     "name": "stdout",
     "output_type": "stream",
     "text": [
      "[[ 0.         -0.09983342  0.99500417]\n",
      " [ 0.          0.39860933  0.91712082]] \n",
      "\n"
     ]
    }
   ],
   "source": [
    "O_vector_dummy = np.zeros((2, 3))\n",
    "dOdx_dummy = np.zeros((2, 3))\n",
    "dOdxdx_dummy = np.zeros((2, 3))\n",
    "vecdx = [O1(x).diff(x), O2(x).diff(x), O3(x).diff(x)]\n",
    "\n",
    "for l in range(3):\n",
    "    for i in range(2):\n",
    "        O_vector_dummy[i,l] = get_num_expr_3(vec[l], x, y, gamma).subs({x: X[i]}, y=X[0])\n",
    "        dOdx_dummy[i,l] = get_num_expr_3(vecdx[l], x, y, gamma).subs({x: X[i]}, y=X[0])\n",
    "        dOdxdx_dummy[i,l] = get_num_expr_3(second_part[l].args[0], x, y, gamma).subs({x: X[i]}, y=X[0])\n",
    "\n",
    "print(O_vector_dummy,\"\\n\")\n",
    "#print(dOdx_dummy,\"\\n\")\n",
    "#print(dOdxdx_dummy,\"\\n\")"
   ]
  },
  {
   "cell_type": "code",
   "execution_count": 75,
   "metadata": {},
   "outputs": [
    {
     "data": {
      "text/plain": [
       "array([[ 0.        , -0.09983342,  0.99500417],\n",
       "       [ 0.        ,  0.39860933,  0.91712082]])"
      ]
     },
     "execution_count": 75,
     "metadata": {},
     "output_type": "execute_result"
    }
   ],
   "source": [
    "O_vector_dummy[:]"
   ]
  },
  {
   "cell_type": "code",
   "execution_count": 76,
   "metadata": {},
   "outputs": [],
   "source": [
    "#mixed part 0.0249917984286051\n",
    "#mixed part -0.00679085302453363"
   ]
  },
  {
   "cell_type": "code",
   "execution_count": 77,
   "metadata": {},
   "outputs": [
    {
     "data": {
      "text/latex": [
       "$\\displaystyle 2 \\frac{d}{d x} O_{1}{\\left(x \\right)} \\frac{d}{d x} O_{2}{\\left(x \\right)} \\frac{\\partial^{2}}{\\partial O_{2}{\\left(x \\right)}\\partial O_{1}{\\left(x \\right)}} k{\\left(O_{1}{\\left(x \\right)},O_{2}{\\left(x \\right)},O_{3}{\\left(x \\right)},O_{1}{\\left(y \\right)},O_{2}{\\left(y \\right)},O_{3}{\\left(y \\right)} \\right)}$"
      ],
      "text/plain": [
       "2*Derivative(O_1(x), x)*Derivative(O_2(x), x)*Derivative(k(O_1(x), O_2(x), O_3(x), O_1(y), O_2(y), O_3(y)), O_1(x), O_2(x))"
      ]
     },
     "execution_count": 77,
     "metadata": {},
     "output_type": "execute_result"
    }
   ],
   "source": [
    "mixed_part[0]"
   ]
  },
  {
   "cell_type": "code",
   "execution_count": 78,
   "metadata": {},
   "outputs": [
    {
     "data": {
      "text/latex": [
       "$\\displaystyle \\frac{d}{d x} O_{3}{\\left(x \\right)}$"
      ],
      "text/plain": [
       "Derivative(O_3(x), x)"
      ]
     },
     "execution_count": 78,
     "metadata": {},
     "output_type": "execute_result"
    }
   ],
   "source": [
    "mixed_part[2].args[2]"
   ]
  },
  {
   "cell_type": "code",
   "execution_count": 79,
   "metadata": {},
   "outputs": [
    {
     "data": {
      "text/plain": [
       "(-0.0341816877187692, -0.0998334166468282, -0.995004165278026)"
      ]
     },
     "execution_count": 79,
     "metadata": {},
     "output_type": "execute_result"
    }
   ],
   "source": [
    "get_num_expr_3(mixed_part[2].args[3], x, y, gamma).subs(x,X[0]).subs(y, X[1]), get_num_expr_3(mixed_part[2].args[2], x, y, gamma).subs(x,X[0]).subs(y, X[1]), get_num_expr_3(mixed_part[2].args[1], x, y, gamma).subs(x,X[0]).subs(y, X[1])"
   ]
  },
  {
   "cell_type": "code",
   "execution_count": 80,
   "metadata": {},
   "outputs": [
    {
     "data": {
      "text/latex": [
       "$\\displaystyle -0.00679085302453363$"
      ],
      "text/plain": [
       "-0.00679085302453363"
      ]
     },
     "execution_count": 80,
     "metadata": {},
     "output_type": "execute_result"
    }
   ],
   "source": [
    "2*get_num_expr_3(mixed_part[2].args[3], x, y, gamma).subs(x,X[0]).subs(y, X[1]) * get_num_expr_3(mixed_part[2].args[2], x, y, gamma).subs(x,X[0]).subs(y, X[1]) * get_num_expr_3(mixed_part[2].args[1], x, y, gamma).subs(x,X[0]).subs(y, X[1])"
   ]
  },
  {
   "cell_type": "code",
   "execution_count": 81,
   "metadata": {},
   "outputs": [
    {
     "name": "stdout",
     "output_type": "stream",
     "text": [
      "[[ 0.          0.0249918 ]\n",
      " [-0.00679085  0.        ]]\n"
     ]
    }
   ],
   "source": [
    "#print(analytical_derivative_dummy_dxdy[:,:, 1, 2]*2*O_vector_dummy[:,1]*O_vector_dummy[:,2])\n",
    "dummy_test = np.zeros((2,2))\n",
    "index_combinations_of_O = list(combinations(range(3), 2))\n",
    "for p, l in index_combinations_of_O:\n",
    "        for i in range(2):\n",
    "            for j in range(2):\n",
    "                #print(analytical_derivative_dummy_dxdy[i,j, p, l], O_vector_dummy[i,p], O_vector_dummy[i,l])\n",
    "                dummy_test[i,j] += analytical_derivative_dummy_dxdy[i,j, l, p]*2*dOdx_dummy[j,p]*dOdx_dummy[j,l]\n",
    "\n",
    "\n",
    "print(dummy_test)"
   ]
  },
  {
   "cell_type": "code",
   "execution_count": 82,
   "metadata": {},
   "outputs": [
    {
     "name": "stdout",
     "output_type": "stream",
     "text": [
      "[0.1, -0.41]\n"
     ]
    }
   ],
   "source": [
    "PQK_qnn = pqk.PQK_QNN()\n",
    "obs_coef = []\n",
    "X = [0.1, -0.41]\n",
    "#X = [-0.41, 0.1]\n",
    "\n",
    "K_f, K_dfdx, K_dfdxdx = pqk.get_PQK_kernel_derivatives(X, PQK_qnn, obs_coef, [1, 2])\n",
    "#The problem is in analytical 2 and mixed term"
   ]
  },
  {
   "cell_type": "code",
   "execution_count": 83,
   "metadata": {},
   "outputs": [
    {
     "name": "stdout",
     "output_type": "stream",
     "text": [
      "first part -0.663877618895062\n",
      "second part 0.112049565674586\n",
      "mixed part -0.00679085302453363\n",
      "total -0.558618906245010\n"
     ]
    }
   ],
   "source": [
    "print(\"first part\", first_part_num[0].subs({x: X[0], y: X[1]}) + first_part_num[1].subs({x: X[0], y: X[1]})+ first_part_num[2].subs({x: X[0], y: X[1]}))\n",
    "print(\"second part\", second_part_num[0].subs({x: X[0], y: X[1]}) + second_part_num[1].subs({x: X[0], y: X[1]})+ second_part_num[2].subs({x: X[0], y: X[1]}))\n",
    "print(\"mixed part\", mixed_part_num[0].subs({x: X[0], y: X[1]})+ mixed_part_num[1].subs({x: X[0], y: X[1]})+ mixed_part_num[2].subs({x: X[0], y: X[1]}))\n",
    "print(\"total\", first_part_num[0].subs({x: X[0], y: X[1]}) + first_part_num[1].subs({x: X[0], y: X[1]})+ first_part_num[2].subs({x: X[0], y: X[1]}) + second_part_num[0].subs({x: X[0], y: X[1]}) + second_part_num[1].subs({x: X[0], y: X[1]})+ second_part_num[2].subs({x: X[0], y: X[1]}) + mixed_part_num[0].subs({x: X[0], y: X[1]})+ mixed_part_num[1].subs({x: X[0], y: X[1]})+ mixed_part_num[2].subs({x: X[0], y: X[1]}))"
   ]
  },
  {
   "cell_type": "code",
   "execution_count": 84,
   "metadata": {},
   "outputs": [
    {
     "name": "stdout",
     "output_type": "stream",
     "text": [
      "first part -0.695660270348201\n",
      "second part 0.112049565674586\n",
      "mixed part 0.0249917984286051\n",
      "total -0.558618906245010\n"
     ]
    }
   ],
   "source": [
    "print(\"first part\", first_part_num[0].subs({x: X[1], y: X[0]}) + first_part_num[1].subs({x: X[1], y: X[0]})+ first_part_num[2].subs({x: X[1], y: X[0]}))\n",
    "print(\"second part\", second_part_num[0].subs({x: X[1], y: X[0]}) + second_part_num[1].subs({x: X[1], y: X[0]})+ second_part_num[2].subs({x: X[1], y: X[0]}))\n",
    "print(\"mixed part\", mixed_part_num[0].subs({x: X[1], y: X[0]}) + mixed_part_num[1].subs({x: X[1], y: X[0]}) + mixed_part_num[2].subs({x: X[1], y: X[0]}))\n",
    "print(\"total\", first_part_num[0].subs({x: X[1], y: X[0]}) + first_part_num[1].subs({x: X[1], y: X[0]})+ first_part_num[2].subs({x: X[1], y: X[0]}) + second_part_num[0].subs({x: X[1], y: X[0]}) + second_part_num[1].subs({x: X[1], y: X[0]})+ second_part_num[2].subs({x: X[1], y: X[0]}) + mixed_part_num[0].subs({x: X[1], y: X[0]})+ mixed_part_num[1].subs({x: X[1], y: X[0]})+ mixed_part_num[2].subs({x: X[1], y: X[0]}))"
   ]
  },
  {
   "cell_type": "code",
   "execution_count": 85,
   "metadata": {},
   "outputs": [
    {
     "data": {
      "text/plain": [
       "array([[-1.        , -0.55861891],\n",
       "       [-0.55861891, -1.        ]])"
      ]
     },
     "execution_count": 85,
     "metadata": {},
     "output_type": "execute_result"
    }
   ],
   "source": [
    "K_dfdxdx"
   ]
  },
  {
   "cell_type": "code",
   "execution_count": null,
   "metadata": {},
   "outputs": [],
   "source": []
  }
 ],
 "metadata": {
  "kernelspec": {
   "display_name": "Python 3",
   "language": "python",
   "name": "python3"
  },
  "language_info": {
   "codemirror_mode": {
    "name": "ipython",
    "version": 3
   },
   "file_extension": ".py",
   "mimetype": "text/x-python",
   "name": "python",
   "nbconvert_exporter": "python",
   "pygments_lexer": "ipython3",
   "version": "3.10.11"
  }
 },
 "nbformat": 4,
 "nbformat_minor": 2
}

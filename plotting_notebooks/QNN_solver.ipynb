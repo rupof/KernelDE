{
 "cells": [
  {
   "cell_type": "code",
   "execution_count": 1,
   "metadata": {},
   "outputs": [],
   "source": [
    "import sys\n",
    "sys.path.append(\"..\")"
   ]
  },
  {
   "cell_type": "code",
   "execution_count": 2,
   "metadata": {},
   "outputs": [],
   "source": [
    "import matplotlib.pyplot as plt"
   ]
  },
  {
   "cell_type": "code",
   "execution_count": 3,
   "metadata": {},
   "outputs": [],
   "source": [
    "from squlearn.qnn.loss import *\n",
    "from squlearn.qnn.training import *\n"
   ]
  },
  {
   "cell_type": "code",
   "execution_count": 31,
   "metadata": {},
   "outputs": [],
   "source": [
    "X, y = make_blobs(60, centers=2, random_state=0)\n",
    "X = MinMaxScaler((-0.9, 0.9)).fit_transform(X)\n",
    "X_train, X_test, y_train, y_test = train_test_split(\n",
    "    X, y, test_size=0.33, random_state=42\n",
    ")"
   ]
  },
  {
   "cell_type": "code",
   "execution_count": 39,
   "metadata": {},
   "outputs": [
    {
     "data": {
      "text/plain": [
       "((60, 2), (60,))"
      ]
     },
     "execution_count": 39,
     "metadata": {},
     "output_type": "execute_result"
    }
   ],
   "source": [
    "X.shape, y.shape"
   ]
  },
  {
   "cell_type": "code",
   "execution_count": 36,
   "metadata": {},
   "outputs": [],
   "source": []
  },
  {
   "cell_type": "code",
   "execution_count": 41,
   "metadata": {},
   "outputs": [
    {
     "data": {
      "text/plain": [
       "(array([-0.18035208, -0.9       ,  0.17814953,  0.43289935,  0.9       ,\n",
       "         0.09406615,  0.61995605,  0.58620911, -0.29032608,  0.3747259 ]),\n",
       " array([0, 1, 0, 1, 1, 0, 1, 0, 0, 1]))"
      ]
     },
     "execution_count": 41,
     "metadata": {},
     "output_type": "execute_result"
    }
   ],
   "source": [
    " X[:,0], y"
   ]
  },
  {
   "cell_type": "code",
   "execution_count": 56,
   "metadata": {},
   "outputs": [
    {
     "name": "stdout",
     "output_type": "stream",
     "text": [
      "\n",
      "\n",
      "\u001b[A\u001b[A"
     ]
    },
    {
     "name": "stdout",
     "output_type": "stream",
     "text": [
      "\n",
      "\n",
      "\u001b[A\u001b[A\n",
      "\n",
      "\u001b[A\u001b[A\n",
      "\n",
      "\u001b[A\u001b[A\n",
      "\n",
      "\u001b[A\u001b[A\n",
      "\n",
      "\u001b[A\u001b[A\n",
      "\n",
      "\u001b[A\u001b[A\n",
      "\n",
      "\u001b[A\u001b[A\n",
      "\n",
      "\u001b[A\u001b[A\n",
      "\n",
      "\u001b[A\u001b[A\n",
      "\n",
      "fit:  11%|█         | 11/100 [05:34<45:07, 30.42s/it]\n",
      "fit:   6%|▌         | 6/100 [05:50<1:31:29, 58.40s/it]\n",
      "\n",
      "\n",
      "\u001b[A\u001b[A\n",
      "\n",
      "\u001b[A\u001b[A\n",
      "\n",
      "\u001b[A\u001b[A\n",
      "\n",
      "\u001b[A\u001b[A\n",
      "\n",
      "\u001b[A\u001b[A\n",
      "\n",
      "\u001b[A\u001b[A\n",
      "\n",
      "\u001b[A\u001b[A\n",
      "\n",
      "\u001b[A\u001b[A\n",
      "\n",
      "\u001b[A\u001b[A\n",
      "\n",
      "\u001b[A\u001b[A\n",
      "\n",
      "\u001b[A\u001b[A\n",
      "\n",
      "\u001b[A\u001b[A\n",
      "\n",
      "\u001b[A\u001b[A\n",
      "\n",
      "\u001b[A\u001b[A\n",
      "\n",
      "\u001b[A\u001b[A\n",
      "\n",
      "\u001b[A\u001b[A\n",
      "\n",
      "\u001b[A\u001b[A\n",
      "\n",
      "\u001b[A\u001b[A\n",
      "\n",
      "\u001b[A\u001b[A\n",
      "\n",
      "\u001b[A\u001b[A\n",
      "\n",
      "\u001b[A\u001b[A\n",
      "\n",
      "\u001b[A\u001b[A\n",
      "\n",
      "\u001b[A\u001b[A\n",
      "\n",
      "\u001b[A\u001b[A\n",
      "\n",
      "\u001b[A\u001b[A\n",
      "\n",
      "\u001b[A\u001b[A\n",
      "\n",
      "\u001b[A\u001b[A\n",
      "\n",
      "\u001b[A\u001b[A\n",
      "\n",
      "\u001b[A\u001b[A\n",
      "\n",
      "\u001b[A\u001b[A\n",
      "\n",
      "\u001b[A\u001b[A\n",
      "\n",
      "\u001b[A\u001b[A\n",
      "\n",
      "\u001b[A\u001b[A\n",
      "\n",
      "\u001b[A\u001b[A\n",
      "\n",
      "\u001b[A\u001b[A\n",
      "\n",
      "\u001b[A\u001b[A\n",
      "\n",
      "\u001b[A\u001b[A\n",
      "\n",
      "\u001b[A\u001b[A\n",
      "\n",
      "\u001b[A\u001b[A\n",
      "\n",
      "\u001b[A\u001b[A\n",
      "\n",
      "\u001b[A\u001b[A\n",
      "\n",
      "\u001b[A\u001b[A\n",
      "\n",
      "\u001b[A\u001b[A\n",
      "\n",
      "\u001b[A\u001b[A\n",
      "\n",
      "\u001b[A\u001b[A\n",
      "\n",
      "\u001b[A\u001b[A\n",
      "\n",
      "\u001b[A\u001b[A\n",
      "\n",
      "\u001b[A\u001b[A\n",
      "\n",
      "\u001b[A\u001b[A\n",
      "\n",
      "\u001b[A\u001b[A\n",
      "\n",
      "\u001b[A\u001b[A\n",
      "\n",
      "\u001b[A\u001b[A\n",
      "\n",
      "\u001b[A\u001b[A\n",
      "\n",
      "\u001b[A\u001b[A\n",
      "\n",
      "\u001b[A\u001b[A\n",
      "\n",
      "\u001b[A\u001b[A\n",
      "\n",
      "\u001b[A\u001b[A\n",
      "\n",
      "\u001b[A\u001b[A\n",
      "\n",
      "\u001b[A\u001b[A\n",
      "\n",
      "\u001b[A\u001b[A\n",
      "\n",
      "\u001b[A\u001b[A\n",
      "\n",
      "\u001b[A\u001b[A\n",
      "\n",
      "\u001b[A\u001b[A\n",
      "\n",
      "\u001b[A\u001b[A\n",
      "\n",
      "\u001b[A\u001b[A\n",
      "\n",
      "\u001b[A\u001b[A\n",
      "\n",
      "\u001b[A\u001b[A\n",
      "\n",
      "\u001b[A\u001b[A\n",
      "\n",
      "\u001b[A\u001b[A\n",
      "\n",
      "\u001b[A\u001b[A\n",
      "\n",
      "\u001b[A\u001b[A\n",
      "\n",
      "\u001b[A\u001b[A\n",
      "\n",
      "\u001b[A\u001b[A\n",
      "\n",
      "\u001b[A\u001b[A\n",
      "\n",
      "\u001b[A\u001b[A\n",
      "\n",
      "\u001b[A\u001b[A\n",
      "\n",
      "\u001b[A\u001b[A\n",
      "\n",
      "\u001b[A\u001b[A\n",
      "\n",
      "\u001b[A\u001b[A\n",
      "\n",
      "\u001b[A\u001b[A\n",
      "\n",
      "\u001b[A\u001b[A\n",
      "\n",
      "\u001b[A\u001b[A\n",
      "\n",
      "\u001b[A\u001b[A\n",
      "\n",
      "\u001b[A\u001b[A\n",
      "\n",
      "\u001b[A\u001b[A\n",
      "\n",
      "\u001b[A\u001b[A\n",
      "\n",
      "\u001b[A\u001b[A\n",
      "\n",
      "\u001b[A\u001b[A\n",
      "\n",
      "\u001b[A\u001b[A\n",
      "\n",
      "\u001b[A\u001b[A"
     ]
    }
   ],
   "source": [
    "from squlearn import Executor\n",
    "from squlearn.encoding_circuit import ChebyshevRx\n",
    "from squlearn.observables import SummedPaulis\n",
    "from squlearn.qnn import QNNClassifier, SquaredLoss\n",
    "from squlearn.optimizers import SLSQP\n",
    "from sklearn.datasets import make_blobs\n",
    "from sklearn.model_selection import train_test_split\n",
    "from sklearn.preprocessing import MinMaxScaler\n",
    "\n",
    "X, y = make_blobs(10, centers=2, random_state=0)\n",
    "X = MinMaxScaler((-0.9, 0.9)).fit_transform(X)\n",
    "X_train, X_test, y_train, y_test = train_test_split(\n",
    "    X[:,0], y, test_size=0.33, random_state=42\n",
    ")\n",
    "\n",
    "num_qubits = 1\n",
    "num_features = 1\n",
    "num_layers = 2 \n",
    "\n",
    "clf = QNNClassifier(\n",
    "    encoding_circuit = ChebyshevRx(num_qubits, num_features, num_layers),\n",
    "    operator = SummedPaulis(num_qubits),\n",
    "    executor = Executor(),\n",
    "    loss = SquaredLoss(),\n",
    "    optimizer = SLSQP(),\n",
    "    param_ini = np.random.rand(2*num_qubits*num_layers),\n",
    "    param_op_ini = np.random.rand(num_qubits+1)\n",
    ")\n",
    "clf.fit(X_train, y_train)\n",
    "y_pred = clf.predict(X_test)"
   ]
  },
  {
   "cell_type": "code",
   "execution_count": 57,
   "metadata": {},
   "outputs": [],
   "source": [
    "circuit = ChebyshevRx(num_qubits, num_features, num_layers)\n",
    "observable = SummedPaulis(num_qubits) #observable.num_parameters = num_qubits+1\n",
    "param_ini = np.random.rand(2*num_qubits*num_layers)\n",
    "param_op_ini = np.random.rand(num_qubits+1)\n",
    "executor = Executor(\"statevector_simulator\")\n",
    "\n",
    "qnn_ = QNN(circuit, observable, executor, result_caching=False, optree_caching=False)"
   ]
  },
  {
   "cell_type": "code",
   "execution_count": 58,
   "metadata": {},
   "outputs": [
    {
     "data": {
      "text/plain": [
       "(dtype('float64'), dtype('float64'))"
      ]
     },
     "execution_count": 58,
     "metadata": {},
     "output_type": "execute_result"
    }
   ],
   "source": [
    "param_ini.dtype, param_op_ini.dtype"
   ]
  },
  {
   "cell_type": "code",
   "execution_count": 61,
   "metadata": {},
   "outputs": [
    {
     "data": {
      "text/plain": [
       "dtype('float64')"
      ]
     },
     "execution_count": 61,
     "metadata": {},
     "output_type": "execute_result"
    }
   ],
   "source": [
    "X_train.dtype"
   ]
  },
  {
   "cell_type": "code",
   "execution_count": 65,
   "metadata": {},
   "outputs": [],
   "source": [
    "X_train = np.linspace(-0.9, 0.9, 10).reshape(-1, 1)\n",
    "output_f = qnn_.evaluate(\"f\", X_train, param_ini, param_op_ini)[\"f\"]\n",
    "output_dfdx = qnn_.evaluate(\"dfdx\", X_train, param_ini, param_op_ini)[\"dfdx\"]"
   ]
  },
  {
   "cell_type": "code",
   "execution_count": 66,
   "metadata": {},
   "outputs": [],
   "source": [
    "def training_loss(param_ini, param_op_ini, X_train, y_train, qnn_, problem_parameters):\n",
    "    g, f_initial, regularization_parameter = problem_parameters\n",
    "    output_f = qnn_.evaluate(\"f\", X_train, param_ini, param_op_ini)[\"f\"]\n",
    "    output_dfdx = qnn_.evaluate(\"dfdx\", X_train, param_ini, param_op_ini)[\"dfdx\"]\n",
    "    return loss_function(output_f, output_dfdx, g, f_initial, regularization_parameter)\n",
    "\n",
    "def loss_function(f_0, f_1, g, f_initial, regularization_parameter):\n",
    "        \"\"\"Calculates the loss function.\n",
    "\n",
    "        f_0 = zeroth order derivative\n",
    "        f_1 = first order derivative\n",
    "        g = differential equation function\n",
    "        Args:\n",
    "            alpha_ (np.ndarray): The vector of alphas, of shape (len(x_span)+1, \n",
    "\n",
    "        \"\"\"\n",
    "\n",
    "        sum1 = np.sum( (f_1 - g(f_0))**2 )\n",
    "        sum2 = (f_0[0] - f_initial)**2\n",
    "        L = sum2 + sum1 * self.regularization_parameter\n",
    "        return L"
   ]
  },
  {
   "cell_type": "code",
   "execution_count": 14,
   "metadata": {},
   "outputs": [],
   "source": [
    "#QNN ODE solver \n",
    "\n",
    "# Calculate ground truth based on derivatives in the PINN sense (see already implemented with kernels)\n",
    "# use partial_fit from qnn.qnnr.QNNRegressor, y_values will be calculated as above\n",
    "\n",
    "# based on partial_fit, create new loss function that calculates the derivatives of the QNN"
   ]
  },
  {
   "cell_type": "code",
   "execution_count": null,
   "metadata": {},
   "outputs": [],
   "source": [
    "def get_FQK_kernel_derivatives(self, x_array, qnn_, coef):\n",
    "    \"\"\"\n",
    "    Get the FQK kernel and its derivatives for the given input data.\n",
    "\n",
    "    Parameters:\n",
    "    - x_array: The input data. np.array of shape (n, m) where n is the number of samples and m is the number of features.\n",
    "    - qnn_: The FQK QNN.\n",
    "    - coef: The coefficients of the P0 observable to be used in the QNN squlearn evaluation\n",
    "\n",
    "    Returns:\n",
    "    - output_f: The FQK kernel.\n",
    "    - output_dfdx: The derivatives of the FQK kernel:  shape (n, n, m*2),  the last dimension is the derivative with respect to the input data. \n",
    "    \"\"\"\n",
    "    x_array = x_array.reshape(-1, 1) #reshape to column vector\n",
    "    x_list_circuit_format = self.x_to_circuit_format(x_array)\n",
    "\n",
    "\n",
    "    output_f = qnn_.evaluate(\"f\", x_list_circuit_format, [], coef)[\"f\"]\n",
    "    output_dfdx = qnn_.evaluate(\"dfdx\", x_list_circuit_format, [], coef)[\"dfdx\"]\n",
    "    \n",
    "\n",
    "    #reshape the output to the shape of the gram matrix\n",
    "    output_f = output_f.reshape((len(x_array), len(x_array)))\n",
    "    output_dfdx = output_dfdx.reshape((len(x_array), len(x_array), len(x_array[0])*2))\n",
    "\n",
    "\n",
    "    return output_f, output_dfdx"
   ]
  },
  {
   "cell_type": "code",
   "execution_count": null,
   "metadata": {},
   "outputs": [],
   "source": []
  },
  {
   "cell_type": "code",
   "execution_count": null,
   "metadata": {},
   "outputs": [],
   "source": []
  },
  {
   "cell_type": "code",
   "execution_count": null,
   "metadata": {},
   "outputs": [],
   "source": []
  },
  {
   "cell_type": "code",
   "execution_count": null,
   "metadata": {},
   "outputs": [],
   "source": []
  },
  {
   "cell_type": "code",
   "execution_count": null,
   "metadata": {},
   "outputs": [],
   "source": []
  },
  {
   "cell_type": "code",
   "execution_count": null,
   "metadata": {},
   "outputs": [],
   "source": []
  },
  {
   "cell_type": "code",
   "execution_count": null,
   "metadata": {},
   "outputs": [],
   "source": []
  },
  {
   "cell_type": "markdown",
   "metadata": {},
   "source": [
    "New squlearn"
   ]
  },
  {
   "cell_type": "code",
   "execution_count": 58,
   "metadata": {},
   "outputs": [],
   "source": [
    "from squlearn.qnn.lowlevel_qnn_base import LowLevelQNNBase\n",
    "from squlearn.qnn.lowlevel_qnn_qiskit import LowLevelQNNQiskit"
   ]
  },
  {
   "cell_type": "code",
   "execution_count": null,
   "metadata": {},
   "outputs": [],
   "source": [
    "        #qnn_ = BaseQNN(FQK_Circuit, P0_, self.executor, result_caching=False, optree_caching=False)\n"
   ]
  },
  {
   "cell_type": "code",
   "execution_count": 69,
   "metadata": {},
   "outputs": [],
   "source": [
    "encoding_circuit = ChebyshevRx(num_qubits, num_features, num_layers)\n",
    "operator = SummedPaulis(num_qubits),\n",
    "executor = Executor(\"statevector_simulator\")\n",
    "loss = SquaredLoss(),\n",
    "optimizer = SLSQP(),\n",
    "param_ini = np.random.rand(2*num_qubits*num_layers),\n",
    "param_op_ini = np.random.rand(num_qubits+1)"
   ]
  },
  {
   "cell_type": "code",
   "execution_count": 78,
   "metadata": {},
   "outputs": [
    {
     "name": "stdout",
     "output_type": "stream",
     "text": [
      "\u001b[1;31mInit signature:\u001b[0m\n",
      "\u001b[0mLowLevelQNNQiskit\u001b[0m\u001b[1;33m(\u001b[0m\u001b[1;33m\n",
      "\u001b[0m    \u001b[0mparameterized_quantum_circuit\u001b[0m\u001b[1;33m:\u001b[0m \u001b[0msqulearn\u001b[0m\u001b[1;33m.\u001b[0m\u001b[0mencoding_circuit\u001b[0m\u001b[1;33m.\u001b[0m\u001b[0mencoding_circuit_base\u001b[0m\u001b[1;33m.\u001b[0m\u001b[0mEncodingCircuitBase\u001b[0m\u001b[1;33m,\u001b[0m\u001b[1;33m\n",
      "\u001b[0m    \u001b[0moperator\u001b[0m\u001b[1;33m:\u001b[0m \u001b[0mUnion\u001b[0m\u001b[1;33m[\u001b[0m\u001b[0msqulearn\u001b[0m\u001b[1;33m.\u001b[0m\u001b[0mobservables\u001b[0m\u001b[1;33m.\u001b[0m\u001b[0mobservable_base\u001b[0m\u001b[1;33m.\u001b[0m\u001b[0mObservableBase\u001b[0m\u001b[1;33m,\u001b[0m \u001b[0mlist\u001b[0m\u001b[1;33m]\u001b[0m\u001b[1;33m,\u001b[0m\u001b[1;33m\n",
      "\u001b[0m    \u001b[0mexecutor\u001b[0m\u001b[1;33m:\u001b[0m \u001b[0msqulearn\u001b[0m\u001b[1;33m.\u001b[0m\u001b[0mutil\u001b[0m\u001b[1;33m.\u001b[0m\u001b[0mexecutor\u001b[0m\u001b[1;33m.\u001b[0m\u001b[0mExecutor\u001b[0m\u001b[1;33m,\u001b[0m\u001b[1;33m\n",
      "\u001b[0m    \u001b[0moptree_caching\u001b[0m\u001b[1;33m=\u001b[0m\u001b[1;32mTrue\u001b[0m\u001b[1;33m,\u001b[0m\u001b[1;33m\n",
      "\u001b[0m    \u001b[0mresult_caching\u001b[0m\u001b[1;33m=\u001b[0m\u001b[1;32mTrue\u001b[0m\u001b[1;33m,\u001b[0m\u001b[1;33m\n",
      "\u001b[0m\u001b[1;33m)\u001b[0m \u001b[1;33m->\u001b[0m \u001b[1;32mNone\u001b[0m\u001b[1;33m\u001b[0m\u001b[1;33m\u001b[0m\u001b[0m\n",
      "\u001b[1;31mDocstring:\u001b[0m     \n",
      "Low level implementation of QNNs and its derivatives based on Qiskit.\n",
      "\n",
      "Args:\n",
      "    pqc (EncodingCircuitBase) : parameterized quantum circuit in encoding circuit format\n",
      "    operator (Union[ObservableBase,list]): Operator that is used in the expectation\n",
      "        value of the QNN. Can be a list for multiple outputs.\n",
      "    executor (Executor) : Executor that is used for the evaluation of the QNN\n",
      "    optree_caching : Caching of the optree expressions (default = True recommended)\n",
      "    result_caching : Caching of the result for each `x`, `param`, `param_op` combination\n",
      "        (default = True)\n",
      "\n",
      "Attributes:\n",
      "-----------\n",
      "\n",
      "Attributes:\n",
      "    num_qubits (int): Number of qubits of the QNN\n",
      "    num_features (int): Dimension of features of the PQC\n",
      "    num_parameters (int): Number of trainable parameters of the PQC\n",
      "    num_operator (int): Number of outputs\n",
      "    num_parameters_observable (int): Number of trainable parameters of the expectation value operator\n",
      "    multiple_output (bool): True if multiple outputs are used\n",
      "    parameters (ParameterVector): Parameter vector of the PQC\n",
      "    features (ParameterVector): Feature vector of the PQC\n",
      "    parameters_operator (ParameterVector): Parameter vector of the cost operator\n",
      "\n",
      "Methods:\n",
      "--------\n",
      "\u001b[1;31mFile:\u001b[0m           c:\\users\\jsl-rf\\desktop\\kernelsde\\.venv\\lib\\site-packages\\squlearn\\qnn\\lowlevel_qnn_qiskit.py\n",
      "\u001b[1;31mType:\u001b[0m           ABCMeta\n",
      "\u001b[1;31mSubclasses:\u001b[0m     "
     ]
    }
   ],
   "source": [
    "LowLevelQNNQiskit?"
   ]
  },
  {
   "cell_type": "code",
   "execution_count": 77,
   "metadata": {},
   "outputs": [
    {
     "ename": "AttributeError",
     "evalue": "'tuple' object has no attribute 'set_map'",
     "output_type": "error",
     "traceback": [
      "\u001b[1;31m---------------------------------------------------------------------------\u001b[0m",
      "\u001b[1;31mAttributeError\u001b[0m                            Traceback (most recent call last)",
      "Cell \u001b[1;32mIn[77], line 1\u001b[0m\n\u001b[1;32m----> 1\u001b[0m qnn \u001b[38;5;241m=\u001b[39m \u001b[43mLowLevelQNNQiskit\u001b[49m\u001b[43m(\u001b[49m\u001b[43mparameterized_quantum_circuit\u001b[49m\u001b[43m \u001b[49m\u001b[38;5;241;43m=\u001b[39;49m\u001b[43m \u001b[49m\u001b[43mencoding_circuit\u001b[49m\u001b[43m,\u001b[49m\n\u001b[0;32m      2\u001b[0m \u001b[43m                        \u001b[49m\u001b[43moperator\u001b[49m\u001b[43m \u001b[49m\u001b[38;5;241;43m=\u001b[39;49m\u001b[43m \u001b[49m\u001b[43moperator\u001b[49m\u001b[43m,\u001b[49m\n\u001b[0;32m      3\u001b[0m \u001b[43m                        \u001b[49m\u001b[43mexecutor\u001b[49m\u001b[43m \u001b[49m\u001b[38;5;241;43m=\u001b[39;49m\u001b[43m \u001b[49m\u001b[43mexecutor\u001b[49m\u001b[43m,\u001b[49m\n\u001b[0;32m      4\u001b[0m \u001b[43m                        \u001b[49m\u001b[43mresult_caching\u001b[49m\u001b[43m \u001b[49m\u001b[38;5;241;43m=\u001b[39;49m\u001b[43m \u001b[49m\u001b[38;5;28;43;01mFalse\u001b[39;49;00m\u001b[43m,\u001b[49m\n\u001b[0;32m      5\u001b[0m \u001b[43m                        \u001b[49m\u001b[43moptree_caching\u001b[49m\u001b[43m \u001b[49m\u001b[38;5;241;43m=\u001b[39;49m\u001b[43m \u001b[49m\u001b[38;5;28;43;01mFalse\u001b[39;49;00m\u001b[43m)\u001b[49m\n",
      "File \u001b[1;32mc:\\Users\\jsl-rf\\Desktop\\KernelsDE\\.venv\\lib\\site-packages\\squlearn\\qnn\\lowlevel_qnn_qiskit.py:323\u001b[0m, in \u001b[0;36mLowLevelQNNQiskit.__init__\u001b[1;34m(self, parameterized_quantum_circuit, operator, executor, optree_caching, result_caching)\u001b[0m\n\u001b[0;32m    320\u001b[0m     \u001b[38;5;28mself\u001b[39m\u001b[38;5;241m.\u001b[39m_sampler \u001b[38;5;241m=\u001b[39m \u001b[38;5;28mself\u001b[39m\u001b[38;5;241m.\u001b[39m_executor\u001b[38;5;241m.\u001b[39mget_sampler()\n\u001b[0;32m    321\u001b[0m     \u001b[38;5;28mself\u001b[39m\u001b[38;5;241m.\u001b[39m_estimator \u001b[38;5;241m=\u001b[39m \u001b[38;5;28;01mNone\u001b[39;00m\n\u001b[1;32m--> 323\u001b[0m \u001b[38;5;28;43mself\u001b[39;49m\u001b[38;5;241;43m.\u001b[39;49m\u001b[43m_initilize_derivative\u001b[49m\u001b[43m(\u001b[49m\u001b[43m)\u001b[49m\n",
      "File \u001b[1;32mc:\\Users\\jsl-rf\\Desktop\\KernelsDE\\.venv\\lib\\site-packages\\squlearn\\qnn\\lowlevel_qnn_qiskit.py:405\u001b[0m, in \u001b[0;36mLowLevelQNNQiskit._initilize_derivative\u001b[1;34m(self)\u001b[0m\n\u001b[0;32m    403\u001b[0m         num_qubits_operator \u001b[38;5;241m=\u001b[39m \u001b[38;5;28mmax\u001b[39m(num_qubits_operator, \u001b[38;5;28mself\u001b[39m\u001b[38;5;241m.\u001b[39m_observable[i]\u001b[38;5;241m.\u001b[39mnum_qubits)\n\u001b[0;32m    404\u001b[0m \u001b[38;5;28;01melse\u001b[39;00m:\n\u001b[1;32m--> 405\u001b[0m     \u001b[38;5;28;43mself\u001b[39;49m\u001b[38;5;241;43m.\u001b[39;49m\u001b[43m_observable\u001b[49m\u001b[38;5;241;43m.\u001b[39;49m\u001b[43mset_map\u001b[49m(\u001b[38;5;28mself\u001b[39m\u001b[38;5;241m.\u001b[39m_pqc\u001b[38;5;241m.\u001b[39mqubit_map, \u001b[38;5;28mself\u001b[39m\u001b[38;5;241m.\u001b[39m_pqc\u001b[38;5;241m.\u001b[39mnum_physical_qubits)\n\u001b[0;32m    406\u001b[0m     num_qubits_operator \u001b[38;5;241m=\u001b[39m \u001b[38;5;28mself\u001b[39m\u001b[38;5;241m.\u001b[39m_observable\u001b[38;5;241m.\u001b[39mnum_qubits\n\u001b[0;32m    408\u001b[0m \u001b[38;5;28mself\u001b[39m\u001b[38;5;241m.\u001b[39moperator_derivatives \u001b[38;5;241m=\u001b[39m ObservableDerivatives(\u001b[38;5;28mself\u001b[39m\u001b[38;5;241m.\u001b[39m_observable, \u001b[38;5;28mself\u001b[39m\u001b[38;5;241m.\u001b[39m_optree_caching)\n",
      "\u001b[1;31mAttributeError\u001b[0m: 'tuple' object has no attribute 'set_map'"
     ]
    }
   ],
   "source": []
  },
  {
   "cell_type": "code",
   "execution_count": 46,
   "metadata": {},
   "outputs": [
    {
     "name": "stdout",
     "output_type": "stream",
     "text": [
      "\u001b[1;31mInit signature:\u001b[0m\n",
      "\u001b[0mBaseQNN\u001b[0m\u001b[1;33m(\u001b[0m\u001b[1;33m\n",
      "\u001b[0m    \u001b[0mencoding_circuit\u001b[0m\u001b[1;33m:\u001b[0m \u001b[1;34m'EncodingCircuitBase'\u001b[0m\u001b[1;33m,\u001b[0m\u001b[1;33m\n",
      "\u001b[0m    \u001b[0moperator\u001b[0m\u001b[1;33m:\u001b[0m \u001b[1;34m'Union[ObservableBase, list[ObservableBase]]'\u001b[0m\u001b[1;33m,\u001b[0m\u001b[1;33m\n",
      "\u001b[0m    \u001b[0mexecutor\u001b[0m\u001b[1;33m:\u001b[0m \u001b[1;34m'Executor'\u001b[0m\u001b[1;33m,\u001b[0m\u001b[1;33m\n",
      "\u001b[0m    \u001b[0mloss\u001b[0m\u001b[1;33m:\u001b[0m \u001b[1;34m'LossBase'\u001b[0m\u001b[1;33m,\u001b[0m\u001b[1;33m\n",
      "\u001b[0m    \u001b[0moptimizer\u001b[0m\u001b[1;33m:\u001b[0m \u001b[1;34m'OptimizerBase'\u001b[0m\u001b[1;33m,\u001b[0m\u001b[1;33m\n",
      "\u001b[0m    \u001b[0mparam_ini\u001b[0m\u001b[1;33m:\u001b[0m \u001b[1;34m'Union[np.ndarray, None]'\u001b[0m \u001b[1;33m=\u001b[0m \u001b[1;32mNone\u001b[0m\u001b[1;33m,\u001b[0m\u001b[1;33m\n",
      "\u001b[0m    \u001b[0mparam_op_ini\u001b[0m\u001b[1;33m:\u001b[0m \u001b[1;34m'Union[np.ndarray, None]'\u001b[0m \u001b[1;33m=\u001b[0m \u001b[1;32mNone\u001b[0m\u001b[1;33m,\u001b[0m\u001b[1;33m\n",
      "\u001b[0m    \u001b[0mbatch_size\u001b[0m\u001b[1;33m:\u001b[0m \u001b[1;34m'int'\u001b[0m \u001b[1;33m=\u001b[0m \u001b[1;32mNone\u001b[0m\u001b[1;33m,\u001b[0m\u001b[1;33m\n",
      "\u001b[0m    \u001b[0mepochs\u001b[0m\u001b[1;33m:\u001b[0m \u001b[1;34m'int'\u001b[0m \u001b[1;33m=\u001b[0m \u001b[1;32mNone\u001b[0m\u001b[1;33m,\u001b[0m\u001b[1;33m\n",
      "\u001b[0m    \u001b[0mshuffle\u001b[0m\u001b[1;33m:\u001b[0m \u001b[1;34m'bool'\u001b[0m \u001b[1;33m=\u001b[0m \u001b[1;32mNone\u001b[0m\u001b[1;33m,\u001b[0m\u001b[1;33m\n",
      "\u001b[0m    \u001b[0mopt_param_op\u001b[0m\u001b[1;33m:\u001b[0m \u001b[1;34m'bool'\u001b[0m \u001b[1;33m=\u001b[0m \u001b[1;32mTrue\u001b[0m\u001b[1;33m,\u001b[0m\u001b[1;33m\n",
      "\u001b[0m    \u001b[0mvariance\u001b[0m\u001b[1;33m:\u001b[0m \u001b[1;34m'Union[float, Callable]'\u001b[0m \u001b[1;33m=\u001b[0m \u001b[1;32mNone\u001b[0m\u001b[1;33m,\u001b[0m\u001b[1;33m\n",
      "\u001b[0m    \u001b[0mshot_control\u001b[0m\u001b[1;33m:\u001b[0m \u001b[1;34m'ShotControlBase'\u001b[0m \u001b[1;33m=\u001b[0m \u001b[1;32mNone\u001b[0m\u001b[1;33m,\u001b[0m\u001b[1;33m\n",
      "\u001b[0m    \u001b[0mparameter_seed\u001b[0m\u001b[1;33m:\u001b[0m \u001b[1;34m'Union[int, None]'\u001b[0m \u001b[1;33m=\u001b[0m \u001b[1;36m0\u001b[0m\u001b[1;33m,\u001b[0m\u001b[1;33m\n",
      "\u001b[0m    \u001b[0mcaching\u001b[0m\u001b[1;33m:\u001b[0m \u001b[1;34m'bool'\u001b[0m \u001b[1;33m=\u001b[0m \u001b[1;32mTrue\u001b[0m\u001b[1;33m,\u001b[0m\u001b[1;33m\n",
      "\u001b[0m    \u001b[0mpretrained\u001b[0m\u001b[1;33m:\u001b[0m \u001b[1;34m'bool'\u001b[0m \u001b[1;33m=\u001b[0m \u001b[1;32mFalse\u001b[0m\u001b[1;33m,\u001b[0m\u001b[1;33m\n",
      "\u001b[0m    \u001b[0mcallback\u001b[0m\u001b[1;33m:\u001b[0m \u001b[1;34m'Union[Callable, str, None]'\u001b[0m \u001b[1;33m=\u001b[0m \u001b[1;32mNone\u001b[0m\u001b[1;33m,\u001b[0m\u001b[1;33m\n",
      "\u001b[0m    \u001b[1;33m**\u001b[0m\u001b[0mkwargs\u001b[0m\u001b[1;33m,\u001b[0m\u001b[1;33m\n",
      "\u001b[0m\u001b[1;33m)\u001b[0m \u001b[1;33m->\u001b[0m \u001b[1;34m'None'\u001b[0m\u001b[1;33m\u001b[0m\u001b[1;33m\u001b[0m\u001b[0m\n",
      "\u001b[1;31mDocstring:\u001b[0m     \n",
      "Base Class for Quantum Neural Networks.\n",
      "\n",
      "Args:\n",
      "    encoding_circuit : Parameterized quantum circuit in encoding circuit format\n",
      "    operator : Operator that are used in the expectation value of the QNN. Can be a list for\n",
      "        multiple outputs.\n",
      "    executor : Executor instance\n",
      "    optimizer : Optimizer instance\n",
      "    param_ini : Initialization values of the parameters of the PQC\n",
      "    param_op_ini : Initialization values of the cost operator\n",
      "    batch_size : Number of data points in each batch, for SGDMixin optimizers\n",
      "    epochs : Number of epochs of SGD to perform, for SGDMixin optimizers\n",
      "    shuffle : If True, data points get shuffled before each epoch (default: False),\n",
      "        for SGDMixin optimizers\n",
      "    opt_param_op : If True, operators parameters get optimized\n",
      "    variance : Variance factor\n",
      "    parameter_seed : Seed for the random number generator for the parameter initialization\n",
      "    caching : If True, the results of the QNN are cached.\n",
      "    pretrained : Set to true if the supplied parameters are already trained.\n",
      "    callback (Union[Callable, str, None], default=None): A callback for the optimization loop.\n",
      "        Can be either a Callable, \"pbar\" (which uses a :class:`tqdm.tqdm` process bar) or None.\n",
      "        If None, the optimizers (default) callback will be used.\n",
      "\u001b[1;31mFile:\u001b[0m           c:\\users\\jsl-rf\\desktop\\kernelsde\\.venv\\lib\\site-packages\\squlearn\\qnn\\base_qnn.py\n",
      "\u001b[1;31mType:\u001b[0m           ABCMeta\n",
      "\u001b[1;31mSubclasses:\u001b[0m     QNNClassifier, QNNRegressor"
     ]
    }
   ],
   "source": [
    "BaseQNN?"
   ]
  },
  {
   "cell_type": "code",
   "execution_count": null,
   "metadata": {},
   "outputs": [],
   "source": [
    "def get_FQK_kernel_derivatives(self, x_array, qnn_, coef):\n",
    "        \"\"\"\n",
    "        Get the FQK kernel and its derivatives for the given input data.\n",
    "\n",
    "        Parameters:\n",
    "        - x_array: The input data. np.array of shape (n, m) where n is the number of samples and m is the number of features.\n",
    "        - qnn_: The FQK QNN.\n",
    "        - coef: The coefficients of the P0 observable to be used in the QNN squlearn evaluation\n",
    "\n",
    "        Returns:\n",
    "        - output_f: The FQK kernel.\n",
    "        - output_dfdx: The derivatives of the FQK kernel:  shape (n, n, m*2),  the last dimension is the derivative with respect to the input data. \n",
    "        \"\"\"\n",
    "        \n",
    "\n",
    "        x_array = x_array.reshape(-1, 1) #reshape to column vector\n",
    "        x_list_circuit_format = self.x_to_circuit_format(x_array)\n",
    "\n",
    "\n",
    "        output_f = qnn_.evaluate(\"f\", x_list_circuit_format, [], coef)[\"f\"]\n",
    "        output_dfdx = qnn_.evaluate(\"dfdx\", x_list_circuit_format, [], coef)[\"dfdx\"]\n",
    "        \n",
    "\n",
    "        #reshape the output to the shape of the gram matrix\n",
    "        output_f = output_f.reshape((len(x_array), len(x_array)))\n",
    "        output_dfdx = output_dfdx.reshape((len(x_array), len(x_array), len(x_array[0])*2))\n",
    "\n",
    "\n",
    "        return output_f, output_dfdx"
   ]
  },
  {
   "cell_type": "code",
   "execution_count": 40,
   "metadata": {},
   "outputs": [],
   "source": [
    "#QNN ODE solver \n",
    "\n",
    "# Calculate ground truth based on derivatives in the PINN sense (see already implemented with kernels)\n",
    "# use partial_fit from qnn.qnnr.QNNRegressor, y_values will be calculated as above\n",
    "\n",
    "# based on partial_fit, create new loss function that calculates the derivatives of the QNN"
   ]
  }
 ],
 "metadata": {
  "kernelspec": {
   "display_name": "Python 3",
   "language": "python",
   "name": "python3"
  },
  "language_info": {
   "codemirror_mode": {
    "name": "ipython",
    "version": 3
   },
   "file_extension": ".py",
   "mimetype": "text/x-python",
   "name": "python",
   "nbconvert_exporter": "python",
   "pygments_lexer": "ipython3",
   "version": "3.10.11"
  }
 },
 "nbformat": 4,
 "nbformat_minor": 2
}

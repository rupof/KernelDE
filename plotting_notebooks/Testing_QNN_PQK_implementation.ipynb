{
 "cells": [
  {
   "cell_type": "code",
   "execution_count": 1,
   "metadata": {},
   "outputs": [],
   "source": [
    "import sys\n",
    "sys.path.append(\"..\")"
   ]
  },
  {
   "cell_type": "code",
   "execution_count": 2,
   "metadata": {},
   "outputs": [],
   "source": [
    "from solvers.MMR.PQK_solver import *\n",
    "from circuits.circuits import *\n",
    "from utils.rbf_kernel_tools import *\n",
    "from squlearn.encoding_circuit import *\n"
   ]
  },
  {
   "cell_type": "code",
   "execution_count": 3,
   "metadata": {},
   "outputs": [],
   "source": [
    "from squlearn.observables import SinglePauli\n",
    "import numpy as np\n",
    "\n",
    "\n",
    "def PQK_observable(num_qubits, measurement = \"XYZ\"):\n",
    "    \"\"\"\"\n",
    "    Returns the observable for the PQK solver\n",
    "\n",
    "    Args:\n",
    "\n",
    "    num_qubits (int): number of qubits in the system\n",
    "    measurement (str): measurement operator to be applied to the qubits (default: \"XYZ\")\n",
    "\n",
    "    Returns:\n",
    "    _measurement (list): list of SinglePauli objects representing the measurement operator (shape: num_qubits*len(measurement))\n",
    "\n",
    "    \"\"\"\n",
    "    if isinstance(measurement, str):\n",
    "                _measurement = []\n",
    "                for m_str in measurement:\n",
    "                    if m_str not in (\"X\", \"Y\", \"Z\"):\n",
    "                        raise ValueError(\"Unknown measurement operator: {}\".format(m_str))\n",
    "                    for i in range(num_qubits):\n",
    "                        _measurement.append(SinglePauli(num_qubits, i, op_str=m_str))\n",
    "    return _measurement"
   ]
  },
  {
   "cell_type": "code",
   "execution_count": 4,
   "metadata": {},
   "outputs": [
    {
     "name": "stdout",
     "output_type": "stream",
     "text": [
      "6 6\n"
     ]
    }
   ],
   "source": [
    "num_qubits = 2\n",
    "num_features = 1\n",
    "num_samples = 10\n",
    "num_layers = 3\n",
    "\n",
    "sigma = 1\n",
    "measurement = \"XYZ\"\n",
    "_measurement = PQK_observable(num_qubits, measurement)\n",
    "print(len(_measurement), num_qubits*len(measurement))"
   ]
  },
  {
   "cell_type": "code",
   "execution_count": 5,
   "metadata": {},
   "outputs": [
    {
     "name": "stdout",
     "output_type": "stream",
     "text": [
      "num_samples 10 num_features 1 num_parameters 6\n"
     ]
    }
   ],
   "source": [
    "#a = LowLevelQNN(Separable_rx(num_qubits=4, num_layers=1, num_features=2), _measurement, Executor(\"pennylane\"))\n",
    "#import RBF from sklearn\n",
    "from sklearn.gaussian_process.kernels import RBF\n",
    "\n",
    "a = LowLevelQNN(HubregtsenEncodingCircuit(num_qubits=num_qubits, num_layers=num_layers, num_features=num_features), _measurement, Executor(\"pennylane\"))\n",
    "parameter_array = np.random.rand(a.num_parameters)\n",
    "print(\"num_samples\", num_samples, \"num_features\", num_features, \"num_parameters\", a.num_parameters )\n",
    "input = np.random.rand(num_samples, num_features)\n",
    "X = a.evaluate(input, parameter_array, [], \"f\")[\"f\"] # Shape (num_samples, num_qubits*len(measurement))"
   ]
  },
  {
   "cell_type": "code",
   "execution_count": 6,
   "metadata": {},
   "outputs": [],
   "source": [
    "O = a.evaluate(input, parameter_array, [], \"f\")[\"f\"]\n",
    "dOdx = a.evaluate(input, parameter_array, [], \"dfdx\")[\"dfdx\"]\n",
    "dOdxdx = a.evaluate(input, parameter_array, [], \"dfdxdx\")[\"dfdxdx\"]"
   ]
  },
  {
   "cell_type": "code",
   "execution_count": 7,
   "metadata": {},
   "outputs": [
    {
     "data": {
      "text/plain": [
       "(10, 6, 1)"
      ]
     },
     "execution_count": 7,
     "metadata": {},
     "output_type": "execute_result"
    }
   ],
   "source": [
    "dOdx.shape"
   ]
  },
  {
   "cell_type": "code",
   "execution_count": 8,
   "metadata": {},
   "outputs": [
    {
     "data": {
      "text/plain": [
       "(10, 6, 1, 1)"
      ]
     },
     "execution_count": 8,
     "metadata": {},
     "output_type": "execute_result"
    }
   ],
   "source": [
    "dOdxdx.shape"
   ]
  },
  {
   "cell_type": "code",
   "execution_count": 9,
   "metadata": {},
   "outputs": [
    {
     "data": {
      "text/plain": [
       "(10, 6)"
      ]
     },
     "execution_count": 9,
     "metadata": {},
     "output_type": "execute_result"
    }
   ],
   "source": [
    "X.shape"
   ]
  },
  {
   "cell_type": "code",
   "execution_count": 10,
   "metadata": {},
   "outputs": [],
   "source": [
    "from utils.rbf_kernel_tools import analytical_derivative_rbf_kernel, analytical_derivative_dot_kernel_2\n",
    "\n",
    "from utils.rbf_kernel_tools import matrix_rbf, matrix_rbf_dx_slow, matrix_rbf_dxdx_slow"
   ]
  },
  {
   "cell_type": "markdown",
   "metadata": {},
   "source": [
    "$K(x,y)$"
   ]
  },
  {
   "cell_type": "code",
   "execution_count": 11,
   "metadata": {},
   "outputs": [],
   "source": [
    "K = RBF(1)(O, O)"
   ]
  },
  {
   "cell_type": "markdown",
   "metadata": {},
   "source": [
    "Derivative of a kernel "
   ]
  },
  {
   "cell_type": "markdown",
   "metadata": {},
   "source": [
    "$\\frac{d}{dx} k(x,y) = $"
   ]
  },
  {
   "cell_type": "code",
   "execution_count": 12,
   "metadata": {},
   "outputs": [
    {
     "data": {
      "text/plain": [
       "(10, 6, 1, 1)"
      ]
     },
     "execution_count": 12,
     "metadata": {},
     "output_type": "execute_result"
    }
   ],
   "source": [
    "dOdxdx.shape\n"
   ]
  },
  {
   "cell_type": "code",
   "execution_count": 13,
   "metadata": {},
   "outputs": [],
   "source": [
    "K_rbf_dx =  matrix_rbf_dx_slow(X, X, sigma=sigma) #(n,n, d)\n",
    "Kdx = np.einsum(\"ijk->ij\",(K_rbf_dx*O))"
   ]
  },
  {
   "cell_type": "markdown",
   "metadata": {},
   "source": [
    "$ \\frac{d^{2} K}{dx^2}$"
   ]
  },
  {
   "cell_type": "code",
   "execution_count": 14,
   "metadata": {},
   "outputs": [],
   "source": [
    "K_rbf_dxdx =  matrix_rbf_dxdx_slow(X, X, sigma=sigma)\n",
    "\n",
    "Kdxdx = np.zeros((num_samples, num_qubits*len(measurement), num_features, num_features))\n",
    "Kdxdx_first_term = np.einsum(\"ijk->ij\",(K_rbf_dxdx*dOdx[:,:,0]))\n",
    "Kdxdx_second_term = np.einsum(\"ijk->ij\",(K_rbf_dx*dOdxdx[:,:,0,0]))\n",
    "Kdxdx = Kdxdx_first_term + Kdxdx_second_term\n"
   ]
  },
  {
   "cell_type": "code",
   "execution_count": 15,
   "metadata": {},
   "outputs": [
    {
     "data": {
      "text/plain": [
       "(10, 10)"
      ]
     },
     "execution_count": 15,
     "metadata": {},
     "output_type": "execute_result"
    }
   ],
   "source": [
    "Kdxdx_first_term.shape"
   ]
  },
  {
   "cell_type": "markdown",
   "metadata": {},
   "source": [
    "Testing implmentation"
   ]
  },
  {
   "cell_type": "code",
   "execution_count": 16,
   "metadata": {},
   "outputs": [],
   "source": [
    "from circuits.circuits import Separable_rx"
   ]
  },
  {
   "cell_type": "code",
   "execution_count": 17,
   "metadata": {},
   "outputs": [],
   "source": [
    "sigma = 1\n",
    "gamma = 1/(2*sigma**2)\n",
    "\n",
    "experiment = { \"sigma\": sigma}\n",
    "experiment[\"circuit_information\"] = {\"encoding_circuit\": Separable_rx, \"num_qubits\": 1, \"num_layers\":1}\n",
    "pqk =PQK_solver(experiment[\"circuit_information\"],\n",
    "                                Executor(\"pennylane\"), \n",
    "                                envelope={\"function\": matrix_rbf, \n",
    "                                            \"derivative_function\": matrix_rbf_dx_slow, \n",
    "                                            \"second_derivative_function\": matrix_rbf_dxdx_slow,\n",
    "                                            \"sigma\": experiment[\"sigma\"]})"
   ]
  },
  {
   "cell_type": "code",
   "execution_count": 47,
   "metadata": {},
   "outputs": [],
   "source": [
    "PQK_qnn = pqk.PQK_QNN()\n",
    "obs_coef = []\n",
    "X = [0.1, 0.2, 0.3, 0.5, 0.75]\n",
    "K_f, K_dfdx, K_dfdxdx = pqk.get_PQK_kernel_derivatives(X, PQK_qnn, obs_coef, [1,2])\n"
   ]
  },
  {
   "cell_type": "code",
   "execution_count": 48,
   "metadata": {},
   "outputs": [
    {
     "data": {
      "text/plain": [
       "<squlearn.qnn.lowlevel_qnn_pennylane.LowLevelQNNPennyLane at 0x2a81d144c70>"
      ]
     },
     "execution_count": 48,
     "metadata": {},
     "output_type": "execute_result"
    }
   ],
   "source": [
    "PQK_qnn"
   ]
  },
  {
   "cell_type": "code",
   "execution_count": 49,
   "metadata": {},
   "outputs": [],
   "source": [
    "O = PQK_qnn.evaluate(X, [], [], \"f\")[\"f\"]\n",
    "dOdx = PQK_qnn.evaluate(X, [], [], \"dfdx\")[\"dfdx\"]\n",
    "dOdxdx = PQK_qnn.evaluate(X, [], [], \"dfdxdx\")[\"dfdxdx\"]"
   ]
  },
  {
   "cell_type": "code",
   "execution_count": 21,
   "metadata": {},
   "outputs": [
    {
     "data": {
      "text/plain": [
       "0.9950166237049287"
      ]
     },
     "execution_count": 21,
     "metadata": {},
     "output_type": "execute_result"
    }
   ],
   "source": [
    "matrix_rbf(O, O, sigma)[0, 1]"
   ]
  },
  {
   "cell_type": "code",
   "execution_count": 22,
   "metadata": {},
   "outputs": [
    {
     "data": {
      "text/plain": [
       "(5, 3)"
      ]
     },
     "execution_count": 22,
     "metadata": {},
     "output_type": "execute_result"
    }
   ],
   "source": [
    "O.shape"
   ]
  },
  {
   "cell_type": "code",
   "execution_count": 23,
   "metadata": {},
   "outputs": [
    {
     "data": {
      "text/plain": [
       "array([ 0.        , -0.09983342,  0.99500417])"
      ]
     },
     "execution_count": 23,
     "metadata": {},
     "output_type": "execute_result"
    }
   ],
   "source": [
    "O[0]"
   ]
  },
  {
   "cell_type": "code",
   "execution_count": 24,
   "metadata": {},
   "outputs": [
    {
     "data": {
      "text/plain": [
       "(5, 3, 1)"
      ]
     },
     "execution_count": 24,
     "metadata": {},
     "output_type": "execute_result"
    }
   ],
   "source": [
    "dOdx.shape"
   ]
  },
  {
   "cell_type": "code",
   "execution_count": 25,
   "metadata": {},
   "outputs": [],
   "source": [
    "K_dx_manual = np.zeros((len(X), len(X)))\n",
    "for n in range(len(X)):\n",
    "   for j in range(len(X)):\n",
    "      r = 0\n",
    "      for l in range(O.shape[1]):\n",
    "         K_dx_manual[n,j] += matrix_rbf_dx_slow(O, O, sigma)[n,j, l] * dOdx[n, l, 0]"
   ]
  },
  {
   "cell_type": "code",
   "execution_count": 26,
   "metadata": {},
   "outputs": [],
   "source": [
    "# Assuming dOdx has shape (N, L, 1) and the result of matrix_rbf_dx_slow has shape (N, N, L)\n",
    "# Reshape dOdx to (N, L) to align the dimensions correctly for einsum\n",
    "dOdx_reshaped = dOdx[:, :, 0]\n",
    "\n",
    "# Calculate the result using einsum\n",
    "K_dx_manual = np.einsum('njl, nl->nj', matrix_rbf_dx_slow(O, O, sigma), dOdx_reshaped)\n"
   ]
  },
  {
   "cell_type": "code",
   "execution_count": 27,
   "metadata": {},
   "outputs": [],
   "source": [
    "import sympy as sp\n",
    "\n",
    "x,y,gamma_sp = sp.symbols(\"x y gamma\")\n",
    "\n",
    "K = sp.exp(-gamma_sp*(2-2*sp.cos(x-y)))\n",
    "Kx = sp.diff(K, x)\n",
    "Kxx = sp.diff(Kx, x)"
   ]
  },
  {
   "cell_type": "code",
   "execution_count": 64,
   "metadata": {},
   "outputs": [],
   "source": [
    "rbf_sp = sp.exp(-gamma_sp*(x-y)**2)"
   ]
  },
  {
   "cell_type": "code",
   "execution_count": 66,
   "metadata": {},
   "outputs": [
    {
     "data": {
      "text/latex": [
       "$\\displaystyle 2 \\gamma \\left(2 \\gamma \\left(x - y\\right)^{2} - 1\\right) e^{- \\gamma \\left(x - y\\right)^{2}}$"
      ],
      "text/plain": [
       "2*gamma*(2*gamma*(x - y)**2 - 1)*exp(-gamma*(x - y)**2)"
      ]
     },
     "execution_count": 66,
     "metadata": {},
     "output_type": "execute_result"
    }
   ],
   "source": [
    "rbf_sp.diff(x, 2)"
   ]
  },
  {
   "cell_type": "code",
   "execution_count": 63,
   "metadata": {},
   "outputs": [
    {
     "data": {
      "text/latex": [
       "$\\displaystyle \\left(\\frac{\\partial}{\\partial x_{1}} O{\\left(x_{1},x_{2} \\right)}\\right)^{2} \\frac{\\partial^{2}}{\\partial O{\\left(x_{1},x_{2} \\right)}^{2}} k{\\left(O{\\left(x_{1},x_{2} \\right)},O{\\left(y_{1},y_{2} \\right)} \\right)} + \\frac{\\partial^{2}}{\\partial x_{1}^{2}} O{\\left(x_{1},x_{2} \\right)} \\frac{\\partial}{\\partial O{\\left(x_{1},x_{2} \\right)}} k{\\left(O{\\left(x_{1},x_{2} \\right)},O{\\left(y_{1},y_{2} \\right)} \\right)}$"
      ],
      "text/plain": [
       "Derivative(O(x_1, x_2), x_1)**2*Derivative(k(O(x_1, x_2), O(y_1, y_2)), (O(x_1, x_2), 2)) + Derivative(O(x_1, x_2), (x_1, 2))*Derivative(k(O(x_1, x_2), O(y_1, y_2)), O(x_1, x_2))"
      ]
     },
     "execution_count": 63,
     "metadata": {},
     "output_type": "execute_result"
    }
   ],
   "source": [
    "x1, y1 = sp.symbols('x_1 y_1')\n",
    "x2, y2 = sp.symbols('x_2 y_2')\n",
    "k = sp.symbols('k', cls=sp.Function)\n",
    "O = sp.symbols('O', cls=sp.Function)\n",
    "k(O(x1, x2),O(y1, y2)).diff(x1,2)"
   ]
  },
  {
   "cell_type": "code",
   "execution_count": 28,
   "metadata": {},
   "outputs": [],
   "source": [
    "def K_separable_rx_PQK_(X,Y, gamma):\n",
    "    gram_matrix = np.zeros((len(X), len(Y)))    \n",
    "    for i in range(len(X)):\n",
    "        for j in range(len(Y)):\n",
    "            gram_matrix[i,j] = np.exp(-gamma*(2-2*np.cos(X[i]-Y[j])))\n",
    "    return gram_matrix\n",
    "\n",
    "def K_separable_rx_PQK_dx(X,Y, gamma):\n",
    "    #-2*gamma*exp(-gamma*(2 - 2*cos(x - y)))*sin(x - y)\n",
    "\n",
    "    gram_matrix = np.zeros((len(X), len(Y)))    \n",
    "    for i in range(len(X)):\n",
    "        for j in range(len(Y)):\n",
    "            gram_matrix[i,j] = -2*gamma*np.exp(-gamma*(2-2*np.cos(X[i]-Y[j])))*np.sin(X[i]-Y[j])\n",
    "    return gram_matrix \n",
    "\n",
    "def K_separable_rx_PQK_dxdx(X,Y, gamma):\n",
    "    #4*gamma**2*exp(-gamma*(2 - 2*cos(x - y)))*sin(x - y)**2 - 2*gamma*exp(-gamma*(2 - 2*cos(x - y)))*cos(x - y)\n",
    "    gram_matrix = np.zeros((len(X), len(Y)))    \n",
    "    for i in range(len(X)):\n",
    "        for j in range(len(Y)):\n",
    "            gram_matrix[i,j] = 4*gamma**2*np.exp(-gamma*(2-2*np.cos(X[i]-Y[j])))*np.sin(X[i]-Y[j])**2 - 2*gamma*np.exp(-gamma*(2-2*np.cos(X[i]-Y[j])))*np.cos(X[i]-Y[j])\n",
    "    return gram_matrix "
   ]
  },
  {
   "cell_type": "code",
   "execution_count": 29,
   "metadata": {},
   "outputs": [],
   "source": [
    "from squlearn.kernel.matrix import ProjectedQuantumKernel"
   ]
  },
  {
   "cell_type": "code",
   "execution_count": 30,
   "metadata": {},
   "outputs": [],
   "source": [
    "pqk_squlearn = ProjectedQuantumKernel(Separable_rx(num_qubits=1, num_layers=1), executor=Executor(\"pennylane\"), gamma=gamma)"
   ]
  },
  {
   "cell_type": "code",
   "execution_count": 31,
   "metadata": {},
   "outputs": [
    {
     "data": {
      "text/plain": [
       "array([[1.        , 0.99501662, 0.98026393, 0.92409629, 0.81553071],\n",
       "       [0.99501662, 1.        , 0.99501662, 0.95631922, 0.8628836 ],\n",
       "       [0.98026393, 0.99501662, 1.        , 0.98026393, 0.90524206],\n",
       "       [0.92409629, 0.95631922, 0.98026393, 1.        , 0.96939067],\n",
       "       [0.81553071, 0.8628836 , 0.90524206, 0.96939067, 1.        ]])"
      ]
     },
     "execution_count": 31,
     "metadata": {},
     "output_type": "execute_result"
    }
   ],
   "source": [
    "pqk_squlearn.evaluate(X, X)"
   ]
  },
  {
   "cell_type": "code",
   "execution_count": 32,
   "metadata": {},
   "outputs": [
    {
     "data": {
      "text/plain": [
       "array([[1.        , 0.99501662, 0.98026393, 0.92409629, 0.81553071],\n",
       "       [0.99501662, 1.        , 0.99501662, 0.95631922, 0.8628836 ],\n",
       "       [0.98026393, 0.99501662, 1.        , 0.98026393, 0.90524206],\n",
       "       [0.92409629, 0.95631922, 0.98026393, 1.        , 0.96939067],\n",
       "       [0.81553071, 0.8628836 , 0.90524206, 0.96939067, 1.        ]])"
      ]
     },
     "execution_count": 32,
     "metadata": {},
     "output_type": "execute_result"
    }
   ],
   "source": [
    "K_separable_rx_PQK_(X,X, gamma)"
   ]
  },
  {
   "cell_type": "code",
   "execution_count": 33,
   "metadata": {},
   "outputs": [
    {
     "data": {
      "text/plain": [
       "array([[1.        , 0.99501662, 0.98026393, 0.92409629, 0.81553071],\n",
       "       [0.99501662, 1.        , 0.99501662, 0.95631922, 0.8628836 ],\n",
       "       [0.98026393, 0.99501662, 1.        , 0.98026393, 0.90524206],\n",
       "       [0.92409629, 0.95631922, 0.98026393, 1.        , 0.96939067],\n",
       "       [0.81553071, 0.8628836 , 0.90524206, 0.96939067, 1.        ]])"
      ]
     },
     "execution_count": 33,
     "metadata": {},
     "output_type": "execute_result"
    }
   ],
   "source": [
    "K_f"
   ]
  },
  {
   "cell_type": "code",
   "execution_count": 34,
   "metadata": {},
   "outputs": [
    {
     "data": {
      "text/plain": [
       "array([[-0.        ,  0.09933591,  0.19474838,  0.35986004,  0.4935481 ],\n",
       "       [-0.09933591, -0.        ,  0.09933591,  0.28261165,  0.45101824],\n",
       "       [-0.19474838, -0.09933591, -0.        ,  0.19474838,  0.3937491 ],\n",
       "       [-0.35986004, -0.28261165, -0.19474838, -0.        ,  0.23983109],\n",
       "       [-0.4935481 , -0.45101824, -0.3937491 , -0.23983109, -0.        ]])"
      ]
     },
     "execution_count": 34,
     "metadata": {},
     "output_type": "execute_result"
    }
   ],
   "source": [
    "K_separable_rx_PQK_dx(X,X,gamma)"
   ]
  },
  {
   "cell_type": "code",
   "execution_count": 35,
   "metadata": {},
   "outputs": [
    {
     "data": {
      "text/plain": [
       "array([[ 0.        ,  0.09933591,  0.19474838,  0.35986004,  0.4935481 ],\n",
       "       [-0.09933591,  0.        ,  0.09933591,  0.28261165,  0.45101824],\n",
       "       [-0.19474838, -0.09933591,  0.        ,  0.19474838,  0.3937491 ],\n",
       "       [-0.35986004, -0.28261165, -0.19474838,  0.        ,  0.23983109],\n",
       "       [-0.4935481 , -0.45101824, -0.3937491 , -0.23983109,  0.        ]])"
      ]
     },
     "execution_count": 35,
     "metadata": {},
     "output_type": "execute_result"
    }
   ],
   "source": [
    "K_dfdx"
   ]
  },
  {
   "cell_type": "code",
   "execution_count": 75,
   "metadata": {},
   "outputs": [
    {
     "data": {
      "text/plain": [
       "0.5"
      ]
     },
     "execution_count": 75,
     "metadata": {},
     "output_type": "execute_result"
    }
   ],
   "source": [
    "gamma"
   ]
  },
  {
   "cell_type": "code",
   "execution_count": 81,
   "metadata": {},
   "outputs": [
    {
     "data": {
      "text/plain": [
       "array([[-1.        , -0.98012864, -0.92203339, -0.71101294, -0.35054218],\n",
       "       [-0.98012864, -1.        , -0.98012864, -0.83008919, -0.49988795],\n",
       "       [-0.92203339, -0.98012864, -1.        , -0.92203339, -0.64385531],\n",
       "       [-0.71101294, -0.83008919, -0.92203339, -1.        , -0.8799195 ],\n",
       "       [-0.35054218, -0.49988795, -0.64385531, -0.8799195 , -1.        ]])"
      ]
     },
     "execution_count": 81,
     "metadata": {},
     "output_type": "execute_result"
    }
   ],
   "source": [
    "K_separable_rx_PQK_dxdx(X,X,0.5)"
   ]
  },
  {
   "cell_type": "code",
   "execution_count": 37,
   "metadata": {},
   "outputs": [
    {
     "data": {
      "text/plain": [
       "array([[-1.        , -0.98567164, -0.9458699 , -0.81861963, -0.64146701],\n",
       "       [-0.98539143, -1.        , -0.98644523, -0.89595584, -0.73039335],\n",
       "       [-0.94308513, -0.98602764, -1.        , -0.95336843, -0.81195068],\n",
       "       [-0.7921432 , -0.88351708, -0.94948808, -1.        , -0.93858248],\n",
       "       [-0.54166343, -0.66745102, -0.77811385, -0.93412041, -1.        ]])"
      ]
     },
     "execution_count": 37,
     "metadata": {},
     "output_type": "execute_result"
    }
   ],
   "source": [
    "K_dfdxdx"
   ]
  },
  {
   "cell_type": "code",
   "execution_count": null,
   "metadata": {},
   "outputs": [],
   "source": []
  }
 ],
 "metadata": {
  "kernelspec": {
   "display_name": "Python 3",
   "language": "python",
   "name": "python3"
  },
  "language_info": {
   "codemirror_mode": {
    "name": "ipython",
    "version": 3
   },
   "file_extension": ".py",
   "mimetype": "text/x-python",
   "name": "python",
   "nbconvert_exporter": "python",
   "pygments_lexer": "ipython3",
   "version": "3.10.11"
  }
 },
 "nbformat": 4,
 "nbformat_minor": 2
}

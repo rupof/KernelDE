{
 "cells": [
  {
   "cell_type": "markdown",
   "metadata": {},
   "source": [
    "Hi David, before I forget,  about the PauliOp problem I told you at lunch on Tuesday. This is how I had originally found the error:\n",
    "\n",
    "`CustomObservables` not parameterized returns an error using pennylane, whereas qiskit works well.\n",
    "\n",
    "1. Doing:\n",
    "\n",
    "```\n",
    "\n",
    "observable = CustomObservable(num_qubits, [\"Z\", \"I\"], parameterized=False)\n",
    "param_obs = []\n",
    "qnn.evaluate(x_array, [], param_obs, \"f\")[\"f\"]\n",
    "\n",
    "```\n",
    "returns a pennylane error but not a qiskit error.\n",
    "\n",
    "2. However, doing:\n",
    "\n",
    "```\n",
    "\n",
    "observable = CustomObservable(num_qubits, [\"Z\", \"I\"], parameterized=True)\n",
    "param_obs = [(1) for i in range(observable.num_parameters)] # real coefficients\n",
    "qnn.evaluate(x_array, [], param_obs, \"f\")[\"f\"]\n",
    "\n",
    "```\n",
    "\n",
    "Works fine.\n",
    "\n",
    "See the two examples below\n",
    "\n",
    "\n"
   ]
  },
  {
   "cell_type": "code",
   "execution_count": 1,
   "metadata": {},
   "outputs": [
    {
     "name": "stdout",
     "output_type": "stream",
     "text": [
      "Observable \n",
      " SparsePauliOp(['Z', 'I'],\n",
      "              coeffs=[ParameterExpression(1.0*p[0]), ParameterExpression(1.0*p[1])])\n",
      "Qiskit with real coefficients for the observable \n",
      "f  [1.73168887 1.99500417]\n",
      "dfdx [[-0.68163876]\n",
      " [-0.09983342]]\n",
      "dfdop [[0.73168887 1.        ]\n",
      " [0.99500417 1.        ]]\n",
      "Pennylane with real coefficients for the observable\n",
      "f [1.73168887 1.99500417]\n",
      "dfdx [[-0.68163876]\n",
      " [-0.09983342]]\n",
      "dfdop [[0 1]\n",
      " [0 1]]\n"
     ]
    }
   ],
   "source": [
    "\n",
    "from squlearn.observables import *\n",
    "from squlearn.encoding_circuit import QiskitEncodingCircuit, LayeredEncodingCircuit\n",
    "import numpy as np\n",
    "from squlearn.qnn.lowlevel_qnn import LowLevelQNN\n",
    "from squlearn import Executor\n",
    "from squlearn.observables import CustomObservable\n",
    "import numpy as np\n",
    "\n",
    "\n",
    "num_qubits = 1\n",
    "x_array = np.array([[0.75], \n",
    "                    [0.1]])\n",
    "circuit = LayeredEncodingCircuit(num_qubits, 1, \"x\", )\n",
    "circuit.Rx(\"x\") \n",
    "\n",
    "observable = CustomObservable(num_qubits, [\"Z\", \"I\"], parameterized=True)\n",
    "param_obs = [(1) for i in range(observable.num_parameters)] # real coefficients\n",
    "print(\"Observable \\n\", observable)\n",
    "\n",
    "qnn_pennylane = LowLevelQNN(circuit, observable, Executor(\"pennylane\"))\n",
    "qnn_qiskit = LowLevelQNN(circuit, observable, Executor(\"qiskit\"))\n",
    "\n",
    "\n",
    "print(\"Qiskit with real coefficients for the observable \")\n",
    "print(\"f \", qnn_qiskit.evaluate(x_array, [], param_obs, \"f\")[\"f\"])\n",
    "print(\"dfdx\", qnn_qiskit.evaluate(x_array, [], param_obs, \"dfdx\")[\"dfdx\"])\n",
    "print(\"dfdop\", qnn_qiskit.evaluate(x_array, [], param_obs, \"dfdop\")[\"dfdop\"])\n",
    "\n",
    "print(\"Pennylane with real coefficients for the observable\") \n",
    "print(\"f\", qnn_pennylane.evaluate(x_array, [], param_obs, \"f\")[\"f\"])\n",
    "print(\"dfdx\", qnn_pennylane.evaluate(x_array, [], param_obs, \"dfdx\")[\"dfdx\"])\n",
    "print(\"dfdop\", qnn_pennylane.evaluate(x_array, [], param_obs, \"dfdop\")[\"dfdop\"])\n"
   ]
  },
  {
   "cell_type": "code",
   "execution_count": 2,
   "metadata": {},
   "outputs": [
    {
     "name": "stdout",
     "output_type": "stream",
     "text": [
      "Observable \n",
      " SparsePauliOp(['Z', 'I'],\n",
      "              coeffs=[1.+0.j, 1.+0.j])\n",
      "Qiskit with real coefficients for the observable \n",
      "f  [1.73168887 1.99500417]\n",
      "dfdx [[-0.68163876]\n",
      " [-0.09983342]]\n",
      "dfdop []\n",
      "Pennylane with real coefficients for the observable\n"
     ]
    },
    {
     "ename": "TypeError",
     "evalue": "unsupported operand type(s) for +: 'ExpectationMP' and 'ExpectationMP'",
     "output_type": "error",
     "traceback": [
      "\u001b[1;31m---------------------------------------------------------------------------\u001b[0m",
      "\u001b[1;31mTypeError\u001b[0m                                 Traceback (most recent call last)",
      "Cell \u001b[1;32mIn[2], line 30\u001b[0m\n\u001b[0;32m     27\u001b[0m \u001b[38;5;28mprint\u001b[39m(\u001b[38;5;124m\"\u001b[39m\u001b[38;5;124mdfdop\u001b[39m\u001b[38;5;124m\"\u001b[39m, qnn_qiskit\u001b[38;5;241m.\u001b[39mevaluate(x_array, [], param_obs, \u001b[38;5;124m\"\u001b[39m\u001b[38;5;124mdfdop\u001b[39m\u001b[38;5;124m\"\u001b[39m)[\u001b[38;5;124m\"\u001b[39m\u001b[38;5;124mdfdop\u001b[39m\u001b[38;5;124m\"\u001b[39m])\n\u001b[0;32m     29\u001b[0m \u001b[38;5;28mprint\u001b[39m(\u001b[38;5;124m\"\u001b[39m\u001b[38;5;124mPennylane with real coefficients for the observable\u001b[39m\u001b[38;5;124m\"\u001b[39m) \n\u001b[1;32m---> 30\u001b[0m \u001b[38;5;28mprint\u001b[39m(\u001b[38;5;124m\"\u001b[39m\u001b[38;5;124mf\u001b[39m\u001b[38;5;124m\"\u001b[39m, \u001b[43mqnn_pennylane\u001b[49m\u001b[38;5;241;43m.\u001b[39;49m\u001b[43mevaluate\u001b[49m\u001b[43m(\u001b[49m\u001b[43mx_array\u001b[49m\u001b[43m,\u001b[49m\u001b[43m \u001b[49m\u001b[43m[\u001b[49m\u001b[43m]\u001b[49m\u001b[43m,\u001b[49m\u001b[43m \u001b[49m\u001b[43mparam_obs\u001b[49m\u001b[43m,\u001b[49m\u001b[43m \u001b[49m\u001b[38;5;124;43m\"\u001b[39;49m\u001b[38;5;124;43mf\u001b[39;49m\u001b[38;5;124;43m\"\u001b[39;49m\u001b[43m)\u001b[49m[\u001b[38;5;124m\"\u001b[39m\u001b[38;5;124mf\u001b[39m\u001b[38;5;124m\"\u001b[39m])\n\u001b[0;32m     31\u001b[0m \u001b[38;5;28mprint\u001b[39m(\u001b[38;5;124m\"\u001b[39m\u001b[38;5;124mdfdx\u001b[39m\u001b[38;5;124m\"\u001b[39m, qnn_pennylane\u001b[38;5;241m.\u001b[39mevaluate(x_array, [], param_obs, \u001b[38;5;124m\"\u001b[39m\u001b[38;5;124mdfdx\u001b[39m\u001b[38;5;124m\"\u001b[39m)[\u001b[38;5;124m\"\u001b[39m\u001b[38;5;124mdfdx\u001b[39m\u001b[38;5;124m\"\u001b[39m])\n\u001b[0;32m     32\u001b[0m \u001b[38;5;28mprint\u001b[39m(\u001b[38;5;124m\"\u001b[39m\u001b[38;5;124mdfdop\u001b[39m\u001b[38;5;124m\"\u001b[39m, qnn_pennylane\u001b[38;5;241m.\u001b[39mevaluate(x_array, [], param_obs, \u001b[38;5;124m\"\u001b[39m\u001b[38;5;124mdfdop\u001b[39m\u001b[38;5;124m\"\u001b[39m)[\u001b[38;5;124m\"\u001b[39m\u001b[38;5;124mdfdop\u001b[39m\u001b[38;5;124m\"\u001b[39m])\n",
      "File \u001b[1;32mc:\\Users\\jsl-rf\\Desktop\\KernelsDE\\.venv\\lib\\site-packages\\squlearn\\qnn\\lowlevel_qnn_pennylane.py:402\u001b[0m, in \u001b[0;36mLowLevelQNNPennyLane.evaluate\u001b[1;34m(self, x, param, param_obs, *values)\u001b[0m\n\u001b[0;32m    397\u001b[0m     output \u001b[38;5;241m=\u001b[39m np\u001b[38;5;241m.\u001b[39marray(output)\n\u001b[0;32m    399\u001b[0m \u001b[38;5;28;01melse\u001b[39;00m:\n\u001b[0;32m    400\u001b[0m     \u001b[38;5;66;03m# evaluate only param, param_op combination separately and all x together\u001b[39;00m\n\u001b[0;32m    401\u001b[0m     \u001b[38;5;66;03m# Faster evaluation for lower-order derivatives\u001b[39;00m\n\u001b[1;32m--> 402\u001b[0m     output \u001b[38;5;241m=\u001b[39m [\n\u001b[0;32m    403\u001b[0m         \u001b[38;5;28mself\u001b[39m\u001b[38;5;241m.\u001b[39m_evaluate_todo_all_x(todo_class, x_inpT, param_inp_, param_obs_inp_)\n\u001b[0;32m    404\u001b[0m         \u001b[38;5;28;01mfor\u001b[39;00m param_inp_ \u001b[38;5;129;01min\u001b[39;00m param_inp\n\u001b[0;32m    405\u001b[0m         \u001b[38;5;28;01mfor\u001b[39;00m param_obs_inp_ \u001b[38;5;129;01min\u001b[39;00m param_obs_inp\n\u001b[0;32m    406\u001b[0m     ]\n\u001b[0;32m    407\u001b[0m     \u001b[38;5;66;03m# Restore order of _evaluate_todo_single_x\u001b[39;00m\n\u001b[0;32m    408\u001b[0m     output \u001b[38;5;241m=\u001b[39m np\u001b[38;5;241m.\u001b[39marray(output)\n",
      "File \u001b[1;32mc:\\Users\\jsl-rf\\Desktop\\KernelsDE\\.venv\\lib\\site-packages\\squlearn\\qnn\\lowlevel_qnn_pennylane.py:403\u001b[0m, in \u001b[0;36m<listcomp>\u001b[1;34m(.0)\u001b[0m\n\u001b[0;32m    397\u001b[0m     output \u001b[38;5;241m=\u001b[39m np\u001b[38;5;241m.\u001b[39marray(output)\n\u001b[0;32m    399\u001b[0m \u001b[38;5;28;01melse\u001b[39;00m:\n\u001b[0;32m    400\u001b[0m     \u001b[38;5;66;03m# evaluate only param, param_op combination separately and all x together\u001b[39;00m\n\u001b[0;32m    401\u001b[0m     \u001b[38;5;66;03m# Faster evaluation for lower-order derivatives\u001b[39;00m\n\u001b[0;32m    402\u001b[0m     output \u001b[38;5;241m=\u001b[39m [\n\u001b[1;32m--> 403\u001b[0m         \u001b[38;5;28;43mself\u001b[39;49m\u001b[38;5;241;43m.\u001b[39;49m\u001b[43m_evaluate_todo_all_x\u001b[49m\u001b[43m(\u001b[49m\u001b[43mtodo_class\u001b[49m\u001b[43m,\u001b[49m\u001b[43m \u001b[49m\u001b[43mx_inpT\u001b[49m\u001b[43m,\u001b[49m\u001b[43m \u001b[49m\u001b[43mparam_inp_\u001b[49m\u001b[43m,\u001b[49m\u001b[43m \u001b[49m\u001b[43mparam_obs_inp_\u001b[49m\u001b[43m)\u001b[49m\n\u001b[0;32m    404\u001b[0m         \u001b[38;5;28;01mfor\u001b[39;00m param_inp_ \u001b[38;5;129;01min\u001b[39;00m param_inp\n\u001b[0;32m    405\u001b[0m         \u001b[38;5;28;01mfor\u001b[39;00m param_obs_inp_ \u001b[38;5;129;01min\u001b[39;00m param_obs_inp\n\u001b[0;32m    406\u001b[0m     ]\n\u001b[0;32m    407\u001b[0m     \u001b[38;5;66;03m# Restore order of _evaluate_todo_single_x\u001b[39;00m\n\u001b[0;32m    408\u001b[0m     output \u001b[38;5;241m=\u001b[39m np\u001b[38;5;241m.\u001b[39marray(output)\n",
      "File \u001b[1;32mc:\\Users\\jsl-rf\\Desktop\\KernelsDE\\.venv\\lib\\site-packages\\squlearn\\qnn\\lowlevel_qnn_pennylane.py:593\u001b[0m, in \u001b[0;36mLowLevelQNNPennyLane._evaluate_todo_all_x\u001b[1;34m(self, todo_class, x, param, param_obs)\u001b[0m\n\u001b[0;32m    588\u001b[0m     argnum_dict[\u001b[38;5;241m2\u001b[39m] \u001b[38;5;241m=\u001b[39m \u001b[38;5;28;01mNone\u001b[39;00m\n\u001b[0;32m    590\u001b[0m \u001b[38;5;28;01mif\u001b[39;00m todo_class\u001b[38;5;241m.\u001b[39morder \u001b[38;5;241m==\u001b[39m \u001b[38;5;241m0\u001b[39m:\n\u001b[0;32m    591\u001b[0m     \u001b[38;5;66;03m# Plain function evaluation\u001b[39;00m\n\u001b[0;32m    592\u001b[0m     \u001b[38;5;66;03m# value = func(*eval_tuple)\u001b[39;00m\n\u001b[1;32m--> 593\u001b[0m     value \u001b[38;5;241m=\u001b[39m \u001b[38;5;28;43mself\u001b[39;49m\u001b[38;5;241;43m.\u001b[39;49m\u001b[43m_executor\u001b[49m\u001b[38;5;241;43m.\u001b[39;49m\u001b[43mpennylane_execute\u001b[49m\u001b[43m(\u001b[49m\u001b[43mfunc\u001b[49m\u001b[43m,\u001b[49m\u001b[43m \u001b[49m\u001b[38;5;241;43m*\u001b[39;49m\u001b[43m(\u001b[49m\u001b[43meval_tuple\u001b[49m\u001b[43m)\u001b[49m\u001b[43m)\u001b[49m\n\u001b[0;32m    594\u001b[0m \u001b[38;5;28;01melif\u001b[39;00m todo_class\u001b[38;5;241m.\u001b[39morder \u001b[38;5;241m>\u001b[39m \u001b[38;5;241m0\u001b[39m:\n\u001b[0;32m    595\u001b[0m     \u001b[38;5;66;03m# Generate iterative derivative function for higher order derivatives\u001b[39;00m\n\u001b[0;32m    596\u001b[0m     order \u001b[38;5;241m=\u001b[39m todo_class\u001b[38;5;241m.\u001b[39morder \u001b[38;5;241m-\u001b[39m \u001b[38;5;241m1\u001b[39m\n",
      "File \u001b[1;32mc:\\Users\\jsl-rf\\Desktop\\KernelsDE\\.venv\\lib\\site-packages\\squlearn\\util\\executor.py:483\u001b[0m, in \u001b[0;36mExecutor.pennylane_execute\u001b[1;34m(self, pennylane_circuit, *args, **kwargs)\u001b[0m\n\u001b[0;32m    480\u001b[0m     \u001b[38;5;28;01mreturn\u001b[39;00m pennylane_circuit(\u001b[38;5;241m*\u001b[39margs, \u001b[38;5;241m*\u001b[39m\u001b[38;5;241m*\u001b[39mkwargs)\n\u001b[0;32m    482\u001b[0m \u001b[38;5;66;03m# Call function for cached execution\u001b[39;00m\n\u001b[1;32m--> 483\u001b[0m \u001b[38;5;28;01mreturn\u001b[39;00m \u001b[38;5;28;43mself\u001b[39;49m\u001b[38;5;241;43m.\u001b[39;49m\u001b[43m_pennylane_execute_cached\u001b[49m\u001b[43m(\u001b[49m\u001b[43mexecute_circuit\u001b[49m\u001b[43m,\u001b[49m\u001b[43m \u001b[49m\u001b[43mhash_value\u001b[49m\u001b[43m)\u001b[49m\n",
      "File \u001b[1;32mc:\\Users\\jsl-rf\\Desktop\\KernelsDE\\.venv\\lib\\site-packages\\squlearn\\util\\executor.py:616\u001b[0m, in \u001b[0;36mExecutor._pennylane_execute_cached\u001b[1;34m(self, function, hash_value)\u001b[0m\n\u001b[0;32m    614\u001b[0m     \u001b[38;5;28;01mif\u001b[39;00m critical_error:\n\u001b[0;32m    615\u001b[0m         \u001b[38;5;28mself\u001b[39m\u001b[38;5;241m.\u001b[39m_logger\u001b[38;5;241m.\u001b[39minfo(\u001b[38;5;124mf\u001b[39m\u001b[38;5;124m\"\u001b[39m\u001b[38;5;124mCritical error detected; abort execution\u001b[39m\u001b[38;5;124m\"\u001b[39m)\n\u001b[1;32m--> 616\u001b[0m         \u001b[38;5;28;01mraise\u001b[39;00m critical_error_message\n\u001b[0;32m    618\u001b[0m \u001b[38;5;28;01mif\u001b[39;00m success \u001b[38;5;129;01mis\u001b[39;00m \u001b[38;5;129;01mnot\u001b[39;00m \u001b[38;5;28;01mTrue\u001b[39;00m:\n\u001b[0;32m    619\u001b[0m     \u001b[38;5;28;01mraise\u001b[39;00m \u001b[38;5;167;01mRuntimeError\u001b[39;00m(\n\u001b[0;32m    620\u001b[0m         \u001b[38;5;124mf\u001b[39m\u001b[38;5;124m\"\u001b[39m\u001b[38;5;124mCould not run job successfully after \u001b[39m\u001b[38;5;130;01m{{\u001b[39;00m\u001b[38;5;130;01m}}\u001b[39;00m\u001b[38;5;124m retries\u001b[39m\u001b[38;5;124m\"\u001b[39m\u001b[38;5;241m.\u001b[39mformat(\u001b[38;5;28mself\u001b[39m\u001b[38;5;241m.\u001b[39m_max_jobs_retries)\n\u001b[0;32m    621\u001b[0m     )\n",
      "File \u001b[1;32mc:\\Users\\jsl-rf\\Desktop\\KernelsDE\\.venv\\lib\\site-packages\\squlearn\\util\\executor.py:577\u001b[0m, in \u001b[0;36mExecutor._pennylane_execute_cached\u001b[1;34m(self, function, hash_value)\u001b[0m\n\u001b[0;32m    571\u001b[0m     \u001b[38;5;66;03m# Execute the circuit todo: implement restart\u001b[39;00m\n\u001b[0;32m    572\u001b[0m     \u001b[38;5;28mself\u001b[39m\u001b[38;5;241m.\u001b[39m_logger\u001b[38;5;241m.\u001b[39minfo(\n\u001b[0;32m    573\u001b[0m         \u001b[38;5;124mf\u001b[39m\u001b[38;5;124m\"\u001b[39m\u001b[38;5;124mExecutor start execution of pennylane circuit with hash value: \u001b[39m\u001b[38;5;130;01m{{\u001b[39;00m\u001b[38;5;130;01m}}\u001b[39;00m\u001b[38;5;124m\"\u001b[39m\u001b[38;5;241m.\u001b[39mformat(\n\u001b[0;32m    574\u001b[0m             hash_value\n\u001b[0;32m    575\u001b[0m         )\n\u001b[0;32m    576\u001b[0m     )\n\u001b[1;32m--> 577\u001b[0m     result \u001b[38;5;241m=\u001b[39m \u001b[43mfunction\u001b[49m\u001b[43m(\u001b[49m\u001b[43m)\u001b[49m\n\u001b[0;32m    578\u001b[0m     \u001b[38;5;28mself\u001b[39m\u001b[38;5;241m.\u001b[39m_logger\u001b[38;5;241m.\u001b[39minfo(\u001b[38;5;124mf\u001b[39m\u001b[38;5;124m\"\u001b[39m\u001b[38;5;124mExecution of pennylane circuit successful\u001b[39m\u001b[38;5;124m\"\u001b[39m)\n\u001b[0;32m    579\u001b[0m \u001b[38;5;28;01melse\u001b[39;00m:\n",
      "File \u001b[1;32mc:\\Users\\jsl-rf\\Desktop\\KernelsDE\\.venv\\lib\\site-packages\\squlearn\\util\\executor.py:480\u001b[0m, in \u001b[0;36mExecutor.pennylane_execute.<locals>.execute_circuit\u001b[1;34m()\u001b[0m\n\u001b[0;32m    479\u001b[0m \u001b[38;5;28;01mdef\u001b[39;00m \u001b[38;5;21mexecute_circuit\u001b[39m():\n\u001b[1;32m--> 480\u001b[0m     \u001b[38;5;28;01mreturn\u001b[39;00m pennylane_circuit(\u001b[38;5;241m*\u001b[39margs, \u001b[38;5;241m*\u001b[39m\u001b[38;5;241m*\u001b[39mkwargs)\n",
      "File \u001b[1;32mc:\\Users\\jsl-rf\\Desktop\\KernelsDE\\.venv\\lib\\site-packages\\squlearn\\util\\pennylane\\pennylane_circuit.py:234\u001b[0m, in \u001b[0;36mPennyLaneCircuit.__call__\u001b[1;34m(self, *args, **kwargs)\u001b[0m\n\u001b[0;32m    233\u001b[0m \u001b[38;5;28;01mdef\u001b[39;00m \u001b[38;5;21m__call__\u001b[39m(\u001b[38;5;28mself\u001b[39m, \u001b[38;5;241m*\u001b[39margs, \u001b[38;5;241m*\u001b[39m\u001b[38;5;241m*\u001b[39mkwargs):\n\u001b[1;32m--> 234\u001b[0m     \u001b[38;5;28;01mreturn\u001b[39;00m \u001b[38;5;28mself\u001b[39m\u001b[38;5;241m.\u001b[39m_pennylane_circuit(\u001b[38;5;241m*\u001b[39margs, \u001b[38;5;241m*\u001b[39m\u001b[38;5;241m*\u001b[39mkwargs)\n",
      "File \u001b[1;32mc:\\Users\\jsl-rf\\Desktop\\KernelsDE\\.venv\\lib\\site-packages\\pennylane\\workflow\\qnode.py:1002\u001b[0m, in \u001b[0;36mQNode.__call__\u001b[1;34m(self, *args, **kwargs)\u001b[0m\n\u001b[0;32m    999\u001b[0m         kwargs[\u001b[38;5;124m\"\u001b[39m\u001b[38;5;124mshots\u001b[39m\u001b[38;5;124m\"\u001b[39m] \u001b[38;5;241m=\u001b[39m _get_device_shots(\u001b[38;5;28mself\u001b[39m\u001b[38;5;241m.\u001b[39m_original_device)\n\u001b[0;32m   1001\u001b[0m \u001b[38;5;66;03m# construct the tape\u001b[39;00m\n\u001b[1;32m-> 1002\u001b[0m \u001b[38;5;28;43mself\u001b[39;49m\u001b[38;5;241;43m.\u001b[39;49m\u001b[43mconstruct\u001b[49m\u001b[43m(\u001b[49m\u001b[43margs\u001b[49m\u001b[43m,\u001b[49m\u001b[43m \u001b[49m\u001b[43mkwargs\u001b[49m\u001b[43m)\u001b[49m\n\u001b[0;32m   1004\u001b[0m cache \u001b[38;5;241m=\u001b[39m \u001b[38;5;28mself\u001b[39m\u001b[38;5;241m.\u001b[39mexecute_kwargs\u001b[38;5;241m.\u001b[39mget(\u001b[38;5;124m\"\u001b[39m\u001b[38;5;124mcache\u001b[39m\u001b[38;5;124m\"\u001b[39m, \u001b[38;5;28;01mFalse\u001b[39;00m)\n\u001b[0;32m   1005\u001b[0m using_custom_cache \u001b[38;5;241m=\u001b[39m (\n\u001b[0;32m   1006\u001b[0m     \u001b[38;5;28mhasattr\u001b[39m(cache, \u001b[38;5;124m\"\u001b[39m\u001b[38;5;124m__getitem__\u001b[39m\u001b[38;5;124m\"\u001b[39m)\n\u001b[0;32m   1007\u001b[0m     \u001b[38;5;129;01mand\u001b[39;00m \u001b[38;5;28mhasattr\u001b[39m(cache, \u001b[38;5;124m\"\u001b[39m\u001b[38;5;124m__setitem__\u001b[39m\u001b[38;5;124m\"\u001b[39m)\n\u001b[0;32m   1008\u001b[0m     \u001b[38;5;129;01mand\u001b[39;00m \u001b[38;5;28mhasattr\u001b[39m(cache, \u001b[38;5;124m\"\u001b[39m\u001b[38;5;124m__delitem__\u001b[39m\u001b[38;5;124m\"\u001b[39m)\n\u001b[0;32m   1009\u001b[0m )\n",
      "File \u001b[1;32mc:\\Users\\jsl-rf\\Desktop\\KernelsDE\\.venv\\lib\\site-packages\\pennylane\\workflow\\qnode.py:888\u001b[0m, in \u001b[0;36mQNode.construct\u001b[1;34m(self, args, kwargs)\u001b[0m\n\u001b[0;32m    885\u001b[0m     \u001b[38;5;28mself\u001b[39m\u001b[38;5;241m.\u001b[39minterface \u001b[38;5;241m=\u001b[39m qml\u001b[38;5;241m.\u001b[39mmath\u001b[38;5;241m.\u001b[39mget_interface(\u001b[38;5;241m*\u001b[39margs, \u001b[38;5;241m*\u001b[39m\u001b[38;5;28mlist\u001b[39m(kwargs\u001b[38;5;241m.\u001b[39mvalues()))\n\u001b[0;32m    887\u001b[0m \u001b[38;5;28;01mwith\u001b[39;00m qml\u001b[38;5;241m.\u001b[39mqueuing\u001b[38;5;241m.\u001b[39mAnnotatedQueue() \u001b[38;5;28;01mas\u001b[39;00m q:\n\u001b[1;32m--> 888\u001b[0m     \u001b[38;5;28mself\u001b[39m\u001b[38;5;241m.\u001b[39m_qfunc_output \u001b[38;5;241m=\u001b[39m \u001b[38;5;28mself\u001b[39m\u001b[38;5;241m.\u001b[39mfunc(\u001b[38;5;241m*\u001b[39margs, \u001b[38;5;241m*\u001b[39m\u001b[38;5;241m*\u001b[39mkwargs)\n\u001b[0;32m    890\u001b[0m \u001b[38;5;28mself\u001b[39m\u001b[38;5;241m.\u001b[39m_tape \u001b[38;5;241m=\u001b[39m QuantumScript\u001b[38;5;241m.\u001b[39mfrom_queue(q, shots)\n\u001b[0;32m    892\u001b[0m params \u001b[38;5;241m=\u001b[39m \u001b[38;5;28mself\u001b[39m\u001b[38;5;241m.\u001b[39mtape\u001b[38;5;241m.\u001b[39mget_parameters(trainable_only\u001b[38;5;241m=\u001b[39m\u001b[38;5;28;01mFalse\u001b[39;00m)\n",
      "File \u001b[1;32mc:\\Users\\jsl-rf\\Desktop\\KernelsDE\\.venv\\lib\\site-packages\\squlearn\\util\\pennylane\\pennylane_circuit.py:581\u001b[0m, in \u001b[0;36mPennyLaneCircuit.build_pennylane_circuit.<locals>.pennylane_circuit\u001b[1;34m(*args)\u001b[0m\n\u001b[0;32m    576\u001b[0m     \u001b[38;5;28;01mreturn\u001b[39;00m qml\u001b[38;5;241m.\u001b[39mexpval(qml\u001b[38;5;241m.\u001b[39mHamiltonian(coeff_list, \u001b[38;5;28mself\u001b[39m\u001b[38;5;241m.\u001b[39m_pennylane_words))\n\u001b[0;32m    577\u001b[0m \u001b[38;5;28;01melse\u001b[39;00m:\n\u001b[0;32m    578\u001b[0m     \u001b[38;5;66;03m# In case no parameters are present in the observable\u001b[39;00m\n\u001b[0;32m    579\u001b[0m     \u001b[38;5;66;03m# Calculate the expectation value of the single observables\u001b[39;00m\n\u001b[0;32m    580\u001b[0m     \u001b[38;5;66;03m# since this is more compatible with hardware backends\u001b[39;00m\n\u001b[1;32m--> 581\u001b[0m     \u001b[38;5;28;01mreturn\u001b[39;00m \u001b[43mpnp\u001b[49m\u001b[38;5;241;43m.\u001b[39;49m\u001b[43msum\u001b[49m\u001b[43m(\u001b[49m\u001b[43m[\u001b[49m\u001b[43mqml\u001b[49m\u001b[38;5;241;43m.\u001b[39;49m\u001b[43mexpval\u001b[49m\u001b[43m(\u001b[49m\u001b[43mobs\u001b[49m\u001b[43m)\u001b[49m\u001b[43m \u001b[49m\u001b[38;5;28;43;01mfor\u001b[39;49;00m\u001b[43m \u001b[49m\u001b[43mobs\u001b[49m\u001b[43m \u001b[49m\u001b[38;5;129;43;01min\u001b[39;49;00m\u001b[43m \u001b[49m\u001b[38;5;28;43mself\u001b[39;49m\u001b[38;5;241;43m.\u001b[39;49m\u001b[43m_pennylane_words\u001b[49m\u001b[43m]\u001b[49m\u001b[43m)\u001b[49m\n",
      "File \u001b[1;32mc:\\Users\\jsl-rf\\Desktop\\KernelsDE\\.venv\\lib\\site-packages\\pennylane\\numpy\\wrapper.py:117\u001b[0m, in \u001b[0;36mtensor_wrapper.<locals>._wrapped\u001b[1;34m(*args, **kwargs)\u001b[0m\n\u001b[0;32m    114\u001b[0m         tensor_kwargs[\u001b[38;5;124m\"\u001b[39m\u001b[38;5;124mrequires_grad\u001b[39m\u001b[38;5;124m\"\u001b[39m] \u001b[38;5;241m=\u001b[39m _np\u001b[38;5;241m.\u001b[39many([i\u001b[38;5;241m.\u001b[39mrequires_grad \u001b[38;5;28;01mfor\u001b[39;00m i \u001b[38;5;129;01min\u001b[39;00m tensor_args])\n\u001b[0;32m    116\u001b[0m \u001b[38;5;66;03m# evaluate the original object\u001b[39;00m\n\u001b[1;32m--> 117\u001b[0m res \u001b[38;5;241m=\u001b[39m obj(\u001b[38;5;241m*\u001b[39margs, \u001b[38;5;241m*\u001b[39m\u001b[38;5;241m*\u001b[39mkwargs)\n\u001b[0;32m    119\u001b[0m \u001b[38;5;28;01mif\u001b[39;00m \u001b[38;5;28misinstance\u001b[39m(res, _np\u001b[38;5;241m.\u001b[39mndarray):\n\u001b[0;32m    120\u001b[0m     \u001b[38;5;66;03m# only if the output of the object is a ndarray,\u001b[39;00m\n\u001b[0;32m    121\u001b[0m     \u001b[38;5;66;03m# then convert to a PennyLane tensor\u001b[39;00m\n\u001b[0;32m    122\u001b[0m     res \u001b[38;5;241m=\u001b[39m tensor(res, \u001b[38;5;241m*\u001b[39m\u001b[38;5;241m*\u001b[39mtensor_kwargs)\n",
      "File \u001b[1;32mc:\\Users\\jsl-rf\\Desktop\\KernelsDE\\.venv\\lib\\site-packages\\autograd\\tracer.py:48\u001b[0m, in \u001b[0;36mprimitive.<locals>.f_wrapped\u001b[1;34m(*args, **kwargs)\u001b[0m\n\u001b[0;32m     46\u001b[0m     \u001b[38;5;28;01mreturn\u001b[39;00m new_box(ans, trace, node)\n\u001b[0;32m     47\u001b[0m \u001b[38;5;28;01melse\u001b[39;00m:\n\u001b[1;32m---> 48\u001b[0m     \u001b[38;5;28;01mreturn\u001b[39;00m f_raw(\u001b[38;5;241m*\u001b[39margs, \u001b[38;5;241m*\u001b[39m\u001b[38;5;241m*\u001b[39mkwargs)\n",
      "File \u001b[1;32mc:\\Users\\jsl-rf\\Desktop\\KernelsDE\\.venv\\lib\\site-packages\\numpy\\core\\fromnumeric.py:2313\u001b[0m, in \u001b[0;36msum\u001b[1;34m(a, axis, dtype, out, keepdims, initial, where)\u001b[0m\n\u001b[0;32m   2310\u001b[0m         \u001b[38;5;28;01mreturn\u001b[39;00m out\n\u001b[0;32m   2311\u001b[0m     \u001b[38;5;28;01mreturn\u001b[39;00m res\n\u001b[1;32m-> 2313\u001b[0m \u001b[38;5;28;01mreturn\u001b[39;00m \u001b[43m_wrapreduction\u001b[49m\u001b[43m(\u001b[49m\u001b[43ma\u001b[49m\u001b[43m,\u001b[49m\u001b[43m \u001b[49m\u001b[43mnp\u001b[49m\u001b[38;5;241;43m.\u001b[39;49m\u001b[43madd\u001b[49m\u001b[43m,\u001b[49m\u001b[43m \u001b[49m\u001b[38;5;124;43m'\u001b[39;49m\u001b[38;5;124;43msum\u001b[39;49m\u001b[38;5;124;43m'\u001b[39;49m\u001b[43m,\u001b[49m\u001b[43m \u001b[49m\u001b[43maxis\u001b[49m\u001b[43m,\u001b[49m\u001b[43m \u001b[49m\u001b[43mdtype\u001b[49m\u001b[43m,\u001b[49m\u001b[43m \u001b[49m\u001b[43mout\u001b[49m\u001b[43m,\u001b[49m\u001b[43m \u001b[49m\u001b[43mkeepdims\u001b[49m\u001b[38;5;241;43m=\u001b[39;49m\u001b[43mkeepdims\u001b[49m\u001b[43m,\u001b[49m\n\u001b[0;32m   2314\u001b[0m \u001b[43m                      \u001b[49m\u001b[43minitial\u001b[49m\u001b[38;5;241;43m=\u001b[39;49m\u001b[43minitial\u001b[49m\u001b[43m,\u001b[49m\u001b[43m \u001b[49m\u001b[43mwhere\u001b[49m\u001b[38;5;241;43m=\u001b[39;49m\u001b[43mwhere\u001b[49m\u001b[43m)\u001b[49m\n",
      "File \u001b[1;32mc:\\Users\\jsl-rf\\Desktop\\KernelsDE\\.venv\\lib\\site-packages\\numpy\\core\\fromnumeric.py:88\u001b[0m, in \u001b[0;36m_wrapreduction\u001b[1;34m(obj, ufunc, method, axis, dtype, out, **kwargs)\u001b[0m\n\u001b[0;32m     85\u001b[0m         \u001b[38;5;28;01melse\u001b[39;00m:\n\u001b[0;32m     86\u001b[0m             \u001b[38;5;28;01mreturn\u001b[39;00m reduction(axis\u001b[38;5;241m=\u001b[39maxis, out\u001b[38;5;241m=\u001b[39mout, \u001b[38;5;241m*\u001b[39m\u001b[38;5;241m*\u001b[39mpasskwargs)\n\u001b[1;32m---> 88\u001b[0m \u001b[38;5;28;01mreturn\u001b[39;00m ufunc\u001b[38;5;241m.\u001b[39mreduce(obj, axis, dtype, out, \u001b[38;5;241m*\u001b[39m\u001b[38;5;241m*\u001b[39mpasskwargs)\n",
      "\u001b[1;31mTypeError\u001b[0m: unsupported operand type(s) for +: 'ExpectationMP' and 'ExpectationMP'"
     ]
    }
   ],
   "source": [
    "from squlearn.observables import *\n",
    "from squlearn.encoding_circuit import QiskitEncodingCircuit, LayeredEncodingCircuit\n",
    "import numpy as np\n",
    "from squlearn.qnn.lowlevel_qnn import LowLevelQNN\n",
    "from squlearn import Executor\n",
    "from squlearn.observables import CustomObservable\n",
    "import numpy as np\n",
    "\n",
    "\n",
    "num_qubits = 1\n",
    "x_array = np.array([[0.75], \n",
    "                    [0.1]])\n",
    "circuit = LayeredEncodingCircuit(num_qubits, 1, \"x\", )\n",
    "circuit.Rx(\"x\") \n",
    "\n",
    "observable = CustomObservable(num_qubits, [\"Z\", \"I\"], parameterized=False)\n",
    "param_obs = []\n",
    "print(\"Observable \\n\", observable)\n",
    "\n",
    "qnn_pennylane = LowLevelQNN(circuit, observable, Executor(\"pennylane\"))\n",
    "qnn_qiskit = LowLevelQNN(circuit, observable, Executor(\"qiskit\"))\n",
    "\n",
    "\n",
    "print(\"Qiskit with real coefficients for the observable \")\n",
    "print(\"f \", qnn_qiskit.evaluate(x_array, [], param_obs, \"f\")[\"f\"])\n",
    "print(\"dfdx\", qnn_qiskit.evaluate(x_array, [], param_obs, \"dfdx\")[\"dfdx\"])\n",
    "print(\"dfdop\", qnn_qiskit.evaluate(x_array, [], param_obs, \"dfdop\")[\"dfdop\"])\n",
    "\n",
    "print(\"Pennylane with real coefficients for the observable\") \n",
    "print(\"f\", qnn_pennylane.evaluate(x_array, [], param_obs, \"f\")[\"f\"])\n",
    "print(\"dfdx\", qnn_pennylane.evaluate(x_array, [], param_obs, \"dfdx\")[\"dfdx\"])\n",
    "print(\"dfdop\", qnn_pennylane.evaluate(x_array, [], param_obs, \"dfdop\")[\"dfdop\"])\n"
   ]
  }
 ],
 "metadata": {
  "kernelspec": {
   "display_name": ".venv",
   "language": "python",
   "name": "python3"
  },
  "language_info": {
   "codemirror_mode": {
    "name": "ipython",
    "version": 3
   },
   "file_extension": ".py",
   "mimetype": "text/x-python",
   "name": "python",
   "nbconvert_exporter": "python",
   "pygments_lexer": "ipython3",
   "version": "3.10.11"
  }
 },
 "nbformat": 4,
 "nbformat_minor": 2
}

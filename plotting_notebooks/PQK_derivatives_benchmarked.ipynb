{
 "cells": [
  {
   "cell_type": "code",
   "execution_count": 1,
   "metadata": {},
   "outputs": [],
   "source": [
    "import sys\n",
    "sys.path.append(\"..\")"
   ]
  },
  {
   "cell_type": "code",
   "execution_count": 2,
   "metadata": {},
   "outputs": [],
   "source": [
    "from solvers.MMR.PQK_solver import *\n",
    "from circuits.circuits import *\n",
    "from utils.rbf_kernel_tools import *\n",
    "from squlearn.encoding_circuit import *"
   ]
  },
  {
   "cell_type": "code",
   "execution_count": 3,
   "metadata": {},
   "outputs": [],
   "source": [
    "from squlearn.observables import SinglePauli\n",
    "import numpy as np\n",
    "\n",
    "\n",
    "def PQK_observable(num_qubits, measurement = \"XYZ\"):\n",
    "    \"\"\"\"\n",
    "    Returns the observable for the PQK solver\n",
    "\n",
    "    Args:\n",
    "\n",
    "    num_qubits (int): number of qubits in the system\n",
    "    measurement (str): measurement operator to be applied to the qubits (default: \"XYZ\")\n",
    "\n",
    "    Returns:\n",
    "    _measurement (list): list of SinglePauli objects representing the measurement operator (shape: num_qubits*len(measurement))\n",
    "\n",
    "    \"\"\"\n",
    "    if isinstance(measurement, str):\n",
    "                _measurement = []\n",
    "                for m_str in measurement:\n",
    "                    if m_str not in (\"X\", \"Y\", \"Z\"):\n",
    "                        raise ValueError(\"Unknown measurement operator: {}\".format(m_str))\n",
    "                    for i in range(num_qubits):\n",
    "                        _measurement.append(SinglePauli(num_qubits, i, op_str=m_str))\n",
    "    return _measurement"
   ]
  },
  {
   "cell_type": "code",
   "execution_count": 4,
   "metadata": {},
   "outputs": [
    {
     "name": "stdout",
     "output_type": "stream",
     "text": [
      "6 6\n"
     ]
    }
   ],
   "source": [
    "num_qubits = 2\n",
    "num_features = 1\n",
    "num_samples = 10\n",
    "num_layers = 3\n",
    "\n",
    "sigma = 1\n",
    "measurement = \"XYZ\"\n",
    "_measurement = PQK_observable(num_qubits, measurement)\n",
    "print(len(_measurement), num_qubits*len(measurement))"
   ]
  },
  {
   "cell_type": "code",
   "execution_count": 5,
   "metadata": {},
   "outputs": [],
   "source": [
    "from utils.rbf_kernel_tools import analytical_derivative_rbf_kernel, analytical_derivative_dot_kernel_2, matrix_rbf_dxdy_slow\n",
    "from utils.rbf_kernel_tools import matrix_rbf, matrix_rbf_dx_slow, matrix_rbf_dxdx_slow"
   ]
  },
  {
   "cell_type": "markdown",
   "metadata": {},
   "source": [
    "We will show that the kernel derivatives calculated by squlearn are the same as the ones analytically calculated for the separable rx fmap"
   ]
  },
  {
   "cell_type": "code",
   "execution_count": 6,
   "metadata": {},
   "outputs": [],
   "source": [
    "from circuits.circuits import Separable_rx"
   ]
  },
  {
   "cell_type": "code",
   "execution_count": 7,
   "metadata": {},
   "outputs": [],
   "source": [
    "sigma = 1\n",
    "gamma = 1/(2*sigma**2)\n",
    "\n",
    "experiment = { \"sigma\": sigma}\n",
    "experiment[\"circuit_information\"] = {\"encoding_circuit\": Separable_rx, \"num_qubits\": 1, \"num_layers\":1}\n",
    "pqk =PQK_solver(experiment[\"circuit_information\"],\n",
    "                                Executor(\"pennylane\"), \n",
    "                                envelope={\"function\": matrix_rbf, \n",
    "                                            \"derivative_function\": matrix_rbf_dx_slow, \n",
    "                                            \"second_derivative_function\": matrix_rbf_dxdx_slow,\n",
    "                                            \"mixed_derivative_function\": matrix_rbf_dxdy_slow,\n",
    "                                            \"sigma\": experiment[\"sigma\"]})"
   ]
  },
  {
   "cell_type": "code",
   "execution_count": 8,
   "metadata": {},
   "outputs": [
    {
     "name": "stdout",
     "output_type": "stream",
     "text": [
      "[0.1, -0.41]\n"
     ]
    }
   ],
   "source": [
    "PQK_qnn = pqk.PQK_QNN()\n",
    "obs_coef = []\n",
    "X = [0.1, -0.41]\n",
    "#X = [-0.41, 0.1]\n",
    "K_f, K_dfdx, K_dfdxdx = pqk.get_PQK_kernel_derivatives(X, PQK_qnn, obs_coef, [1, 2])"
   ]
  },
  {
   "cell_type": "code",
   "execution_count": 95,
   "metadata": {},
   "outputs": [],
   "source": [
    "import sympy as sp\n",
    "\n",
    "x,y,gamma_sp = sp.symbols(\"x y gamma\")\n",
    "\n",
    "K = sp.exp(-gamma_sp*(2-2*sp.cos(x-y)))\n",
    "Kx = sp.diff(K, x)\n",
    "Kxx = sp.diff(Kx, x) #I will use this expression, the derivation can be seen in the old notebooks \n",
    "\n",
    "#or in matrix notation: \n",
    "\n",
    "def K_separable_rx_PQK_(X,Y, gamma):\n",
    "    gram_matrix = np.zeros((len(X), len(Y)))    \n",
    "    for i in range(len(X)):\n",
    "        for j in range(len(Y)):\n",
    "            gram_matrix[i,j] = np.exp(-gamma*(2-2*np.cos(X[i]-Y[j])))\n",
    "    return gram_matrix\n",
    "\n",
    "def K_separable_rx_PQK_dx(X,Y, gamma):\n",
    "    #-2*gamma*exp(-gamma*(2 - 2*cos(x - y)))*sin(x - y)\n",
    "\n",
    "    gram_matrix = np.zeros((len(X), len(Y)))    \n",
    "    for i in range(len(X)):\n",
    "        for j in range(len(Y)):\n",
    "            gram_matrix[i,j] = -2*gamma*np.exp(-gamma*(2-2*np.cos(X[i]-Y[j])))*np.sin(X[i]-Y[j])\n",
    "    return gram_matrix \n",
    "\n",
    "def K_separable_rx_PQK_dxdx(X,Y, gamma):\n",
    "    #4*gamma**2*exp(-gamma*(2 - 2*cos(x - y)))*sin(x - y)**2 - 2*gamma*exp(-gamma*(2 - 2*cos(x - y)))*cos(x - y)\n",
    "    #2*gamma*(2*gamma*sin(x)**2 - 4*gamma*sin(x)*sin(y)*cos(x - y) + 2*gamma*sin(y)**2 - cos(x - y))*exp(-gamma*(2 - 2*cos(x - y)))\n",
    "    gram_matrix = np.zeros((len(X), len(Y)))    \n",
    "    for i in range(len(X)):\n",
    "        for j in range(len(Y)):\n",
    "            gram_matrix[i,j] = 2*gamma*(2*gamma*np.sin(X[i])**2 - 4*gamma*np.sin(X[i])*np.sin(Y[j])*np.cos(X[i]-Y[j]) + 2*gamma*np.sin(Y[j])**2 - np.cos(X[i]-Y[j]))*np.exp(-gamma*(2-2*np.cos(X[i]-Y[j])))\n",
    "    return gram_matrix "
   ]
  },
  {
   "cell_type": "code",
   "execution_count": 28,
   "metadata": {},
   "outputs": [],
   "source": [
    "x1, y1 = sp.symbols('x_1 y_1')\n",
    "x2, y2 = sp.symbols('x_2 y_2')\n",
    "x3, y3 = sp.symbols('x_3 y_3')\n",
    "O1 = sp.symbols('O_1', cls=sp.Function)\n",
    "O2 = sp.symbols('O_2', cls=sp.Function)\n",
    "O3 = sp.symbols('O_3', cls=sp.Function)\n"
   ]
  },
  {
   "cell_type": "code",
   "execution_count": 92,
   "metadata": {},
   "outputs": [],
   "source": [
    "k = sp.symbols('k', cls=sp.Function)\n",
    "pqk_fun =  k(O1(x), O2(x), O3(x), O1(y), O2(y), O3(y))\n",
    "pqk_fun_dx = sp.diff(pqk_fun, x).simplify()\n",
    "pqk_fun_dxdx = sp.diff(pqk_fun_dx, x).simplify()"
   ]
  },
  {
   "cell_type": "markdown",
   "metadata": {},
   "source": [
    "Fundamentally, we implement the below equation using einsum notation"
   ]
  },
  {
   "cell_type": "code",
   "execution_count": 94,
   "metadata": {},
   "outputs": [
    {
     "data": {
      "text/latex": [
       "$\\displaystyle \\left(\\frac{d}{d x} O_{1}{\\left(x \\right)}\\right)^{2} \\frac{\\partial^{2}}{\\partial O_{1}{\\left(x \\right)}^{2}} k{\\left(O_{1}{\\left(x \\right)},O_{2}{\\left(x \\right)},O_{3}{\\left(x \\right)},O_{1}{\\left(y \\right)},O_{2}{\\left(y \\right)},O_{3}{\\left(y \\right)} \\right)} + 2 \\frac{d}{d x} O_{1}{\\left(x \\right)} \\frac{d}{d x} O_{2}{\\left(x \\right)} \\frac{\\partial^{2}}{\\partial O_{2}{\\left(x \\right)}\\partial O_{1}{\\left(x \\right)}} k{\\left(O_{1}{\\left(x \\right)},O_{2}{\\left(x \\right)},O_{3}{\\left(x \\right)},O_{1}{\\left(y \\right)},O_{2}{\\left(y \\right)},O_{3}{\\left(y \\right)} \\right)} + 2 \\frac{d}{d x} O_{1}{\\left(x \\right)} \\frac{d}{d x} O_{3}{\\left(x \\right)} \\frac{\\partial^{2}}{\\partial O_{3}{\\left(x \\right)}\\partial O_{1}{\\left(x \\right)}} k{\\left(O_{1}{\\left(x \\right)},O_{2}{\\left(x \\right)},O_{3}{\\left(x \\right)},O_{1}{\\left(y \\right)},O_{2}{\\left(y \\right)},O_{3}{\\left(y \\right)} \\right)} + \\frac{d^{2}}{d x^{2}} O_{1}{\\left(x \\right)} \\frac{\\partial}{\\partial O_{1}{\\left(x \\right)}} k{\\left(O_{1}{\\left(x \\right)},O_{2}{\\left(x \\right)},O_{3}{\\left(x \\right)},O_{1}{\\left(y \\right)},O_{2}{\\left(y \\right)},O_{3}{\\left(y \\right)} \\right)} + \\left(\\frac{d}{d x} O_{2}{\\left(x \\right)}\\right)^{2} \\frac{\\partial^{2}}{\\partial O_{2}{\\left(x \\right)}^{2}} k{\\left(O_{1}{\\left(x \\right)},O_{2}{\\left(x \\right)},O_{3}{\\left(x \\right)},O_{1}{\\left(y \\right)},O_{2}{\\left(y \\right)},O_{3}{\\left(y \\right)} \\right)} + 2 \\frac{d}{d x} O_{2}{\\left(x \\right)} \\frac{d}{d x} O_{3}{\\left(x \\right)} \\frac{\\partial^{2}}{\\partial O_{3}{\\left(x \\right)}\\partial O_{2}{\\left(x \\right)}} k{\\left(O_{1}{\\left(x \\right)},O_{2}{\\left(x \\right)},O_{3}{\\left(x \\right)},O_{1}{\\left(y \\right)},O_{2}{\\left(y \\right)},O_{3}{\\left(y \\right)} \\right)} + \\frac{d^{2}}{d x^{2}} O_{2}{\\left(x \\right)} \\frac{\\partial}{\\partial O_{2}{\\left(x \\right)}} k{\\left(O_{1}{\\left(x \\right)},O_{2}{\\left(x \\right)},O_{3}{\\left(x \\right)},O_{1}{\\left(y \\right)},O_{2}{\\left(y \\right)},O_{3}{\\left(y \\right)} \\right)} + \\left(\\frac{d}{d x} O_{3}{\\left(x \\right)}\\right)^{2} \\frac{\\partial^{2}}{\\partial O_{3}{\\left(x \\right)}^{2}} k{\\left(O_{1}{\\left(x \\right)},O_{2}{\\left(x \\right)},O_{3}{\\left(x \\right)},O_{1}{\\left(y \\right)},O_{2}{\\left(y \\right)},O_{3}{\\left(y \\right)} \\right)} + \\frac{d^{2}}{d x^{2}} O_{3}{\\left(x \\right)} \\frac{\\partial}{\\partial O_{3}{\\left(x \\right)}} k{\\left(O_{1}{\\left(x \\right)},O_{2}{\\left(x \\right)},O_{3}{\\left(x \\right)},O_{1}{\\left(y \\right)},O_{2}{\\left(y \\right)},O_{3}{\\left(y \\right)} \\right)}$"
      ],
      "text/plain": [
       "Derivative(O_1(x), x)**2*Derivative(k(O_1(x), O_2(x), O_3(x), O_1(y), O_2(y), O_3(y)), (O_1(x), 2)) + 2*Derivative(O_1(x), x)*Derivative(O_2(x), x)*Derivative(k(O_1(x), O_2(x), O_3(x), O_1(y), O_2(y), O_3(y)), O_1(x), O_2(x)) + 2*Derivative(O_1(x), x)*Derivative(O_3(x), x)*Derivative(k(O_1(x), O_2(x), O_3(x), O_1(y), O_2(y), O_3(y)), O_1(x), O_3(x)) + Derivative(O_1(x), (x, 2))*Derivative(k(O_1(x), O_2(x), O_3(x), O_1(y), O_2(y), O_3(y)), O_1(x)) + Derivative(O_2(x), x)**2*Derivative(k(O_1(x), O_2(x), O_3(x), O_1(y), O_2(y), O_3(y)), (O_2(x), 2)) + 2*Derivative(O_2(x), x)*Derivative(O_3(x), x)*Derivative(k(O_1(x), O_2(x), O_3(x), O_1(y), O_2(y), O_3(y)), O_2(x), O_3(x)) + Derivative(O_2(x), (x, 2))*Derivative(k(O_1(x), O_2(x), O_3(x), O_1(y), O_2(y), O_3(y)), O_2(x)) + Derivative(O_3(x), x)**2*Derivative(k(O_1(x), O_2(x), O_3(x), O_1(y), O_2(y), O_3(y)), (O_3(x), 2)) + Derivative(O_3(x), (x, 2))*Derivative(k(O_1(x), O_2(x), O_3(x), O_1(y), O_2(y), O_3(y)), O_3(x))"
      ]
     },
     "execution_count": 94,
     "metadata": {},
     "output_type": "execute_result"
    }
   ],
   "source": [
    "pqk_fun_dxdx.simplify()"
   ]
  },
  {
   "cell_type": "code",
   "execution_count": 96,
   "metadata": {},
   "outputs": [],
   "source": [
    "from squlearn.kernel.matrix import ProjectedQuantumKernel"
   ]
  },
  {
   "cell_type": "code",
   "execution_count": 43,
   "metadata": {},
   "outputs": [],
   "source": [
    "pqk_squlearn = ProjectedQuantumKernel(Separable_rx(num_qubits=1, num_layers=1), executor=Executor(\"pennylane\"), gamma=gamma)"
   ]
  },
  {
   "cell_type": "code",
   "execution_count": 44,
   "metadata": {},
   "outputs": [
    {
     "data": {
      "text/plain": [
       "array([[1.        , 0.88050868],\n",
       "       [0.88050868, 1.        ]])"
      ]
     },
     "execution_count": 44,
     "metadata": {},
     "output_type": "execute_result"
    }
   ],
   "source": [
    "pqk_squlearn.evaluate(X, X)"
   ]
  },
  {
   "cell_type": "code",
   "execution_count": 97,
   "metadata": {},
   "outputs": [
    {
     "data": {
      "text/plain": [
       "array([[1.        , 0.88050868],\n",
       "       [0.88050868, 1.        ]])"
      ]
     },
     "execution_count": 97,
     "metadata": {},
     "output_type": "execute_result"
    }
   ],
   "source": [
    "K_separable_rx_PQK_(X,X, gamma)"
   ]
  },
  {
   "cell_type": "code",
   "execution_count": 98,
   "metadata": {},
   "outputs": [
    {
     "data": {
      "text/plain": [
       "array([[1.        , 0.88050868],\n",
       "       [0.88050868, 1.        ]])"
      ]
     },
     "execution_count": 98,
     "metadata": {},
     "output_type": "execute_result"
    }
   ],
   "source": [
    "K_f"
   ]
  },
  {
   "cell_type": "code",
   "execution_count": 99,
   "metadata": {},
   "outputs": [
    {
     "data": {
      "text/plain": [
       "array([[-0.       , -0.4298443],\n",
       "       [ 0.4298443, -0.       ]])"
      ]
     },
     "execution_count": 99,
     "metadata": {},
     "output_type": "execute_result"
    }
   ],
   "source": [
    "K_separable_rx_PQK_dx(X,X,gamma)"
   ]
  },
  {
   "cell_type": "code",
   "execution_count": 100,
   "metadata": {},
   "outputs": [
    {
     "data": {
      "text/plain": [
       "array([[ 0.       , -0.4298443],\n",
       "       [ 0.4298443,  0.       ]])"
      ]
     },
     "execution_count": 100,
     "metadata": {},
     "output_type": "execute_result"
    }
   ],
   "source": [
    "K_dfdx"
   ]
  },
  {
   "cell_type": "code",
   "execution_count": 103,
   "metadata": {},
   "outputs": [
    {
     "data": {
      "text/plain": [
       "array([[-1.        , -0.55861891],\n",
       "       [-0.55861891, -1.        ]])"
      ]
     },
     "execution_count": 103,
     "metadata": {},
     "output_type": "execute_result"
    }
   ],
   "source": [
    "K_separable_rx_PQK_dxdx(X,X,gamma)"
   ]
  },
  {
   "cell_type": "code",
   "execution_count": 104,
   "metadata": {},
   "outputs": [
    {
     "data": {
      "text/plain": [
       "array([[-1.        , -0.55861891],\n",
       "       [-0.55861891, -1.        ]])"
      ]
     },
     "execution_count": 104,
     "metadata": {},
     "output_type": "execute_result"
    }
   ],
   "source": [
    "K_dfdxdx"
   ]
  }
 ],
 "metadata": {
  "kernelspec": {
   "display_name": "Python 3",
   "language": "python",
   "name": "python3"
  },
  "language_info": {
   "codemirror_mode": {
    "name": "ipython",
    "version": 3
   },
   "file_extension": ".py",
   "mimetype": "text/x-python",
   "name": "python",
   "nbconvert_exporter": "python",
   "pygments_lexer": "ipython3",
   "version": "3.10.11"
  }
 },
 "nbformat": 4,
 "nbformat_minor": 2
}

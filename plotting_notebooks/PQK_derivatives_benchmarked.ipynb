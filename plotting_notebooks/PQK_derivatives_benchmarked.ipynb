{
 "cells": [
  {
   "cell_type": "code",
   "execution_count": 1,
   "metadata": {},
   "outputs": [],
   "source": [
    "import sys\n",
    "sys.path.append(\"..\")"
   ]
  },
  {
   "cell_type": "code",
   "execution_count": 2,
   "metadata": {},
   "outputs": [],
   "source": [
    "#from solvers.MMR.PQK_solver import *\n",
    "from circuits.circuits import *\n",
    "from utils.rbf_kernel_tools import *\n",
    "from squlearn.encoding_circuit import *"
   ]
  },
  {
   "cell_type": "code",
   "execution_count": 3,
   "metadata": {},
   "outputs": [],
   "source": [
    "from squlearn.observables import SinglePauli\n",
    "import numpy as np\n",
    "\n",
    "\n",
    "def PQK_observable(num_qubits, measurement = \"XYZ\"):\n",
    "    \"\"\"\"\n",
    "    Returns the observable for the PQK solver\n",
    "\n",
    "    Args:\n",
    "\n",
    "    num_qubits (int): number of qubits in the system\n",
    "    measurement (str): measurement operator to be applied to the qubits (default: \"XYZ\")\n",
    "\n",
    "    Returns:\n",
    "    _measurement (list): list of SinglePauli objects representing the measurement operator (shape: num_qubits*len(measurement))\n",
    "\n",
    "    \"\"\"\n",
    "    if isinstance(measurement, str):\n",
    "                _measurement = []\n",
    "                for m_str in measurement:\n",
    "                    if m_str not in (\"X\", \"Y\", \"Z\"):\n",
    "                        raise ValueError(\"Unknown measurement operator: {}\".format(m_str))\n",
    "                    for i in range(num_qubits):\n",
    "                        _measurement.append(SinglePauli(num_qubits, i, op_str=m_str))\n",
    "    return _measurement"
   ]
  },
  {
   "cell_type": "code",
   "execution_count": 4,
   "metadata": {},
   "outputs": [
    {
     "name": "stdout",
     "output_type": "stream",
     "text": [
      "6 6\n"
     ]
    }
   ],
   "source": [
    "num_qubits = 2\n",
    "num_features = 1\n",
    "num_samples = 10\n",
    "num_layers = 3\n",
    "\n",
    "sigma = 1\n",
    "measurement = \"XYZ\"\n",
    "_measurement = PQK_observable(num_qubits, measurement)\n",
    "print(len(_measurement), num_qubits*len(measurement))"
   ]
  },
  {
   "cell_type": "code",
   "execution_count": 5,
   "metadata": {},
   "outputs": [],
   "source": [
    "from utils.rbf_kernel_tools import analytical_derivative_rbf_kernel, analytical_derivative_dot_kernel_2, matrix_rbf_dxdy_slow\n",
    "from utils.rbf_kernel_tools import matrix_rbf, matrix_rbf_dx_slow, matrix_rbf_dxdx_slow"
   ]
  },
  {
   "cell_type": "markdown",
   "metadata": {},
   "source": [
    "We will show that the kernel derivatives calculated by squlearn are the same as the ones analytically calculated for the separable rx fmap"
   ]
  },
  {
   "cell_type": "code",
   "execution_count": 6,
   "metadata": {},
   "outputs": [],
   "source": [
    "from circuits.circuits import Separable_rx"
   ]
  },
  {
   "cell_type": "code",
   "execution_count": 7,
   "metadata": {},
   "outputs": [],
   "source": [
    "sigma = 1\n",
    "gamma = 1/(2*sigma**2)\n",
    "\n",
    "# experiment = { \"sigma\": sigma}\n",
    "# experiment[\"circuit_information\"] = {\"encoding_circuit\": Separable_rx, \"num_qubits\": 1, \"num_layers\":1}\n",
    "# pqk =PQK_solver(experiment[\"circuit_information\"],\n",
    "#                                 Executor(\"pennylane\"), \n",
    "#                                 envelope={\"function\": matrix_rbf, \n",
    "#                                             \"derivative_function\": matrix_rbf_dx_slow, \n",
    "#                                             \"second_derivative_function\": matrix_rbf_dxdx_slow,\n",
    "#                                             \"mixed_derivative_function\": matrix_rbf_dxdy_slow,\n",
    "#                                             \"sigma\": experiment[\"sigma\"]})"
   ]
  },
  {
   "cell_type": "code",
   "execution_count": 8,
   "metadata": {},
   "outputs": [],
   "source": [
    "# PQK_qnn = pqk.PQK_QNN()\n",
    "# obs_coef = []\n",
    "X = [0.1, -0.41]\n",
    "# #X = [-0.41, 0.1]\n",
    "# K_f, K_dfdx, K_dfdxdx = pqk.get_PQK_kernel_derivatives(X, PQK_qnn, obs_coef, [1, 2])"
   ]
  },
  {
   "cell_type": "code",
   "execution_count": 52,
   "metadata": {},
   "outputs": [
    {
     "data": {
      "text/latex": [
       "$\\displaystyle 2 \\gamma e^{- \\gamma \\left(2 - 2 \\cos{\\left(x - y \\right)}\\right)} \\sin{\\left(x - y \\right)}$"
      ],
      "text/plain": [
       "2*gamma*exp(-gamma*(2 - 2*cos(x - y)))*sin(x - y)"
      ]
     },
     "execution_count": 52,
     "metadata": {},
     "output_type": "execute_result"
    }
   ],
   "source": [
    "sp.exp(-gamma_sp*(2-2*sp.cos(x-y))).diff(y)"
   ]
  },
  {
   "cell_type": "code",
   "execution_count": 53,
   "metadata": {},
   "outputs": [],
   "source": [
    "x,y,gamma_sp = sp.symbols(\"x y gamma\")\n",
    "\n",
    "K = sp.exp(-gamma_sp*(2-2*sp.cos(x-y)))\n",
    "Kx = sp.diff(K, x)\n",
    "Kxx = sp.diff(Kx, x) #I will use this expression, the derivation can be seen in the old notebooks \n",
    "K.evalf(subs={x: 0.79, y: -0.31, gamma_sp: 1})\n"
   ]
  },
  {
   "cell_type": "code",
   "execution_count": 57,
   "metadata": {},
   "outputs": [
    {
     "data": {
      "text/latex": [
       "$\\displaystyle 0.335273803484881$"
      ],
      "text/plain": [
       "0.335273803484881"
      ]
     },
     "execution_count": 57,
     "metadata": {},
     "output_type": "execute_result"
    }
   ],
   "source": [
    "K.evalf(subs={x: 0.79, y: -0.31, gamma_sp: 1})"
   ]
  },
  {
   "cell_type": "code",
   "execution_count": 47,
   "metadata": {},
   "outputs": [],
   "source": [
    "import sympy as sp\n",
    "\n",
    "x,y,gamma_sp = sp.symbols(\"x y gamma\")\n",
    "\n",
    "K = sp.exp(-gamma_sp*(2-2*sp.cos(x-y)))\n",
    "Kx = sp.diff(K, x)\n",
    "Kxx = sp.diff(Kx, x) #I will use this expression, the derivation can be seen in the old notebooks \n",
    "\n",
    "#or in matrix notation: \n",
    "\n",
    "def K_separable_rx_PQK_(X,Y, gamma):\n",
    "    gram_matrix = np.zeros((len(X), len(Y)))    \n",
    "    for i in range(len(X)):\n",
    "        for j in range(len(Y)):\n",
    "            gram_matrix[i,j] = np.exp(-gamma*(2-2*np.cos(X[i]-Y[j])))\n",
    "    return gram_matrix\n",
    "\n",
    "def K_separable_rx_PQK_dx(X,Y, gamma):\n",
    "    gram_matrix = np.zeros((len(X), len(Y)))    \n",
    "    for i in range(len(X)):\n",
    "        for j in range(len(Y)):\n",
    "            gram_matrix[i,j] = -2*gamma*np.exp(-gamma*(2-2*np.cos(X[i]-Y[j])))*np.sin(X[i]-Y[j])\n",
    "    return gram_matrix \n",
    "\n",
    "def K_separable_rx_PQK_dy(X,Y, gamma):\n",
    "    #-2*gamma*exp(-gamma*(2 - 2*cos(x - y)))*sin(x - y)\n",
    "\n",
    "    gram_matrix = np.zeros((len(X), len(Y)))    \n",
    "    for i in range(len(X)):\n",
    "        for j in range(len(Y)):\n",
    "            gram_matrix[i,j] = 2*gamma*np.exp(-gamma*(2-2*np.cos(X[i]-Y[j])))*np.sin(X[i]-Y[j])\n",
    "    return gram_matrix \n",
    "\n",
    "def K_separable_rx_PQK_dxdx(X,Y, gamma):\n",
    "    #4*gamma**2*exp(-gamma*(2 - 2*cos(x - y)))*sin(x - y)**2 - 2*gamma*exp(-gamma*(2 - 2*cos(x - y)))*cos(x - y)\n",
    "    #2*gamma*(2*gamma*sin(x)**2 - 4*gamma*sin(x)*sin(y)*cos(x - y) + 2*gamma*sin(y)**2 - cos(x - y))*exp(-gamma*(2 - 2*cos(x - y)))\n",
    "    gram_matrix = np.zeros((len(X), len(Y)))    \n",
    "    for i in range(len(X)):\n",
    "        for j in range(len(Y)):\n",
    "            gram_matrix[i,j] = 2*gamma*(2*gamma*np.sin(X[i])**2 - 4*gamma*np.sin(X[i])*np.sin(Y[j])*np.cos(X[i]-Y[j]) + 2*gamma*np.sin(Y[j])**2 - np.cos(X[i]-Y[j]))*np.exp(-gamma*(2-2*np.cos(X[i]-Y[j])))\n",
    "    return gram_matrix "
   ]
  },
  {
   "cell_type": "code",
   "execution_count": 48,
   "metadata": {},
   "outputs": [],
   "source": [
    "x1, y1 = sp.symbols('x_1 y_1')\n",
    "x2, y2 = sp.symbols('x_2 y_2')\n",
    "x3, y3 = sp.symbols('x_3 y_3')\n",
    "O1 = sp.symbols('O_1', cls=sp.Function)\n",
    "O2 = sp.symbols('O_2', cls=sp.Function)\n",
    "O3 = sp.symbols('O_3', cls=sp.Function)\n"
   ]
  },
  {
   "cell_type": "code",
   "execution_count": 11,
   "metadata": {},
   "outputs": [],
   "source": [
    "k = sp.symbols('k', cls=sp.Function)\n",
    "pqk_fun =  k(O1(x), O2(x), O3(x), O1(y), O2(y), O3(y))\n",
    "pqk_fun_dx = sp.diff(pqk_fun, x).simplify()\n",
    "pqk_fun_dxdx = sp.diff(pqk_fun_dx, x).simplify()"
   ]
  },
  {
   "cell_type": "markdown",
   "metadata": {},
   "source": [
    "Fundamentally, we implement the below equation using einsum notation"
   ]
  },
  {
   "cell_type": "code",
   "execution_count": 12,
   "metadata": {},
   "outputs": [
    {
     "data": {
      "text/latex": [
       "$\\displaystyle \\left(\\frac{d}{d x} O_{1}{\\left(x \\right)}\\right)^{2} \\frac{\\partial^{2}}{\\partial O_{1}{\\left(x \\right)}^{2}} k{\\left(O_{1}{\\left(x \\right)},O_{2}{\\left(x \\right)},O_{3}{\\left(x \\right)},O_{1}{\\left(y \\right)},O_{2}{\\left(y \\right)},O_{3}{\\left(y \\right)} \\right)} + 2 \\frac{d}{d x} O_{1}{\\left(x \\right)} \\frac{d}{d x} O_{2}{\\left(x \\right)} \\frac{\\partial^{2}}{\\partial O_{2}{\\left(x \\right)}\\partial O_{1}{\\left(x \\right)}} k{\\left(O_{1}{\\left(x \\right)},O_{2}{\\left(x \\right)},O_{3}{\\left(x \\right)},O_{1}{\\left(y \\right)},O_{2}{\\left(y \\right)},O_{3}{\\left(y \\right)} \\right)} + 2 \\frac{d}{d x} O_{1}{\\left(x \\right)} \\frac{d}{d x} O_{3}{\\left(x \\right)} \\frac{\\partial^{2}}{\\partial O_{3}{\\left(x \\right)}\\partial O_{1}{\\left(x \\right)}} k{\\left(O_{1}{\\left(x \\right)},O_{2}{\\left(x \\right)},O_{3}{\\left(x \\right)},O_{1}{\\left(y \\right)},O_{2}{\\left(y \\right)},O_{3}{\\left(y \\right)} \\right)} + \\frac{d^{2}}{d x^{2}} O_{1}{\\left(x \\right)} \\frac{\\partial}{\\partial O_{1}{\\left(x \\right)}} k{\\left(O_{1}{\\left(x \\right)},O_{2}{\\left(x \\right)},O_{3}{\\left(x \\right)},O_{1}{\\left(y \\right)},O_{2}{\\left(y \\right)},O_{3}{\\left(y \\right)} \\right)} + \\left(\\frac{d}{d x} O_{2}{\\left(x \\right)}\\right)^{2} \\frac{\\partial^{2}}{\\partial O_{2}{\\left(x \\right)}^{2}} k{\\left(O_{1}{\\left(x \\right)},O_{2}{\\left(x \\right)},O_{3}{\\left(x \\right)},O_{1}{\\left(y \\right)},O_{2}{\\left(y \\right)},O_{3}{\\left(y \\right)} \\right)} + 2 \\frac{d}{d x} O_{2}{\\left(x \\right)} \\frac{d}{d x} O_{3}{\\left(x \\right)} \\frac{\\partial^{2}}{\\partial O_{3}{\\left(x \\right)}\\partial O_{2}{\\left(x \\right)}} k{\\left(O_{1}{\\left(x \\right)},O_{2}{\\left(x \\right)},O_{3}{\\left(x \\right)},O_{1}{\\left(y \\right)},O_{2}{\\left(y \\right)},O_{3}{\\left(y \\right)} \\right)} + \\frac{d^{2}}{d x^{2}} O_{2}{\\left(x \\right)} \\frac{\\partial}{\\partial O_{2}{\\left(x \\right)}} k{\\left(O_{1}{\\left(x \\right)},O_{2}{\\left(x \\right)},O_{3}{\\left(x \\right)},O_{1}{\\left(y \\right)},O_{2}{\\left(y \\right)},O_{3}{\\left(y \\right)} \\right)} + \\left(\\frac{d}{d x} O_{3}{\\left(x \\right)}\\right)^{2} \\frac{\\partial^{2}}{\\partial O_{3}{\\left(x \\right)}^{2}} k{\\left(O_{1}{\\left(x \\right)},O_{2}{\\left(x \\right)},O_{3}{\\left(x \\right)},O_{1}{\\left(y \\right)},O_{2}{\\left(y \\right)},O_{3}{\\left(y \\right)} \\right)} + \\frac{d^{2}}{d x^{2}} O_{3}{\\left(x \\right)} \\frac{\\partial}{\\partial O_{3}{\\left(x \\right)}} k{\\left(O_{1}{\\left(x \\right)},O_{2}{\\left(x \\right)},O_{3}{\\left(x \\right)},O_{1}{\\left(y \\right)},O_{2}{\\left(y \\right)},O_{3}{\\left(y \\right)} \\right)}$"
      ],
      "text/plain": [
       "Derivative(O_1(x), x)**2*Derivative(k(O_1(x), O_2(x), O_3(x), O_1(y), O_2(y), O_3(y)), (O_1(x), 2)) + 2*Derivative(O_1(x), x)*Derivative(O_2(x), x)*Derivative(k(O_1(x), O_2(x), O_3(x), O_1(y), O_2(y), O_3(y)), O_1(x), O_2(x)) + 2*Derivative(O_1(x), x)*Derivative(O_3(x), x)*Derivative(k(O_1(x), O_2(x), O_3(x), O_1(y), O_2(y), O_3(y)), O_1(x), O_3(x)) + Derivative(O_1(x), (x, 2))*Derivative(k(O_1(x), O_2(x), O_3(x), O_1(y), O_2(y), O_3(y)), O_1(x)) + Derivative(O_2(x), x)**2*Derivative(k(O_1(x), O_2(x), O_3(x), O_1(y), O_2(y), O_3(y)), (O_2(x), 2)) + 2*Derivative(O_2(x), x)*Derivative(O_3(x), x)*Derivative(k(O_1(x), O_2(x), O_3(x), O_1(y), O_2(y), O_3(y)), O_2(x), O_3(x)) + Derivative(O_2(x), (x, 2))*Derivative(k(O_1(x), O_2(x), O_3(x), O_1(y), O_2(y), O_3(y)), O_2(x)) + Derivative(O_3(x), x)**2*Derivative(k(O_1(x), O_2(x), O_3(x), O_1(y), O_2(y), O_3(y)), (O_3(x), 2)) + Derivative(O_3(x), (x, 2))*Derivative(k(O_1(x), O_2(x), O_3(x), O_1(y), O_2(y), O_3(y)), O_3(x))"
      ]
     },
     "execution_count": 12,
     "metadata": {},
     "output_type": "execute_result"
    }
   ],
   "source": [
    "pqk_fun_dxdx.simplify()"
   ]
  },
  {
   "cell_type": "code",
   "execution_count": 13,
   "metadata": {},
   "outputs": [],
   "source": [
    "from squlearn.kernel.matrix import ProjectedQuantumKernel"
   ]
  },
  {
   "cell_type": "code",
   "execution_count": 14,
   "metadata": {},
   "outputs": [],
   "source": [
    "import numpy as np\n",
    "#from sklearn import RBF\n",
    "from sklearn.gaussian_process.kernels import RBF"
   ]
  },
  {
   "cell_type": "code",
   "execution_count": 15,
   "metadata": {},
   "outputs": [],
   "source": [
    "from circuits.circuits import Separable_rx"
   ]
  },
  {
   "cell_type": "code",
   "execution_count": 58,
   "metadata": {},
   "outputs": [],
   "source": [
    "sigma=1\n",
    "gamma= 1/(2*sigma**2)\n",
    "pqk_squlearn = ProjectedQuantumKernel(Separable_rx(num_qubits=1, num_layers=1, num_features=1), executor=Executor(\"pennylane\"), gamma=gamma)"
   ]
  },
  {
   "cell_type": "code",
   "execution_count": 59,
   "metadata": {},
   "outputs": [],
   "source": [
    "X =[0.75, -0.41]\n",
    "Y = [0.1, 2]"
   ]
  },
  {
   "cell_type": "code",
   "execution_count": 62,
   "metadata": {},
   "outputs": [
    {
     "data": {
      "text/plain": [
       "{'x': [1.2],\n",
       " 'param': array([], dtype=float64),\n",
       " 'param_op': array([], dtype=float64),\n",
       " 'K': array([[0.7904461]]),\n",
       " 'dKdx': array([[-0.50921936]]),\n",
       " 'dKdy': array([[0.50921936]]),\n",
       " 'dKdxdx': array([[-0.27651841]])}"
      ]
     },
     "execution_count": 62,
     "metadata": {},
     "output_type": "execute_result"
    }
   ],
   "source": [
    "pqk_squlearn.evaluate_derivatives([1.2], [0.5], [\"K\", \"dKdx\", \"dKdy\", \"dKdxdx\"])"
   ]
  },
  {
   "cell_type": "code",
   "execution_count": 60,
   "metadata": {},
   "outputs": [
    {
     "data": {
      "text/plain": [
       "array([[0.81553071, 0.50425276],\n",
       "       [0.88050868, 0.17480025]])"
      ]
     },
     "execution_count": 60,
     "metadata": {},
     "output_type": "execute_result"
    }
   ],
   "source": [
    "K_separable_rx_PQK_(X,Y, gamma)"
   ]
  },
  {
   "cell_type": "code",
   "execution_count": 43,
   "metadata": {},
   "outputs": [
    {
     "data": {
      "text/plain": [
       "array([[-0.4935481 ,  0.47852811],\n",
       "       [ 0.4298443 ,  0.11677629]])"
      ]
     },
     "execution_count": 43,
     "metadata": {},
     "output_type": "execute_result"
    }
   ],
   "source": [
    "K_separable_rx_PQK_dx(X,Y, gamma)"
   ]
  },
  {
   "cell_type": "code",
   "execution_count": 49,
   "metadata": {},
   "outputs": [
    {
     "data": {
      "text/plain": [
       "array([[ 0.4935481 , -0.47852811],\n",
       "       [-0.4298443 , -0.11677629]])"
      ]
     },
     "execution_count": 49,
     "metadata": {},
     "output_type": "execute_result"
    }
   ],
   "source": [
    "K_separable_rx_PQK_dy(X,Y, gamma)"
   ]
  },
  {
   "cell_type": "code",
   "execution_count": 44,
   "metadata": {},
   "outputs": [
    {
     "data": {
      "text/plain": [
       "array([[-0.35054218,  0.29511365],\n",
       "       [-0.55861891,  0.20808391]])"
      ]
     },
     "execution_count": 44,
     "metadata": {},
     "output_type": "execute_result"
    }
   ],
   "source": [
    "K_separable_rx_PQK_dxdx(X,Y, gamma)"
   ]
  },
  {
   "cell_type": "code",
   "execution_count": 63,
   "metadata": {},
   "outputs": [],
   "source": [
    "opl = pqk_squlearn.evaluate_derivatives(X, Y, [\"K\", \"dKdx\", \"dKdy\", \"dKdxdx\"])"
   ]
  },
  {
   "cell_type": "code",
   "execution_count": 71,
   "metadata": {},
   "outputs": [
    {
     "ename": "TypeError",
     "evalue": "unhashable type: 'list'",
     "output_type": "error",
     "traceback": [
      "\u001b[1;31m---------------------------------------------------------------------------\u001b[0m",
      "\u001b[1;31mTypeError\u001b[0m                                 Traceback (most recent call last)",
      "Cell \u001b[1;32mIn[71], line 1\u001b[0m\n\u001b[1;32m----> 1\u001b[0m \u001b[43mopl\u001b[49m\u001b[38;5;241;43m.\u001b[39;49m\u001b[43mpop\u001b[49m\u001b[43m(\u001b[49m\u001b[43m[\u001b[49m\u001b[38;5;124;43m\"\u001b[39;49m\u001b[38;5;124;43mparam_op\u001b[39;49m\u001b[38;5;124;43m\"\u001b[39;49m\u001b[43m,\u001b[49m\u001b[43m \u001b[49m\u001b[38;5;124;43m\"\u001b[39;49m\u001b[38;5;124;43mK\u001b[39;49m\u001b[38;5;124;43m\"\u001b[39;49m\u001b[43m]\u001b[49m\u001b[43m)\u001b[49m\n",
      "\u001b[1;31mTypeError\u001b[0m: unhashable type: 'list'"
     ]
    }
   ],
   "source": [
    "opl.pop([\"param_op\", \"K\"])"
   ]
  },
  {
   "cell_type": "code",
   "execution_count": 72,
   "metadata": {},
   "outputs": [
    {
     "data": {
      "text/plain": [
       "{'param_op': array([], dtype=float64),\n",
       " 'K': array([[0.81553071, 0.50425276],\n",
       "        [0.88050868, 0.17480025]]),\n",
       " 'dKdx': array([[-0.4935481 ,  0.47852811],\n",
       "        [ 0.4298443 ,  0.11677629]]),\n",
       " 'dKdy': array([[ 0.4935481 , -0.17200751],\n",
       "        [ 0.24499669, -0.11677629]]),\n",
       " 'dKdxdx': array([[-0.35054218,  0.29511365],\n",
       "        [-0.55861891,  0.20808391]])}"
      ]
     },
     "execution_count": 72,
     "metadata": {},
     "output_type": "execute_result"
    }
   ],
   "source": [
    "opl"
   ]
  },
  {
   "cell_type": "code",
   "execution_count": 84,
   "metadata": {},
   "outputs": [],
   "source": [
    "encoding_circuit = LayeredEncodingCircuit(\n",
    "            num_qubits=num_features, num_features=num_features\n",
    ")\n",
    "encoding_circuit.Rx(\"x\")"
   ]
  },
  {
   "cell_type": "code",
   "execution_count": 85,
   "metadata": {},
   "outputs": [
    {
     "data": {
      "text/html": [
       "<pre style=\"word-wrap: normal;white-space: pre;background: #fff0;line-height: 1.1;font-family: &quot;Courier New&quot;,Courier,monospace\">   ┌──────────┐\n",
       "q: ┤ Rx(x[0]) ├\n",
       "   └──────────┘</pre>"
      ],
      "text/plain": [
       "   ┌──────────┐\n",
       "q: ┤ Rx(x[0]) ├\n",
       "   └──────────┘"
      ]
     },
     "execution_count": 85,
     "metadata": {},
     "output_type": "execute_result"
    }
   ],
   "source": [
    "encoding_circuit.draw()"
   ]
  },
  {
   "cell_type": "code",
   "execution_count": 117,
   "metadata": {},
   "outputs": [],
   "source": [
    "\"\"\"Tests for QKRR\"\"\"\n",
    "\n",
    "import pytest\n",
    "import numpy as np\n",
    "import sympy as sp\n",
    "\n",
    "from unittest.mock import MagicMock\n",
    "\n",
    "from sklearn.datasets import make_regression\n",
    "from sklearn.exceptions import NotFittedError\n",
    "from sklearn.preprocessing import MinMaxScaler\n",
    "\n",
    "from squlearn import Executor\n",
    "from squlearn.encoding_circuit import LayeredEncodingCircuit\n",
    "from squlearn.kernel.matrix import ProjectedQuantumKernel\n",
    "\n",
    "\n",
    "\n",
    "class TestProjectedQuantumKernel:\n",
    "    \"\"\"Test class for QKRR\"\"\"\n",
    "   \n",
    "\n",
    "    def test_that_single_variable_derivatives_are_correct(self):\n",
    "        \"\"\"\n",
    "        Test that the single variable derivatives are correct\n",
    "        \"\"\"\n",
    "        #Single variable derivatives \n",
    "\n",
    "        np.random.seed(42)  # why?\n",
    "        executor = Executor()\n",
    "        num_features = 1\n",
    "        encoding_circuit = LayeredEncodingCircuit(\n",
    "            num_qubits=num_features, num_features=num_features\n",
    "        )\n",
    "        encoding_circuit.Rx(\"x\")\n",
    "        kernel = ProjectedQuantumKernel(\n",
    "            encoding_circuit=encoding_circuit, executor=executor, outer_kernel=\"gaussian\"\n",
    "        )\n",
    "\n",
    "        x,y,gamma_sp = sp.symbols(\"x y gamma\")\n",
    "\n",
    "        sympy_K = sp.exp(-gamma_sp*(2-2*sp.cos(x-y)))\n",
    "        sympy_dKdx = sp.diff(sympy_K, x)\n",
    "        sympy_dKdy = sp.diff(sympy_K, y)\n",
    "        sympy_dKdxdx = sp.diff(sympy_dKdx, x) #I will use this expression, the derivation can be seen in the old notebooks \n",
    "\n",
    "        testing_values = 0.79, -0.31\n",
    "\n",
    "        sympy_values = {\n",
    "            \"K\": sympy_K.evalf(subs={x: testing_values[0], y: testing_values[1], gamma_sp: 1}),\n",
    "            \"dKdx\": sympy_dKdx.evalf(subs={x: testing_values[0], y: testing_values[1], gamma_sp: 1}),\n",
    "            \"dKdy\": sympy_dKdy.evalf(subs={x: testing_values[0], y: testing_values[1], gamma_sp: 1}),\n",
    "            \"dKdxdx\": sympy_dKdxdx.evalf(subs={x: testing_values[0], y: testing_values[1], gamma_sp: 1})\n",
    "        }\n",
    "\n",
    "        values = kernel.evaluate_derivatives([testing_values[0]], [testing_values[1]], [\"K\", \"dKdx\", \"dKdy\", \"dKdxdx\"])\n",
    "        for key in [\"K\", \"dKdx\", \"dKdy\", \"dKdxdx\"]:\n",
    "            assert np.isclose(float(values[key][0][0]), float(sympy_values[key]), atol=1e-7)\n",
    "\n"
   ]
  },
  {
   "cell_type": "code",
   "execution_count": 111,
   "metadata": {},
   "outputs": [
    {
     "data": {
      "text/plain": [
       "False"
      ]
     },
     "execution_count": 111,
     "metadata": {},
     "output_type": "execute_result"
    }
   ],
   "source": [
    "np.isclose(float(1.01),float(1))"
   ]
  },
  {
   "cell_type": "code",
   "execution_count": 119,
   "metadata": {},
   "outputs": [],
   "source": [
    "\"\"\"Tests for QKRR\"\"\"\n",
    "\n",
    "import pytest\n",
    "import numpy as np\n",
    "import sympy as sp\n",
    "\n",
    "from unittest.mock import MagicMock\n",
    "\n",
    "from sklearn.datasets import make_regression\n",
    "from sklearn.exceptions import NotFittedError\n",
    "from sklearn.preprocessing import MinMaxScaler\n",
    "\n",
    "from squlearn import Executor\n",
    "from squlearn.encoding_circuit import LayeredEncodingCircuit\n",
    "from squlearn.kernel.matrix import ProjectedQuantumKernel\n",
    "\n",
    "\n",
    "\n",
    "class TestProjectedQuantumKernel:\n",
    "    \"\"\"Test class for QKRR\"\"\"\n",
    "   \n",
    "\n",
    "    def test_that_single_variable_derivatives_are_correct(self):\n",
    "        \"\"\"\n",
    "        Test that the single variable derivatives are correct\n",
    "        \"\"\"\n",
    "        #Single variable derivatives \n",
    "\n",
    "        np.random.seed(42)  # why?\n",
    "        executor = Executor()\n",
    "        num_features = 1\n",
    "        encoding_circuit = LayeredEncodingCircuit(\n",
    "            num_qubits=num_features, num_features=num_features\n",
    "        )\n",
    "        encoding_circuit.Rx(\"x\")\n",
    "        kernel = ProjectedQuantumKernel(\n",
    "            encoding_circuit=encoding_circuit, executor=executor, outer_kernel=\"gaussian\"\n",
    "        )\n",
    "\n",
    "        x,y,gamma_sp = sp.symbols(\"x y gamma\")\n",
    "\n",
    "        sympy_K = sp.exp(-gamma_sp*(2-2*sp.cos(x-y)))\n",
    "        sympy_dKdx = sp.diff(sympy_K, x)\n",
    "        sympy_dKdy = sp.diff(sympy_K, y)\n",
    "        sympy_dKdxdx = sp.diff(sympy_dKdx, x) #I will use this expression, the derivation can be seen in the old notebooks \n",
    "\n",
    "        testing_values = 0.79, -0.31\n",
    "\n",
    "        sympy_values = {\n",
    "            \"K\": sympy_K.evalf(subs={x: testing_values[0], y: testing_values[1], gamma_sp: 1}),\n",
    "            \"dKdx\": sympy_dKdx.evalf(subs={x: testing_values[0], y: testing_values[1], gamma_sp: 1}),\n",
    "            \"dKdy\": sympy_dKdy.evalf(subs={x: testing_values[0], y: testing_values[1], gamma_sp: 1}),\n",
    "            \"dKdxdx\": sympy_dKdxdx.evalf(subs={x: testing_values[0], y: testing_values[1], gamma_sp: 1})\n",
    "        }\n",
    "\n",
    "        values = kernel.evaluate_derivatives([testing_values[0]], [testing_values[1]], [\"K\", \"dKdx\", \"dKdy\", \"dKdxdx\"])\n",
    "        for key in [\"K\", \"dKdx\", \"dKdy\", \"dKdxdx\"]:\n",
    "            assert np.isclose(float(values[key][0][0]), float(sympy_values[key]), atol=1e-7)\n",
    "\n"
   ]
  },
  {
   "cell_type": "code",
   "execution_count": 120,
   "metadata": {},
   "outputs": [],
   "source": [
    "TestProjectedQuantumKernel().test_that_single_variable_derivatives_are_correct()"
   ]
  },
  {
   "cell_type": "code",
   "execution_count": 21,
   "metadata": {},
   "outputs": [],
   "source": [
    "# {'x': [0.75, -0.41],\n",
    "#  'param': array([], dtype=float64),\n",
    "#  'param_op': array([], dtype=float64),\n",
    "#  'K': array([[1.        , 0.54844928],\n",
    "#         [0.54844928, 1.        ]]),\n",
    "#  'dKdx': array([[ 0.        , -0.50282001],\n",
    "#         [ 0.50282001,  0.        ]]),\n",
    "#  'dKdy': array([[ 0.        ,  0.50282001],\n",
    "#         [-0.50282001,  0.        ]]),\n",
    "#  'dKdxdx': array([[-1.        ,  0.24196947],\n",
    "#         [ 0.24196947, -1.        ]])}"
   ]
  }
 ],
 "metadata": {
  "kernelspec": {
   "display_name": "Python 3",
   "language": "python",
   "name": "python3"
  },
  "language_info": {
   "codemirror_mode": {
    "name": "ipython",
    "version": 3
   },
   "file_extension": ".py",
   "mimetype": "text/x-python",
   "name": "python",
   "nbconvert_exporter": "python",
   "pygments_lexer": "ipython3",
   "version": "3.10.11"
  }
 },
 "nbformat": 4,
 "nbformat_minor": 2
}

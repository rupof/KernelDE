{
 "cells": [
  {
   "cell_type": "code",
   "execution_count": 49,
   "metadata": {},
   "outputs": [],
   "source": [
    "from squlearn.observables import *\n"
   ]
  },
  {
   "cell_type": "code",
   "execution_count": 67,
   "metadata": {},
   "outputs": [],
   "source": []
  },
  {
   "cell_type": "code",
   "execution_count": 65,
   "metadata": {},
   "outputs": [
    {
     "data": {
      "text/plain": [
       "SparsePauliOp(['Z'],\n",
       "              coeffs=[1.+0.j])"
      ]
     },
     "execution_count": 65,
     "metadata": {},
     "output_type": "execute_result"
    }
   ],
   "source": [
    "observable"
   ]
  },
  {
   "cell_type": "code",
   "execution_count": 66,
   "metadata": {},
   "outputs": [
    {
     "data": {
      "text/plain": [
       "SparsePauliOp(['I', 'Z'],\n",
       "              coeffs=[ParameterExpression(1.0*p[0]), ParameterExpression(1.0*p[1])])"
      ]
     },
     "execution_count": 66,
     "metadata": {},
     "output_type": "execute_result"
    }
   ],
   "source": [
    "SummedPaulis(num_qubits)"
   ]
  },
  {
   "cell_type": "code",
   "execution_count": 72,
   "metadata": {},
   "outputs": [],
   "source": [
    "from squlearn.observables import *\n",
    "from squlearn.encoding_circuit import QiskitEncodingCircuit, LayeredEncodingCircuit\n",
    "import numpy as np\n",
    "from squlearn.qnn.lowlevel_qnn import LowLevelQNN\n",
    "from squlearn import Executor\n",
    "\n",
    "\n",
    "num_qubits = 1\n",
    "param_ini = []\n",
    "\n",
    "\n",
    "\n",
    "x_array = np.array([[1], \n",
    "                    [1], \n",
    "                    [2], \n",
    "                    [2]])\n",
    "\n",
    "circuit = LayeredEncodingCircuit(num_qubits, 1, \"x\")\n",
    "circuit.Rz(\"x\") "
   ]
  },
  {
   "cell_type": "code",
   "execution_count": 82,
   "metadata": {},
   "outputs": [
    {
     "name": "stdout",
     "output_type": "stream",
     "text": [
      "Evaluating fnuction with qiskit and pennylane with complex coefficients for the observable\n",
      "[1. 1. 1. 1.]\n",
      "[1. 1. 1. 1.]\n",
      "Evaluating derivatives with qiskit and pennylane with complex coefficients for the observable\n",
      "[[0.]\n",
      " [0.]\n",
      " [0.]\n",
      " [0.]]\n",
      "[[0]\n",
      " [0]\n",
      " [0]\n",
      " [0]]\n"
     ]
    }
   ],
   "source": [
    "observable = SummedPaulis(num_qubits)\n",
    "observable = SinglePauli(1, op_str=\"Z\", parameterized=True)\n",
    "param_obs = [(1) for i in range(observable.num_parameters)] # real coefficients\n",
    "\n",
    "qnn_pennylane = LowLevelQNN(circuit, observable, Executor(\"pennylane\"))\n",
    "qnn_qiskit = LowLevelQNN(circuit, observable, Executor(\"qiskit\"))\n",
    "\n",
    "print(\"Evaluating fnuction with qiskit and pennylane with complex coefficients for the observable\")\n",
    "print(qnn_qiskit.evaluate(x_array, [], param_obs, \"f\")[\"f\"])\n",
    "print(qnn_pennylane.evaluate(x_array, [], param_obs, \"f\")[\"f\"])\n",
    "\n",
    "print(\"Evaluating derivatives with qiskit and pennylane with complex coefficients for the observable\")\n",
    "print(qnn_qiskit.evaluate(x_array, [], param_obs, \"dfdx\")[\"dfdx\"])\n",
    "print(qnn_pennylane.evaluate(x_array, [], param_obs, \"dfdx\")[\"dfdx\"])"
   ]
  },
  {
   "cell_type": "code",
   "execution_count": 81,
   "metadata": {},
   "outputs": [
    {
     "name": "stdout",
     "output_type": "stream",
     "text": [
      "Evaluating fnuction with qiskit and pennylane with complex coefficients for the observable\n",
      "[1. 1. 1. 1.]\n",
      "[1. 1. 1. 1.]\n",
      "Evaluating derivatives with qiskit and pennylane with complex coefficients for the observable\n",
      "[[0.]\n",
      " [0.]\n",
      " [0.]\n",
      " [0.]]\n",
      "[[0]\n",
      " [0]\n",
      " [0]\n",
      " [0]]\n"
     ]
    }
   ],
   "source": [
    "observable = SinglePauli(1, op_str=\"Z\", parameterized=False) # non-parameterized observable does not give an error\n",
    "param_obs = [(1 + 0j) for i in range(observable.num_parameters)] # complex coefficients\n",
    "qnn_pennylane = LowLevelQNN(circuit, observable, Executor(\"pennylane\"))\n",
    "qnn_qiskit = LowLevelQNN(circuit, observable, Executor(\"qiskit\"))\n",
    "\n",
    "\n",
    "print(\"Evaluating fnuction with qiskit and pennylane with complex coefficients for the observable\")\n",
    "print(qnn_qiskit.evaluate(x_array, [], param_obs, \"f\")[\"f\"])\n",
    "print(qnn_pennylane.evaluate(x_array, [], param_obs, \"f\")[\"f\"])\n",
    "\n",
    "print(\"Evaluating derivatives with qiskit and pennylane with complex coefficients for the observable\")\n",
    "print(qnn_qiskit.evaluate(x_array, [], param_obs, \"dfdx\")[\"dfdx\"])\n",
    "print(qnn_pennylane.evaluate(x_array, [], param_obs, \"dfdx\")[\"dfdx\"])"
   ]
  },
  {
   "cell_type": "code",
   "execution_count": 83,
   "metadata": {},
   "outputs": [
    {
     "name": "stdout",
     "output_type": "stream",
     "text": [
      "Evaluating fnuction with qiskit and pennylane with complex coefficients for the observable\n",
      "[1. 1. 1. 1.]\n",
      "[1. 1. 1. 1.]\n",
      "Evaluating derivatives with qiskit and pennylane with complex coefficients for the observable\n",
      "[[0.]\n",
      " [0.]\n",
      " [0.]\n",
      " [0.]]\n"
     ]
    },
    {
     "ename": "ValueError",
     "evalue": "cannot reshape array of size 32 into shape (4,1,4)",
     "output_type": "error",
     "traceback": [
      "\u001b[1;31m---------------------------------------------------------------------------\u001b[0m",
      "\u001b[1;31mValueError\u001b[0m                                Traceback (most recent call last)",
      "Cell \u001b[1;32mIn[83], line 13\u001b[0m\n\u001b[0;32m     11\u001b[0m \u001b[38;5;28mprint\u001b[39m(\u001b[38;5;124m\"\u001b[39m\u001b[38;5;124mEvaluating derivatives with qiskit and pennylane with complex coefficients for the observable\u001b[39m\u001b[38;5;124m\"\u001b[39m)\n\u001b[0;32m     12\u001b[0m \u001b[38;5;28mprint\u001b[39m(qnn_qiskit\u001b[38;5;241m.\u001b[39mevaluate(x_array, [], param_obs, \u001b[38;5;124m\"\u001b[39m\u001b[38;5;124mdfdx\u001b[39m\u001b[38;5;124m\"\u001b[39m)[\u001b[38;5;124m\"\u001b[39m\u001b[38;5;124mdfdx\u001b[39m\u001b[38;5;124m\"\u001b[39m])\n\u001b[1;32m---> 13\u001b[0m \u001b[38;5;28mprint\u001b[39m(\u001b[43mqnn_pennylane\u001b[49m\u001b[38;5;241;43m.\u001b[39;49m\u001b[43mevaluate\u001b[49m\u001b[43m(\u001b[49m\u001b[43mx_array\u001b[49m\u001b[43m,\u001b[49m\u001b[43m \u001b[49m\u001b[43m[\u001b[49m\u001b[43m]\u001b[49m\u001b[43m,\u001b[49m\u001b[43m \u001b[49m\u001b[43mparam_obs\u001b[49m\u001b[43m,\u001b[49m\u001b[43m \u001b[49m\u001b[38;5;124;43m\"\u001b[39;49m\u001b[38;5;124;43mdfdx\u001b[39;49m\u001b[38;5;124;43m\"\u001b[39;49m\u001b[43m)\u001b[49m[\u001b[38;5;124m\"\u001b[39m\u001b[38;5;124mdfdx\u001b[39m\u001b[38;5;124m\"\u001b[39m])\n",
      "File \u001b[1;32mc:\\Users\\jsl-rf\\Desktop\\KernelsDE\\.venv\\lib\\site-packages\\squlearn\\qnn\\lowlevel_qnn_pennylane.py:402\u001b[0m, in \u001b[0;36mLowLevelQNNPennyLane.evaluate\u001b[1;34m(self, x, param, param_obs, *values)\u001b[0m\n\u001b[0;32m    397\u001b[0m     output \u001b[38;5;241m=\u001b[39m np\u001b[38;5;241m.\u001b[39marray(output)\n\u001b[0;32m    399\u001b[0m \u001b[38;5;28;01melse\u001b[39;00m:\n\u001b[0;32m    400\u001b[0m     \u001b[38;5;66;03m# evaluate only param, param_op combination separately and all x together\u001b[39;00m\n\u001b[0;32m    401\u001b[0m     \u001b[38;5;66;03m# Faster evaluation for lower-order derivatives\u001b[39;00m\n\u001b[1;32m--> 402\u001b[0m     output \u001b[38;5;241m=\u001b[39m [\n\u001b[0;32m    403\u001b[0m         \u001b[38;5;28mself\u001b[39m\u001b[38;5;241m.\u001b[39m_evaluate_todo_all_x(todo_class, x_inpT, param_inp_, param_obs_inp_)\n\u001b[0;32m    404\u001b[0m         \u001b[38;5;28;01mfor\u001b[39;00m param_inp_ \u001b[38;5;129;01min\u001b[39;00m param_inp\n\u001b[0;32m    405\u001b[0m         \u001b[38;5;28;01mfor\u001b[39;00m param_obs_inp_ \u001b[38;5;129;01min\u001b[39;00m param_obs_inp\n\u001b[0;32m    406\u001b[0m     ]\n\u001b[0;32m    407\u001b[0m     \u001b[38;5;66;03m# Restore order of _evaluate_todo_single_x\u001b[39;00m\n\u001b[0;32m    408\u001b[0m     output \u001b[38;5;241m=\u001b[39m np\u001b[38;5;241m.\u001b[39marray(output)\n",
      "File \u001b[1;32mc:\\Users\\jsl-rf\\Desktop\\KernelsDE\\.venv\\lib\\site-packages\\squlearn\\qnn\\lowlevel_qnn_pennylane.py:403\u001b[0m, in \u001b[0;36m<listcomp>\u001b[1;34m(.0)\u001b[0m\n\u001b[0;32m    397\u001b[0m     output \u001b[38;5;241m=\u001b[39m np\u001b[38;5;241m.\u001b[39marray(output)\n\u001b[0;32m    399\u001b[0m \u001b[38;5;28;01melse\u001b[39;00m:\n\u001b[0;32m    400\u001b[0m     \u001b[38;5;66;03m# evaluate only param, param_op combination separately and all x together\u001b[39;00m\n\u001b[0;32m    401\u001b[0m     \u001b[38;5;66;03m# Faster evaluation for lower-order derivatives\u001b[39;00m\n\u001b[0;32m    402\u001b[0m     output \u001b[38;5;241m=\u001b[39m [\n\u001b[1;32m--> 403\u001b[0m         \u001b[38;5;28;43mself\u001b[39;49m\u001b[38;5;241;43m.\u001b[39;49m\u001b[43m_evaluate_todo_all_x\u001b[49m\u001b[43m(\u001b[49m\u001b[43mtodo_class\u001b[49m\u001b[43m,\u001b[49m\u001b[43m \u001b[49m\u001b[43mx_inpT\u001b[49m\u001b[43m,\u001b[49m\u001b[43m \u001b[49m\u001b[43mparam_inp_\u001b[49m\u001b[43m,\u001b[49m\u001b[43m \u001b[49m\u001b[43mparam_obs_inp_\u001b[49m\u001b[43m)\u001b[49m\n\u001b[0;32m    404\u001b[0m         \u001b[38;5;28;01mfor\u001b[39;00m param_inp_ \u001b[38;5;129;01min\u001b[39;00m param_inp\n\u001b[0;32m    405\u001b[0m         \u001b[38;5;28;01mfor\u001b[39;00m param_obs_inp_ \u001b[38;5;129;01min\u001b[39;00m param_obs_inp\n\u001b[0;32m    406\u001b[0m     ]\n\u001b[0;32m    407\u001b[0m     \u001b[38;5;66;03m# Restore order of _evaluate_todo_single_x\u001b[39;00m\n\u001b[0;32m    408\u001b[0m     output \u001b[38;5;241m=\u001b[39m np\u001b[38;5;241m.\u001b[39marray(output)\n",
      "File \u001b[1;32mc:\\Users\\jsl-rf\\Desktop\\KernelsDE\\.venv\\lib\\site-packages\\squlearn\\qnn\\lowlevel_qnn_pennylane.py:614\u001b[0m, in \u001b[0;36mLowLevelQNNPennyLane._evaluate_todo_all_x\u001b[1;34m(self, todo_class, x, param, param_obs)\u001b[0m\n\u001b[0;32m    612\u001b[0m     hash_value \u001b[38;5;241m=\u001b[39m func\u001b[38;5;241m.\u001b[39mhash \u001b[38;5;241m+\u001b[39m \u001b[38;5;28mstr\u001b[39m(todo_class\u001b[38;5;241m.\u001b[39margnum)\n\u001b[0;32m    613\u001b[0m     deriv\u001b[38;5;241m.\u001b[39mhash \u001b[38;5;241m=\u001b[39m hash_value\n\u001b[1;32m--> 614\u001b[0m     value \u001b[38;5;241m=\u001b[39m \u001b[38;5;28;43mself\u001b[39;49m\u001b[38;5;241;43m.\u001b[39;49m\u001b[43m_executor\u001b[49m\u001b[38;5;241;43m.\u001b[39;49m\u001b[43mpennylane_execute\u001b[49m\u001b[43m(\u001b[49m\u001b[43mderiv\u001b[49m\u001b[43m,\u001b[49m\u001b[43m \u001b[49m\u001b[38;5;241;43m*\u001b[39;49m\u001b[43m(\u001b[49m\u001b[43meval_tuple\u001b[49m\u001b[43m)\u001b[49m\u001b[43m)\u001b[49m\n\u001b[0;32m    616\u001b[0m \u001b[38;5;66;03m# Convert back to numpy format\u001b[39;00m\n\u001b[0;32m    617\u001b[0m values \u001b[38;5;241m=\u001b[39m np\u001b[38;5;241m.\u001b[39marray(value)\n",
      "File \u001b[1;32mc:\\Users\\jsl-rf\\Desktop\\KernelsDE\\.venv\\lib\\site-packages\\squlearn\\util\\executor.py:483\u001b[0m, in \u001b[0;36mExecutor.pennylane_execute\u001b[1;34m(self, pennylane_circuit, *args, **kwargs)\u001b[0m\n\u001b[0;32m    480\u001b[0m     \u001b[38;5;28;01mreturn\u001b[39;00m pennylane_circuit(\u001b[38;5;241m*\u001b[39margs, \u001b[38;5;241m*\u001b[39m\u001b[38;5;241m*\u001b[39mkwargs)\n\u001b[0;32m    482\u001b[0m \u001b[38;5;66;03m# Call function for cached execution\u001b[39;00m\n\u001b[1;32m--> 483\u001b[0m \u001b[38;5;28;01mreturn\u001b[39;00m \u001b[38;5;28;43mself\u001b[39;49m\u001b[38;5;241;43m.\u001b[39;49m\u001b[43m_pennylane_execute_cached\u001b[49m\u001b[43m(\u001b[49m\u001b[43mexecute_circuit\u001b[49m\u001b[43m,\u001b[49m\u001b[43m \u001b[49m\u001b[43mhash_value\u001b[49m\u001b[43m)\u001b[49m\n",
      "File \u001b[1;32mc:\\Users\\jsl-rf\\Desktop\\KernelsDE\\.venv\\lib\\site-packages\\squlearn\\util\\executor.py:616\u001b[0m, in \u001b[0;36mExecutor._pennylane_execute_cached\u001b[1;34m(self, function, hash_value)\u001b[0m\n\u001b[0;32m    614\u001b[0m     \u001b[38;5;28;01mif\u001b[39;00m critical_error:\n\u001b[0;32m    615\u001b[0m         \u001b[38;5;28mself\u001b[39m\u001b[38;5;241m.\u001b[39m_logger\u001b[38;5;241m.\u001b[39minfo(\u001b[38;5;124mf\u001b[39m\u001b[38;5;124m\"\u001b[39m\u001b[38;5;124mCritical error detected; abort execution\u001b[39m\u001b[38;5;124m\"\u001b[39m)\n\u001b[1;32m--> 616\u001b[0m         \u001b[38;5;28;01mraise\u001b[39;00m critical_error_message\n\u001b[0;32m    618\u001b[0m \u001b[38;5;28;01mif\u001b[39;00m success \u001b[38;5;129;01mis\u001b[39;00m \u001b[38;5;129;01mnot\u001b[39;00m \u001b[38;5;28;01mTrue\u001b[39;00m:\n\u001b[0;32m    619\u001b[0m     \u001b[38;5;28;01mraise\u001b[39;00m \u001b[38;5;167;01mRuntimeError\u001b[39;00m(\n\u001b[0;32m    620\u001b[0m         \u001b[38;5;124mf\u001b[39m\u001b[38;5;124m\"\u001b[39m\u001b[38;5;124mCould not run job successfully after \u001b[39m\u001b[38;5;130;01m{{\u001b[39;00m\u001b[38;5;130;01m}}\u001b[39;00m\u001b[38;5;124m retries\u001b[39m\u001b[38;5;124m\"\u001b[39m\u001b[38;5;241m.\u001b[39mformat(\u001b[38;5;28mself\u001b[39m\u001b[38;5;241m.\u001b[39m_max_jobs_retries)\n\u001b[0;32m    621\u001b[0m     )\n",
      "File \u001b[1;32mc:\\Users\\jsl-rf\\Desktop\\KernelsDE\\.venv\\lib\\site-packages\\squlearn\\util\\executor.py:577\u001b[0m, in \u001b[0;36mExecutor._pennylane_execute_cached\u001b[1;34m(self, function, hash_value)\u001b[0m\n\u001b[0;32m    571\u001b[0m     \u001b[38;5;66;03m# Execute the circuit todo: implement restart\u001b[39;00m\n\u001b[0;32m    572\u001b[0m     \u001b[38;5;28mself\u001b[39m\u001b[38;5;241m.\u001b[39m_logger\u001b[38;5;241m.\u001b[39minfo(\n\u001b[0;32m    573\u001b[0m         \u001b[38;5;124mf\u001b[39m\u001b[38;5;124m\"\u001b[39m\u001b[38;5;124mExecutor start execution of pennylane circuit with hash value: \u001b[39m\u001b[38;5;130;01m{{\u001b[39;00m\u001b[38;5;130;01m}}\u001b[39;00m\u001b[38;5;124m\"\u001b[39m\u001b[38;5;241m.\u001b[39mformat(\n\u001b[0;32m    574\u001b[0m             hash_value\n\u001b[0;32m    575\u001b[0m         )\n\u001b[0;32m    576\u001b[0m     )\n\u001b[1;32m--> 577\u001b[0m     result \u001b[38;5;241m=\u001b[39m \u001b[43mfunction\u001b[49m\u001b[43m(\u001b[49m\u001b[43m)\u001b[49m\n\u001b[0;32m    578\u001b[0m     \u001b[38;5;28mself\u001b[39m\u001b[38;5;241m.\u001b[39m_logger\u001b[38;5;241m.\u001b[39minfo(\u001b[38;5;124mf\u001b[39m\u001b[38;5;124m\"\u001b[39m\u001b[38;5;124mExecution of pennylane circuit successful\u001b[39m\u001b[38;5;124m\"\u001b[39m)\n\u001b[0;32m    579\u001b[0m \u001b[38;5;28;01melse\u001b[39;00m:\n",
      "File \u001b[1;32mc:\\Users\\jsl-rf\\Desktop\\KernelsDE\\.venv\\lib\\site-packages\\squlearn\\util\\executor.py:480\u001b[0m, in \u001b[0;36mExecutor.pennylane_execute.<locals>.execute_circuit\u001b[1;34m()\u001b[0m\n\u001b[0;32m    479\u001b[0m \u001b[38;5;28;01mdef\u001b[39;00m \u001b[38;5;21mexecute_circuit\u001b[39m():\n\u001b[1;32m--> 480\u001b[0m     \u001b[38;5;28;01mreturn\u001b[39;00m pennylane_circuit(\u001b[38;5;241m*\u001b[39margs, \u001b[38;5;241m*\u001b[39m\u001b[38;5;241m*\u001b[39mkwargs)\n",
      "File \u001b[1;32mc:\\Users\\jsl-rf\\Desktop\\KernelsDE\\.venv\\lib\\site-packages\\pennylane\\_grad.py:455\u001b[0m, in \u001b[0;36mjacobian.<locals>._jacobian_function\u001b[1;34m(*args, **kwargs)\u001b[0m\n\u001b[0;32m    449\u001b[0m \u001b[38;5;28;01mif\u001b[39;00m \u001b[38;5;129;01mnot\u001b[39;00m _argnum:\n\u001b[0;32m    450\u001b[0m     warnings\u001b[38;5;241m.\u001b[39mwarn(\n\u001b[0;32m    451\u001b[0m         \u001b[38;5;124m\"\u001b[39m\u001b[38;5;124mAttempted to differentiate a function with no trainable parameters. \u001b[39m\u001b[38;5;124m\"\u001b[39m\n\u001b[0;32m    452\u001b[0m         \u001b[38;5;124m\"\u001b[39m\u001b[38;5;124mIf this is unintended, please add trainable parameters via the \u001b[39m\u001b[38;5;124m\"\u001b[39m\n\u001b[0;32m    453\u001b[0m         \u001b[38;5;124m\"\u001b[39m\u001b[38;5;124m'\u001b[39m\u001b[38;5;124mrequires_grad\u001b[39m\u001b[38;5;124m'\u001b[39m\u001b[38;5;124m attribute or \u001b[39m\u001b[38;5;124m'\u001b[39m\u001b[38;5;124margnum\u001b[39m\u001b[38;5;124m'\u001b[39m\u001b[38;5;124m keyword.\u001b[39m\u001b[38;5;124m\"\u001b[39m\n\u001b[0;32m    454\u001b[0m     )\n\u001b[1;32m--> 455\u001b[0m jac \u001b[38;5;241m=\u001b[39m \u001b[38;5;28;43mtuple\u001b[39;49m\u001b[43m(\u001b[49m\u001b[43m_jacobian\u001b[49m\u001b[43m(\u001b[49m\u001b[43mfunc\u001b[49m\u001b[43m,\u001b[49m\u001b[43m \u001b[49m\u001b[43marg\u001b[49m\u001b[43m)\u001b[49m\u001b[43m(\u001b[49m\u001b[38;5;241;43m*\u001b[39;49m\u001b[43margs\u001b[49m\u001b[43m,\u001b[49m\u001b[43m \u001b[49m\u001b[38;5;241;43m*\u001b[39;49m\u001b[38;5;241;43m*\u001b[39;49m\u001b[43mkwargs\u001b[49m\u001b[43m)\u001b[49m\u001b[43m \u001b[49m\u001b[38;5;28;43;01mfor\u001b[39;49;00m\u001b[43m \u001b[49m\u001b[43marg\u001b[49m\u001b[43m \u001b[49m\u001b[38;5;129;43;01min\u001b[39;49;00m\u001b[43m \u001b[49m\u001b[43m_argnum\u001b[49m\u001b[43m)\u001b[49m\n\u001b[0;32m    457\u001b[0m \u001b[38;5;28;01mreturn\u001b[39;00m jac[\u001b[38;5;241m0\u001b[39m] \u001b[38;5;28;01mif\u001b[39;00m unpack \u001b[38;5;28;01melse\u001b[39;00m jac\n",
      "File \u001b[1;32mc:\\Users\\jsl-rf\\Desktop\\KernelsDE\\.venv\\lib\\site-packages\\pennylane\\_grad.py:455\u001b[0m, in \u001b[0;36m<genexpr>\u001b[1;34m(.0)\u001b[0m\n\u001b[0;32m    449\u001b[0m \u001b[38;5;28;01mif\u001b[39;00m \u001b[38;5;129;01mnot\u001b[39;00m _argnum:\n\u001b[0;32m    450\u001b[0m     warnings\u001b[38;5;241m.\u001b[39mwarn(\n\u001b[0;32m    451\u001b[0m         \u001b[38;5;124m\"\u001b[39m\u001b[38;5;124mAttempted to differentiate a function with no trainable parameters. \u001b[39m\u001b[38;5;124m\"\u001b[39m\n\u001b[0;32m    452\u001b[0m         \u001b[38;5;124m\"\u001b[39m\u001b[38;5;124mIf this is unintended, please add trainable parameters via the \u001b[39m\u001b[38;5;124m\"\u001b[39m\n\u001b[0;32m    453\u001b[0m         \u001b[38;5;124m\"\u001b[39m\u001b[38;5;124m'\u001b[39m\u001b[38;5;124mrequires_grad\u001b[39m\u001b[38;5;124m'\u001b[39m\u001b[38;5;124m attribute or \u001b[39m\u001b[38;5;124m'\u001b[39m\u001b[38;5;124margnum\u001b[39m\u001b[38;5;124m'\u001b[39m\u001b[38;5;124m keyword.\u001b[39m\u001b[38;5;124m\"\u001b[39m\n\u001b[0;32m    454\u001b[0m     )\n\u001b[1;32m--> 455\u001b[0m jac \u001b[38;5;241m=\u001b[39m \u001b[38;5;28mtuple\u001b[39m(_jacobian(func, arg)(\u001b[38;5;241m*\u001b[39margs, \u001b[38;5;241m*\u001b[39m\u001b[38;5;241m*\u001b[39mkwargs) \u001b[38;5;28;01mfor\u001b[39;00m arg \u001b[38;5;129;01min\u001b[39;00m _argnum)\n\u001b[0;32m    457\u001b[0m \u001b[38;5;28;01mreturn\u001b[39;00m jac[\u001b[38;5;241m0\u001b[39m] \u001b[38;5;28;01mif\u001b[39;00m unpack \u001b[38;5;28;01melse\u001b[39;00m jac\n",
      "File \u001b[1;32mc:\\Users\\jsl-rf\\Desktop\\KernelsDE\\.venv\\lib\\site-packages\\autograd\\wrap_util.py:20\u001b[0m, in \u001b[0;36munary_to_nary.<locals>.nary_operator.<locals>.nary_f\u001b[1;34m(*args, **kwargs)\u001b[0m\n\u001b[0;32m     18\u001b[0m \u001b[38;5;28;01melse\u001b[39;00m:\n\u001b[0;32m     19\u001b[0m     x \u001b[38;5;241m=\u001b[39m \u001b[38;5;28mtuple\u001b[39m(args[i] \u001b[38;5;28;01mfor\u001b[39;00m i \u001b[38;5;129;01min\u001b[39;00m argnum)\n\u001b[1;32m---> 20\u001b[0m \u001b[38;5;28;01mreturn\u001b[39;00m unary_operator(unary_f, x, \u001b[38;5;241m*\u001b[39mnary_op_args, \u001b[38;5;241m*\u001b[39m\u001b[38;5;241m*\u001b[39mnary_op_kwargs)\n",
      "File \u001b[1;32mc:\\Users\\jsl-rf\\Desktop\\KernelsDE\\.venv\\lib\\site-packages\\autograd\\differential_operators.py:64\u001b[0m, in \u001b[0;36mjacobian\u001b[1;34m(fun, x)\u001b[0m\n\u001b[0;32m     62\u001b[0m jacobian_shape \u001b[38;5;241m=\u001b[39m ans_vspace\u001b[38;5;241m.\u001b[39mshape \u001b[38;5;241m+\u001b[39m vspace(x)\u001b[38;5;241m.\u001b[39mshape\n\u001b[0;32m     63\u001b[0m grads \u001b[38;5;241m=\u001b[39m \u001b[38;5;28mmap\u001b[39m(vjp, ans_vspace\u001b[38;5;241m.\u001b[39mstandard_basis())\n\u001b[1;32m---> 64\u001b[0m \u001b[38;5;28;01mreturn\u001b[39;00m \u001b[43mnp\u001b[49m\u001b[38;5;241;43m.\u001b[39;49m\u001b[43mreshape\u001b[49m\u001b[43m(\u001b[49m\u001b[43mnp\u001b[49m\u001b[38;5;241;43m.\u001b[39;49m\u001b[43mstack\u001b[49m\u001b[43m(\u001b[49m\u001b[43mgrads\u001b[49m\u001b[43m)\u001b[49m\u001b[43m,\u001b[49m\u001b[43m \u001b[49m\u001b[43mjacobian_shape\u001b[49m\u001b[43m)\u001b[49m\n",
      "File \u001b[1;32mc:\\Users\\jsl-rf\\Desktop\\KernelsDE\\.venv\\lib\\site-packages\\autograd\\tracer.py:48\u001b[0m, in \u001b[0;36mprimitive.<locals>.f_wrapped\u001b[1;34m(*args, **kwargs)\u001b[0m\n\u001b[0;32m     46\u001b[0m     \u001b[38;5;28;01mreturn\u001b[39;00m new_box(ans, trace, node)\n\u001b[0;32m     47\u001b[0m \u001b[38;5;28;01melse\u001b[39;00m:\n\u001b[1;32m---> 48\u001b[0m     \u001b[38;5;28;01mreturn\u001b[39;00m f_raw(\u001b[38;5;241m*\u001b[39margs, \u001b[38;5;241m*\u001b[39m\u001b[38;5;241m*\u001b[39mkwargs)\n",
      "File \u001b[1;32mc:\\Users\\jsl-rf\\Desktop\\KernelsDE\\.venv\\lib\\site-packages\\numpy\\core\\fromnumeric.py:285\u001b[0m, in \u001b[0;36mreshape\u001b[1;34m(a, newshape, order)\u001b[0m\n\u001b[0;32m    200\u001b[0m \u001b[38;5;129m@array_function_dispatch\u001b[39m(_reshape_dispatcher)\n\u001b[0;32m    201\u001b[0m \u001b[38;5;28;01mdef\u001b[39;00m \u001b[38;5;21mreshape\u001b[39m(a, newshape, order\u001b[38;5;241m=\u001b[39m\u001b[38;5;124m'\u001b[39m\u001b[38;5;124mC\u001b[39m\u001b[38;5;124m'\u001b[39m):\n\u001b[0;32m    202\u001b[0m \u001b[38;5;250m    \u001b[39m\u001b[38;5;124;03m\"\"\"\u001b[39;00m\n\u001b[0;32m    203\u001b[0m \u001b[38;5;124;03m    Gives a new shape to an array without changing its data.\u001b[39;00m\n\u001b[0;32m    204\u001b[0m \n\u001b[1;32m   (...)\u001b[0m\n\u001b[0;32m    283\u001b[0m \u001b[38;5;124;03m           [5, 6]])\u001b[39;00m\n\u001b[0;32m    284\u001b[0m \u001b[38;5;124;03m    \"\"\"\u001b[39;00m\n\u001b[1;32m--> 285\u001b[0m     \u001b[38;5;28;01mreturn\u001b[39;00m \u001b[43m_wrapfunc\u001b[49m\u001b[43m(\u001b[49m\u001b[43ma\u001b[49m\u001b[43m,\u001b[49m\u001b[43m \u001b[49m\u001b[38;5;124;43m'\u001b[39;49m\u001b[38;5;124;43mreshape\u001b[39;49m\u001b[38;5;124;43m'\u001b[39;49m\u001b[43m,\u001b[49m\u001b[43m \u001b[49m\u001b[43mnewshape\u001b[49m\u001b[43m,\u001b[49m\u001b[43m \u001b[49m\u001b[43morder\u001b[49m\u001b[38;5;241;43m=\u001b[39;49m\u001b[43morder\u001b[49m\u001b[43m)\u001b[49m\n",
      "File \u001b[1;32mc:\\Users\\jsl-rf\\Desktop\\KernelsDE\\.venv\\lib\\site-packages\\numpy\\core\\fromnumeric.py:59\u001b[0m, in \u001b[0;36m_wrapfunc\u001b[1;34m(obj, method, *args, **kwds)\u001b[0m\n\u001b[0;32m     56\u001b[0m     \u001b[38;5;28;01mreturn\u001b[39;00m _wrapit(obj, method, \u001b[38;5;241m*\u001b[39margs, \u001b[38;5;241m*\u001b[39m\u001b[38;5;241m*\u001b[39mkwds)\n\u001b[0;32m     58\u001b[0m \u001b[38;5;28;01mtry\u001b[39;00m:\n\u001b[1;32m---> 59\u001b[0m     \u001b[38;5;28;01mreturn\u001b[39;00m bound(\u001b[38;5;241m*\u001b[39margs, \u001b[38;5;241m*\u001b[39m\u001b[38;5;241m*\u001b[39mkwds)\n\u001b[0;32m     60\u001b[0m \u001b[38;5;28;01mexcept\u001b[39;00m \u001b[38;5;167;01mTypeError\u001b[39;00m:\n\u001b[0;32m     61\u001b[0m     \u001b[38;5;66;03m# A TypeError occurs if the object does have such a method in its\u001b[39;00m\n\u001b[0;32m     62\u001b[0m     \u001b[38;5;66;03m# class, but its signature is not identical to that of NumPy's. This\u001b[39;00m\n\u001b[1;32m   (...)\u001b[0m\n\u001b[0;32m     66\u001b[0m     \u001b[38;5;66;03m# Call _wrapit from within the except clause to ensure a potential\u001b[39;00m\n\u001b[0;32m     67\u001b[0m     \u001b[38;5;66;03m# exception has a traceback chain.\u001b[39;00m\n\u001b[0;32m     68\u001b[0m     \u001b[38;5;28;01mreturn\u001b[39;00m _wrapit(obj, method, \u001b[38;5;241m*\u001b[39margs, \u001b[38;5;241m*\u001b[39m\u001b[38;5;241m*\u001b[39mkwds)\n",
      "\u001b[1;31mValueError\u001b[0m: cannot reshape array of size 32 into shape (4,1,4)"
     ]
    }
   ],
   "source": [
    "observable = SinglePauli(1, op_str=\"Z\", parameterized=True) # parameterized observable does not give an error\n",
    "param_obs = [(1 + 0j) for i in range(observable.num_parameters)] # complex coefficients\n",
    "qnn_pennylane = LowLevelQNN(circuit, observable, Executor(\"pennylane\"))\n",
    "qnn_qiskit = LowLevelQNN(circuit, observable, Executor(\"qiskit\"))\n",
    "\n",
    "\n",
    "print(\"Evaluating fnuction with qiskit and pennylane with complex coefficients for the observable\")\n",
    "print(qnn_qiskit.evaluate(x_array, [], param_obs, \"f\")[\"f\"])\n",
    "print(qnn_pennylane.evaluate(x_array, [], param_obs, \"f\")[\"f\"])\n",
    "\n",
    "print(\"Evaluating derivatives with qiskit and pennylane with complex coefficients for the observable\")\n",
    "print(qnn_qiskit.evaluate(x_array, [], param_obs, \"dfdx\")[\"dfdx\"])\n",
    "print(qnn_pennylane.evaluate(x_array, [], param_obs, \"dfdx\")[\"dfdx\"])"
   ]
  }
 ],
 "metadata": {
  "kernelspec": {
   "display_name": ".venv",
   "language": "python",
   "name": "python3"
  },
  "language_info": {
   "codemirror_mode": {
    "name": "ipython",
    "version": 3
   },
   "file_extension": ".py",
   "mimetype": "text/x-python",
   "name": "python",
   "nbconvert_exporter": "python",
   "pygments_lexer": "ipython3",
   "version": "3.10.11"
  }
 },
 "nbformat": 4,
 "nbformat_minor": 2
}

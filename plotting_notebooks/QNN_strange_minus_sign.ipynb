{
 "cells": [
  {
   "cell_type": "markdown",
   "metadata": {},
   "source": [
    "Hi Jan, while searching for the bug for my PQK kernel DE, I came across something strange. I dont know if it is a matter of different definitions or something else. \n",
    "\n",
    "\n",
    "If one applies an $R_x(x)$ rotation in a circuit and calculates the expectation value with regards to $X,Y$ and $Z$. One finds that (see derivation below):\n",
    "\n",
    "$<X \\rho> =  0$ \n",
    "\n",
    "\n",
    "$<Y\\rho> = sin(x)$ \n",
    "\n",
    "$<Z\\rho> = cos(x)$ \n",
    "\n",
    "\n",
    "If one uses squlearn, one finds that the sign with regards to Y is changed:\n",
    "\n",
    "$<X \\rho> =  0$ \n",
    "\n",
    "\n",
    "$<Y\\rho> = -sin(x)$ \n",
    "\n",
    "$<Z\\rho> = cos(x)$  \n",
    "\n",
    "Do you have an explanation why?"
   ]
  },
  {
   "cell_type": "markdown",
   "metadata": {},
   "source": [
    "Derivation using sympy"
   ]
  },
  {
   "cell_type": "code",
   "execution_count": 58,
   "metadata": {},
   "outputs": [
    {
     "name": "stdout",
     "output_type": "stream",
     "text": [
      "f(x) = 0, 1.0*sin(x), 1.0*cos(x)\n",
      "f(0.5) [0, 0.119712207288919, 0.992808635853866]\n"
     ]
    }
   ],
   "source": [
    "import sympy as sp\n",
    "#also https://arxiv.org/pdf/2206.06686 equation 3 and 4\n",
    "x = sp.symbols(\"x\", real=True)\n",
    "RX = sp.Matrix([[sp.cos(x/2), 1j*sp.sin(x/2)], [1j*sp.sin(x/2), sp.cos(x/2)]])\n",
    "\n",
    "X = sp.Matrix([[0, 1], [1, 0]])\n",
    "Y = sp.Matrix([[0, -1j], [1j, 0]])\n",
    "Z = sp.Matrix([[1, 0], [0, -1]])\n",
    "\n",
    "ket0 = sp.Matrix([[1], [0]])\n",
    "bra0 = ket0.T\n",
    "\n",
    "rhox = RX @ ket0 @ bra0 @ RX.H\n",
    "\n",
    "value = 0.12\n",
    "print(f\"f(x) = {sp.trace(X@rhox).simplify()}, {sp.trace(Y@rhox).simplify()}, {sp.trace(Z@rhox).simplify()}\")\n",
    "print(\"f(0.5)\", [f.subs(x, value).evalf() for f in [sp.trace(X@rhox), sp.trace(Y@rhox), sp.trace(Z@rhox)]])\n"
   ]
  },
  {
   "cell_type": "markdown",
   "metadata": {},
   "source": [
    "Experiment squlearn"
   ]
  },
  {
   "cell_type": "code",
   "execution_count": 59,
   "metadata": {},
   "outputs": [
    {
     "name": "stdout",
     "output_type": "stream",
     "text": [
      "Pennylane statevector \n",
      "f\n",
      " [[ 0.         -0.11971221  0.99280864]]\n"
     ]
    }
   ],
   "source": [
    "import numpy as np\n",
    "from squlearn.observables import  SinglePauli\n",
    "from squlearn.encoding_circuit import LayeredEncodingCircuit\n",
    "from squlearn.qnn.lowlevel_qnn import LowLevelQNN\n",
    "from squlearn import Executor\n",
    "\n",
    "def Separable_rx(num_qubits, num_layers):\n",
    "    \"\"\"\n",
    "    Separable_rx(num_qubits, num_layers)\n",
    "    Returns a circuit that is similar to the one used in IQP.\n",
    "    \"\"\"\n",
    "    fmap = LayeredEncodingCircuit(num_qubits=num_qubits, num_features=num_qubits)\n",
    "    for layer in range(num_layers):\n",
    "        fmap.Rx(\"x\")\n",
    "    return fmap\n",
    "\n",
    "num_qubits = 1\n",
    "x_array = np.array([[value]])\n",
    "\n",
    "circuit = Separable_rx(1, 1)\n",
    "observable = [SinglePauli(num_qubits, 0, \"X\"), SinglePauli(num_qubits, 0, \"Y\"), SinglePauli(num_qubits, 0, \"Z\")]\n",
    "qnn_pennylane_statevector = LowLevelQNN(circuit, observable, Executor(\"pennylane\"))\n",
    "\n",
    "param = []\n",
    "param_obs = []\n",
    "\n",
    "print(\"Pennylane statevector \")\n",
    "print(\"f\\n\", qnn_pennylane_statevector.evaluate(x_array, param, param_obs, \"f\")[\"f\"])"
   ]
  },
  {
   "cell_type": "code",
   "execution_count": null,
   "metadata": {},
   "outputs": [],
   "source": []
  }
 ],
 "metadata": {
  "kernelspec": {
   "display_name": "Python 3",
   "language": "python",
   "name": "python3"
  },
  "language_info": {
   "codemirror_mode": {
    "name": "ipython",
    "version": 3
   },
   "file_extension": ".py",
   "mimetype": "text/x-python",
   "name": "python",
   "nbconvert_exporter": "python",
   "pygments_lexer": "ipython3",
   "version": "3.10.11"
  }
 },
 "nbformat": 4,
 "nbformat_minor": 2
}

{
 "cells": [
  {
   "cell_type": "code",
   "execution_count": 1,
   "metadata": {},
   "outputs": [],
   "source": [
    "import sys\n",
    "sys.path.append(\"..\")"
   ]
  },
  {
   "cell_type": "code",
   "execution_count": 2,
   "metadata": {},
   "outputs": [],
   "source": [
    "#from solvers.MMR.PQK_solver import *\n",
    "from circuits.circuits import *\n",
    "from utils.rbf_kernel_tools import *\n",
    "from squlearn.encoding_circuit import *\n",
    "from squlearn.kernel import *"
   ]
  },
  {
   "cell_type": "markdown",
   "metadata": {},
   "source": [
    "We will show that the kernel derivatives calculated by squlearn are the same as the ones analytically calculated for the separable rx fmap"
   ]
  },
  {
   "cell_type": "code",
   "execution_count": 3,
   "metadata": {},
   "outputs": [],
   "source": [
    "from circuits.circuits import Separable_rx"
   ]
  },
  {
   "cell_type": "markdown",
   "metadata": {},
   "source": [
    "Same K(X, X) 1D"
   ]
  },
  {
   "cell_type": "code",
   "execution_count": 4,
   "metadata": {},
   "outputs": [],
   "source": [
    "import sympy as sp\n",
    "\n",
    "x,y,gamma_sp = sp.symbols(\"x y gamma\")\n",
    "\n",
    "#create x_vec a tensor with 1, 2 , 3\n",
    "x_vec = sp.IndexedBase(\"x\")\n",
    "y_vec = sp.IndexedBase(\"y\")\n",
    " \n",
    "def k_(x_vec, y_vec, n):\n",
    "    s = 0\n",
    "    for i in range(0, n):\n",
    "        s+= 2 - 2*sp.cos(x_vec[i]-y_vec[i])\n",
    "    total = sp.exp(-gamma_sp*s)\n",
    "    return total\n",
    "\n",
    "def substitute_manually(obj, x, y, gamma_num):\n",
    "    dictionary_to_sub = {}\n",
    "    dictionary_to_sub[gamma_sp] = gamma_num\n",
    "    for i in range(len(x)):\n",
    "        dictionary_to_sub[x_vec[i]] = x[i]\n",
    "        dictionary_to_sub[y_vec[i]] = y[i]\n",
    "    return obj.subs(dictionary_to_sub).evalf()\n",
    "    \n",
    "\n",
    "    "
   ]
  },
  {
   "cell_type": "code",
   "execution_count": 19,
   "metadata": {},
   "outputs": [],
   "source": [
    "x_train = np.array([[0, 1],[1, .5]])\n",
    "y_train = np.array([[1, 1.2, 7],[0, 1.2, 1]])\n",
    "x_train = np.array([[0, 1.2, 4],[1, 1.2, 2]])\n",
    "\n",
    "x_train = np.array([[0, 1.5, 0.3],[1, .5, 0.7]])\n",
    "x_train = np.array([[0], [.5]])\n",
    "\n",
    "y_train= x_train\n",
    "\n",
    "n_feature = x_train.shape[1]\n",
    "feature_map = Separable_rx(n_feature,1,n_feature)\n",
    "q_kernel = ProjectedQuantumKernel(feature_map, Executor())"
   ]
  },
  {
   "cell_type": "code",
   "execution_count": 20,
   "metadata": {},
   "outputs": [],
   "source": [
    "def eval_K_matrix_analytically(x_dataset, y_dataset):\n",
    "    num_matrix = np.zeros((len(x_dataset), len(y_dataset)))\n",
    "    num_dimensions = len(x_dataset[0])\n",
    "    for i in range(len(x_dataset)):\n",
    "        for j in range(len(y_dataset)):\n",
    "            num_matrix[i,j] = substitute_manually(k_(x_vec, y_vec, num_dimensions), x_dataset[i], y_dataset[j], 1)\n",
    "    return num_matrix\n",
    "\n",
    "def eval_K_matrix_analytically_dx(x_dataset, y_dataset):\n",
    "    num_matrix = np.zeros((len(x_dataset), len(y_dataset), len(x_dataset[0])))\n",
    "    num_dimensions = len(x_dataset[0])\n",
    "    for i in range(len(x_dataset)):\n",
    "        for j in range(len(y_dataset)):\n",
    "            for l in range(len(x_dataset[0])):\n",
    "                num_matrix[i,j, l] = substitute_manually(k_(x_vec, y_vec, num_dimensions).diff(x_vec[l]), x_dataset[i], y_dataset[j], 1)\n",
    "    return num_matrix\n",
    "\n",
    "def eval_K_matrix_analytically_dxdx(x_dataset, y_dataset):\n",
    "    num_matrix = np.zeros((len(x_dataset), len(y_dataset), len(x_dataset[0])))\n",
    "    num_dimensions = len(x_dataset[0])\n",
    "    for i in range(len(x_dataset)):\n",
    "        for j in range(len(y_dataset)):\n",
    "            for l in range(len(x_dataset[0])):\n",
    "                num_matrix[i,j, l] = substitute_manually(k_(x_vec, y_vec, num_dimensions).diff(x_vec[l]), x_dataset[i], y_dataset[j], 1)\n",
    "    return num_matrix\n",
    "\n",
    "def eval_K_matrix_analytically_dy(x_dataset, y_dataset):\n",
    "    num_matrix = np.zeros((len(x_dataset), len(y_dataset), len(x_dataset[0])))\n",
    "    num_dimensions = len(x_dataset[0])\n",
    "    for i in range(len(x_dataset)):\n",
    "        for j in range(len(y_dataset)):\n",
    "            for l in range(len(x_dataset[0])):\n",
    "                num_matrix[i,j, l] = substitute_manually(k_(x_vec, y_vec, num_dimensions).diff(y_vec[l]), x_dataset[i], y_dataset[j], 1)\n",
    "    return num_matrix"
   ]
  },
  {
   "cell_type": "code",
   "execution_count": 21,
   "metadata": {},
   "outputs": [
    {
     "data": {
      "text/plain": [
       "array([[1.        , 0.78283379],\n",
       "       [0.78283379, 1.        ]])"
      ]
     },
     "execution_count": 21,
     "metadata": {},
     "output_type": "execute_result"
    }
   ],
   "source": [
    "q_kernel.evaluate(x_train, y_train)"
   ]
  },
  {
   "cell_type": "code",
   "execution_count": 22,
   "metadata": {},
   "outputs": [
    {
     "data": {
      "text/plain": [
       "array([[1.        , 0.78283379],\n",
       "       [0.78283379, 1.        ]])"
      ]
     },
     "execution_count": 22,
     "metadata": {},
     "output_type": "execute_result"
    }
   ],
   "source": [
    "eval_K_matrix_analytically(x_train, y_train)"
   ]
  },
  {
   "cell_type": "code",
   "execution_count": 27,
   "metadata": {},
   "outputs": [
    {
     "data": {
      "text/plain": [
       "{'x': array([[0. ],\n",
       "        [0.5]]),\n",
       " 'param': array([], dtype=float64),\n",
       " 'param_op': array([], dtype=float64),\n",
       " 'dKdx': array([[ 0.        ,  0.75062102],\n",
       "        [-0.75062102,  0.        ]]),\n",
       " 'dKdxdx': array([[-2.        , -0.65426879],\n",
       "        [-0.65426879, -2.        ]])}"
      ]
     },
     "execution_count": 27,
     "metadata": {},
     "output_type": "execute_result"
    }
   ],
   "source": [
    "q_kernel.evaluate_derivatives(x_train, y_train, [\"dKdxdx\"])"
   ]
  },
  {
   "cell_type": "code",
   "execution_count": 10,
   "metadata": {},
   "outputs": [
    {
     "data": {
      "text/plain": [
       "array([[[ 0.        ,  0.        ,  0.        ],\n",
       "        [-0.22852141,  0.22852141, -0.10575579]],\n",
       "\n",
       "       [[ 0.22852141, -0.22852141,  0.10575579],\n",
       "        [ 0.        ,  0.        ,  0.        ]]])"
      ]
     },
     "execution_count": 10,
     "metadata": {},
     "output_type": "execute_result"
    }
   ],
   "source": [
    "eval_K_matrix_analytically_dy(x_train, y_train)"
   ]
  },
  {
   "cell_type": "code",
   "execution_count": 19,
   "metadata": {},
   "outputs": [
    {
     "data": {
      "text/plain": [
       "[(0, 1), (0, 2), (0, 3), (1, 2), (1, 3), (2, 3)]"
      ]
     },
     "execution_count": 19,
     "metadata": {},
     "output_type": "execute_result"
    }
   ],
   "source": [
    "from itertools import combinations\n",
    "list(combinations(range(4), 2))"
   ]
  },
  {
   "cell_type": "code",
   "execution_count": 28,
   "metadata": {},
   "outputs": [],
   "source": [
    "vanilla_rbf = sp.exp(-gamma_sp*(x-y)**2)"
   ]
  },
  {
   "cell_type": "code",
   "execution_count": 30,
   "metadata": {},
   "outputs": [
    {
     "data": {
      "text/latex": [
       "$\\displaystyle - \\gamma \\left(- 2 x + 2 y\\right) e^{- \\gamma \\left(x - y\\right)^{2}}$"
      ],
      "text/plain": [
       "-gamma*(-2*x + 2*y)*exp(-gamma*(x - y)**2)"
      ]
     },
     "execution_count": 30,
     "metadata": {},
     "output_type": "execute_result"
    }
   ],
   "source": [
    "vanilla_rbf.diff(y)"
   ]
  },
  {
   "cell_type": "code",
   "execution_count": 29,
   "metadata": {},
   "outputs": [
    {
     "data": {
      "text/latex": [
       "$\\displaystyle - \\gamma \\left(2 x - 2 y\\right) e^{- \\gamma \\left(x - y\\right)^{2}}$"
      ],
      "text/plain": [
       "-gamma*(2*x - 2*y)*exp(-gamma*(x - y)**2)"
      ]
     },
     "execution_count": 29,
     "metadata": {},
     "output_type": "execute_result"
    }
   ],
   "source": [
    "vanilla_rbf.diff(x)"
   ]
  },
  {
   "cell_type": "code",
   "execution_count": null,
   "metadata": {},
   "outputs": [],
   "source": []
  },
  {
   "cell_type": "code",
   "execution_count": 22,
   "metadata": {},
   "outputs": [],
   "source": [
    "x1, y1 = sp.symbols('x_1 y_1')\n",
    "x2, y2 = sp.symbols('x_2 y_2')\n",
    "x3, y3 = sp.symbols('x_3 y_3')\n",
    "p1, p2 = sp.symbols('p_1 p_2')\n",
    "O1 = sp.symbols('O_1', cls=sp.Function)\n",
    "O2 = sp.symbols('O_2', cls=sp.Function)\n",
    "O3 = sp.symbols('O_3', cls=sp.Function)\n"
   ]
  },
  {
   "cell_type": "code",
   "execution_count": 23,
   "metadata": {},
   "outputs": [],
   "source": [
    "k = sp.symbols('k', cls=sp.Function)\n",
    "pqk_fun =  k(O1(x, p1, p2), O2(x, p1, p2), O3(x, p1, p2), O1(y, p1, p2), O2(y,p1, p2), O3(y,p1, p2))\n",
    "#pqk_fun =  k(O1(x, p1, p2), O2(x, p1, p2), O1(y, p1, p2), O2(y,p1, p2))\n",
    "pqk_fun_dx = sp.diff(pqk_fun, x).simplify()\n",
    "pqk_fun_dxdx = sp.diff(pqk_fun_dx, x).simplify()"
   ]
  },
  {
   "cell_type": "code",
   "execution_count": 24,
   "metadata": {},
   "outputs": [
    {
     "data": {
      "text/latex": [
       "$\\displaystyle \\frac{\\partial}{\\partial x} O_{1}{\\left(x,p_{1},p_{2} \\right)} \\frac{\\partial}{\\partial O_{1}{\\left(x,p_{1},p_{2} \\right)}} k{\\left(O_{1}{\\left(x,p_{1},p_{2} \\right)},O_{2}{\\left(x,p_{1},p_{2} \\right)},O_{3}{\\left(x,p_{1},p_{2} \\right)},O_{1}{\\left(y,p_{1},p_{2} \\right)},O_{2}{\\left(y,p_{1},p_{2} \\right)},O_{3}{\\left(y,p_{1},p_{2} \\right)} \\right)} + \\frac{\\partial}{\\partial x} O_{2}{\\left(x,p_{1},p_{2} \\right)} \\frac{\\partial}{\\partial O_{2}{\\left(x,p_{1},p_{2} \\right)}} k{\\left(O_{1}{\\left(x,p_{1},p_{2} \\right)},O_{2}{\\left(x,p_{1},p_{2} \\right)},O_{3}{\\left(x,p_{1},p_{2} \\right)},O_{1}{\\left(y,p_{1},p_{2} \\right)},O_{2}{\\left(y,p_{1},p_{2} \\right)},O_{3}{\\left(y,p_{1},p_{2} \\right)} \\right)} + \\frac{\\partial}{\\partial x} O_{3}{\\left(x,p_{1},p_{2} \\right)} \\frac{\\partial}{\\partial O_{3}{\\left(x,p_{1},p_{2} \\right)}} k{\\left(O_{1}{\\left(x,p_{1},p_{2} \\right)},O_{2}{\\left(x,p_{1},p_{2} \\right)},O_{3}{\\left(x,p_{1},p_{2} \\right)},O_{1}{\\left(y,p_{1},p_{2} \\right)},O_{2}{\\left(y,p_{1},p_{2} \\right)},O_{3}{\\left(y,p_{1},p_{2} \\right)} \\right)}$"
      ],
      "text/plain": [
       "Derivative(O_1(x, p_1, p_2), x)*Derivative(k(O_1(x, p_1, p_2), O_2(x, p_1, p_2), O_3(x, p_1, p_2), O_1(y, p_1, p_2), O_2(y, p_1, p_2), O_3(y, p_1, p_2)), O_1(x, p_1, p_2)) + Derivative(O_2(x, p_1, p_2), x)*Derivative(k(O_1(x, p_1, p_2), O_2(x, p_1, p_2), O_3(x, p_1, p_2), O_1(y, p_1, p_2), O_2(y, p_1, p_2), O_3(y, p_1, p_2)), O_2(x, p_1, p_2)) + Derivative(O_3(x, p_1, p_2), x)*Derivative(k(O_1(x, p_1, p_2), O_2(x, p_1, p_2), O_3(x, p_1, p_2), O_1(y, p_1, p_2), O_2(y, p_1, p_2), O_3(y, p_1, p_2)), O_3(x, p_1, p_2))"
      ]
     },
     "execution_count": 24,
     "metadata": {},
     "output_type": "execute_result"
    }
   ],
   "source": [
    "pqk_fun_dx"
   ]
  },
  {
   "cell_type": "code",
   "execution_count": 25,
   "metadata": {},
   "outputs": [
    {
     "data": {
      "text/latex": [
       "$\\displaystyle \\left(\\frac{\\partial}{\\partial x} O_{1}{\\left(x,p_{1},p_{2} \\right)} \\frac{\\partial^{2}}{\\partial O_{1}{\\left(x,p_{1},p_{2} \\right)}^{2}} k{\\left(O_{1}{\\left(x,p_{1},p_{2} \\right)},O_{2}{\\left(x,p_{1},p_{2} \\right)},O_{3}{\\left(x,p_{1},p_{2} \\right)},O_{1}{\\left(y,p_{1},p_{2} \\right)},O_{2}{\\left(y,p_{1},p_{2} \\right)},O_{3}{\\left(y,p_{1},p_{2} \\right)} \\right)} + \\frac{\\partial}{\\partial x} O_{2}{\\left(x,p_{1},p_{2} \\right)} \\frac{\\partial^{2}}{\\partial O_{2}{\\left(x,p_{1},p_{2} \\right)}\\partial O_{1}{\\left(x,p_{1},p_{2} \\right)}} k{\\left(O_{1}{\\left(x,p_{1},p_{2} \\right)},O_{2}{\\left(x,p_{1},p_{2} \\right)},O_{3}{\\left(x,p_{1},p_{2} \\right)},O_{1}{\\left(y,p_{1},p_{2} \\right)},O_{2}{\\left(y,p_{1},p_{2} \\right)},O_{3}{\\left(y,p_{1},p_{2} \\right)} \\right)} + \\frac{\\partial}{\\partial x} O_{3}{\\left(x,p_{1},p_{2} \\right)} \\frac{\\partial^{2}}{\\partial O_{3}{\\left(x,p_{1},p_{2} \\right)}\\partial O_{1}{\\left(x,p_{1},p_{2} \\right)}} k{\\left(O_{1}{\\left(x,p_{1},p_{2} \\right)},O_{2}{\\left(x,p_{1},p_{2} \\right)},O_{3}{\\left(x,p_{1},p_{2} \\right)},O_{1}{\\left(y,p_{1},p_{2} \\right)},O_{2}{\\left(y,p_{1},p_{2} \\right)},O_{3}{\\left(y,p_{1},p_{2} \\right)} \\right)}\\right) \\frac{\\partial}{\\partial x} O_{1}{\\left(x,p_{1},p_{2} \\right)} + \\left(\\frac{\\partial}{\\partial x} O_{1}{\\left(x,p_{1},p_{2} \\right)} \\frac{\\partial^{2}}{\\partial O_{2}{\\left(x,p_{1},p_{2} \\right)}\\partial O_{1}{\\left(x,p_{1},p_{2} \\right)}} k{\\left(O_{1}{\\left(x,p_{1},p_{2} \\right)},O_{2}{\\left(x,p_{1},p_{2} \\right)},O_{3}{\\left(x,p_{1},p_{2} \\right)},O_{1}{\\left(y,p_{1},p_{2} \\right)},O_{2}{\\left(y,p_{1},p_{2} \\right)},O_{3}{\\left(y,p_{1},p_{2} \\right)} \\right)} + \\frac{\\partial}{\\partial x} O_{2}{\\left(x,p_{1},p_{2} \\right)} \\frac{\\partial^{2}}{\\partial O_{2}{\\left(x,p_{1},p_{2} \\right)}^{2}} k{\\left(O_{1}{\\left(x,p_{1},p_{2} \\right)},O_{2}{\\left(x,p_{1},p_{2} \\right)},O_{3}{\\left(x,p_{1},p_{2} \\right)},O_{1}{\\left(y,p_{1},p_{2} \\right)},O_{2}{\\left(y,p_{1},p_{2} \\right)},O_{3}{\\left(y,p_{1},p_{2} \\right)} \\right)} + \\frac{\\partial}{\\partial x} O_{3}{\\left(x,p_{1},p_{2} \\right)} \\frac{\\partial^{2}}{\\partial O_{3}{\\left(x,p_{1},p_{2} \\right)}\\partial O_{2}{\\left(x,p_{1},p_{2} \\right)}} k{\\left(O_{1}{\\left(x,p_{1},p_{2} \\right)},O_{2}{\\left(x,p_{1},p_{2} \\right)},O_{3}{\\left(x,p_{1},p_{2} \\right)},O_{1}{\\left(y,p_{1},p_{2} \\right)},O_{2}{\\left(y,p_{1},p_{2} \\right)},O_{3}{\\left(y,p_{1},p_{2} \\right)} \\right)}\\right) \\frac{\\partial}{\\partial x} O_{2}{\\left(x,p_{1},p_{2} \\right)} + \\left(\\frac{\\partial}{\\partial x} O_{1}{\\left(x,p_{1},p_{2} \\right)} \\frac{\\partial^{2}}{\\partial O_{3}{\\left(x,p_{1},p_{2} \\right)}\\partial O_{1}{\\left(x,p_{1},p_{2} \\right)}} k{\\left(O_{1}{\\left(x,p_{1},p_{2} \\right)},O_{2}{\\left(x,p_{1},p_{2} \\right)},O_{3}{\\left(x,p_{1},p_{2} \\right)},O_{1}{\\left(y,p_{1},p_{2} \\right)},O_{2}{\\left(y,p_{1},p_{2} \\right)},O_{3}{\\left(y,p_{1},p_{2} \\right)} \\right)} + \\frac{\\partial}{\\partial x} O_{2}{\\left(x,p_{1},p_{2} \\right)} \\frac{\\partial^{2}}{\\partial O_{3}{\\left(x,p_{1},p_{2} \\right)}\\partial O_{2}{\\left(x,p_{1},p_{2} \\right)}} k{\\left(O_{1}{\\left(x,p_{1},p_{2} \\right)},O_{2}{\\left(x,p_{1},p_{2} \\right)},O_{3}{\\left(x,p_{1},p_{2} \\right)},O_{1}{\\left(y,p_{1},p_{2} \\right)},O_{2}{\\left(y,p_{1},p_{2} \\right)},O_{3}{\\left(y,p_{1},p_{2} \\right)} \\right)} + \\frac{\\partial}{\\partial x} O_{3}{\\left(x,p_{1},p_{2} \\right)} \\frac{\\partial^{2}}{\\partial O_{3}{\\left(x,p_{1},p_{2} \\right)}^{2}} k{\\left(O_{1}{\\left(x,p_{1},p_{2} \\right)},O_{2}{\\left(x,p_{1},p_{2} \\right)},O_{3}{\\left(x,p_{1},p_{2} \\right)},O_{1}{\\left(y,p_{1},p_{2} \\right)},O_{2}{\\left(y,p_{1},p_{2} \\right)},O_{3}{\\left(y,p_{1},p_{2} \\right)} \\right)}\\right) \\frac{\\partial}{\\partial x} O_{3}{\\left(x,p_{1},p_{2} \\right)} + \\frac{\\partial^{2}}{\\partial x^{2}} O_{1}{\\left(x,p_{1},p_{2} \\right)} \\frac{\\partial}{\\partial O_{1}{\\left(x,p_{1},p_{2} \\right)}} k{\\left(O_{1}{\\left(x,p_{1},p_{2} \\right)},O_{2}{\\left(x,p_{1},p_{2} \\right)},O_{3}{\\left(x,p_{1},p_{2} \\right)},O_{1}{\\left(y,p_{1},p_{2} \\right)},O_{2}{\\left(y,p_{1},p_{2} \\right)},O_{3}{\\left(y,p_{1},p_{2} \\right)} \\right)} + \\frac{\\partial^{2}}{\\partial x^{2}} O_{2}{\\left(x,p_{1},p_{2} \\right)} \\frac{\\partial}{\\partial O_{2}{\\left(x,p_{1},p_{2} \\right)}} k{\\left(O_{1}{\\left(x,p_{1},p_{2} \\right)},O_{2}{\\left(x,p_{1},p_{2} \\right)},O_{3}{\\left(x,p_{1},p_{2} \\right)},O_{1}{\\left(y,p_{1},p_{2} \\right)},O_{2}{\\left(y,p_{1},p_{2} \\right)},O_{3}{\\left(y,p_{1},p_{2} \\right)} \\right)} + \\frac{\\partial^{2}}{\\partial x^{2}} O_{3}{\\left(x,p_{1},p_{2} \\right)} \\frac{\\partial}{\\partial O_{3}{\\left(x,p_{1},p_{2} \\right)}} k{\\left(O_{1}{\\left(x,p_{1},p_{2} \\right)},O_{2}{\\left(x,p_{1},p_{2} \\right)},O_{3}{\\left(x,p_{1},p_{2} \\right)},O_{1}{\\left(y,p_{1},p_{2} \\right)},O_{2}{\\left(y,p_{1},p_{2} \\right)},O_{3}{\\left(y,p_{1},p_{2} \\right)} \\right)}$"
      ],
      "text/plain": [
       "(Derivative(O_1(x, p_1, p_2), x)*Derivative(k(O_1(x, p_1, p_2), O_2(x, p_1, p_2), O_3(x, p_1, p_2), O_1(y, p_1, p_2), O_2(y, p_1, p_2), O_3(y, p_1, p_2)), (O_1(x, p_1, p_2), 2)) + Derivative(O_2(x, p_1, p_2), x)*Derivative(k(O_1(x, p_1, p_2), O_2(x, p_1, p_2), O_3(x, p_1, p_2), O_1(y, p_1, p_2), O_2(y, p_1, p_2), O_3(y, p_1, p_2)), O_1(x, p_1, p_2), O_2(x, p_1, p_2)) + Derivative(O_3(x, p_1, p_2), x)*Derivative(k(O_1(x, p_1, p_2), O_2(x, p_1, p_2), O_3(x, p_1, p_2), O_1(y, p_1, p_2), O_2(y, p_1, p_2), O_3(y, p_1, p_2)), O_1(x, p_1, p_2), O_3(x, p_1, p_2)))*Derivative(O_1(x, p_1, p_2), x) + (Derivative(O_1(x, p_1, p_2), x)*Derivative(k(O_1(x, p_1, p_2), O_2(x, p_1, p_2), O_3(x, p_1, p_2), O_1(y, p_1, p_2), O_2(y, p_1, p_2), O_3(y, p_1, p_2)), O_1(x, p_1, p_2), O_2(x, p_1, p_2)) + Derivative(O_2(x, p_1, p_2), x)*Derivative(k(O_1(x, p_1, p_2), O_2(x, p_1, p_2), O_3(x, p_1, p_2), O_1(y, p_1, p_2), O_2(y, p_1, p_2), O_3(y, p_1, p_2)), (O_2(x, p_1, p_2), 2)) + Derivative(O_3(x, p_1, p_2), x)*Derivative(k(O_1(x, p_1, p_2), O_2(x, p_1, p_2), O_3(x, p_1, p_2), O_1(y, p_1, p_2), O_2(y, p_1, p_2), O_3(y, p_1, p_2)), O_2(x, p_1, p_2), O_3(x, p_1, p_2)))*Derivative(O_2(x, p_1, p_2), x) + (Derivative(O_1(x, p_1, p_2), x)*Derivative(k(O_1(x, p_1, p_2), O_2(x, p_1, p_2), O_3(x, p_1, p_2), O_1(y, p_1, p_2), O_2(y, p_1, p_2), O_3(y, p_1, p_2)), O_1(x, p_1, p_2), O_3(x, p_1, p_2)) + Derivative(O_2(x, p_1, p_2), x)*Derivative(k(O_1(x, p_1, p_2), O_2(x, p_1, p_2), O_3(x, p_1, p_2), O_1(y, p_1, p_2), O_2(y, p_1, p_2), O_3(y, p_1, p_2)), O_2(x, p_1, p_2), O_3(x, p_1, p_2)) + Derivative(O_3(x, p_1, p_2), x)*Derivative(k(O_1(x, p_1, p_2), O_2(x, p_1, p_2), O_3(x, p_1, p_2), O_1(y, p_1, p_2), O_2(y, p_1, p_2), O_3(y, p_1, p_2)), (O_3(x, p_1, p_2), 2)))*Derivative(O_3(x, p_1, p_2), x) + Derivative(O_1(x, p_1, p_2), (x, 2))*Derivative(k(O_1(x, p_1, p_2), O_2(x, p_1, p_2), O_3(x, p_1, p_2), O_1(y, p_1, p_2), O_2(y, p_1, p_2), O_3(y, p_1, p_2)), O_1(x, p_1, p_2)) + Derivative(O_2(x, p_1, p_2), (x, 2))*Derivative(k(O_1(x, p_1, p_2), O_2(x, p_1, p_2), O_3(x, p_1, p_2), O_1(y, p_1, p_2), O_2(y, p_1, p_2), O_3(y, p_1, p_2)), O_2(x, p_1, p_2)) + Derivative(O_3(x, p_1, p_2), (x, 2))*Derivative(k(O_1(x, p_1, p_2), O_2(x, p_1, p_2), O_3(x, p_1, p_2), O_1(y, p_1, p_2), O_2(y, p_1, p_2), O_3(y, p_1, p_2)), O_3(x, p_1, p_2))"
      ]
     },
     "execution_count": 25,
     "metadata": {},
     "output_type": "execute_result"
    }
   ],
   "source": [
    "pqk_fun_dx.diff(x)"
   ]
  },
  {
   "cell_type": "markdown",
   "metadata": {},
   "source": [
    "Fundamentally, we implement the below equation using einsum notation"
   ]
  },
  {
   "cell_type": "code",
   "execution_count": null,
   "metadata": {},
   "outputs": [
    {
     "data": {
      "text/latex": [
       "$\\displaystyle \\left(\\frac{d}{d x} O_{1}{\\left(x \\right)}\\right)^{2} \\frac{\\partial^{2}}{\\partial O_{1}{\\left(x \\right)}^{2}} k{\\left(O_{1}{\\left(x \\right)},O_{2}{\\left(x \\right)},O_{3}{\\left(x \\right)},O_{1}{\\left(y \\right)},O_{2}{\\left(y \\right)},O_{3}{\\left(y \\right)} \\right)} + 2 \\frac{d}{d x} O_{1}{\\left(x \\right)} \\frac{d}{d x} O_{2}{\\left(x \\right)} \\frac{\\partial^{2}}{\\partial O_{2}{\\left(x \\right)}\\partial O_{1}{\\left(x \\right)}} k{\\left(O_{1}{\\left(x \\right)},O_{2}{\\left(x \\right)},O_{3}{\\left(x \\right)},O_{1}{\\left(y \\right)},O_{2}{\\left(y \\right)},O_{3}{\\left(y \\right)} \\right)} + 2 \\frac{d}{d x} O_{1}{\\left(x \\right)} \\frac{d}{d x} O_{3}{\\left(x \\right)} \\frac{\\partial^{2}}{\\partial O_{3}{\\left(x \\right)}\\partial O_{1}{\\left(x \\right)}} k{\\left(O_{1}{\\left(x \\right)},O_{2}{\\left(x \\right)},O_{3}{\\left(x \\right)},O_{1}{\\left(y \\right)},O_{2}{\\left(y \\right)},O_{3}{\\left(y \\right)} \\right)} + \\frac{d^{2}}{d x^{2}} O_{1}{\\left(x \\right)} \\frac{\\partial}{\\partial O_{1}{\\left(x \\right)}} k{\\left(O_{1}{\\left(x \\right)},O_{2}{\\left(x \\right)},O_{3}{\\left(x \\right)},O_{1}{\\left(y \\right)},O_{2}{\\left(y \\right)},O_{3}{\\left(y \\right)} \\right)} + \\left(\\frac{d}{d x} O_{2}{\\left(x \\right)}\\right)^{2} \\frac{\\partial^{2}}{\\partial O_{2}{\\left(x \\right)}^{2}} k{\\left(O_{1}{\\left(x \\right)},O_{2}{\\left(x \\right)},O_{3}{\\left(x \\right)},O_{1}{\\left(y \\right)},O_{2}{\\left(y \\right)},O_{3}{\\left(y \\right)} \\right)} + 2 \\frac{d}{d x} O_{2}{\\left(x \\right)} \\frac{d}{d x} O_{3}{\\left(x \\right)} \\frac{\\partial^{2}}{\\partial O_{3}{\\left(x \\right)}\\partial O_{2}{\\left(x \\right)}} k{\\left(O_{1}{\\left(x \\right)},O_{2}{\\left(x \\right)},O_{3}{\\left(x \\right)},O_{1}{\\left(y \\right)},O_{2}{\\left(y \\right)},O_{3}{\\left(y \\right)} \\right)} + \\frac{d^{2}}{d x^{2}} O_{2}{\\left(x \\right)} \\frac{\\partial}{\\partial O_{2}{\\left(x \\right)}} k{\\left(O_{1}{\\left(x \\right)},O_{2}{\\left(x \\right)},O_{3}{\\left(x \\right)},O_{1}{\\left(y \\right)},O_{2}{\\left(y \\right)},O_{3}{\\left(y \\right)} \\right)} + \\left(\\frac{d}{d x} O_{3}{\\left(x \\right)}\\right)^{2} \\frac{\\partial^{2}}{\\partial O_{3}{\\left(x \\right)}^{2}} k{\\left(O_{1}{\\left(x \\right)},O_{2}{\\left(x \\right)},O_{3}{\\left(x \\right)},O_{1}{\\left(y \\right)},O_{2}{\\left(y \\right)},O_{3}{\\left(y \\right)} \\right)} + \\frac{d^{2}}{d x^{2}} O_{3}{\\left(x \\right)} \\frac{\\partial}{\\partial O_{3}{\\left(x \\right)}} k{\\left(O_{1}{\\left(x \\right)},O_{2}{\\left(x \\right)},O_{3}{\\left(x \\right)},O_{1}{\\left(y \\right)},O_{2}{\\left(y \\right)},O_{3}{\\left(y \\right)} \\right)}$"
      ],
      "text/plain": [
       "Derivative(O_1(x), x)**2*Derivative(k(O_1(x), O_2(x), O_3(x), O_1(y), O_2(y), O_3(y)), (O_1(x), 2)) + 2*Derivative(O_1(x), x)*Derivative(O_2(x), x)*Derivative(k(O_1(x), O_2(x), O_3(x), O_1(y), O_2(y), O_3(y)), O_1(x), O_2(x)) + 2*Derivative(O_1(x), x)*Derivative(O_3(x), x)*Derivative(k(O_1(x), O_2(x), O_3(x), O_1(y), O_2(y), O_3(y)), O_1(x), O_3(x)) + Derivative(O_1(x), (x, 2))*Derivative(k(O_1(x), O_2(x), O_3(x), O_1(y), O_2(y), O_3(y)), O_1(x)) + Derivative(O_2(x), x)**2*Derivative(k(O_1(x), O_2(x), O_3(x), O_1(y), O_2(y), O_3(y)), (O_2(x), 2)) + 2*Derivative(O_2(x), x)*Derivative(O_3(x), x)*Derivative(k(O_1(x), O_2(x), O_3(x), O_1(y), O_2(y), O_3(y)), O_2(x), O_3(x)) + Derivative(O_2(x), (x, 2))*Derivative(k(O_1(x), O_2(x), O_3(x), O_1(y), O_2(y), O_3(y)), O_2(x)) + Derivative(O_3(x), x)**2*Derivative(k(O_1(x), O_2(x), O_3(x), O_1(y), O_2(y), O_3(y)), (O_3(x), 2)) + Derivative(O_3(x), (x, 2))*Derivative(k(O_1(x), O_2(x), O_3(x), O_1(y), O_2(y), O_3(y)), O_3(x))"
      ]
     },
     "execution_count": 94,
     "metadata": {},
     "output_type": "execute_result"
    }
   ],
   "source": [
    "pqk_fun_dxdx.simplify()"
   ]
  },
  {
   "cell_type": "code",
   "execution_count": null,
   "metadata": {},
   "outputs": [],
   "source": [
    "from squlearn.kernel.matrix import ProjectedQuantumKernel"
   ]
  },
  {
   "cell_type": "code",
   "execution_count": null,
   "metadata": {},
   "outputs": [],
   "source": [
    "pqk_squlearn = ProjectedQuantumKernel(Separable_rx(num_qubits=1, num_layers=1), executor=Executor(\"pennylane\"), gamma=gamma)"
   ]
  },
  {
   "cell_type": "code",
   "execution_count": null,
   "metadata": {},
   "outputs": [
    {
     "data": {
      "text/plain": [
       "array([[1.        , 0.88050868],\n",
       "       [0.88050868, 1.        ]])"
      ]
     },
     "execution_count": 44,
     "metadata": {},
     "output_type": "execute_result"
    }
   ],
   "source": [
    "pqk_squlearn.evaluate(X, X)"
   ]
  },
  {
   "cell_type": "code",
   "execution_count": null,
   "metadata": {},
   "outputs": [
    {
     "data": {
      "text/plain": [
       "array([[1.        , 0.88050868],\n",
       "       [0.88050868, 1.        ]])"
      ]
     },
     "execution_count": 97,
     "metadata": {},
     "output_type": "execute_result"
    }
   ],
   "source": [
    "K_separable_rx_PQK_(X,X, gamma)"
   ]
  },
  {
   "cell_type": "code",
   "execution_count": null,
   "metadata": {},
   "outputs": [
    {
     "data": {
      "text/plain": [
       "array([[1.        , 0.88050868],\n",
       "       [0.88050868, 1.        ]])"
      ]
     },
     "execution_count": 98,
     "metadata": {},
     "output_type": "execute_result"
    }
   ],
   "source": [
    "K_f"
   ]
  },
  {
   "cell_type": "code",
   "execution_count": null,
   "metadata": {},
   "outputs": [
    {
     "data": {
      "text/plain": [
       "array([[-0.       , -0.4298443],\n",
       "       [ 0.4298443, -0.       ]])"
      ]
     },
     "execution_count": 99,
     "metadata": {},
     "output_type": "execute_result"
    }
   ],
   "source": [
    "K_separable_rx_PQK_dx(X,X,gamma)"
   ]
  },
  {
   "cell_type": "code",
   "execution_count": null,
   "metadata": {},
   "outputs": [
    {
     "data": {
      "text/plain": [
       "array([[ 0.       , -0.4298443],\n",
       "       [ 0.4298443,  0.       ]])"
      ]
     },
     "execution_count": 100,
     "metadata": {},
     "output_type": "execute_result"
    }
   ],
   "source": [
    "K_dfdx"
   ]
  },
  {
   "cell_type": "code",
   "execution_count": null,
   "metadata": {},
   "outputs": [
    {
     "data": {
      "text/plain": [
       "array([[-1.        , -0.55861891],\n",
       "       [-0.55861891, -1.        ]])"
      ]
     },
     "execution_count": 103,
     "metadata": {},
     "output_type": "execute_result"
    }
   ],
   "source": [
    "K_separable_rx_PQK_dxdx(X,X,gamma)"
   ]
  },
  {
   "cell_type": "code",
   "execution_count": null,
   "metadata": {},
   "outputs": [
    {
     "data": {
      "text/plain": [
       "array([[-1.        , -0.55861891],\n",
       "       [-0.55861891, -1.        ]])"
      ]
     },
     "execution_count": 104,
     "metadata": {},
     "output_type": "execute_result"
    }
   ],
   "source": [
    "K_dfdxdx"
   ]
  },
  {
   "cell_type": "code",
   "execution_count": null,
   "metadata": {},
   "outputs": [],
   "source": [
    "import numpy as np\n",
    "#from sklearn import RBF\n",
    "from sklearn.gaussian_process.kernels import RBF"
   ]
  },
  {
   "cell_type": "code",
   "execution_count": null,
   "metadata": {},
   "outputs": [],
   "source": [
    "from circuits.circuits import Separable_rx"
   ]
  },
  {
   "cell_type": "code",
   "execution_count": null,
   "metadata": {},
   "outputs": [],
   "source": [
    "sigma=1\n",
    "gamma= 1/(2*sigma**2)\n",
    "pqk_squlearn = ProjectedQuantumKernel(Separable_rx(num_qubits=1, num_layers=1, num_features=1), executor=Executor(\"pennylane\"), gamma=gamma)"
   ]
  },
  {
   "cell_type": "code",
   "execution_count": null,
   "metadata": {},
   "outputs": [],
   "source": [
    "X = [0.1, -0.41]"
   ]
  },
  {
   "cell_type": "code",
   "execution_count": null,
   "metadata": {},
   "outputs": [
    {
     "name": "stdout",
     "output_type": "stream",
     "text": [
      "Calculating dfdx\n",
      "Calculating f\n",
      "Calculating f\n"
     ]
    },
    {
     "data": {
      "text/plain": [
       "array([[ 0.       , -0.4298443],\n",
       "       [ 0.4298443,  0.       ]])"
      ]
     },
     "execution_count": 20,
     "metadata": {},
     "output_type": "execute_result"
    }
   ],
   "source": [
    "pqk_squlearn.evaluate_derivatives(X, X, \"dfdx\")"
   ]
  },
  {
   "cell_type": "code",
   "execution_count": null,
   "metadata": {},
   "outputs": [
    {
     "name": "stdout",
     "output_type": "stream",
     "text": [
      "Calculating dfdx\n",
      "Calculating dfdxdx\n",
      "Calculating f\n",
      "Calculating f\n",
      "Calculating f\n",
      "Calculating f\n",
      "Calculating f\n",
      "Calculating f\n",
      "Calculating f\n",
      "Calculating f\n",
      "Calculating f\n",
      "Calculating f\n"
     ]
    },
    {
     "data": {
      "text/plain": [
       "array([[-1.        , -0.55861891],\n",
       "       [-0.55861891, -1.        ]])"
      ]
     },
     "execution_count": 21,
     "metadata": {},
     "output_type": "execute_result"
    }
   ],
   "source": [
    "pqk_squlearn.evaluate_derivatives(X, X, \"dfdxdx\")"
   ]
  }
 ],
 "metadata": {
  "kernelspec": {
   "display_name": "Python 3",
   "language": "python",
   "name": "python3"
  },
  "language_info": {
   "codemirror_mode": {
    "name": "ipython",
    "version": 3
   },
   "file_extension": ".py",
   "mimetype": "text/x-python",
   "name": "python",
   "nbconvert_exporter": "python",
   "pygments_lexer": "ipython3",
   "version": "3.10.11"
  }
 },
 "nbformat": 4,
 "nbformat_minor": 2
}

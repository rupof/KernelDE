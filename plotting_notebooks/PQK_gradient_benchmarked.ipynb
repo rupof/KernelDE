{
 "cells": [
  {
   "cell_type": "code",
   "execution_count": 1,
   "metadata": {},
   "outputs": [],
   "source": [
    "import sys\n",
    "sys.path.append(\"..\")"
   ]
  },
  {
   "cell_type": "code",
   "execution_count": 2,
   "metadata": {},
   "outputs": [],
   "source": [
    "from solvers.MMR.PQK_solver import *\n",
    "from circuits.circuits import *\n",
    "from utils.rbf_kernel_tools import *\n",
    "from squlearn.encoding_circuit import *\n",
    "from squlearn.kernel import *"
   ]
  },
  {
   "cell_type": "markdown",
   "metadata": {},
   "source": [
    "We will show that the kernel derivatives calculated by squlearn are the same as the ones analytically calculated for the separable rx fmap"
   ]
  },
  {
   "cell_type": "code",
   "execution_count": 3,
   "metadata": {},
   "outputs": [],
   "source": [
    "from circuits.circuits import Separable_rx"
   ]
  },
  {
   "cell_type": "markdown",
   "metadata": {},
   "source": [
    "Same K(X, X) 1D"
   ]
  },
  {
   "cell_type": "code",
   "execution_count": 4,
   "metadata": {},
   "outputs": [],
   "source": [
    "import sympy as sp\n",
    "\n",
    "x,y,gamma_sp = sp.symbols(\"x y gamma\")\n",
    "\n",
    "#create x_vec a tensor with 1, 2 , 3\n",
    "x_vec = sp.IndexedBase(\"x\")\n",
    "y_vec = sp.IndexedBase(\"y\")\n",
    " \n",
    "def k_(x_vec, y_vec, n):\n",
    "    s = 0\n",
    "    for i in range(0, n):\n",
    "        s+= 2 - 2*sp.cos(x_vec[i]-y_vec[i])\n",
    "    total = sp.exp(-gamma_sp*s)\n",
    "    return total\n",
    "\n",
    "def substitute_manually(obj, x, y, gamma_num):\n",
    "    dictionary_to_sub = {}\n",
    "    dictionary_to_sub[gamma_sp] = gamma_num\n",
    "    for i in range(len(x)):\n",
    "        dictionary_to_sub[x_vec[i]] = x[i]\n",
    "        dictionary_to_sub[y_vec[i]] = y[i]\n",
    "    return obj.subs(dictionary_to_sub).evalf()\n",
    "    \n",
    "\n",
    "    "
   ]
  },
  {
   "cell_type": "code",
   "execution_count": 14,
   "metadata": {},
   "outputs": [],
   "source": [
    "x_train = np.array([[0, 1],[1, .5]])\n",
    "y_train = np.array([[1],[0]])\n",
    "x_train = np.array([[0],[1]])\n",
    "\n",
    "n_feature = x_train.shape[1]\n",
    "feature_map = Separable_rx(n_feature,1,n_feature)\n",
    "q_kernel = ProjectedQuantumKernel(feature_map, Executor())"
   ]
  },
  {
   "cell_type": "code",
   "execution_count": 18,
   "metadata": {},
   "outputs": [
    {
     "data": {
      "text/plain": [
       "array([[0.39876006, 1.        ],\n",
       "       [1.        , 0.39876006]])"
      ]
     },
     "execution_count": 18,
     "metadata": {},
     "output_type": "execute_result"
    }
   ],
   "source": [
    "def eval_k_matrix(x_dataset, y_dataset):\n",
    "    num_matrix = np.zeros((len(x_dataset), len(y_dataset)))\n",
    "    num_dimensions = len(x_dataset[0])\n",
    "    for i in range(len(x_dataset)):\n",
    "        for j in range(len(y_dataset)):\n",
    "            num_matrix[i,j] = substitute_manually(k_(x_vec, y_vec, num_dimensions), x_dataset[i], y_dataset[j], 1)\n",
    "    return num_matrix\n",
    "\n",
    "def eval_k_matrix_dx(x_dataset, y_dataset):\n",
    "    num_matrix = np.zeros((len(x_dataset), len(y_dataset), len(x_dataset[0])))\n",
    "    num_dimensions = len(x_dataset[0])\n",
    "    for i in range(len(x_dataset)):\n",
    "        for j in range(len(y_dataset)):\n",
    "            for l in range(len(x_dataset[0])):\n",
    "                num_matrix[i,j, l] = substitute_manually(k_(x_vec, y_vec, num_dimensions).diff(x_vec[l]), x_dataset[i], y_dataset[j], 1)\n",
    "    return num_matrix\n",
    "\n",
    "eval_k_matrix(x_train, y_train)"
   ]
  },
  {
   "cell_type": "code",
   "execution_count": 19,
   "metadata": {},
   "outputs": [
    {
     "name": "stdout",
     "output_type": "stream",
     "text": [
      "Calculating f\n",
      "Calculating f\n"
     ]
    },
    {
     "data": {
      "text/plain": [
       "array([[0.39876006, 1.        ],\n",
       "       [1.        , 0.39876006]])"
      ]
     },
     "execution_count": 19,
     "metadata": {},
     "output_type": "execute_result"
    }
   ],
   "source": [
    "q_kernel.evaluate(x_train, y_train)"
   ]
  },
  {
   "cell_type": "code",
   "execution_count": 22,
   "metadata": {},
   "outputs": [
    {
     "name": "stdout",
     "output_type": "stream",
     "text": [
      "Calculating dfdx\n",
      "Calculating f\n",
      "Shape of x_result (O) (2, 3)\n",
      "Calculating f\n"
     ]
    },
    {
     "data": {
      "text/plain": [
       "array([[ 0.67109005,  0.        ],\n",
       "       [ 0.        , -0.67109005]])"
      ]
     },
     "execution_count": 22,
     "metadata": {},
     "output_type": "execute_result"
    }
   ],
   "source": [
    "q_kernel.evaluate_derivatives(x_train, y_train, \"dfdx\")"
   ]
  },
  {
   "cell_type": "code",
   "execution_count": 21,
   "metadata": {},
   "outputs": [
    {
     "data": {
      "text/plain": [
       "array([[ 0.67109005,  0.        ],\n",
       "       [ 0.        , -0.67109005]])"
      ]
     },
     "execution_count": 21,
     "metadata": {},
     "output_type": "execute_result"
    }
   ],
   "source": [
    "eval_k_matrix_dx(x_train, y_train)[:,:,0]"
   ]
  },
  {
   "cell_type": "code",
   "execution_count": null,
   "metadata": {},
   "outputs": [],
   "source": []
  },
  {
   "cell_type": "code",
   "execution_count": null,
   "metadata": {},
   "outputs": [],
   "source": []
  },
  {
   "cell_type": "code",
   "execution_count": null,
   "metadata": {},
   "outputs": [],
   "source": [
    "x1, y1 = sp.symbols('x_1 y_1')\n",
    "x2, y2 = sp.symbols('x_2 y_2')\n",
    "x3, y3 = sp.symbols('x_3 y_3')\n",
    "O1 = sp.symbols('O_1', cls=sp.Function)\n",
    "O2 = sp.symbols('O_2', cls=sp.Function)\n",
    "O3 = sp.symbols('O_3', cls=sp.Function)\n"
   ]
  },
  {
   "cell_type": "code",
   "execution_count": null,
   "metadata": {},
   "outputs": [],
   "source": [
    "k = sp.symbols('k', cls=sp.Function)\n",
    "pqk_fun =  k(O1(x), O2(x), O3(x), O1(y), O2(y), O3(y))\n",
    "pqk_fun_dx = sp.diff(pqk_fun, x).simplify()\n",
    "pqk_fun_dxdx = sp.diff(pqk_fun_dx, x).simplify()"
   ]
  },
  {
   "cell_type": "markdown",
   "metadata": {},
   "source": [
    "Fundamentally, we implement the below equation using einsum notation"
   ]
  },
  {
   "cell_type": "code",
   "execution_count": null,
   "metadata": {},
   "outputs": [
    {
     "data": {
      "text/latex": [
       "$\\displaystyle \\left(\\frac{d}{d x} O_{1}{\\left(x \\right)}\\right)^{2} \\frac{\\partial^{2}}{\\partial O_{1}{\\left(x \\right)}^{2}} k{\\left(O_{1}{\\left(x \\right)},O_{2}{\\left(x \\right)},O_{3}{\\left(x \\right)},O_{1}{\\left(y \\right)},O_{2}{\\left(y \\right)},O_{3}{\\left(y \\right)} \\right)} + 2 \\frac{d}{d x} O_{1}{\\left(x \\right)} \\frac{d}{d x} O_{2}{\\left(x \\right)} \\frac{\\partial^{2}}{\\partial O_{2}{\\left(x \\right)}\\partial O_{1}{\\left(x \\right)}} k{\\left(O_{1}{\\left(x \\right)},O_{2}{\\left(x \\right)},O_{3}{\\left(x \\right)},O_{1}{\\left(y \\right)},O_{2}{\\left(y \\right)},O_{3}{\\left(y \\right)} \\right)} + 2 \\frac{d}{d x} O_{1}{\\left(x \\right)} \\frac{d}{d x} O_{3}{\\left(x \\right)} \\frac{\\partial^{2}}{\\partial O_{3}{\\left(x \\right)}\\partial O_{1}{\\left(x \\right)}} k{\\left(O_{1}{\\left(x \\right)},O_{2}{\\left(x \\right)},O_{3}{\\left(x \\right)},O_{1}{\\left(y \\right)},O_{2}{\\left(y \\right)},O_{3}{\\left(y \\right)} \\right)} + \\frac{d^{2}}{d x^{2}} O_{1}{\\left(x \\right)} \\frac{\\partial}{\\partial O_{1}{\\left(x \\right)}} k{\\left(O_{1}{\\left(x \\right)},O_{2}{\\left(x \\right)},O_{3}{\\left(x \\right)},O_{1}{\\left(y \\right)},O_{2}{\\left(y \\right)},O_{3}{\\left(y \\right)} \\right)} + \\left(\\frac{d}{d x} O_{2}{\\left(x \\right)}\\right)^{2} \\frac{\\partial^{2}}{\\partial O_{2}{\\left(x \\right)}^{2}} k{\\left(O_{1}{\\left(x \\right)},O_{2}{\\left(x \\right)},O_{3}{\\left(x \\right)},O_{1}{\\left(y \\right)},O_{2}{\\left(y \\right)},O_{3}{\\left(y \\right)} \\right)} + 2 \\frac{d}{d x} O_{2}{\\left(x \\right)} \\frac{d}{d x} O_{3}{\\left(x \\right)} \\frac{\\partial^{2}}{\\partial O_{3}{\\left(x \\right)}\\partial O_{2}{\\left(x \\right)}} k{\\left(O_{1}{\\left(x \\right)},O_{2}{\\left(x \\right)},O_{3}{\\left(x \\right)},O_{1}{\\left(y \\right)},O_{2}{\\left(y \\right)},O_{3}{\\left(y \\right)} \\right)} + \\frac{d^{2}}{d x^{2}} O_{2}{\\left(x \\right)} \\frac{\\partial}{\\partial O_{2}{\\left(x \\right)}} k{\\left(O_{1}{\\left(x \\right)},O_{2}{\\left(x \\right)},O_{3}{\\left(x \\right)},O_{1}{\\left(y \\right)},O_{2}{\\left(y \\right)},O_{3}{\\left(y \\right)} \\right)} + \\left(\\frac{d}{d x} O_{3}{\\left(x \\right)}\\right)^{2} \\frac{\\partial^{2}}{\\partial O_{3}{\\left(x \\right)}^{2}} k{\\left(O_{1}{\\left(x \\right)},O_{2}{\\left(x \\right)},O_{3}{\\left(x \\right)},O_{1}{\\left(y \\right)},O_{2}{\\left(y \\right)},O_{3}{\\left(y \\right)} \\right)} + \\frac{d^{2}}{d x^{2}} O_{3}{\\left(x \\right)} \\frac{\\partial}{\\partial O_{3}{\\left(x \\right)}} k{\\left(O_{1}{\\left(x \\right)},O_{2}{\\left(x \\right)},O_{3}{\\left(x \\right)},O_{1}{\\left(y \\right)},O_{2}{\\left(y \\right)},O_{3}{\\left(y \\right)} \\right)}$"
      ],
      "text/plain": [
       "Derivative(O_1(x), x)**2*Derivative(k(O_1(x), O_2(x), O_3(x), O_1(y), O_2(y), O_3(y)), (O_1(x), 2)) + 2*Derivative(O_1(x), x)*Derivative(O_2(x), x)*Derivative(k(O_1(x), O_2(x), O_3(x), O_1(y), O_2(y), O_3(y)), O_1(x), O_2(x)) + 2*Derivative(O_1(x), x)*Derivative(O_3(x), x)*Derivative(k(O_1(x), O_2(x), O_3(x), O_1(y), O_2(y), O_3(y)), O_1(x), O_3(x)) + Derivative(O_1(x), (x, 2))*Derivative(k(O_1(x), O_2(x), O_3(x), O_1(y), O_2(y), O_3(y)), O_1(x)) + Derivative(O_2(x), x)**2*Derivative(k(O_1(x), O_2(x), O_3(x), O_1(y), O_2(y), O_3(y)), (O_2(x), 2)) + 2*Derivative(O_2(x), x)*Derivative(O_3(x), x)*Derivative(k(O_1(x), O_2(x), O_3(x), O_1(y), O_2(y), O_3(y)), O_2(x), O_3(x)) + Derivative(O_2(x), (x, 2))*Derivative(k(O_1(x), O_2(x), O_3(x), O_1(y), O_2(y), O_3(y)), O_2(x)) + Derivative(O_3(x), x)**2*Derivative(k(O_1(x), O_2(x), O_3(x), O_1(y), O_2(y), O_3(y)), (O_3(x), 2)) + Derivative(O_3(x), (x, 2))*Derivative(k(O_1(x), O_2(x), O_3(x), O_1(y), O_2(y), O_3(y)), O_3(x))"
      ]
     },
     "execution_count": 94,
     "metadata": {},
     "output_type": "execute_result"
    }
   ],
   "source": [
    "pqk_fun_dxdx.simplify()"
   ]
  },
  {
   "cell_type": "code",
   "execution_count": null,
   "metadata": {},
   "outputs": [],
   "source": [
    "from squlearn.kernel.matrix import ProjectedQuantumKernel"
   ]
  },
  {
   "cell_type": "code",
   "execution_count": null,
   "metadata": {},
   "outputs": [],
   "source": [
    "pqk_squlearn = ProjectedQuantumKernel(Separable_rx(num_qubits=1, num_layers=1), executor=Executor(\"pennylane\"), gamma=gamma)"
   ]
  },
  {
   "cell_type": "code",
   "execution_count": null,
   "metadata": {},
   "outputs": [
    {
     "data": {
      "text/plain": [
       "array([[1.        , 0.88050868],\n",
       "       [0.88050868, 1.        ]])"
      ]
     },
     "execution_count": 44,
     "metadata": {},
     "output_type": "execute_result"
    }
   ],
   "source": [
    "pqk_squlearn.evaluate(X, X)"
   ]
  },
  {
   "cell_type": "code",
   "execution_count": null,
   "metadata": {},
   "outputs": [
    {
     "data": {
      "text/plain": [
       "array([[1.        , 0.88050868],\n",
       "       [0.88050868, 1.        ]])"
      ]
     },
     "execution_count": 97,
     "metadata": {},
     "output_type": "execute_result"
    }
   ],
   "source": [
    "K_separable_rx_PQK_(X,X, gamma)"
   ]
  },
  {
   "cell_type": "code",
   "execution_count": null,
   "metadata": {},
   "outputs": [
    {
     "data": {
      "text/plain": [
       "array([[1.        , 0.88050868],\n",
       "       [0.88050868, 1.        ]])"
      ]
     },
     "execution_count": 98,
     "metadata": {},
     "output_type": "execute_result"
    }
   ],
   "source": [
    "K_f"
   ]
  },
  {
   "cell_type": "code",
   "execution_count": null,
   "metadata": {},
   "outputs": [
    {
     "data": {
      "text/plain": [
       "array([[-0.       , -0.4298443],\n",
       "       [ 0.4298443, -0.       ]])"
      ]
     },
     "execution_count": 99,
     "metadata": {},
     "output_type": "execute_result"
    }
   ],
   "source": [
    "K_separable_rx_PQK_dx(X,X,gamma)"
   ]
  },
  {
   "cell_type": "code",
   "execution_count": null,
   "metadata": {},
   "outputs": [
    {
     "data": {
      "text/plain": [
       "array([[ 0.       , -0.4298443],\n",
       "       [ 0.4298443,  0.       ]])"
      ]
     },
     "execution_count": 100,
     "metadata": {},
     "output_type": "execute_result"
    }
   ],
   "source": [
    "K_dfdx"
   ]
  },
  {
   "cell_type": "code",
   "execution_count": null,
   "metadata": {},
   "outputs": [
    {
     "data": {
      "text/plain": [
       "array([[-1.        , -0.55861891],\n",
       "       [-0.55861891, -1.        ]])"
      ]
     },
     "execution_count": 103,
     "metadata": {},
     "output_type": "execute_result"
    }
   ],
   "source": [
    "K_separable_rx_PQK_dxdx(X,X,gamma)"
   ]
  },
  {
   "cell_type": "code",
   "execution_count": null,
   "metadata": {},
   "outputs": [
    {
     "data": {
      "text/plain": [
       "array([[-1.        , -0.55861891],\n",
       "       [-0.55861891, -1.        ]])"
      ]
     },
     "execution_count": 104,
     "metadata": {},
     "output_type": "execute_result"
    }
   ],
   "source": [
    "K_dfdxdx"
   ]
  },
  {
   "cell_type": "code",
   "execution_count": null,
   "metadata": {},
   "outputs": [],
   "source": [
    "import numpy as np\n",
    "#from sklearn import RBF\n",
    "from sklearn.gaussian_process.kernels import RBF"
   ]
  },
  {
   "cell_type": "code",
   "execution_count": null,
   "metadata": {},
   "outputs": [],
   "source": [
    "from circuits.circuits import Separable_rx"
   ]
  },
  {
   "cell_type": "code",
   "execution_count": null,
   "metadata": {},
   "outputs": [],
   "source": [
    "sigma=1\n",
    "gamma= 1/(2*sigma**2)\n",
    "pqk_squlearn = ProjectedQuantumKernel(Separable_rx(num_qubits=1, num_layers=1, num_features=1), executor=Executor(\"pennylane\"), gamma=gamma)"
   ]
  },
  {
   "cell_type": "code",
   "execution_count": null,
   "metadata": {},
   "outputs": [],
   "source": [
    "X = [0.1, -0.41]"
   ]
  },
  {
   "cell_type": "code",
   "execution_count": null,
   "metadata": {},
   "outputs": [
    {
     "name": "stdout",
     "output_type": "stream",
     "text": [
      "Calculating dfdx\n",
      "Calculating f\n",
      "Calculating f\n"
     ]
    },
    {
     "data": {
      "text/plain": [
       "array([[ 0.       , -0.4298443],\n",
       "       [ 0.4298443,  0.       ]])"
      ]
     },
     "execution_count": 20,
     "metadata": {},
     "output_type": "execute_result"
    }
   ],
   "source": [
    "pqk_squlearn.evaluate_derivatives(X, X, \"dfdx\")"
   ]
  },
  {
   "cell_type": "code",
   "execution_count": null,
   "metadata": {},
   "outputs": [
    {
     "name": "stdout",
     "output_type": "stream",
     "text": [
      "Calculating dfdx\n",
      "Calculating dfdxdx\n",
      "Calculating f\n",
      "Calculating f\n",
      "Calculating f\n",
      "Calculating f\n",
      "Calculating f\n",
      "Calculating f\n",
      "Calculating f\n",
      "Calculating f\n",
      "Calculating f\n",
      "Calculating f\n"
     ]
    },
    {
     "data": {
      "text/plain": [
       "array([[-1.        , -0.55861891],\n",
       "       [-0.55861891, -1.        ]])"
      ]
     },
     "execution_count": 21,
     "metadata": {},
     "output_type": "execute_result"
    }
   ],
   "source": [
    "pqk_squlearn.evaluate_derivatives(X, X, \"dfdxdx\")"
   ]
  }
 ],
 "metadata": {
  "kernelspec": {
   "display_name": "Python 3",
   "language": "python",
   "name": "python3"
  },
  "language_info": {
   "codemirror_mode": {
    "name": "ipython",
    "version": 3
   },
   "file_extension": ".py",
   "mimetype": "text/x-python",
   "name": "python",
   "nbconvert_exporter": "python",
   "pygments_lexer": "ipython3",
   "version": "3.10.11"
  }
 },
 "nbformat": 4,
 "nbformat_minor": 2
}
